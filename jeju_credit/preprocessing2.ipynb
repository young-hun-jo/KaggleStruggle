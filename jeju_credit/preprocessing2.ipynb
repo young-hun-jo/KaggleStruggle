{
  "nbformat": 4,
  "nbformat_minor": 0,
  "metadata": {
    "colab": {
      "name": "preprocessing2.ipynb",
      "provenance": [],
      "collapsed_sections": []
    },
    "kernelspec": {
      "name": "python3",
      "display_name": "Python 3"
    }
  },
  "cells": [
    {
      "cell_type": "code",
      "metadata": {
        "id": "iJ3hBh_iVfW8",
        "colab_type": "code",
        "colab": {
          "base_uri": "https://localhost:8080/",
          "height": 131
        },
        "outputId": "54d1a38e-7eb1-43e5-8b2f-a4dd94162f9a"
      },
      "source": [
        "from google.colab import drive\n",
        "drive.mount('/gdrive', force_remount=True)"
      ],
      "execution_count": 1,
      "outputs": [
        {
          "output_type": "stream",
          "text": [
            "Go to this URL in a browser: https://accounts.google.com/o/oauth2/auth?client_id=947318989803-6bn6qk8qdgf4n4g3pfee6491hc0brc4i.apps.googleusercontent.com&redirect_uri=urn%3aietf%3awg%3aoauth%3a2.0%3aoob&response_type=code&scope=email%20https%3a%2f%2fwww.googleapis.com%2fauth%2fdocs.test%20https%3a%2f%2fwww.googleapis.com%2fauth%2fdrive%20https%3a%2f%2fwww.googleapis.com%2fauth%2fdrive.photos.readonly%20https%3a%2f%2fwww.googleapis.com%2fauth%2fpeopleapi.readonly\n",
            "\n",
            "Enter your authorization code:\n",
            "··········\n",
            "Mounted at /gdrive\n"
          ],
          "name": "stdout"
        }
      ]
    },
    {
      "cell_type": "code",
      "metadata": {
        "id": "oEmBt_pxVig-",
        "colab_type": "code",
        "colab": {
          "base_uri": "https://localhost:8080/",
          "height": 36
        },
        "outputId": "8e5ab409-256f-4dcd-d1e3-393921be85e1"
      },
      "source": [
        "!ls \"/gdrive/My Drive/jeju\""
      ],
      "execution_count": 2,
      "outputs": [
        {
          "output_type": "stream",
          "text": [
            "201901-202003.csv  process_data.csv  submission.csv\n"
          ],
          "name": "stdout"
        }
      ]
    },
    {
      "cell_type": "code",
      "metadata": {
        "id": "x7HD_84fV9Ud",
        "colab_type": "code",
        "colab": {
          "base_uri": "https://localhost:8080/",
          "height": 36
        },
        "outputId": "65e962e8-496d-432c-c2a5-a7b087d99e9b"
      },
      "source": [
        "import pandas as pd\n",
        "import numpy as np\n",
        "file_path = \"/gdrive/My Drive/jeju/\"\n",
        "data = pd.read_csv(file_path+'201901-202003.csv')\n",
        "data.shape"
      ],
      "execution_count": null,
      "outputs": [
        {
          "output_type": "execute_result",
          "data": {
            "text/plain": [
              "(24697792, 12)"
            ]
          },
          "metadata": {
            "tags": []
          },
          "execution_count": 2
        }
      ]
    },
    {
      "cell_type": "markdown",
      "metadata": {
        "id": "P9Ot9DPNXFwz",
        "colab_type": "text"
      },
      "source": [
        ""
      ]
    },
    {
      "cell_type": "markdown",
      "metadata": {
        "id": "D46E1mohXHLC",
        "colab_type": "text"
      },
      "source": [
        "# 변수 설명¶\n",
        "- CARD ~ : 카드 이용 지역\n",
        "- HOM ~ : 카드 사용자 거주지역\n",
        "- STD_CLSS_NM : 업종명\n",
        "- SEX_CTGO_CD : 성별(1:남, 2:여)\n",
        "- FLC : 가구생애주기(1: 1인가구, 2: 영유아자녀가구, 3: 중고생자녀가구, 4: 성인자녀가구, 5: 노년가구)\n",
        "- CSTMR_CNT : 이용고객수(명)\n",
        "- AMT : 이용금액(원)\n",
        "- CNT : 이용건수(건)"
      ]
    },
    {
      "cell_type": "code",
      "metadata": {
        "id": "JxSnwdFWXIFu",
        "colab_type": "code",
        "colab": {
          "base_uri": "https://localhost:8080/",
          "height": 260
        },
        "outputId": "742520b4-b11e-4326-a093-56110fb07a32"
      },
      "source": [
        "data.dtypes"
      ],
      "execution_count": null,
      "outputs": [
        {
          "output_type": "execute_result",
          "data": {
            "text/plain": [
              "REG_YYMM         int64\n",
              "CARD_SIDO_NM    object\n",
              "CARD_CCG_NM     object\n",
              "STD_CLSS_NM     object\n",
              "HOM_SIDO_NM     object\n",
              "HOM_CCG_NM      object\n",
              "AGE             object\n",
              "SEX_CTGO_CD      int64\n",
              "FLC              int64\n",
              "CSTMR_CNT        int64\n",
              "AMT              int64\n",
              "CNT              int64\n",
              "dtype: object"
            ]
          },
          "metadata": {
            "tags": []
          },
          "execution_count": 9
        }
      ]
    },
    {
      "cell_type": "code",
      "metadata": {
        "id": "OEYjOXxpXah8",
        "colab_type": "code",
        "colab": {
          "base_uri": "https://localhost:8080/",
          "height": 260
        },
        "outputId": "063bbe99-72ae-48f8-b3a5-1f382756a38f"
      },
      "source": [
        "# 결측치 확인\n",
        "data.isnull().sum()\n",
        "\n",
        "# CARD_CCG_NM : 카드이용지역 시군구(가맹점 주소기준) 결측치가 많다\n",
        "# HOM_CCG_NM : 카드이용자 거주 주소 시군구 결측치가 많다"
      ],
      "execution_count": null,
      "outputs": [
        {
          "output_type": "execute_result",
          "data": {
            "text/plain": [
              "REG_YYMM             0\n",
              "CARD_SIDO_NM         0\n",
              "CARD_CCG_NM      87213\n",
              "STD_CLSS_NM          0\n",
              "HOM_SIDO_NM          0\n",
              "HOM_CCG_NM      147787\n",
              "AGE                  0\n",
              "SEX_CTGO_CD          0\n",
              "FLC                  0\n",
              "CSTMR_CNT            0\n",
              "AMT                  0\n",
              "CNT                  0\n",
              "dtype: int64"
            ]
          },
          "metadata": {
            "tags": []
          },
          "execution_count": 10
        }
      ]
    },
    {
      "cell_type": "code",
      "metadata": {
        "id": "w7yDe5MuXcUP",
        "colab_type": "code",
        "colab": {
          "base_uri": "https://localhost:8080/",
          "height": 415
        },
        "outputId": "abe6e3ad-9596-462a-e45a-73d551164752"
      },
      "source": [
        "# 결측치 있는 데이터를 우선 봐보자\n",
        "data[data['CARD_CCG_NM'].isnull()]"
      ],
      "execution_count": null,
      "outputs": [
        {
          "output_type": "execute_result",
          "data": {
            "text/html": [
              "<div>\n",
              "<style scoped>\n",
              "    .dataframe tbody tr th:only-of-type {\n",
              "        vertical-align: middle;\n",
              "    }\n",
              "\n",
              "    .dataframe tbody tr th {\n",
              "        vertical-align: top;\n",
              "    }\n",
              "\n",
              "    .dataframe thead th {\n",
              "        text-align: right;\n",
              "    }\n",
              "</style>\n",
              "<table border=\"1\" class=\"dataframe\">\n",
              "  <thead>\n",
              "    <tr style=\"text-align: right;\">\n",
              "      <th></th>\n",
              "      <th>REG_YYMM</th>\n",
              "      <th>CARD_SIDO_NM</th>\n",
              "      <th>CARD_CCG_NM</th>\n",
              "      <th>STD_CLSS_NM</th>\n",
              "      <th>HOM_SIDO_NM</th>\n",
              "      <th>HOM_CCG_NM</th>\n",
              "      <th>AGE</th>\n",
              "      <th>SEX_CTGO_CD</th>\n",
              "      <th>FLC</th>\n",
              "      <th>CSTMR_CNT</th>\n",
              "      <th>AMT</th>\n",
              "      <th>CNT</th>\n",
              "    </tr>\n",
              "  </thead>\n",
              "  <tbody>\n",
              "    <tr>\n",
              "      <th>1243710</th>\n",
              "      <td>201901</td>\n",
              "      <td>세종</td>\n",
              "      <td>NaN</td>\n",
              "      <td>건강보조식품 소매업</td>\n",
              "      <td>세종</td>\n",
              "      <td>NaN</td>\n",
              "      <td>30s</td>\n",
              "      <td>1</td>\n",
              "      <td>2</td>\n",
              "      <td>14</td>\n",
              "      <td>2737050</td>\n",
              "      <td>17</td>\n",
              "    </tr>\n",
              "    <tr>\n",
              "      <th>1243711</th>\n",
              "      <td>201901</td>\n",
              "      <td>세종</td>\n",
              "      <td>NaN</td>\n",
              "      <td>건강보조식품 소매업</td>\n",
              "      <td>세종</td>\n",
              "      <td>NaN</td>\n",
              "      <td>30s</td>\n",
              "      <td>2</td>\n",
              "      <td>2</td>\n",
              "      <td>14</td>\n",
              "      <td>2595350</td>\n",
              "      <td>14</td>\n",
              "    </tr>\n",
              "    <tr>\n",
              "      <th>1243712</th>\n",
              "      <td>201901</td>\n",
              "      <td>세종</td>\n",
              "      <td>NaN</td>\n",
              "      <td>건강보조식품 소매업</td>\n",
              "      <td>세종</td>\n",
              "      <td>NaN</td>\n",
              "      <td>40s</td>\n",
              "      <td>1</td>\n",
              "      <td>3</td>\n",
              "      <td>13</td>\n",
              "      <td>2531950</td>\n",
              "      <td>11</td>\n",
              "    </tr>\n",
              "    <tr>\n",
              "      <th>1243713</th>\n",
              "      <td>201901</td>\n",
              "      <td>세종</td>\n",
              "      <td>NaN</td>\n",
              "      <td>건강보조식품 소매업</td>\n",
              "      <td>세종</td>\n",
              "      <td>NaN</td>\n",
              "      <td>40s</td>\n",
              "      <td>2</td>\n",
              "      <td>3</td>\n",
              "      <td>11</td>\n",
              "      <td>2118425</td>\n",
              "      <td>12</td>\n",
              "    </tr>\n",
              "    <tr>\n",
              "      <th>1243714</th>\n",
              "      <td>201901</td>\n",
              "      <td>세종</td>\n",
              "      <td>NaN</td>\n",
              "      <td>건강보조식품 소매업</td>\n",
              "      <td>세종</td>\n",
              "      <td>NaN</td>\n",
              "      <td>50s</td>\n",
              "      <td>1</td>\n",
              "      <td>4</td>\n",
              "      <td>21</td>\n",
              "      <td>3025500</td>\n",
              "      <td>23</td>\n",
              "    </tr>\n",
              "    <tr>\n",
              "      <th>...</th>\n",
              "      <td>...</td>\n",
              "      <td>...</td>\n",
              "      <td>...</td>\n",
              "      <td>...</td>\n",
              "      <td>...</td>\n",
              "      <td>...</td>\n",
              "      <td>...</td>\n",
              "      <td>...</td>\n",
              "      <td>...</td>\n",
              "      <td>...</td>\n",
              "      <td>...</td>\n",
              "      <td>...</td>\n",
              "    </tr>\n",
              "    <tr>\n",
              "      <th>24409418</th>\n",
              "      <td>202003</td>\n",
              "      <td>세종</td>\n",
              "      <td>NaN</td>\n",
              "      <td>화장품 및 방향제 소매업</td>\n",
              "      <td>충북</td>\n",
              "      <td>청주시 흥덕구</td>\n",
              "      <td>40s</td>\n",
              "      <td>2</td>\n",
              "      <td>3</td>\n",
              "      <td>5</td>\n",
              "      <td>88700</td>\n",
              "      <td>5</td>\n",
              "    </tr>\n",
              "    <tr>\n",
              "      <th>24409419</th>\n",
              "      <td>202003</td>\n",
              "      <td>세종</td>\n",
              "      <td>NaN</td>\n",
              "      <td>화장품 및 방향제 소매업</td>\n",
              "      <td>충북</td>\n",
              "      <td>청주시 흥덕구</td>\n",
              "      <td>50s</td>\n",
              "      <td>1</td>\n",
              "      <td>4</td>\n",
              "      <td>3</td>\n",
              "      <td>62400</td>\n",
              "      <td>3</td>\n",
              "    </tr>\n",
              "    <tr>\n",
              "      <th>24409420</th>\n",
              "      <td>202003</td>\n",
              "      <td>세종</td>\n",
              "      <td>NaN</td>\n",
              "      <td>화장품 및 방향제 소매업</td>\n",
              "      <td>충북</td>\n",
              "      <td>청주시 흥덕구</td>\n",
              "      <td>50s</td>\n",
              "      <td>2</td>\n",
              "      <td>4</td>\n",
              "      <td>10</td>\n",
              "      <td>494800</td>\n",
              "      <td>11</td>\n",
              "    </tr>\n",
              "    <tr>\n",
              "      <th>24409421</th>\n",
              "      <td>202003</td>\n",
              "      <td>세종</td>\n",
              "      <td>NaN</td>\n",
              "      <td>화장품 및 방향제 소매업</td>\n",
              "      <td>충북</td>\n",
              "      <td>청주시 흥덕구</td>\n",
              "      <td>60s</td>\n",
              "      <td>2</td>\n",
              "      <td>5</td>\n",
              "      <td>10</td>\n",
              "      <td>623100</td>\n",
              "      <td>10</td>\n",
              "    </tr>\n",
              "    <tr>\n",
              "      <th>24409422</th>\n",
              "      <td>202003</td>\n",
              "      <td>세종</td>\n",
              "      <td>NaN</td>\n",
              "      <td>화장품 및 방향제 소매업</td>\n",
              "      <td>충북</td>\n",
              "      <td>청주시 흥덕구</td>\n",
              "      <td>70s</td>\n",
              "      <td>2</td>\n",
              "      <td>5</td>\n",
              "      <td>3</td>\n",
              "      <td>28000</td>\n",
              "      <td>3</td>\n",
              "    </tr>\n",
              "  </tbody>\n",
              "</table>\n",
              "<p>87213 rows × 12 columns</p>\n",
              "</div>"
            ],
            "text/plain": [
              "          REG_YYMM CARD_SIDO_NM CARD_CCG_NM  ... CSTMR_CNT      AMT CNT\n",
              "1243710     201901           세종         NaN  ...        14  2737050  17\n",
              "1243711     201901           세종         NaN  ...        14  2595350  14\n",
              "1243712     201901           세종         NaN  ...        13  2531950  11\n",
              "1243713     201901           세종         NaN  ...        11  2118425  12\n",
              "1243714     201901           세종         NaN  ...        21  3025500  23\n",
              "...            ...          ...         ...  ...       ...      ...  ..\n",
              "24409418    202003           세종         NaN  ...         5    88700   5\n",
              "24409419    202003           세종         NaN  ...         3    62400   3\n",
              "24409420    202003           세종         NaN  ...        10   494800  11\n",
              "24409421    202003           세종         NaN  ...        10   623100  10\n",
              "24409422    202003           세종         NaN  ...         3    28000   3\n",
              "\n",
              "[87213 rows x 12 columns]"
            ]
          },
          "metadata": {
            "tags": []
          },
          "execution_count": 11
        }
      ]
    },
    {
      "cell_type": "code",
      "metadata": {
        "id": "7BLcGxMWXfec",
        "colab_type": "code",
        "colab": {
          "base_uri": "https://localhost:8080/",
          "height": 36
        },
        "outputId": "19636759-3919-4a5f-9a26-f5b5695d1487"
      },
      "source": [
        "# 세종시 데이터가 누락된 것 같으니 세종에 해당하는 데이터개수 추출 후 결측치 개수와 비교해보기\n",
        "sejong_df = data.loc[data['CARD_SIDO_NM'] == '세종']\n",
        "sejong_df.shape\n",
        "\n",
        "# raw data의 'CARD_CCG_NM' 누락 데이터에 해당하는 시도는 '세종'이다!"
      ],
      "execution_count": null,
      "outputs": [
        {
          "output_type": "execute_result",
          "data": {
            "text/plain": [
              "(87213, 12)"
            ]
          },
          "metadata": {
            "tags": []
          },
          "execution_count": 12
        }
      ]
    },
    {
      "cell_type": "code",
      "metadata": {
        "id": "Uk6wENpFXjY4",
        "colab_type": "code",
        "colab": {
          "base_uri": "https://localhost:8080/",
          "height": 36
        },
        "outputId": "ce2698e7-b241-4d1e-cf44-6d38407feca6"
      },
      "source": [
        "sejong_df[sejong_df.isnull()].shape"
      ],
      "execution_count": null,
      "outputs": [
        {
          "output_type": "execute_result",
          "data": {
            "text/plain": [
              "(87213, 12)"
            ]
          },
          "metadata": {
            "tags": []
          },
          "execution_count": 13
        }
      ]
    },
    {
      "cell_type": "code",
      "metadata": {
        "id": "JGGHAOTJXlMc",
        "colab_type": "code",
        "colab": {
          "base_uri": "https://localhost:8080/",
          "height": 415
        },
        "outputId": "7328a3a4-bf0d-4e51-8889-ff599399ed58"
      },
      "source": [
        "data.loc[data['HOM_CCG_NM'].isnull()]"
      ],
      "execution_count": null,
      "outputs": [
        {
          "output_type": "execute_result",
          "data": {
            "text/html": [
              "<div>\n",
              "<style scoped>\n",
              "    .dataframe tbody tr th:only-of-type {\n",
              "        vertical-align: middle;\n",
              "    }\n",
              "\n",
              "    .dataframe tbody tr th {\n",
              "        vertical-align: top;\n",
              "    }\n",
              "\n",
              "    .dataframe thead th {\n",
              "        text-align: right;\n",
              "    }\n",
              "</style>\n",
              "<table border=\"1\" class=\"dataframe\">\n",
              "  <thead>\n",
              "    <tr style=\"text-align: right;\">\n",
              "      <th></th>\n",
              "      <th>REG_YYMM</th>\n",
              "      <th>CARD_SIDO_NM</th>\n",
              "      <th>CARD_CCG_NM</th>\n",
              "      <th>STD_CLSS_NM</th>\n",
              "      <th>HOM_SIDO_NM</th>\n",
              "      <th>HOM_CCG_NM</th>\n",
              "      <th>AGE</th>\n",
              "      <th>SEX_CTGO_CD</th>\n",
              "      <th>FLC</th>\n",
              "      <th>CSTMR_CNT</th>\n",
              "      <th>AMT</th>\n",
              "      <th>CNT</th>\n",
              "    </tr>\n",
              "  </thead>\n",
              "  <tbody>\n",
              "    <tr>\n",
              "      <th>420</th>\n",
              "      <td>201901</td>\n",
              "      <td>강원</td>\n",
              "      <td>강릉시</td>\n",
              "      <td>과실 및 채소 소매업</td>\n",
              "      <td>세종</td>\n",
              "      <td>NaN</td>\n",
              "      <td>30s</td>\n",
              "      <td>1</td>\n",
              "      <td>2</td>\n",
              "      <td>3</td>\n",
              "      <td>58000</td>\n",
              "      <td>3</td>\n",
              "    </tr>\n",
              "    <tr>\n",
              "      <th>421</th>\n",
              "      <td>201901</td>\n",
              "      <td>강원</td>\n",
              "      <td>강릉시</td>\n",
              "      <td>과실 및 채소 소매업</td>\n",
              "      <td>세종</td>\n",
              "      <td>NaN</td>\n",
              "      <td>40s</td>\n",
              "      <td>1</td>\n",
              "      <td>3</td>\n",
              "      <td>3</td>\n",
              "      <td>263000</td>\n",
              "      <td>4</td>\n",
              "    </tr>\n",
              "    <tr>\n",
              "      <th>1189</th>\n",
              "      <td>201901</td>\n",
              "      <td>강원</td>\n",
              "      <td>강릉시</td>\n",
              "      <td>기타 대형 종합 소매업</td>\n",
              "      <td>세종</td>\n",
              "      <td>NaN</td>\n",
              "      <td>20s</td>\n",
              "      <td>1</td>\n",
              "      <td>1</td>\n",
              "      <td>3</td>\n",
              "      <td>176540</td>\n",
              "      <td>3</td>\n",
              "    </tr>\n",
              "    <tr>\n",
              "      <th>1190</th>\n",
              "      <td>201901</td>\n",
              "      <td>강원</td>\n",
              "      <td>강릉시</td>\n",
              "      <td>기타 대형 종합 소매업</td>\n",
              "      <td>세종</td>\n",
              "      <td>NaN</td>\n",
              "      <td>20s</td>\n",
              "      <td>2</td>\n",
              "      <td>1</td>\n",
              "      <td>4</td>\n",
              "      <td>234880</td>\n",
              "      <td>6</td>\n",
              "    </tr>\n",
              "    <tr>\n",
              "      <th>1191</th>\n",
              "      <td>201901</td>\n",
              "      <td>강원</td>\n",
              "      <td>강릉시</td>\n",
              "      <td>기타 대형 종합 소매업</td>\n",
              "      <td>세종</td>\n",
              "      <td>NaN</td>\n",
              "      <td>30s</td>\n",
              "      <td>1</td>\n",
              "      <td>2</td>\n",
              "      <td>4</td>\n",
              "      <td>177640</td>\n",
              "      <td>5</td>\n",
              "    </tr>\n",
              "    <tr>\n",
              "      <th>...</th>\n",
              "      <td>...</td>\n",
              "      <td>...</td>\n",
              "      <td>...</td>\n",
              "      <td>...</td>\n",
              "      <td>...</td>\n",
              "      <td>...</td>\n",
              "      <td>...</td>\n",
              "      <td>...</td>\n",
              "      <td>...</td>\n",
              "      <td>...</td>\n",
              "      <td>...</td>\n",
              "      <td>...</td>\n",
              "    </tr>\n",
              "    <tr>\n",
              "      <th>24697496</th>\n",
              "      <td>202003</td>\n",
              "      <td>충북</td>\n",
              "      <td>충주시</td>\n",
              "      <td>한식 음식점업</td>\n",
              "      <td>세종</td>\n",
              "      <td>NaN</td>\n",
              "      <td>30s</td>\n",
              "      <td>2</td>\n",
              "      <td>2</td>\n",
              "      <td>5</td>\n",
              "      <td>188500</td>\n",
              "      <td>8</td>\n",
              "    </tr>\n",
              "    <tr>\n",
              "      <th>24697497</th>\n",
              "      <td>202003</td>\n",
              "      <td>충북</td>\n",
              "      <td>충주시</td>\n",
              "      <td>한식 음식점업</td>\n",
              "      <td>세종</td>\n",
              "      <td>NaN</td>\n",
              "      <td>40s</td>\n",
              "      <td>1</td>\n",
              "      <td>3</td>\n",
              "      <td>18</td>\n",
              "      <td>1056500</td>\n",
              "      <td>28</td>\n",
              "    </tr>\n",
              "    <tr>\n",
              "      <th>24697498</th>\n",
              "      <td>202003</td>\n",
              "      <td>충북</td>\n",
              "      <td>충주시</td>\n",
              "      <td>한식 음식점업</td>\n",
              "      <td>세종</td>\n",
              "      <td>NaN</td>\n",
              "      <td>50s</td>\n",
              "      <td>1</td>\n",
              "      <td>4</td>\n",
              "      <td>25</td>\n",
              "      <td>770150</td>\n",
              "      <td>35</td>\n",
              "    </tr>\n",
              "    <tr>\n",
              "      <th>24697499</th>\n",
              "      <td>202003</td>\n",
              "      <td>충북</td>\n",
              "      <td>충주시</td>\n",
              "      <td>한식 음식점업</td>\n",
              "      <td>세종</td>\n",
              "      <td>NaN</td>\n",
              "      <td>50s</td>\n",
              "      <td>2</td>\n",
              "      <td>4</td>\n",
              "      <td>4</td>\n",
              "      <td>19500</td>\n",
              "      <td>4</td>\n",
              "    </tr>\n",
              "    <tr>\n",
              "      <th>24697500</th>\n",
              "      <td>202003</td>\n",
              "      <td>충북</td>\n",
              "      <td>충주시</td>\n",
              "      <td>한식 음식점업</td>\n",
              "      <td>세종</td>\n",
              "      <td>NaN</td>\n",
              "      <td>60s</td>\n",
              "      <td>1</td>\n",
              "      <td>5</td>\n",
              "      <td>6</td>\n",
              "      <td>104800</td>\n",
              "      <td>6</td>\n",
              "    </tr>\n",
              "  </tbody>\n",
              "</table>\n",
              "<p>147787 rows × 12 columns</p>\n",
              "</div>"
            ],
            "text/plain": [
              "          REG_YYMM CARD_SIDO_NM CARD_CCG_NM  ... CSTMR_CNT      AMT CNT\n",
              "420         201901           강원         강릉시  ...         3    58000   3\n",
              "421         201901           강원         강릉시  ...         3   263000   4\n",
              "1189        201901           강원         강릉시  ...         3   176540   3\n",
              "1190        201901           강원         강릉시  ...         4   234880   6\n",
              "1191        201901           강원         강릉시  ...         4   177640   5\n",
              "...            ...          ...         ...  ...       ...      ...  ..\n",
              "24697496    202003           충북         충주시  ...         5   188500   8\n",
              "24697497    202003           충북         충주시  ...        18  1056500  28\n",
              "24697498    202003           충북         충주시  ...        25   770150  35\n",
              "24697499    202003           충북         충주시  ...         4    19500   4\n",
              "24697500    202003           충북         충주시  ...         6   104800   6\n",
              "\n",
              "[147787 rows x 12 columns]"
            ]
          },
          "metadata": {
            "tags": []
          },
          "execution_count": 14
        }
      ]
    },
    {
      "cell_type": "code",
      "metadata": {
        "id": "6JW2Cs6NXnBZ",
        "colab_type": "code",
        "colab": {
          "base_uri": "https://localhost:8080/",
          "height": 185
        },
        "outputId": "372360b2-d472-4484-ca23-4240277b1b3a"
      },
      "source": [
        "sejong_hom_df = data.loc[data['HOM_SIDO_NM'] == '세종']\n",
        "print(sejong_hom_df.head())\n",
        "sejong_hom_df.shape"
      ],
      "execution_count": null,
      "outputs": [
        {
          "output_type": "stream",
          "text": [
            "      REG_YYMM CARD_SIDO_NM CARD_CCG_NM  ... CSTMR_CNT     AMT CNT\n",
            "420     201901           강원         강릉시  ...         3   58000   3\n",
            "421     201901           강원         강릉시  ...         3  263000   4\n",
            "1189    201901           강원         강릉시  ...         3  176540   3\n",
            "1190    201901           강원         강릉시  ...         4  234880   6\n",
            "1191    201901           강원         강릉시  ...         4  177640   5\n",
            "\n",
            "[5 rows x 12 columns]\n"
          ],
          "name": "stdout"
        },
        {
          "output_type": "execute_result",
          "data": {
            "text/plain": [
              "(147787, 12)"
            ]
          },
          "metadata": {
            "tags": []
          },
          "execution_count": 15
        }
      ]
    },
    {
      "cell_type": "code",
      "metadata": {
        "id": "P9yydhRBXpir",
        "colab_type": "code",
        "colab": {
          "base_uri": "https://localhost:8080/",
          "height": 36
        },
        "outputId": "4f60fdd3-8917-4293-82a0-7e3a8128df78"
      },
      "source": [
        "\n",
        "miss_df = sejong_hom_df[sejong_hom_df.isnull()]\n",
        "miss_df.shape\n",
        "\n",
        "# 거주지역이 세종인 카드사용자의 시군구 데이터(HOM_CCG_NM) 결측치와 raw data의 HOM_CCG_NM 결측치와 일치.\n",
        "# 그러므로 결측치값은 모두 세종에 대한 시군구 데이터"
      ],
      "execution_count": null,
      "outputs": [
        {
          "output_type": "execute_result",
          "data": {
            "text/plain": [
              "(147787, 12)"
            ]
          },
          "metadata": {
            "tags": []
          },
          "execution_count": 16
        }
      ]
    },
    {
      "cell_type": "markdown",
      "metadata": {
        "id": "UGAH11P6XtWS",
        "colab_type": "text"
      },
      "source": [
        "# 세종특별자치시\n",
        "- 세종특별자치시는 현재 '시군구'가 따로 존재하지 않음\n",
        "- 아직 읍,면,행정동 밖에 없는 상태\n",
        "- 이러한 이유 때문에 '시군구'를 나타내는 CARD_CCG_NM, HOM_CCG_NM 이 결측치이다.\n",
        "- 결측치를 위한 대체값은 '세종시'로 결정"
      ]
    },
    {
      "cell_type": "code",
      "metadata": {
        "id": "gx6rG6UeXyAp",
        "colab_type": "code",
        "colab": {
          "base_uri": "https://localhost:8080/",
          "height": 260
        },
        "outputId": "c7dfaede-2380-46be-d6f2-264a06215bf8"
      },
      "source": [
        "# 결측치 대체 완료\n",
        "data['CARD_CCG_NM'] = data['CARD_CCG_NM'].fillna('세종시')\n",
        "data['HOM_CCG_NM'] = data['HOM_CCG_NM'].fillna('세종시')\n",
        "data.isnull().sum()"
      ],
      "execution_count": null,
      "outputs": [
        {
          "output_type": "execute_result",
          "data": {
            "text/plain": [
              "REG_YYMM        0\n",
              "CARD_SIDO_NM    0\n",
              "CARD_CCG_NM     0\n",
              "STD_CLSS_NM     0\n",
              "HOM_SIDO_NM     0\n",
              "HOM_CCG_NM      0\n",
              "AGE             0\n",
              "SEX_CTGO_CD     0\n",
              "FLC             0\n",
              "CSTMR_CNT       0\n",
              "AMT             0\n",
              "CNT             0\n",
              "dtype: int64"
            ]
          },
          "metadata": {
            "tags": []
          },
          "execution_count": 3
        }
      ]
    },
    {
      "cell_type": "code",
      "metadata": {
        "id": "tNeKePCmX4QO",
        "colab_type": "code",
        "colab": {
          "base_uri": "https://localhost:8080/",
          "height": 260
        },
        "outputId": "70b518c8-88df-4859-e40e-cebd81f11b85"
      },
      "source": [
        "# 다시 원본 데이터로드 시간 줄이기 위해 복사본으로 할당해놓기\n",
        "credit_df = data.copy()\n",
        "credit_df.dtypes"
      ],
      "execution_count": null,
      "outputs": [
        {
          "output_type": "execute_result",
          "data": {
            "text/plain": [
              "REG_YYMM         int64\n",
              "CARD_SIDO_NM    object\n",
              "CARD_CCG_NM     object\n",
              "STD_CLSS_NM     object\n",
              "HOM_SIDO_NM     object\n",
              "HOM_CCG_NM      object\n",
              "AGE             object\n",
              "SEX_CTGO_CD      int64\n",
              "FLC              int64\n",
              "CSTMR_CNT        int64\n",
              "AMT              int64\n",
              "CNT              int64\n",
              "dtype: object"
            ]
          },
          "metadata": {
            "tags": []
          },
          "execution_count": 4
        }
      ]
    },
    {
      "cell_type": "code",
      "metadata": {
        "id": "ImQmHBYdYUBu",
        "colab_type": "code",
        "colab": {
          "base_uri": "https://localhost:8080/",
          "height": 110
        },
        "outputId": "61d7eebe-bbdc-4f6c-d84e-69baaf6911d0"
      },
      "source": [
        "credit_df.head(2)"
      ],
      "execution_count": null,
      "outputs": [
        {
          "output_type": "execute_result",
          "data": {
            "text/html": [
              "<div>\n",
              "<style scoped>\n",
              "    .dataframe tbody tr th:only-of-type {\n",
              "        vertical-align: middle;\n",
              "    }\n",
              "\n",
              "    .dataframe tbody tr th {\n",
              "        vertical-align: top;\n",
              "    }\n",
              "\n",
              "    .dataframe thead th {\n",
              "        text-align: right;\n",
              "    }\n",
              "</style>\n",
              "<table border=\"1\" class=\"dataframe\">\n",
              "  <thead>\n",
              "    <tr style=\"text-align: right;\">\n",
              "      <th></th>\n",
              "      <th>REG_YYMM</th>\n",
              "      <th>CARD_SIDO_NM</th>\n",
              "      <th>CARD_CCG_NM</th>\n",
              "      <th>STD_CLSS_NM</th>\n",
              "      <th>HOM_SIDO_NM</th>\n",
              "      <th>HOM_CCG_NM</th>\n",
              "      <th>AGE</th>\n",
              "      <th>SEX_CTGO_CD</th>\n",
              "      <th>FLC</th>\n",
              "      <th>CSTMR_CNT</th>\n",
              "      <th>AMT</th>\n",
              "      <th>CNT</th>\n",
              "    </tr>\n",
              "  </thead>\n",
              "  <tbody>\n",
              "    <tr>\n",
              "      <th>0</th>\n",
              "      <td>201901</td>\n",
              "      <td>강원</td>\n",
              "      <td>강릉시</td>\n",
              "      <td>건강보조식품 소매업</td>\n",
              "      <td>강원</td>\n",
              "      <td>강릉시</td>\n",
              "      <td>20s</td>\n",
              "      <td>1</td>\n",
              "      <td>1</td>\n",
              "      <td>4</td>\n",
              "      <td>311200</td>\n",
              "      <td>4</td>\n",
              "    </tr>\n",
              "    <tr>\n",
              "      <th>1</th>\n",
              "      <td>201901</td>\n",
              "      <td>강원</td>\n",
              "      <td>강릉시</td>\n",
              "      <td>건강보조식품 소매업</td>\n",
              "      <td>강원</td>\n",
              "      <td>강릉시</td>\n",
              "      <td>30s</td>\n",
              "      <td>1</td>\n",
              "      <td>2</td>\n",
              "      <td>7</td>\n",
              "      <td>1374500</td>\n",
              "      <td>8</td>\n",
              "    </tr>\n",
              "  </tbody>\n",
              "</table>\n",
              "</div>"
            ],
            "text/plain": [
              "   REG_YYMM CARD_SIDO_NM CARD_CCG_NM STD_CLSS_NM  ... FLC CSTMR_CNT      AMT  CNT\n",
              "0    201901           강원         강릉시  건강보조식품 소매업  ...   1         4   311200    4\n",
              "1    201901           강원         강릉시  건강보조식품 소매업  ...   2         7  1374500    8\n",
              "\n",
              "[2 rows x 12 columns]"
            ]
          },
          "metadata": {
            "tags": []
          },
          "execution_count": 20
        }
      ]
    },
    {
      "cell_type": "code",
      "metadata": {
        "id": "AR3B-YurX_Jp",
        "colab_type": "code",
        "colab": {}
      },
      "source": [
        "# 연월칼럼 datetime으로 바꿔주기\n",
        "# 우선 string 형태로 바꿔주기\n",
        "credit_df['REG_YYMM'] = credit_df['REG_YYMM'].astype(str)"
      ],
      "execution_count": null,
      "outputs": []
    },
    {
      "cell_type": "code",
      "metadata": {
        "id": "FpObqw-bYYfj",
        "colab_type": "code",
        "colab": {
          "base_uri": "https://localhost:8080/",
          "height": 202
        },
        "outputId": "171095f5-eab3-4dc0-d2c7-3f58b8a2a640"
      },
      "source": [
        "credit_df.head()"
      ],
      "execution_count": null,
      "outputs": [
        {
          "output_type": "execute_result",
          "data": {
            "text/html": [
              "<div>\n",
              "<style scoped>\n",
              "    .dataframe tbody tr th:only-of-type {\n",
              "        vertical-align: middle;\n",
              "    }\n",
              "\n",
              "    .dataframe tbody tr th {\n",
              "        vertical-align: top;\n",
              "    }\n",
              "\n",
              "    .dataframe thead th {\n",
              "        text-align: right;\n",
              "    }\n",
              "</style>\n",
              "<table border=\"1\" class=\"dataframe\">\n",
              "  <thead>\n",
              "    <tr style=\"text-align: right;\">\n",
              "      <th></th>\n",
              "      <th>REG_YYMM</th>\n",
              "      <th>CARD_SIDO_NM</th>\n",
              "      <th>CARD_CCG_NM</th>\n",
              "      <th>STD_CLSS_NM</th>\n",
              "      <th>HOM_SIDO_NM</th>\n",
              "      <th>HOM_CCG_NM</th>\n",
              "      <th>AGE</th>\n",
              "      <th>SEX_CTGO_CD</th>\n",
              "      <th>FLC</th>\n",
              "      <th>CSTMR_CNT</th>\n",
              "      <th>AMT</th>\n",
              "      <th>CNT</th>\n",
              "    </tr>\n",
              "  </thead>\n",
              "  <tbody>\n",
              "    <tr>\n",
              "      <th>0</th>\n",
              "      <td>201901</td>\n",
              "      <td>강원</td>\n",
              "      <td>강릉시</td>\n",
              "      <td>건강보조식품 소매업</td>\n",
              "      <td>강원</td>\n",
              "      <td>강릉시</td>\n",
              "      <td>20s</td>\n",
              "      <td>1</td>\n",
              "      <td>1</td>\n",
              "      <td>4</td>\n",
              "      <td>311200</td>\n",
              "      <td>4</td>\n",
              "    </tr>\n",
              "    <tr>\n",
              "      <th>1</th>\n",
              "      <td>201901</td>\n",
              "      <td>강원</td>\n",
              "      <td>강릉시</td>\n",
              "      <td>건강보조식품 소매업</td>\n",
              "      <td>강원</td>\n",
              "      <td>강릉시</td>\n",
              "      <td>30s</td>\n",
              "      <td>1</td>\n",
              "      <td>2</td>\n",
              "      <td>7</td>\n",
              "      <td>1374500</td>\n",
              "      <td>8</td>\n",
              "    </tr>\n",
              "    <tr>\n",
              "      <th>2</th>\n",
              "      <td>201901</td>\n",
              "      <td>강원</td>\n",
              "      <td>강릉시</td>\n",
              "      <td>건강보조식품 소매업</td>\n",
              "      <td>강원</td>\n",
              "      <td>강릉시</td>\n",
              "      <td>30s</td>\n",
              "      <td>2</td>\n",
              "      <td>2</td>\n",
              "      <td>6</td>\n",
              "      <td>818700</td>\n",
              "      <td>6</td>\n",
              "    </tr>\n",
              "    <tr>\n",
              "      <th>3</th>\n",
              "      <td>201901</td>\n",
              "      <td>강원</td>\n",
              "      <td>강릉시</td>\n",
              "      <td>건강보조식품 소매업</td>\n",
              "      <td>강원</td>\n",
              "      <td>강릉시</td>\n",
              "      <td>40s</td>\n",
              "      <td>1</td>\n",
              "      <td>3</td>\n",
              "      <td>4</td>\n",
              "      <td>1717000</td>\n",
              "      <td>5</td>\n",
              "    </tr>\n",
              "    <tr>\n",
              "      <th>4</th>\n",
              "      <td>201901</td>\n",
              "      <td>강원</td>\n",
              "      <td>강릉시</td>\n",
              "      <td>건강보조식품 소매업</td>\n",
              "      <td>강원</td>\n",
              "      <td>강릉시</td>\n",
              "      <td>40s</td>\n",
              "      <td>1</td>\n",
              "      <td>4</td>\n",
              "      <td>3</td>\n",
              "      <td>1047300</td>\n",
              "      <td>3</td>\n",
              "    </tr>\n",
              "  </tbody>\n",
              "</table>\n",
              "</div>"
            ],
            "text/plain": [
              "  REG_YYMM CARD_SIDO_NM CARD_CCG_NM STD_CLSS_NM  ... FLC CSTMR_CNT      AMT  CNT\n",
              "0   201901           강원         강릉시  건강보조식품 소매업  ...   1         4   311200    4\n",
              "1   201901           강원         강릉시  건강보조식품 소매업  ...   2         7  1374500    8\n",
              "2   201901           강원         강릉시  건강보조식품 소매업  ...   2         6   818700    6\n",
              "3   201901           강원         강릉시  건강보조식품 소매업  ...   3         4  1717000    5\n",
              "4   201901           강원         강릉시  건강보조식품 소매업  ...   4         3  1047300    3\n",
              "\n",
              "[5 rows x 12 columns]"
            ]
          },
          "metadata": {
            "tags": []
          },
          "execution_count": 22
        }
      ]
    },
    {
      "cell_type": "code",
      "metadata": {
        "id": "qudCsPD0bf0_",
        "colab_type": "code",
        "colab": {}
      },
      "source": [
        "# 날짜 value에 '-' 문자열 넣어줘서 새로운 변수로 추가\n",
        "date_list = [] \n",
        "datetimes = credit_df['REG_YYMM'].tolist()\n",
        "for datetime in datetimes:\n",
        "  date = datetime[:4] + '-' + datetime[4:]\n",
        "  date_list.append(date)"
      ],
      "execution_count": null,
      "outputs": []
    },
    {
      "cell_type": "code",
      "metadata": {
        "id": "HVklVKJMb3B_",
        "colab_type": "code",
        "colab": {}
      },
      "source": [
        "credit_df['Datetime'] = pd.Series(date_list)\n",
        "credit_df['Datetime'] = pd.to_datetime(credit_df['Datetime'])"
      ],
      "execution_count": null,
      "outputs": []
    },
    {
      "cell_type": "code",
      "metadata": {
        "id": "--0PcUjchT72",
        "colab_type": "code",
        "colab": {
          "base_uri": "https://localhost:8080/",
          "height": 202
        },
        "outputId": "ca8d17f0-3f82-4dd6-938c-55e1e6aea6e1"
      },
      "source": [
        "# '년-월' 형태로 바꿔주고 기존 날짜 변수명 삭제\n",
        "credit_df['Datetime'] = credit_df['Datetime'].dt.strftime('%Y-%m')\n",
        "del credit_df['REG_YYMM']\n",
        "credit_df.head()"
      ],
      "execution_count": null,
      "outputs": [
        {
          "output_type": "execute_result",
          "data": {
            "text/html": [
              "<div>\n",
              "<style scoped>\n",
              "    .dataframe tbody tr th:only-of-type {\n",
              "        vertical-align: middle;\n",
              "    }\n",
              "\n",
              "    .dataframe tbody tr th {\n",
              "        vertical-align: top;\n",
              "    }\n",
              "\n",
              "    .dataframe thead th {\n",
              "        text-align: right;\n",
              "    }\n",
              "</style>\n",
              "<table border=\"1\" class=\"dataframe\">\n",
              "  <thead>\n",
              "    <tr style=\"text-align: right;\">\n",
              "      <th></th>\n",
              "      <th>CARD_SIDO_NM</th>\n",
              "      <th>CARD_CCG_NM</th>\n",
              "      <th>STD_CLSS_NM</th>\n",
              "      <th>HOM_SIDO_NM</th>\n",
              "      <th>HOM_CCG_NM</th>\n",
              "      <th>AGE</th>\n",
              "      <th>SEX_CTGO_CD</th>\n",
              "      <th>FLC</th>\n",
              "      <th>CSTMR_CNT</th>\n",
              "      <th>AMT</th>\n",
              "      <th>CNT</th>\n",
              "      <th>Datetime</th>\n",
              "    </tr>\n",
              "  </thead>\n",
              "  <tbody>\n",
              "    <tr>\n",
              "      <th>0</th>\n",
              "      <td>강원</td>\n",
              "      <td>강릉시</td>\n",
              "      <td>건강보조식품 소매업</td>\n",
              "      <td>강원</td>\n",
              "      <td>강릉시</td>\n",
              "      <td>20s</td>\n",
              "      <td>1</td>\n",
              "      <td>1</td>\n",
              "      <td>4</td>\n",
              "      <td>311200</td>\n",
              "      <td>4</td>\n",
              "      <td>2019-01</td>\n",
              "    </tr>\n",
              "    <tr>\n",
              "      <th>1</th>\n",
              "      <td>강원</td>\n",
              "      <td>강릉시</td>\n",
              "      <td>건강보조식품 소매업</td>\n",
              "      <td>강원</td>\n",
              "      <td>강릉시</td>\n",
              "      <td>30s</td>\n",
              "      <td>1</td>\n",
              "      <td>2</td>\n",
              "      <td>7</td>\n",
              "      <td>1374500</td>\n",
              "      <td>8</td>\n",
              "      <td>2019-01</td>\n",
              "    </tr>\n",
              "    <tr>\n",
              "      <th>2</th>\n",
              "      <td>강원</td>\n",
              "      <td>강릉시</td>\n",
              "      <td>건강보조식품 소매업</td>\n",
              "      <td>강원</td>\n",
              "      <td>강릉시</td>\n",
              "      <td>30s</td>\n",
              "      <td>2</td>\n",
              "      <td>2</td>\n",
              "      <td>6</td>\n",
              "      <td>818700</td>\n",
              "      <td>6</td>\n",
              "      <td>2019-01</td>\n",
              "    </tr>\n",
              "    <tr>\n",
              "      <th>3</th>\n",
              "      <td>강원</td>\n",
              "      <td>강릉시</td>\n",
              "      <td>건강보조식품 소매업</td>\n",
              "      <td>강원</td>\n",
              "      <td>강릉시</td>\n",
              "      <td>40s</td>\n",
              "      <td>1</td>\n",
              "      <td>3</td>\n",
              "      <td>4</td>\n",
              "      <td>1717000</td>\n",
              "      <td>5</td>\n",
              "      <td>2019-01</td>\n",
              "    </tr>\n",
              "    <tr>\n",
              "      <th>4</th>\n",
              "      <td>강원</td>\n",
              "      <td>강릉시</td>\n",
              "      <td>건강보조식품 소매업</td>\n",
              "      <td>강원</td>\n",
              "      <td>강릉시</td>\n",
              "      <td>40s</td>\n",
              "      <td>1</td>\n",
              "      <td>4</td>\n",
              "      <td>3</td>\n",
              "      <td>1047300</td>\n",
              "      <td>3</td>\n",
              "      <td>2019-01</td>\n",
              "    </tr>\n",
              "  </tbody>\n",
              "</table>\n",
              "</div>"
            ],
            "text/plain": [
              "  CARD_SIDO_NM CARD_CCG_NM STD_CLSS_NM  ...      AMT CNT Datetime\n",
              "0           강원         강릉시  건강보조식품 소매업  ...   311200   4  2019-01\n",
              "1           강원         강릉시  건강보조식품 소매업  ...  1374500   8  2019-01\n",
              "2           강원         강릉시  건강보조식품 소매업  ...   818700   6  2019-01\n",
              "3           강원         강릉시  건강보조식품 소매업  ...  1717000   5  2019-01\n",
              "4           강원         강릉시  건강보조식품 소매업  ...  1047300   3  2019-01\n",
              "\n",
              "[5 rows x 12 columns]"
            ]
          },
          "metadata": {
            "tags": []
          },
          "execution_count": 17
        }
      ]
    },
    {
      "cell_type": "code",
      "metadata": {
        "id": "DY_5o7VshjAi",
        "colab_type": "code",
        "colab": {
          "base_uri": "https://localhost:8080/",
          "height": 167
        },
        "outputId": "120b089b-782c-4970-cacb-20d98d647106"
      },
      "source": [
        "# AGE(연령) 변수 종류 보기\n",
        "credit_df['AGE'].value_counts()"
      ],
      "execution_count": null,
      "outputs": [
        {
          "output_type": "execute_result",
          "data": {
            "text/plain": [
              "40s    5802447\n",
              "30s    5550519\n",
              "20s    5091675\n",
              "50s    4455687\n",
              "60s    2606168\n",
              "70s     876622\n",
              "10s     314674\n",
              "Name: AGE, dtype: int64"
            ]
          },
          "metadata": {
            "tags": []
          },
          "execution_count": 18
        }
      ]
    },
    {
      "cell_type": "code",
      "metadata": {
        "id": "6h6DInDwioRG",
        "colab_type": "code",
        "colab": {}
      },
      "source": [
        "# 전처리한 파일 메모리 부족 문제 야기시킬 수 있으므로 csv파일로 개별 저장\n",
        "credit_df.to_csv('/gdrive/My Drive/jeju/process_data.csv')"
      ],
      "execution_count": null,
      "outputs": []
    },
    {
      "cell_type": "code",
      "metadata": {
        "id": "zsMQQ5RljOLI",
        "colab_type": "code",
        "colab": {
          "base_uri": "https://localhost:8080/",
          "height": 36
        },
        "outputId": "410a2469-01fd-4df0-ea5b-759bbedec649"
      },
      "source": [
        "import pandas as pd\n",
        "import numpy as np\n",
        "file_path = \"/gdrive/My Drive/jeju/\"\n",
        "data = pd.read_csv(file_path+'process_data.csv')\n",
        "data.shape"
      ],
      "execution_count": 1,
      "outputs": [
        {
          "output_type": "execute_result",
          "data": {
            "text/plain": [
              "(24697792, 13)"
            ]
          },
          "metadata": {
            "tags": []
          },
          "execution_count": 1
        }
      ]
    },
    {
      "cell_type": "code",
      "metadata": {
        "id": "vASqNARWMVgN",
        "colab_type": "code",
        "colab": {
          "base_uri": "https://localhost:8080/",
          "height": 75
        },
        "outputId": "71ce5838-bf21-456a-c0f1-e83568182fc8"
      },
      "source": [
        "import matplotlib.pyplot as plt\n",
        "import seaborn as sns\n",
        "sns.set(style='whitegrid',\n",
        "        font='Malgun Gothic',\n",
        "        rc={'axes.unicode_minus':False})"
      ],
      "execution_count": 4,
      "outputs": [
        {
          "output_type": "stream",
          "text": [
            "/usr/local/lib/python3.6/dist-packages/statsmodels/tools/_testing.py:19: FutureWarning: pandas.util.testing is deprecated. Use the functions in the public API at pandas.testing instead.\n",
            "  import pandas.util.testing as tm\n"
          ],
          "name": "stderr"
        }
      ]
    },
    {
      "cell_type": "code",
      "metadata": {
        "id": "8-MjZspBNwPS",
        "colab_type": "code",
        "colab": {
          "base_uri": "https://localhost:8080/",
          "height": 110
        },
        "outputId": "0f4f3851-ee45-40a4-fdf2-fdcab61e18e8"
      },
      "source": [
        "del data['Unnamed: 0']\n",
        "data.head(2)"
      ],
      "execution_count": 2,
      "outputs": [
        {
          "output_type": "execute_result",
          "data": {
            "text/html": [
              "<div>\n",
              "<style scoped>\n",
              "    .dataframe tbody tr th:only-of-type {\n",
              "        vertical-align: middle;\n",
              "    }\n",
              "\n",
              "    .dataframe tbody tr th {\n",
              "        vertical-align: top;\n",
              "    }\n",
              "\n",
              "    .dataframe thead th {\n",
              "        text-align: right;\n",
              "    }\n",
              "</style>\n",
              "<table border=\"1\" class=\"dataframe\">\n",
              "  <thead>\n",
              "    <tr style=\"text-align: right;\">\n",
              "      <th></th>\n",
              "      <th>CARD_SIDO_NM</th>\n",
              "      <th>CARD_CCG_NM</th>\n",
              "      <th>STD_CLSS_NM</th>\n",
              "      <th>HOM_SIDO_NM</th>\n",
              "      <th>HOM_CCG_NM</th>\n",
              "      <th>AGE</th>\n",
              "      <th>SEX_CTGO_CD</th>\n",
              "      <th>FLC</th>\n",
              "      <th>CSTMR_CNT</th>\n",
              "      <th>AMT</th>\n",
              "      <th>CNT</th>\n",
              "      <th>Datetime</th>\n",
              "    </tr>\n",
              "  </thead>\n",
              "  <tbody>\n",
              "    <tr>\n",
              "      <th>0</th>\n",
              "      <td>강원</td>\n",
              "      <td>강릉시</td>\n",
              "      <td>건강보조식품 소매업</td>\n",
              "      <td>강원</td>\n",
              "      <td>강릉시</td>\n",
              "      <td>20s</td>\n",
              "      <td>1</td>\n",
              "      <td>1</td>\n",
              "      <td>4</td>\n",
              "      <td>311200</td>\n",
              "      <td>4</td>\n",
              "      <td>2019-01</td>\n",
              "    </tr>\n",
              "    <tr>\n",
              "      <th>1</th>\n",
              "      <td>강원</td>\n",
              "      <td>강릉시</td>\n",
              "      <td>건강보조식품 소매업</td>\n",
              "      <td>강원</td>\n",
              "      <td>강릉시</td>\n",
              "      <td>30s</td>\n",
              "      <td>1</td>\n",
              "      <td>2</td>\n",
              "      <td>7</td>\n",
              "      <td>1374500</td>\n",
              "      <td>8</td>\n",
              "      <td>2019-01</td>\n",
              "    </tr>\n",
              "  </tbody>\n",
              "</table>\n",
              "</div>"
            ],
            "text/plain": [
              "  CARD_SIDO_NM CARD_CCG_NM STD_CLSS_NM  ...      AMT CNT Datetime\n",
              "0           강원         강릉시  건강보조식품 소매업  ...   311200   4  2019-01\n",
              "1           강원         강릉시  건강보조식품 소매업  ...  1374500   8  2019-01\n",
              "\n",
              "[2 rows x 12 columns]"
            ]
          },
          "metadata": {
            "tags": []
          },
          "execution_count": 2
        }
      ]
    },
    {
      "cell_type": "code",
      "metadata": {
        "id": "RsIgU-KlObKb",
        "colab_type": "code",
        "colab": {
          "base_uri": "https://localhost:8080/",
          "height": 311
        },
        "outputId": "966255e7-54a2-4397-d5e5-2b41604aacaa"
      },
      "source": [
        "sns.heatmap(data = data.corr(), annot=True, fmt='.2f', linewidths=1.5)"
      ],
      "execution_count": 8,
      "outputs": [
        {
          "output_type": "stream",
          "text": [
            "findfont: Font family ['Malgun Gothic'] not found. Falling back to DejaVu Sans.\n"
          ],
          "name": "stderr"
        },
        {
          "output_type": "execute_result",
          "data": {
            "text/plain": [
              "<matplotlib.axes._subplots.AxesSubplot at 0x7f113b560390>"
            ]
          },
          "metadata": {
            "tags": []
          },
          "execution_count": 8
        },
        {
          "output_type": "stream",
          "text": [
            "findfont: Font family ['Malgun Gothic'] not found. Falling back to DejaVu Sans.\n"
          ],
          "name": "stderr"
        },
        {
          "output_type": "display_data",
          "data": {
            "image/png": "[encoded data removed]",
            "text/plain": [
              "<Figure size 432x288 with 2 Axes>"
            ]
          },
          "metadata": {
            "tags": []
          }
        }
      ]
    },
    {
      "cell_type": "code",
      "metadata": {
        "id": "yLfSVKYgRY5U",
        "colab_type": "code",
        "colab": {
          "base_uri": "https://localhost:8080/",
          "height": 801
        },
        "outputId": "4065814c-9af6-4147-ec21-60d1b060d83e"
      },
      "source": [
        "# 전국 업종 개수 내림차순으로 정렬\n",
        "data['STD_CLSS_NM'].value_counts().sort_values(ascending=False)"
      ],
      "execution_count": 16,
      "outputs": [
        {
          "output_type": "execute_result",
          "data": {
            "text/plain": [
              "한식 음식점업                  3697166\n",
              "체인화 편의점                  3210466\n",
              "슈퍼마켓                     1630700\n",
              "차량용 주유소 운영업              1613476\n",
              "비알콜 음료점업                 1586120\n",
              "기타 대형 종합 소매업             1495163\n",
              "서양식 음식점업                 1404839\n",
              "피자 햄버거 샌드위치 및 유사 음식점업    1351478\n",
              "빵 및 과자류 소매업               989794\n",
              "중식 음식점업                   698803\n",
              "기타음식료품위주종합소매업             558716\n",
              "기타 외국식 음식점업               556813\n",
              "일식 음식점업                   539071\n",
              "과실 및 채소 소매업               504479\n",
              "스포츠 및 레크레이션 용품 임대업        466533\n",
              "화장품 및 방향제 소매업             383713\n",
              "택시 운송업                    381993\n",
              "그외 기타 종합 소매업              351817\n",
              "여관업                       334994\n",
              "전시 및 행사 대행업               330569\n",
              "육류 소매업                    327160\n",
              "욕탕업                       259567\n",
              "수산물 소매업                   255488\n",
              "골프장 운영업                   236554\n",
              "차량용 가스 충전업                218242\n",
              "버스 운송업                    192281\n",
              "일반유흥 주점업                  174081\n",
              "호텔업                       155309\n",
              "면세점                       144349\n",
              "정기 항공 운송업                 115914\n",
              "휴양콘도 운영업                  114921\n",
              "건강보조식품 소매업                 83857\n",
              "관광 민예품 및 선물용품 소매업          78793\n",
              "기타 주점업                     73244\n",
              "내항 여객 운송업                  72294\n",
              "여행사업                       47446\n",
              "자동차 임대업                    26024\n",
              "마사지업                       17844\n",
              "그외 기타 스포츠시설 운영업            11077\n",
              "기타 수상오락 서비스업                6356\n",
              "그외 기타 분류안된 오락관련 서비스업         288\n",
              "Name: STD_CLSS_NM, dtype: int64"
            ]
          },
          "metadata": {
            "tags": []
          },
          "execution_count": 16
        }
      ]
    },
    {
      "cell_type": "code",
      "metadata": {
        "id": "78BflHQiP-Dl",
        "colab_type": "code",
        "colab": {
          "base_uri": "https://localhost:8080/",
          "height": 36
        },
        "outputId": "a6d88817-0037-4464-9f7e-f6061968e491"
      },
      "source": [
        "# 카드 사용지역 별로 나누어보자\n",
        "# 강원도 지역만 선별\n",
        "kangwon_df = data.loc[data['CARD_SIDO_NM'] == '강원'] \n",
        "kangwon_df.shape"
      ],
      "execution_count": 3,
      "outputs": [
        {
          "output_type": "execute_result",
          "data": {
            "text/plain": [
              "(1230355, 12)"
            ]
          },
          "metadata": {
            "tags": []
          },
          "execution_count": 3
        }
      ]
    },
    {
      "cell_type": "code",
      "metadata": {
        "id": "sBQwYgg4QNKP",
        "colab_type": "code",
        "colab": {
          "base_uri": "https://localhost:8080/",
          "height": 391
        },
        "outputId": "72949e31-ea7a-4dfa-e334-42bb98f8273f"
      },
      "source": [
        "# 강원도에는 카드 사용 횟수가 가장 많은 시군구가 어디인지 알아보기\n",
        "kangwon_gun_df = kangwon_df.groupby(['CARD_CCG_NM'])['CNT'].sum().sort_values(ascending=False)\n",
        "kangwon_gun_df"
      ],
      "execution_count": 4,
      "outputs": [
        {
          "output_type": "execute_result",
          "data": {
            "text/plain": [
              "CARD_CCG_NM\n",
              "원주시    16008790\n",
              "춘천시    12144927\n",
              "강릉시    10294621\n",
              "속초시     5071724\n",
              "홍천군     3524663\n",
              "동해시     3414706\n",
              "삼척시     2024675\n",
              "평창군     1933807\n",
              "횡성군     1742398\n",
              "인제군     1310443\n",
              "철원군     1188868\n",
              "정선군     1009942\n",
              "태백시      922249\n",
              "양양군      864533\n",
              "화천군      858550\n",
              "고성군      754284\n",
              "영월군      681040\n",
              "양구군      632309\n",
              "Name: CNT, dtype: int64"
            ]
          },
          "metadata": {
            "tags": []
          },
          "execution_count": 4
        }
      ]
    },
    {
      "cell_type": "code",
      "metadata": {
        "id": "bJ1ybP_HQRZr",
        "colab_type": "code",
        "colab": {
          "base_uri": "https://localhost:8080/",
          "height": 233
        },
        "outputId": "a5905522-991f-4fdb-e8b0-52d13af0331b"
      },
      "source": [
        "# 시각화하기\n",
        "kangwon_gun_df = pd.DataFrame(kangwon_gun_df)\n",
        "kangwon_gun_df.head()"
      ],
      "execution_count": 5,
      "outputs": [
        {
          "output_type": "execute_result",
          "data": {
            "text/html": [
              "<div>\n",
              "<style scoped>\n",
              "    .dataframe tbody tr th:only-of-type {\n",
              "        vertical-align: middle;\n",
              "    }\n",
              "\n",
              "    .dataframe tbody tr th {\n",
              "        vertical-align: top;\n",
              "    }\n",
              "\n",
              "    .dataframe thead th {\n",
              "        text-align: right;\n",
              "    }\n",
              "</style>\n",
              "<table border=\"1\" class=\"dataframe\">\n",
              "  <thead>\n",
              "    <tr style=\"text-align: right;\">\n",
              "      <th></th>\n",
              "      <th>CNT</th>\n",
              "    </tr>\n",
              "    <tr>\n",
              "      <th>CARD_CCG_NM</th>\n",
              "      <th></th>\n",
              "    </tr>\n",
              "  </thead>\n",
              "  <tbody>\n",
              "    <tr>\n",
              "      <th>원주시</th>\n",
              "      <td>16008790</td>\n",
              "    </tr>\n",
              "    <tr>\n",
              "      <th>춘천시</th>\n",
              "      <td>12144927</td>\n",
              "    </tr>\n",
              "    <tr>\n",
              "      <th>강릉시</th>\n",
              "      <td>10294621</td>\n",
              "    </tr>\n",
              "    <tr>\n",
              "      <th>속초시</th>\n",
              "      <td>5071724</td>\n",
              "    </tr>\n",
              "    <tr>\n",
              "      <th>홍천군</th>\n",
              "      <td>3524663</td>\n",
              "    </tr>\n",
              "  </tbody>\n",
              "</table>\n",
              "</div>"
            ],
            "text/plain": [
              "                  CNT\n",
              "CARD_CCG_NM          \n",
              "원주시          16008790\n",
              "춘천시          12144927\n",
              "강릉시          10294621\n",
              "속초시           5071724\n",
              "홍천군           3524663"
            ]
          },
          "metadata": {
            "tags": []
          },
          "execution_count": 5
        }
      ]
    },
    {
      "cell_type": "code",
      "metadata": {
        "id": "9vZU1eZAXMA2",
        "colab_type": "code",
        "colab": {
          "base_uri": "https://localhost:8080/",
          "height": 111
        },
        "outputId": "ae7c0db9-97e7-4196-a5f7-8fc4629e434e"
      },
      "source": [
        "import matplotlib.pyplot as plt\n",
        "import seaborn as sns\n",
        "sns.set()\n",
        " \n",
        "%config InlineBackend.figure_format = 'retina'\n",
        "!apt -qq -y install fonts-nanum\n",
        "import matplotlib.font_manager as fm\n",
        "import matplotlib as mpl\n",
        "fontpath = '/usr/share/fonts/truetype/nanum/NanumBarunGothic.ttf'\n",
        "font = fm.FontProperties(fname=fontpath, size=9)\n",
        "plt.rc('font', family='NanumBarunGothic') \n",
        "mpl.font_manager._rebuild()"
      ],
      "execution_count": 56,
      "outputs": [
        {
          "output_type": "stream",
          "text": [
            "fonts-nanum is already the newest version (20170925-1).\n",
            "The following package was automatically installed and is no longer required:\n",
            "  libnvidia-common-440\n",
            "Use 'apt autoremove' to remove it.\n",
            "0 upgraded, 0 newly installed, 0 to remove and 77 not upgraded.\n"
          ],
          "name": "stdout"
        }
      ]
    },
    {
      "cell_type": "code",
      "metadata": {
        "id": "RjhraOWwbkKT",
        "colab_type": "code",
        "colab": {
          "base_uri": "https://localhost:8080/",
          "height": 75
        },
        "outputId": "3142ed95-0af2-4dda-ccc4-e4797171b1a8"
      },
      "source": [
        "import matplotlib.pyplot as plt\n",
        "import seaborn as sns"
      ],
      "execution_count": 7,
      "outputs": [
        {
          "output_type": "stream",
          "text": [
            "/usr/local/lib/python3.6/dist-packages/statsmodels/tools/_testing.py:19: FutureWarning: pandas.util.testing is deprecated. Use the functions in the public API at pandas.testing instead.\n",
            "  import pandas.util.testing as tm\n"
          ],
          "name": "stderr"
        }
      ]
    },
    {
      "cell_type": "code",
      "metadata": {
        "id": "dFNzhONfWot3",
        "colab_type": "code",
        "colab": {
          "base_uri": "https://localhost:8080/",
          "height": 324
        },
        "outputId": "ac1e9658-36ad-499f-f9c7-e8e393be5941"
      },
      "source": [
        "plt.rc('font', family='NanumBarunGothic') \n",
        "kangwon_gun_df.plot.bar()"
      ],
      "execution_count": 21,
      "outputs": [
        {
          "output_type": "execute_result",
          "data": {
            "text/plain": [
              "<matplotlib.axes._subplots.AxesSubplot at 0x7f22a5b5e9e8>"
            ]
          },
          "metadata": {
            "tags": []
          },
          "execution_count": 21
        },
        {
          "output_type": "display_data",
          "data": {
            "image/png": "[encoded data removed]",
            "text/plain": [
              "<Figure size 432x288 with 1 Axes>"
            ]
          },
          "metadata": {
            "tags": [],
            "needs_background": "light"
          }
        }
      ]
    },
    {
      "cell_type": "code",
      "metadata": {
        "id": "JVD3Bsy-ULbW",
        "colab_type": "code",
        "colab": {
          "base_uri": "https://localhost:8080/",
          "height": 1000
        },
        "outputId": "38536e20-ba36-4f25-e8a3-1e52676a9512"
      },
      "source": [
        "# 업종별로 얼마나 이용건수가 많은지 보기\n",
        "upjong = kangwon_df.groupby(['STD_CLSS_NM'])['CNT'].sum().sort_values(ascending=False)\n",
        "upjong = pd.DataFrame(upjong)\n",
        "upjong"
      ],
      "execution_count": 10,
      "outputs": [
        {
          "output_type": "execute_result",
          "data": {
            "text/html": [
              "<div>\n",
              "<style scoped>\n",
              "    .dataframe tbody tr th:only-of-type {\n",
              "        vertical-align: middle;\n",
              "    }\n",
              "\n",
              "    .dataframe tbody tr th {\n",
              "        vertical-align: top;\n",
              "    }\n",
              "\n",
              "    .dataframe thead th {\n",
              "        text-align: right;\n",
              "    }\n",
              "</style>\n",
              "<table border=\"1\" class=\"dataframe\">\n",
              "  <thead>\n",
              "    <tr style=\"text-align: right;\">\n",
              "      <th></th>\n",
              "      <th>CNT</th>\n",
              "    </tr>\n",
              "    <tr>\n",
              "      <th>STD_CLSS_NM</th>\n",
              "      <th></th>\n",
              "    </tr>\n",
              "  </thead>\n",
              "  <tbody>\n",
              "    <tr>\n",
              "      <th>체인화 편의점</th>\n",
              "      <td>19112215</td>\n",
              "    </tr>\n",
              "    <tr>\n",
              "      <th>한식 음식점업</th>\n",
              "      <td>11634749</td>\n",
              "    </tr>\n",
              "    <tr>\n",
              "      <th>슈퍼마켓</th>\n",
              "      <td>7841816</td>\n",
              "    </tr>\n",
              "    <tr>\n",
              "      <th>차량용 주유소 운영업</th>\n",
              "      <td>4511515</td>\n",
              "    </tr>\n",
              "    <tr>\n",
              "      <th>기타음식료품위주종합소매업</th>\n",
              "      <td>3795489</td>\n",
              "    </tr>\n",
              "    <tr>\n",
              "      <th>기타 대형 종합 소매업</th>\n",
              "      <td>3023973</td>\n",
              "    </tr>\n",
              "    <tr>\n",
              "      <th>비알콜 음료점업</th>\n",
              "      <td>2171921</td>\n",
              "    </tr>\n",
              "    <tr>\n",
              "      <th>피자 햄버거 샌드위치 및 유사 음식점업</th>\n",
              "      <td>2076827</td>\n",
              "    </tr>\n",
              "    <tr>\n",
              "      <th>서양식 음식점업</th>\n",
              "      <td>2058982</td>\n",
              "    </tr>\n",
              "    <tr>\n",
              "      <th>빵 및 과자류 소매업</th>\n",
              "      <td>1458360</td>\n",
              "    </tr>\n",
              "    <tr>\n",
              "      <th>중식 음식점업</th>\n",
              "      <td>882438</td>\n",
              "    </tr>\n",
              "    <tr>\n",
              "      <th>휴양콘도 운영업</th>\n",
              "      <td>661008</td>\n",
              "    </tr>\n",
              "    <tr>\n",
              "      <th>기타 외국식 음식점업</th>\n",
              "      <td>629144</td>\n",
              "    </tr>\n",
              "    <tr>\n",
              "      <th>육류 소매업</th>\n",
              "      <td>628783</td>\n",
              "    </tr>\n",
              "    <tr>\n",
              "      <th>골프장 운영업</th>\n",
              "      <td>465266</td>\n",
              "    </tr>\n",
              "    <tr>\n",
              "      <th>일식 음식점업</th>\n",
              "      <td>453900</td>\n",
              "    </tr>\n",
              "    <tr>\n",
              "      <th>스포츠 및 레크레이션 용품 임대업</th>\n",
              "      <td>444690</td>\n",
              "    </tr>\n",
              "    <tr>\n",
              "      <th>과실 및 채소 소매업</th>\n",
              "      <td>428427</td>\n",
              "    </tr>\n",
              "    <tr>\n",
              "      <th>전시 및 행사 대행업</th>\n",
              "      <td>328850</td>\n",
              "    </tr>\n",
              "    <tr>\n",
              "      <th>욕탕업</th>\n",
              "      <td>242915</td>\n",
              "    </tr>\n",
              "    <tr>\n",
              "      <th>호텔업</th>\n",
              "      <td>241272</td>\n",
              "    </tr>\n",
              "    <tr>\n",
              "      <th>그외 기타 종합 소매업</th>\n",
              "      <td>206236</td>\n",
              "    </tr>\n",
              "    <tr>\n",
              "      <th>여관업</th>\n",
              "      <td>205115</td>\n",
              "    </tr>\n",
              "    <tr>\n",
              "      <th>화장품 및 방향제 소매업</th>\n",
              "      <td>202265</td>\n",
              "    </tr>\n",
              "    <tr>\n",
              "      <th>차량용 가스 충전업</th>\n",
              "      <td>193479</td>\n",
              "    </tr>\n",
              "    <tr>\n",
              "      <th>수산물 소매업</th>\n",
              "      <td>179898</td>\n",
              "    </tr>\n",
              "    <tr>\n",
              "      <th>일반유흥 주점업</th>\n",
              "      <td>128898</td>\n",
              "    </tr>\n",
              "    <tr>\n",
              "      <th>여행사업</th>\n",
              "      <td>69465</td>\n",
              "    </tr>\n",
              "    <tr>\n",
              "      <th>기타 주점업</th>\n",
              "      <td>45951</td>\n",
              "    </tr>\n",
              "    <tr>\n",
              "      <th>관광 민예품 및 선물용품 소매업</th>\n",
              "      <td>22012</td>\n",
              "    </tr>\n",
              "    <tr>\n",
              "      <th>건강보조식품 소매업</th>\n",
              "      <td>16170</td>\n",
              "    </tr>\n",
              "    <tr>\n",
              "      <th>버스 운송업</th>\n",
              "      <td>8018</td>\n",
              "    </tr>\n",
              "    <tr>\n",
              "      <th>마사지업</th>\n",
              "      <td>4907</td>\n",
              "    </tr>\n",
              "    <tr>\n",
              "      <th>기타 수상오락 서비스업</th>\n",
              "      <td>3698</td>\n",
              "    </tr>\n",
              "    <tr>\n",
              "      <th>그외 기타 스포츠시설 운영업</th>\n",
              "      <td>1639</td>\n",
              "    </tr>\n",
              "    <tr>\n",
              "      <th>내항 여객 운송업</th>\n",
              "      <td>1571</td>\n",
              "    </tr>\n",
              "    <tr>\n",
              "      <th>자동차 임대업</th>\n",
              "      <td>363</td>\n",
              "    </tr>\n",
              "    <tr>\n",
              "      <th>택시 운송업</th>\n",
              "      <td>206</td>\n",
              "    </tr>\n",
              "    <tr>\n",
              "      <th>면세점</th>\n",
              "      <td>88</td>\n",
              "    </tr>\n",
              "    <tr>\n",
              "      <th>그외 기타 분류안된 오락관련 서비스업</th>\n",
              "      <td>10</td>\n",
              "    </tr>\n",
              "  </tbody>\n",
              "</table>\n",
              "</div>"
            ],
            "text/plain": [
              "                            CNT\n",
              "STD_CLSS_NM                    \n",
              "체인화 편의점                19112215\n",
              "한식 음식점업                11634749\n",
              "슈퍼마켓                    7841816\n",
              "차량용 주유소 운영업             4511515\n",
              "기타음식료품위주종합소매업           3795489\n",
              "기타 대형 종합 소매업            3023973\n",
              "비알콜 음료점업                2171921\n",
              "피자 햄버거 샌드위치 및 유사 음식점업   2076827\n",
              "서양식 음식점업                2058982\n",
              "빵 및 과자류 소매업             1458360\n",
              "중식 음식점업                  882438\n",
              "휴양콘도 운영업                 661008\n",
              "기타 외국식 음식점업              629144\n",
              "육류 소매업                   628783\n",
              "골프장 운영업                  465266\n",
              "일식 음식점업                  453900\n",
              "스포츠 및 레크레이션 용품 임대업       444690\n",
              "과실 및 채소 소매업              428427\n",
              "전시 및 행사 대행업              328850\n",
              "욕탕업                      242915\n",
              "호텔업                      241272\n",
              "그외 기타 종합 소매업             206236\n",
              "여관업                      205115\n",
              "화장품 및 방향제 소매업            202265\n",
              "차량용 가스 충전업               193479\n",
              "수산물 소매업                  179898\n",
              "일반유흥 주점업                 128898\n",
              "여행사업                      69465\n",
              "기타 주점업                    45951\n",
              "관광 민예품 및 선물용품 소매업         22012\n",
              "건강보조식품 소매업                16170\n",
              "버스 운송업                     8018\n",
              "마사지업                       4907\n",
              "기타 수상오락 서비스업               3698\n",
              "그외 기타 스포츠시설 운영업            1639\n",
              "내항 여객 운송업                  1571\n",
              "자동차 임대업                     363\n",
              "택시 운송업                      206\n",
              "면세점                          88\n",
              "그외 기타 분류안된 오락관련 서비스업         10"
            ]
          },
          "metadata": {
            "tags": []
          },
          "execution_count": 10
        }
      ]
    },
    {
      "cell_type": "code",
      "metadata": {
        "id": "ugUAHfqpYI0q",
        "colab_type": "code",
        "colab": {
          "base_uri": "https://localhost:8080/",
          "height": 441
        },
        "outputId": "ba4c6665-c525-43d4-ec6c-007d9c6e3c79"
      },
      "source": [
        "# 강원도 지역 내에서 신용카드가 가장 많이 사용된 소매업이 어떤 종류인지 보기\n",
        "gu_upjong = kangwon_df.groupby(['CARD_CCG_NM','STD_CLSS_NM'])['STD_CLSS_NM'].count().sort_values(ascending=False)\n",
        "gu_upjong = pd.DataFrame(gu_upjong)\n",
        "gu_upjong"
      ],
      "execution_count": 54,
      "outputs": [
        {
          "output_type": "execute_result",
          "data": {
            "text/html": [
              "<div>\n",
              "<style scoped>\n",
              "    .dataframe tbody tr th:only-of-type {\n",
              "        vertical-align: middle;\n",
              "    }\n",
              "\n",
              "    .dataframe tbody tr th {\n",
              "        vertical-align: top;\n",
              "    }\n",
              "\n",
              "    .dataframe thead th {\n",
              "        text-align: right;\n",
              "    }\n",
              "</style>\n",
              "<table border=\"1\" class=\"dataframe\">\n",
              "  <thead>\n",
              "    <tr style=\"text-align: right;\">\n",
              "      <th></th>\n",
              "      <th></th>\n",
              "      <th>STD_CLSS_NM</th>\n",
              "    </tr>\n",
              "    <tr>\n",
              "      <th>CARD_CCG_NM</th>\n",
              "      <th>STD_CLSS_NM</th>\n",
              "      <th></th>\n",
              "    </tr>\n",
              "  </thead>\n",
              "  <tbody>\n",
              "    <tr>\n",
              "      <th>홍천군</th>\n",
              "      <th>슈퍼마켓</th>\n",
              "      <td>29764</td>\n",
              "    </tr>\n",
              "    <tr>\n",
              "      <th>원주시</th>\n",
              "      <th>체인화 편의점</th>\n",
              "      <td>24953</td>\n",
              "    </tr>\n",
              "    <tr>\n",
              "      <th>강릉시</th>\n",
              "      <th>한식 음식점업</th>\n",
              "      <td>24490</td>\n",
              "    </tr>\n",
              "    <tr>\n",
              "      <th>원주시</th>\n",
              "      <th>한식 음식점업</th>\n",
              "      <td>22551</td>\n",
              "    </tr>\n",
              "    <tr>\n",
              "      <th>홍천군</th>\n",
              "      <th>한식 음식점업</th>\n",
              "      <td>22543</td>\n",
              "    </tr>\n",
              "    <tr>\n",
              "      <th>...</th>\n",
              "      <th>...</th>\n",
              "      <td>...</td>\n",
              "    </tr>\n",
              "    <tr>\n",
              "      <th>삼척시</th>\n",
              "      <th>호텔업</th>\n",
              "      <td>1</td>\n",
              "    </tr>\n",
              "    <tr>\n",
              "      <th>인제군</th>\n",
              "      <th>내항 여객 운송업</th>\n",
              "      <td>1</td>\n",
              "    </tr>\n",
              "    <tr>\n",
              "      <th>강릉시</th>\n",
              "      <th>택시 운송업</th>\n",
              "      <td>1</td>\n",
              "    </tr>\n",
              "    <tr>\n",
              "      <th>삼척시</th>\n",
              "      <th>자동차 임대업</th>\n",
              "      <td>1</td>\n",
              "    </tr>\n",
              "    <tr>\n",
              "      <th>동해시</th>\n",
              "      <th>자동차 임대업</th>\n",
              "      <td>1</td>\n",
              "    </tr>\n",
              "  </tbody>\n",
              "</table>\n",
              "<p>549 rows × 1 columns</p>\n",
              "</div>"
            ],
            "text/plain": [
              "                         STD_CLSS_NM\n",
              "CARD_CCG_NM STD_CLSS_NM             \n",
              "홍천군         슈퍼마켓               29764\n",
              "원주시         체인화 편의점            24953\n",
              "강릉시         한식 음식점업            24490\n",
              "원주시         한식 음식점업            22551\n",
              "홍천군         한식 음식점업            22543\n",
              "...                              ...\n",
              "삼척시         호텔업                    1\n",
              "인제군         내항 여객 운송업              1\n",
              "강릉시         택시 운송업                 1\n",
              "삼척시         자동차 임대업                1\n",
              "동해시         자동차 임대업                1\n",
              "\n",
              "[549 rows x 1 columns]"
            ]
          },
          "metadata": {
            "tags": []
          },
          "execution_count": 54
        }
      ]
    },
    {
      "cell_type": "code",
      "metadata": {
        "id": "9LCEXMKVaOWI",
        "colab_type": "code",
        "colab": {
          "base_uri": "https://localhost:8080/",
          "height": 200
        },
        "outputId": "39646a93-1782-477c-e580-2e427346df05"
      },
      "source": [
        "data.head()"
      ],
      "execution_count": 22,
      "outputs": [
        {
          "output_type": "execute_result",
          "data": {
            "text/html": [
              "<div>\n",
              "<style scoped>\n",
              "    .dataframe tbody tr th:only-of-type {\n",
              "        vertical-align: middle;\n",
              "    }\n",
              "\n",
              "    .dataframe tbody tr th {\n",
              "        vertical-align: top;\n",
              "    }\n",
              "\n",
              "    .dataframe thead th {\n",
              "        text-align: right;\n",
              "    }\n",
              "</style>\n",
              "<table border=\"1\" class=\"dataframe\">\n",
              "  <thead>\n",
              "    <tr style=\"text-align: right;\">\n",
              "      <th></th>\n",
              "      <th>CARD_SIDO_NM</th>\n",
              "      <th>CARD_CCG_NM</th>\n",
              "      <th>STD_CLSS_NM</th>\n",
              "      <th>HOM_SIDO_NM</th>\n",
              "      <th>HOM_CCG_NM</th>\n",
              "      <th>AGE</th>\n",
              "      <th>SEX_CTGO_CD</th>\n",
              "      <th>FLC</th>\n",
              "      <th>CSTMR_CNT</th>\n",
              "      <th>AMT</th>\n",
              "      <th>CNT</th>\n",
              "      <th>Datetime</th>\n",
              "    </tr>\n",
              "  </thead>\n",
              "  <tbody>\n",
              "    <tr>\n",
              "      <th>0</th>\n",
              "      <td>강원</td>\n",
              "      <td>강릉시</td>\n",
              "      <td>건강보조식품 소매업</td>\n",
              "      <td>강원</td>\n",
              "      <td>강릉시</td>\n",
              "      <td>20s</td>\n",
              "      <td>1</td>\n",
              "      <td>1</td>\n",
              "      <td>4</td>\n",
              "      <td>311200</td>\n",
              "      <td>4</td>\n",
              "      <td>2019-01</td>\n",
              "    </tr>\n",
              "    <tr>\n",
              "      <th>1</th>\n",
              "      <td>강원</td>\n",
              "      <td>강릉시</td>\n",
              "      <td>건강보조식품 소매업</td>\n",
              "      <td>강원</td>\n",
              "      <td>강릉시</td>\n",
              "      <td>30s</td>\n",
              "      <td>1</td>\n",
              "      <td>2</td>\n",
              "      <td>7</td>\n",
              "      <td>1374500</td>\n",
              "      <td>8</td>\n",
              "      <td>2019-01</td>\n",
              "    </tr>\n",
              "    <tr>\n",
              "      <th>2</th>\n",
              "      <td>강원</td>\n",
              "      <td>강릉시</td>\n",
              "      <td>건강보조식품 소매업</td>\n",
              "      <td>강원</td>\n",
              "      <td>강릉시</td>\n",
              "      <td>30s</td>\n",
              "      <td>2</td>\n",
              "      <td>2</td>\n",
              "      <td>6</td>\n",
              "      <td>818700</td>\n",
              "      <td>6</td>\n",
              "      <td>2019-01</td>\n",
              "    </tr>\n",
              "    <tr>\n",
              "      <th>3</th>\n",
              "      <td>강원</td>\n",
              "      <td>강릉시</td>\n",
              "      <td>건강보조식품 소매업</td>\n",
              "      <td>강원</td>\n",
              "      <td>강릉시</td>\n",
              "      <td>40s</td>\n",
              "      <td>1</td>\n",
              "      <td>3</td>\n",
              "      <td>4</td>\n",
              "      <td>1717000</td>\n",
              "      <td>5</td>\n",
              "      <td>2019-01</td>\n",
              "    </tr>\n",
              "    <tr>\n",
              "      <th>4</th>\n",
              "      <td>강원</td>\n",
              "      <td>강릉시</td>\n",
              "      <td>건강보조식품 소매업</td>\n",
              "      <td>강원</td>\n",
              "      <td>강릉시</td>\n",
              "      <td>40s</td>\n",
              "      <td>1</td>\n",
              "      <td>4</td>\n",
              "      <td>3</td>\n",
              "      <td>1047300</td>\n",
              "      <td>3</td>\n",
              "      <td>2019-01</td>\n",
              "    </tr>\n",
              "  </tbody>\n",
              "</table>\n",
              "</div>"
            ],
            "text/plain": [
              "  CARD_SIDO_NM CARD_CCG_NM STD_CLSS_NM  ...      AMT CNT Datetime\n",
              "0           강원         강릉시  건강보조식품 소매업  ...   311200   4  2019-01\n",
              "1           강원         강릉시  건강보조식품 소매업  ...  1374500   8  2019-01\n",
              "2           강원         강릉시  건강보조식품 소매업  ...   818700   6  2019-01\n",
              "3           강원         강릉시  건강보조식품 소매업  ...  1717000   5  2019-01\n",
              "4           강원         강릉시  건강보조식품 소매업  ...  1047300   3  2019-01\n",
              "\n",
              "[5 rows x 12 columns]"
            ]
          },
          "metadata": {
            "tags": []
          },
          "execution_count": 22
        }
      ]
    },
    {
      "cell_type": "code",
      "metadata": {
        "id": "GfPludFScL_f",
        "colab_type": "code",
        "colab": {}
      },
      "source": [
        ""
      ],
      "execution_count": null,
      "outputs": []
    }
  ]
}