{
 "cells": [
  {
   "cell_type": "markdown",
   "metadata": {
    "colab_type": "text",
    "id": "view-in-github"
   },
   "source": [
    "<a href=\"https://colab.research.google.com/github/young-hun-jo/KaggleStruggle/blob/master/jeju_credit/main_modeling2.ipynb\" target=\"_parent\"><img src=\"https://colab.research.google.com/assets/colab-badge.svg\" alt=\"Open In Colab\"/></a>"
   ]
  },
  {
   "cell_type": "code",
   "execution_count": 1,
   "metadata": {
    "colab": {
     "base_uri": "https://localhost:8080/",
     "height": 34
    },
    "colab_type": "code",
    "id": "q4piKYD0Mu1P",
    "outputId": "2401af5e-a441-4506-d1d3-40529cf2b550"
   },
   "outputs": [
    {
     "name": "stdout",
     "output_type": "stream",
     "text": [
      "Mounted at /gdrive\n"
     ]
    }
   ],
   "source": [
    "from google.colab import drive\n",
    "drive.mount('/gdrive', force_remount=True)"
   ]
  },
  {
   "cell_type": "code",
   "execution_count": 2,
   "metadata": {
    "colab": {
     "base_uri": "https://localhost:8080/",
     "height": 51
    },
    "colab_type": "code",
    "id": "KUy09Q-YMwfk",
    "outputId": "c867d891-26b4-4bb5-9117-5517c7c9d773"
   },
   "outputs": [
    {
     "name": "stdout",
     "output_type": "stream",
     "text": [
      "201901-202003.csv  encoded_data.csv  submission.csv\n",
      "202004.csv\t   jeju_airport.csv\n"
     ]
    }
   ],
   "source": [
    "!ls '/gdrive/My Drive/dacon_카드사용액 예측/data'"
   ]
  },
  {
   "cell_type": "code",
   "execution_count": 3,
   "metadata": {
    "colab": {
     "base_uri": "https://localhost:8080/",
     "height": 34
    },
    "colab_type": "code",
    "id": "x4ZkQWhnM5OP",
    "outputId": "19cf00c9-e1c8-4b43-e439-5f988965e259"
   },
   "outputs": [
    {
     "data": {
      "text/plain": [
       "(24697792, 12)"
      ]
     },
     "execution_count": 3,
     "metadata": {
      "tags": []
     },
     "output_type": "execute_result"
    }
   ],
   "source": [
    "import pandas as pd\n",
    "data = pd.read_csv('/gdrive/My Drive/dacon_카드사용액 예측/data/201901-202003.csv')\n",
    "data.shape"
   ]
  },
  {
   "cell_type": "code",
   "execution_count": 4,
   "metadata": {
    "colab": {},
    "colab_type": "code",
    "id": "Ql_xcFvNOICI"
   },
   "outputs": [],
   "source": [
    "data.fillna('세종', inplace=True)"
   ]
  },
  {
   "cell_type": "code",
   "execution_count": 5,
   "metadata": {
    "colab": {
     "base_uri": "https://localhost:8080/",
     "height": 34
    },
    "colab_type": "code",
    "id": "niTc5bl696eV",
    "outputId": "942f20e0-89c8-4718-d7f4-29f31505e324"
   },
   "outputs": [
    {
     "data": {
      "text/plain": [
       "(1350322, 12)"
      ]
     },
     "execution_count": 5,
     "metadata": {
      "tags": []
     },
     "output_type": "execute_result"
    }
   ],
   "source": [
    "data2 = pd.read_csv('/gdrive/My Drive/dacon_카드사용액 예측/data/202004.csv')\n",
    "data2.shape"
   ]
  },
  {
   "cell_type": "code",
   "execution_count": 6,
   "metadata": {
    "colab": {
     "base_uri": "https://localhost:8080/",
     "height": 34
    },
    "colab_type": "code",
    "id": "Bg1nYDnf-DXy",
    "outputId": "0542a774-748c-4379-b3ff-3826acba3a23"
   },
   "outputs": [
    {
     "data": {
      "text/plain": [
       "(26048114, 12)"
      ]
     },
     "execution_count": 6,
     "metadata": {
      "tags": []
     },
     "output_type": "execute_result"
    }
   ],
   "source": [
    "data = pd.concat([data, data2], axis=0)\n",
    "data.shape"
   ]
  },
  {
   "cell_type": "code",
   "execution_count": 7,
   "metadata": {
    "colab": {
     "base_uri": "https://localhost:8080/",
     "height": 204
    },
    "colab_type": "code",
    "id": "PPviWMBY6gCB",
    "outputId": "0a01fac9-883b-4fa9-8a0a-c1c5ce08f8bd"
   },
   "outputs": [
    {
     "data": {
      "text/html": [
       "<div>\n",
       "<style scoped>\n",
       "    .dataframe tbody tr th:only-of-type {\n",
       "        vertical-align: middle;\n",
       "    }\n",
       "\n",
       "    .dataframe tbody tr th {\n",
       "        vertical-align: top;\n",
       "    }\n",
       "\n",
       "    .dataframe thead th {\n",
       "        text-align: right;\n",
       "    }\n",
       "</style>\n",
       "<table border=\"1\" class=\"dataframe\">\n",
       "  <thead>\n",
       "    <tr style=\"text-align: right;\">\n",
       "      <th></th>\n",
       "      <th>CARD_SIDO_NM</th>\n",
       "      <th>CARD_CCG_NM</th>\n",
       "      <th>STD_CLSS_NM</th>\n",
       "      <th>HOM_SIDO_NM</th>\n",
       "      <th>HOM_CCG_NM</th>\n",
       "      <th>AGE</th>\n",
       "      <th>SEX_CTGO_CD</th>\n",
       "      <th>FLC</th>\n",
       "      <th>CSTMR_CNT</th>\n",
       "      <th>AMT</th>\n",
       "      <th>CNT</th>\n",
       "      <th>year</th>\n",
       "      <th>month</th>\n",
       "    </tr>\n",
       "  </thead>\n",
       "  <tbody>\n",
       "    <tr>\n",
       "      <th>0</th>\n",
       "      <td>강원</td>\n",
       "      <td>강릉시</td>\n",
       "      <td>건강보조식품 소매업</td>\n",
       "      <td>강원</td>\n",
       "      <td>강릉시</td>\n",
       "      <td>20s</td>\n",
       "      <td>1</td>\n",
       "      <td>1</td>\n",
       "      <td>4</td>\n",
       "      <td>311200</td>\n",
       "      <td>4</td>\n",
       "      <td>2019</td>\n",
       "      <td>1</td>\n",
       "    </tr>\n",
       "    <tr>\n",
       "      <th>1</th>\n",
       "      <td>강원</td>\n",
       "      <td>강릉시</td>\n",
       "      <td>건강보조식품 소매업</td>\n",
       "      <td>강원</td>\n",
       "      <td>강릉시</td>\n",
       "      <td>30s</td>\n",
       "      <td>1</td>\n",
       "      <td>2</td>\n",
       "      <td>7</td>\n",
       "      <td>1374500</td>\n",
       "      <td>8</td>\n",
       "      <td>2019</td>\n",
       "      <td>1</td>\n",
       "    </tr>\n",
       "    <tr>\n",
       "      <th>2</th>\n",
       "      <td>강원</td>\n",
       "      <td>강릉시</td>\n",
       "      <td>건강보조식품 소매업</td>\n",
       "      <td>강원</td>\n",
       "      <td>강릉시</td>\n",
       "      <td>30s</td>\n",
       "      <td>2</td>\n",
       "      <td>2</td>\n",
       "      <td>6</td>\n",
       "      <td>818700</td>\n",
       "      <td>6</td>\n",
       "      <td>2019</td>\n",
       "      <td>1</td>\n",
       "    </tr>\n",
       "    <tr>\n",
       "      <th>3</th>\n",
       "      <td>강원</td>\n",
       "      <td>강릉시</td>\n",
       "      <td>건강보조식품 소매업</td>\n",
       "      <td>강원</td>\n",
       "      <td>강릉시</td>\n",
       "      <td>40s</td>\n",
       "      <td>1</td>\n",
       "      <td>3</td>\n",
       "      <td>4</td>\n",
       "      <td>1717000</td>\n",
       "      <td>5</td>\n",
       "      <td>2019</td>\n",
       "      <td>1</td>\n",
       "    </tr>\n",
       "    <tr>\n",
       "      <th>4</th>\n",
       "      <td>강원</td>\n",
       "      <td>강릉시</td>\n",
       "      <td>건강보조식품 소매업</td>\n",
       "      <td>강원</td>\n",
       "      <td>강릉시</td>\n",
       "      <td>40s</td>\n",
       "      <td>1</td>\n",
       "      <td>4</td>\n",
       "      <td>3</td>\n",
       "      <td>1047300</td>\n",
       "      <td>3</td>\n",
       "      <td>2019</td>\n",
       "      <td>1</td>\n",
       "    </tr>\n",
       "  </tbody>\n",
       "</table>\n",
       "</div>"
      ],
      "text/plain": [
       "  CARD_SIDO_NM CARD_CCG_NM STD_CLSS_NM HOM_SIDO_NM  ...      AMT CNT  year  month\n",
       "0           강원         강릉시  건강보조식품 소매업          강원  ...   311200   4  2019      1\n",
       "1           강원         강릉시  건강보조식품 소매업          강원  ...  1374500   8  2019      1\n",
       "2           강원         강릉시  건강보조식품 소매업          강원  ...   818700   6  2019      1\n",
       "3           강원         강릉시  건강보조식품 소매업          강원  ...  1717000   5  2019      1\n",
       "4           강원         강릉시  건강보조식품 소매업          강원  ...  1047300   3  2019      1\n",
       "\n",
       "[5 rows x 13 columns]"
      ]
     },
     "execution_count": 7,
     "metadata": {
      "tags": []
     },
     "output_type": "execute_result"
    }
   ],
   "source": [
    "def grap_year(data): # year \n",
    "    data = str(data)\n",
    "    return int(data[:4])\n",
    "\n",
    "def grap_month(data): # month \n",
    "    data = str(data)\n",
    "    return int(data[4:])\n",
    "\n",
    "data['year'] = data['REG_YYMM'].apply(lambda x: grap_year(x))\n",
    "data['month'] = data['REG_YYMM'].apply(lambda x: grap_month(x))\n",
    "data = data.drop(['REG_YYMM'], axis=1) # 기존 날짜컬럼 삭제\n",
    "data.head()"
   ]
  },
  {
   "cell_type": "code",
   "execution_count": 8,
   "metadata": {
    "colab": {},
    "colab_type": "code",
    "id": "ZST8IaLx6-T2"
   },
   "outputs": [],
   "source": [
    "# 시군구도 필요없으니 시군구 변수도 삭제\n",
    "del data['CARD_CCG_NM']\n",
    "del data['HOM_CCG_NM']\n",
    "del data['CSTMR_CNT']\n",
    "del data['CNT']"
   ]
  },
  {
   "cell_type": "code",
   "execution_count": 9,
   "metadata": {
    "colab": {
     "base_uri": "https://localhost:8080/",
     "height": 204
    },
    "colab_type": "code",
    "id": "1mJDido17j07",
    "outputId": "528751c0-7aa9-48cd-e40e-4c826c6ff931"
   },
   "outputs": [
    {
     "data": {
      "text/html": [
       "<div>\n",
       "<style scoped>\n",
       "    .dataframe tbody tr th:only-of-type {\n",
       "        vertical-align: middle;\n",
       "    }\n",
       "\n",
       "    .dataframe tbody tr th {\n",
       "        vertical-align: top;\n",
       "    }\n",
       "\n",
       "    .dataframe thead th {\n",
       "        text-align: right;\n",
       "    }\n",
       "</style>\n",
       "<table border=\"1\" class=\"dataframe\">\n",
       "  <thead>\n",
       "    <tr style=\"text-align: right;\">\n",
       "      <th></th>\n",
       "      <th>CARD_SIDO_NM</th>\n",
       "      <th>STD_CLSS_NM</th>\n",
       "      <th>HOM_SIDO_NM</th>\n",
       "      <th>AGE</th>\n",
       "      <th>SEX_CTGO_CD</th>\n",
       "      <th>FLC</th>\n",
       "      <th>AMT</th>\n",
       "      <th>year</th>\n",
       "      <th>month</th>\n",
       "      <th>SEX_1</th>\n",
       "      <th>SEX_2</th>\n",
       "    </tr>\n",
       "  </thead>\n",
       "  <tbody>\n",
       "    <tr>\n",
       "      <th>0</th>\n",
       "      <td>강원</td>\n",
       "      <td>건강보조식품 소매업</td>\n",
       "      <td>강원</td>\n",
       "      <td>20s</td>\n",
       "      <td>1</td>\n",
       "      <td>1</td>\n",
       "      <td>311200</td>\n",
       "      <td>2019</td>\n",
       "      <td>1</td>\n",
       "      <td>1</td>\n",
       "      <td>0</td>\n",
       "    </tr>\n",
       "    <tr>\n",
       "      <th>1</th>\n",
       "      <td>강원</td>\n",
       "      <td>건강보조식품 소매업</td>\n",
       "      <td>강원</td>\n",
       "      <td>30s</td>\n",
       "      <td>1</td>\n",
       "      <td>2</td>\n",
       "      <td>1374500</td>\n",
       "      <td>2019</td>\n",
       "      <td>1</td>\n",
       "      <td>1</td>\n",
       "      <td>0</td>\n",
       "    </tr>\n",
       "    <tr>\n",
       "      <th>2</th>\n",
       "      <td>강원</td>\n",
       "      <td>건강보조식품 소매업</td>\n",
       "      <td>강원</td>\n",
       "      <td>30s</td>\n",
       "      <td>2</td>\n",
       "      <td>2</td>\n",
       "      <td>818700</td>\n",
       "      <td>2019</td>\n",
       "      <td>1</td>\n",
       "      <td>0</td>\n",
       "      <td>1</td>\n",
       "    </tr>\n",
       "    <tr>\n",
       "      <th>3</th>\n",
       "      <td>강원</td>\n",
       "      <td>건강보조식품 소매업</td>\n",
       "      <td>강원</td>\n",
       "      <td>40s</td>\n",
       "      <td>1</td>\n",
       "      <td>3</td>\n",
       "      <td>1717000</td>\n",
       "      <td>2019</td>\n",
       "      <td>1</td>\n",
       "      <td>1</td>\n",
       "      <td>0</td>\n",
       "    </tr>\n",
       "    <tr>\n",
       "      <th>4</th>\n",
       "      <td>강원</td>\n",
       "      <td>건강보조식품 소매업</td>\n",
       "      <td>강원</td>\n",
       "      <td>40s</td>\n",
       "      <td>1</td>\n",
       "      <td>4</td>\n",
       "      <td>1047300</td>\n",
       "      <td>2019</td>\n",
       "      <td>1</td>\n",
       "      <td>1</td>\n",
       "      <td>0</td>\n",
       "    </tr>\n",
       "  </tbody>\n",
       "</table>\n",
       "</div>"
      ],
      "text/plain": [
       "  CARD_SIDO_NM STD_CLSS_NM HOM_SIDO_NM  AGE  ...  year  month  SEX_1  SEX_2\n",
       "0           강원  건강보조식품 소매업          강원  20s  ...  2019      1      1      0\n",
       "1           강원  건강보조식품 소매업          강원  30s  ...  2019      1      1      0\n",
       "2           강원  건강보조식품 소매업          강원  30s  ...  2019      1      0      1\n",
       "3           강원  건강보조식품 소매업          강원  40s  ...  2019      1      1      0\n",
       "4           강원  건강보조식품 소매업          강원  40s  ...  2019      1      1      0\n",
       "\n",
       "[5 rows x 11 columns]"
      ]
     },
     "execution_count": 9,
     "metadata": {
      "tags": []
     },
     "output_type": "execute_result"
    }
   ],
   "source": [
    "sex_encoding = pd.get_dummies(data=data['SEX_CTGO_CD'], prefix='SEX')\n",
    "data = pd.concat([data, sex_encoding], axis=1)\n",
    "data.head()"
   ]
  },
  {
   "cell_type": "code",
   "execution_count": 10,
   "metadata": {
    "colab": {
     "base_uri": "https://localhost:8080/",
     "height": 204
    },
    "colab_type": "code",
    "id": "z2Bk6RLH7r-1",
    "outputId": "402682e5-17bd-4bc8-bbfb-8883568c59a4"
   },
   "outputs": [
    {
     "data": {
      "text/html": [
       "<div>\n",
       "<style scoped>\n",
       "    .dataframe tbody tr th:only-of-type {\n",
       "        vertical-align: middle;\n",
       "    }\n",
       "\n",
       "    .dataframe tbody tr th {\n",
       "        vertical-align: top;\n",
       "    }\n",
       "\n",
       "    .dataframe thead th {\n",
       "        text-align: right;\n",
       "    }\n",
       "</style>\n",
       "<table border=\"1\" class=\"dataframe\">\n",
       "  <thead>\n",
       "    <tr style=\"text-align: right;\">\n",
       "      <th></th>\n",
       "      <th>CARD_SIDO_NM</th>\n",
       "      <th>STD_CLSS_NM</th>\n",
       "      <th>HOM_SIDO_NM</th>\n",
       "      <th>AGE</th>\n",
       "      <th>FLC</th>\n",
       "      <th>AMT</th>\n",
       "      <th>year</th>\n",
       "      <th>month</th>\n",
       "      <th>SEX_1</th>\n",
       "      <th>SEX_2</th>\n",
       "    </tr>\n",
       "  </thead>\n",
       "  <tbody>\n",
       "    <tr>\n",
       "      <th>0</th>\n",
       "      <td>강원</td>\n",
       "      <td>건강보조식품 소매업</td>\n",
       "      <td>강원</td>\n",
       "      <td>20s</td>\n",
       "      <td>1</td>\n",
       "      <td>311200</td>\n",
       "      <td>2019</td>\n",
       "      <td>1</td>\n",
       "      <td>1</td>\n",
       "      <td>0</td>\n",
       "    </tr>\n",
       "    <tr>\n",
       "      <th>1</th>\n",
       "      <td>강원</td>\n",
       "      <td>건강보조식품 소매업</td>\n",
       "      <td>강원</td>\n",
       "      <td>30s</td>\n",
       "      <td>2</td>\n",
       "      <td>1374500</td>\n",
       "      <td>2019</td>\n",
       "      <td>1</td>\n",
       "      <td>1</td>\n",
       "      <td>0</td>\n",
       "    </tr>\n",
       "    <tr>\n",
       "      <th>2</th>\n",
       "      <td>강원</td>\n",
       "      <td>건강보조식품 소매업</td>\n",
       "      <td>강원</td>\n",
       "      <td>30s</td>\n",
       "      <td>2</td>\n",
       "      <td>818700</td>\n",
       "      <td>2019</td>\n",
       "      <td>1</td>\n",
       "      <td>0</td>\n",
       "      <td>1</td>\n",
       "    </tr>\n",
       "    <tr>\n",
       "      <th>3</th>\n",
       "      <td>강원</td>\n",
       "      <td>건강보조식품 소매업</td>\n",
       "      <td>강원</td>\n",
       "      <td>40s</td>\n",
       "      <td>3</td>\n",
       "      <td>1717000</td>\n",
       "      <td>2019</td>\n",
       "      <td>1</td>\n",
       "      <td>1</td>\n",
       "      <td>0</td>\n",
       "    </tr>\n",
       "    <tr>\n",
       "      <th>4</th>\n",
       "      <td>강원</td>\n",
       "      <td>건강보조식품 소매업</td>\n",
       "      <td>강원</td>\n",
       "      <td>40s</td>\n",
       "      <td>4</td>\n",
       "      <td>1047300</td>\n",
       "      <td>2019</td>\n",
       "      <td>1</td>\n",
       "      <td>1</td>\n",
       "      <td>0</td>\n",
       "    </tr>\n",
       "  </tbody>\n",
       "</table>\n",
       "</div>"
      ],
      "text/plain": [
       "  CARD_SIDO_NM STD_CLSS_NM HOM_SIDO_NM  AGE  ...  year  month  SEX_1  SEX_2\n",
       "0           강원  건강보조식품 소매업          강원  20s  ...  2019      1      1      0\n",
       "1           강원  건강보조식품 소매업          강원  30s  ...  2019      1      1      0\n",
       "2           강원  건강보조식품 소매업          강원  30s  ...  2019      1      0      1\n",
       "3           강원  건강보조식품 소매업          강원  40s  ...  2019      1      1      0\n",
       "4           강원  건강보조식품 소매업          강원  40s  ...  2019      1      1      0\n",
       "\n",
       "[5 rows x 10 columns]"
      ]
     },
     "execution_count": 10,
     "metadata": {
      "tags": []
     },
     "output_type": "execute_result"
    }
   ],
   "source": [
    "del data['SEX_CTGO_CD']\n",
    "data.head()"
   ]
  },
  {
   "cell_type": "code",
   "execution_count": 11,
   "metadata": {
    "colab": {
     "base_uri": "https://localhost:8080/",
     "height": 204
    },
    "colab_type": "code",
    "id": "DgUrrjHQ8kVG",
    "outputId": "151a3baf-e088-408f-ca72-6c3026935a13"
   },
   "outputs": [
    {
     "data": {
      "text/html": [
       "<div>\n",
       "<style scoped>\n",
       "    .dataframe tbody tr th:only-of-type {\n",
       "        vertical-align: middle;\n",
       "    }\n",
       "\n",
       "    .dataframe tbody tr th {\n",
       "        vertical-align: top;\n",
       "    }\n",
       "\n",
       "    .dataframe thead th {\n",
       "        text-align: right;\n",
       "    }\n",
       "</style>\n",
       "<table border=\"1\" class=\"dataframe\">\n",
       "  <thead>\n",
       "    <tr style=\"text-align: right;\">\n",
       "      <th></th>\n",
       "      <th>year</th>\n",
       "      <th>month</th>\n",
       "      <th>CARD_SIDO_NM</th>\n",
       "      <th>STD_CLSS_NM</th>\n",
       "      <th>HOM_SIDO_NM</th>\n",
       "      <th>AGE</th>\n",
       "      <th>SEX_1</th>\n",
       "      <th>SEX_2</th>\n",
       "      <th>FLC</th>\n",
       "      <th>AMT</th>\n",
       "    </tr>\n",
       "  </thead>\n",
       "  <tbody>\n",
       "    <tr>\n",
       "      <th>0</th>\n",
       "      <td>2019</td>\n",
       "      <td>1</td>\n",
       "      <td>강원</td>\n",
       "      <td>건강보조식품 소매업</td>\n",
       "      <td>강원</td>\n",
       "      <td>20s</td>\n",
       "      <td>1</td>\n",
       "      <td>0</td>\n",
       "      <td>1</td>\n",
       "      <td>311200</td>\n",
       "    </tr>\n",
       "    <tr>\n",
       "      <th>1</th>\n",
       "      <td>2019</td>\n",
       "      <td>1</td>\n",
       "      <td>강원</td>\n",
       "      <td>건강보조식품 소매업</td>\n",
       "      <td>강원</td>\n",
       "      <td>30s</td>\n",
       "      <td>1</td>\n",
       "      <td>0</td>\n",
       "      <td>2</td>\n",
       "      <td>1374500</td>\n",
       "    </tr>\n",
       "    <tr>\n",
       "      <th>2</th>\n",
       "      <td>2019</td>\n",
       "      <td>1</td>\n",
       "      <td>강원</td>\n",
       "      <td>건강보조식품 소매업</td>\n",
       "      <td>강원</td>\n",
       "      <td>30s</td>\n",
       "      <td>0</td>\n",
       "      <td>1</td>\n",
       "      <td>2</td>\n",
       "      <td>818700</td>\n",
       "    </tr>\n",
       "    <tr>\n",
       "      <th>3</th>\n",
       "      <td>2019</td>\n",
       "      <td>1</td>\n",
       "      <td>강원</td>\n",
       "      <td>건강보조식품 소매업</td>\n",
       "      <td>강원</td>\n",
       "      <td>40s</td>\n",
       "      <td>1</td>\n",
       "      <td>0</td>\n",
       "      <td>3</td>\n",
       "      <td>1717000</td>\n",
       "    </tr>\n",
       "    <tr>\n",
       "      <th>4</th>\n",
       "      <td>2019</td>\n",
       "      <td>1</td>\n",
       "      <td>강원</td>\n",
       "      <td>건강보조식품 소매업</td>\n",
       "      <td>강원</td>\n",
       "      <td>40s</td>\n",
       "      <td>1</td>\n",
       "      <td>0</td>\n",
       "      <td>4</td>\n",
       "      <td>1047300</td>\n",
       "    </tr>\n",
       "  </tbody>\n",
       "</table>\n",
       "</div>"
      ],
      "text/plain": [
       "   year  month CARD_SIDO_NM STD_CLSS_NM  ... SEX_1 SEX_2  FLC      AMT\n",
       "0  2019      1           강원  건강보조식품 소매업  ...     1     0    1   311200\n",
       "1  2019      1           강원  건강보조식품 소매업  ...     1     0    2  1374500\n",
       "2  2019      1           강원  건강보조식품 소매업  ...     0     1    2   818700\n",
       "3  2019      1           강원  건강보조식품 소매업  ...     1     0    3  1717000\n",
       "4  2019      1           강원  건강보조식품 소매업  ...     1     0    4  1047300\n",
       "\n",
       "[5 rows x 10 columns]"
      ]
     },
     "execution_count": 11,
     "metadata": {
      "tags": []
     },
     "output_type": "execute_result"
    }
   ],
   "source": [
    "data = data[['year','month','CARD_SIDO_NM','STD_CLSS_NM','HOM_SIDO_NM','AGE','SEX_1','SEX_2','FLC','AMT']] # local_nlocal\n",
    "data.head()"
   ]
  },
  {
   "cell_type": "code",
   "execution_count": null,
   "metadata": {
    "colab": {
     "base_uri": "https://localhost:8080/",
     "height": 544
    },
    "colab_type": "code",
    "id": "YWqvrO5L8tMU",
    "outputId": "0792f66f-a8ab-4bf9-c391-b130332547c5"
   },
   "outputs": [
    {
     "name": "stdout",
     "output_type": "stream",
     "text": [
      "강원\n"
     ]
    },
    {
     "name": "stderr",
     "output_type": "stream",
     "text": [
      "/usr/local/lib/python3.6/dist-packages/ipykernel_launcher.py:20: SettingWithCopyWarning: \n",
      "A value is trying to be set on a copy of a slice from a DataFrame.\n",
      "Try using .loc[row_indexer,col_indexer] = value instead\n",
      "\n",
      "See the caveats in the documentation: https://pandas.pydata.org/pandas-docs/stable/user_guide/indexing.html#returning-a-view-versus-a-copy\n"
     ]
    },
    {
     "name": "stdout",
     "output_type": "stream",
     "text": [
      "경기\n"
     ]
    },
    {
     "name": "stderr",
     "output_type": "stream",
     "text": [
      "/usr/local/lib/python3.6/dist-packages/ipykernel_launcher.py:20: SettingWithCopyWarning: \n",
      "A value is trying to be set on a copy of a slice from a DataFrame.\n",
      "Try using .loc[row_indexer,col_indexer] = value instead\n",
      "\n",
      "See the caveats in the documentation: https://pandas.pydata.org/pandas-docs/stable/user_guide/indexing.html#returning-a-view-versus-a-copy\n"
     ]
    },
    {
     "name": "stdout",
     "output_type": "stream",
     "text": [
      "경남\n"
     ]
    },
    {
     "name": "stderr",
     "output_type": "stream",
     "text": [
      "/usr/local/lib/python3.6/dist-packages/ipykernel_launcher.py:20: SettingWithCopyWarning: \n",
      "A value is trying to be set on a copy of a slice from a DataFrame.\n",
      "Try using .loc[row_indexer,col_indexer] = value instead\n",
      "\n",
      "See the caveats in the documentation: https://pandas.pydata.org/pandas-docs/stable/user_guide/indexing.html#returning-a-view-versus-a-copy\n"
     ]
    },
    {
     "name": "stdout",
     "output_type": "stream",
     "text": [
      "경북\n"
     ]
    },
    {
     "name": "stderr",
     "output_type": "stream",
     "text": [
      "/usr/local/lib/python3.6/dist-packages/ipykernel_launcher.py:20: SettingWithCopyWarning: \n",
      "A value is trying to be set on a copy of a slice from a DataFrame.\n",
      "Try using .loc[row_indexer,col_indexer] = value instead\n",
      "\n",
      "See the caveats in the documentation: https://pandas.pydata.org/pandas-docs/stable/user_guide/indexing.html#returning-a-view-versus-a-copy\n"
     ]
    },
    {
     "name": "stdout",
     "output_type": "stream",
     "text": [
      "광주\n"
     ]
    },
    {
     "name": "stderr",
     "output_type": "stream",
     "text": [
      "/usr/local/lib/python3.6/dist-packages/ipykernel_launcher.py:20: SettingWithCopyWarning: \n",
      "A value is trying to be set on a copy of a slice from a DataFrame.\n",
      "Try using .loc[row_indexer,col_indexer] = value instead\n",
      "\n",
      "See the caveats in the documentation: https://pandas.pydata.org/pandas-docs/stable/user_guide/indexing.html#returning-a-view-versus-a-copy\n"
     ]
    },
    {
     "name": "stdout",
     "output_type": "stream",
     "text": [
      "대구\n"
     ]
    }
   ],
   "source": [
    "from sklearn.preprocessing import LabelEncoder\n",
    "from sklearn.ensemble import RandomForestRegressor\n",
    "from itertools import product\n",
    "import numpy as np\n",
    "import pandas as pd\n",
    "\n",
    "## encoding def\n",
    "## 인코딩 완료된 df형태로 반환\n",
    "def encoder_func(df):\n",
    "  dtypes = df.dtypes\n",
    "  encoders = {}\n",
    "  for column in df.columns:\n",
    "    if str(dtypes[column]) == 'object':\n",
    "      encoder = LabelEncoder()\n",
    "      encoder.fit(df[column])\n",
    "      encoders[column] = encoder\n",
    "\n",
    "  for column in encoders.keys():\n",
    "    encoder = encoders[column]\n",
    "    df[column] = encoder.transform(df[column])\n",
    "\n",
    "  return df,encoders\n",
    "\n",
    "\n",
    "# 지역별 모델링\n",
    "def modeling(full_data): # full_data는 전체 데이터의미. (data)\n",
    "\n",
    "  res_model_dict = {} # 각 지역별 모델 저장할 딕셔너리\n",
    "  res_forecasting = pd.DataFrame(columns=['REG_YYMM','CARD_SIDO_NM','STD_CLSS_NM','AMT']) # res_forecating에 각 지역별 예측결과를 누적하여 저장.\n",
    "\n",
    "  city_list = full_data['CARD_SIDO_NM'].unique() # 전체 지역 리스트\n",
    "  \n",
    "  for city in city_list : # 각 지역별로 반복함.\n",
    "    print(city) \n",
    "    sampling = full_data.query(\"CARD_SIDO_NM == @city\") # 전체 데이터에서 한 지역씩 sampling 변수에 담음\n",
    "    Nonexistent_std_clss = list( set(full_data['STD_CLSS_NM'].unique()) - set(sampling['STD_CLSS_NM'].unique())) # 각 지역별로 집계값이 0인 업종들\n",
    "    sampling,encoders = encoder_func(sampling) # 위에서 정의한 인코딩함수에 sampling을 넣어 인코딩 된 데이터와 인코더 객체를 반환받음\n",
    "\n",
    "    train_num = sampling.copy()\n",
    "    train_features = train_num.drop(['CARD_SIDO_NM','AMT'],axis=1) # features # 각 지역별로 진행하기 때문에 CARD_SIDO_NM은 제외함.\n",
    "    train_target = np.log1p(train_num['AMT']) # target\n",
    "\n",
    "    model = RandomForestRegressor(n_jobs=-1,random_state=42) # model 선언 \n",
    "    model.fit(train_features, train_target) # 학습\n",
    "\n",
    "    res_model_dict['model_'+city] = model # 학습 된 모델을 res_model 딕셔너리에 저장\n",
    "\n",
    "    ## 템플릿 생성 부분\n",
    "    ## 각 지역별로 진행하기 때문에 CARD_SIDO_NM은 제외함.\n",
    "    year_temp = [2020]\n",
    "    month_temp = [7]\n",
    "    STD_CLSS_NM_temp = sampling['STD_CLSS_NM'].unique()\n",
    "    HOM_SIDO_NM_temp = sampling['HOM_SIDO_NM'].unique()\n",
    "    AGE_temp = sampling['AGE'].unique()\n",
    "    SEX_1_temp = sampling['SEX_1'].unique()\n",
    "    SEX_2_temp = sampling['SEX_2'].unique()\n",
    "    FLC_temp = sampling['FLC'].unique()\n",
    "    # local_nlocal_temp = sampling['local_nlocal'].unique() # 이외에 변수 추가시 같은 방법으로 추가해주면 됨\n",
    "    comb_list = [year_temp, month_temp, STD_CLSS_NM_temp, HOM_SIDO_NM_temp, AGE_temp, SEX_1_temp, SEX_2_temp, FLC_temp] # local_nlocal_temp\n",
    "    forecasting_temp = np.array(list(product(*comb_list)))\n",
    "    forecasting_temp = pd.DataFrame(data=forecasting_temp, columns=train_features.columns) # 예측 템플릿 완성\n",
    "\n",
    "    pred = model.predict(forecasting_temp) # 예측\n",
    "    pred = np.expm1(pred)\n",
    "    forecasting_temp['AMT'] = np.round(pred, 0) \n",
    "    forecasting_temp['REG_YYMM'] = forecasting_temp['year']*100 + forecasting_temp['month']\n",
    "    forecasting_temp = forecasting_temp[['REG_YYMM','STD_CLSS_NM', 'AMT']]\n",
    "    forecasting_temp.insert(1,'CARD_SIDO_NM',city) # 첫번째 열에 \"CARD_SIDO_NM\"이라는 열을 추가함 값은 해당 지역이름임\n",
    "    forecasting_temp = forecasting_temp.groupby(['REG_YYMM', 'CARD_SIDO_NM', 'STD_CLSS_NM']).sum().reset_index(drop=False) # 지역별,업종별 월간 사용금액 합계\n",
    "    forecasting_temp['STD_CLSS_NM'] = encoders['STD_CLSS_NM'].inverse_transform(forecasting_temp['STD_CLSS_NM']) # STD_CLSS_NM inverse encoding\n",
    "    \n",
    "    ## 각 지역별로 집계값이 0인 업종들이 있음\n",
    "    ## submission에서는 이 업종들도 포함해서 제출해야 하기 때문에 0으로 때려넣을것임\n",
    "    for clss in Nonexistent_std_clss:\n",
    "      mm = [202007]\n",
    "      tmp = pd.DataFrame([[ mm,city,clss,0 ]],columns=forecasting_temp.columns)\n",
    "      forecasting_temp = pd.concat([forecasting_temp,tmp]) # forecasting_temp에 concat\n",
    "    \n",
    "    res_forecasting = pd.concat([res_forecasting,forecasting_temp]) # res_forecasting에 지역별 예측완료 된 값들을 누적하여 저장\n",
    "    \n",
    "  return res_model_dict,res_forecasting # 지역별 모델 딕셔너리, 최종 예측값 반환\n",
    "\n",
    "res_model_dict,res_forecasting = modeling(data) # 실행\n"
   ]
  },
  {
   "cell_type": "code",
   "execution_count": null,
   "metadata": {
    "colab": {},
    "colab_type": "code",
    "id": "pMRvwhrrJAyD"
   },
   "outputs": [],
   "source": []
  }
 ],
 "metadata": {
  "accelerator": "GPU",
  "colab": {
   "authorship_tag": "ABX9TyPqGHJyoaczA4xUS325ufS+",
   "collapsed_sections": [],
   "include_colab_link": true,
   "name": "main_modeling2.ipynb",
   "provenance": []
  },
  "hide_input": false,
  "kernelspec": {
   "display_name": "Python 3",
   "language": "python",
   "name": "python3"
  },
  "language_info": {
   "codemirror_mode": {
    "name": "ipython",
    "version": 3
   },
   "file_extension": ".py",
   "mimetype": "text/x-python",
   "name": "python",
   "nbconvert_exporter": "python",
   "pygments_lexer": "ipython3",
   "version": "3.7.6"
  },
  "toc": {
   "base_numbering": 1,
   "nav_menu": {},
   "number_sections": true,
   "sideBar": true,
   "skip_h1_title": false,
   "title_cell": "Table of Contents",
   "title_sidebar": "Contents",
   "toc_cell": false,
   "toc_position": {},
   "toc_section_display": true,
   "toc_window_display": false
  },
  "varInspector": {
   "cols": {
    "lenName": 16,
    "lenType": 16,
    "lenVar": 40
   },
   "kernels_config": {
    "python": {
     "delete_cmd_postfix": "",
     "delete_cmd_prefix": "del ",
     "library": "var_list.py",
     "varRefreshCmd": "print(var_dic_list())"
    },
    "r": {
     "delete_cmd_postfix": ") ",
     "delete_cmd_prefix": "rm(",
     "library": "var_list.r",
     "varRefreshCmd": "cat(var_dic_list()) "
    }
   },
   "types_to_exclude": [
    "module",
    "function",
    "builtin_function_or_method",
    "instance",
    "_Feature"
   ],
   "window_display": false
  }
 },
 "nbformat": 4,
 "nbformat_minor": 1
}
