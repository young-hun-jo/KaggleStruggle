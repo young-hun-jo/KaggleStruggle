{
 "cells": [
  {
   "cell_type": "code",
   "execution_count": 2,
   "metadata": {},
   "outputs": [],
   "source": [
    "import os\n",
    "os.chdir('../../data')"
   ]
  },
  {
   "cell_type": "code",
   "execution_count": 3,
   "metadata": {},
   "outputs": [
    {
     "name": "stdout",
     "output_type": "stream",
     "text": [
      "categorical_encoding.csv  final_data.csv            \u001b[34msf-crime\u001b[m\u001b[m/\r\n",
      "encoded_data.csv          kangwon.csv               submission1.csv\r\n"
     ]
    }
   ],
   "source": [
    "ls"
   ]
  },
  {
   "cell_type": "code",
   "execution_count": 4,
   "metadata": {},
   "outputs": [
    {
     "data": {
      "text/plain": [
       "(24697792, 12)"
      ]
     },
     "execution_count": 4,
     "metadata": {},
     "output_type": "execute_result"
    }
   ],
   "source": [
    "import pandas as pd\n",
    "import numpy as np\n",
    "\n",
    "data = pd.read_csv('encoded_data.csv', encoding='utf-8')\n",
    "data.shape"
   ]
  },
  {
   "cell_type": "code",
   "execution_count": 5,
   "metadata": {},
   "outputs": [],
   "source": [
    "data['날짜'] = data['날짜'].astype(str)"
   ]
  },
  {
   "cell_type": "code",
   "execution_count": 6,
   "metadata": {},
   "outputs": [],
   "source": [
    "data['연도'] = data['날짜'].str[:4]\n",
    "data['월'] = data['날짜'].str[4:]\n",
    "del data['날짜']"
   ]
  },
  {
   "cell_type": "code",
   "execution_count": 7,
   "metadata": {},
   "outputs": [],
   "source": [
    "data['연도'] = data['연도'].astype(int)\n",
    "data['월'] = data['월'].astype(int)"
   ]
  },
  {
   "cell_type": "code",
   "execution_count": 8,
   "metadata": {},
   "outputs": [
    {
     "data": {
      "text/html": [
       "<div>\n",
       "<style scoped>\n",
       "    .dataframe tbody tr th:only-of-type {\n",
       "        vertical-align: middle;\n",
       "    }\n",
       "\n",
       "    .dataframe tbody tr th {\n",
       "        vertical-align: top;\n",
       "    }\n",
       "\n",
       "    .dataframe thead th {\n",
       "        text-align: right;\n",
       "    }\n",
       "</style>\n",
       "<table border=\"1\" class=\"dataframe\">\n",
       "  <thead>\n",
       "    <tr style=\"text-align: right;\">\n",
       "      <th></th>\n",
       "      <th>가맹점주소</th>\n",
       "      <th>가맹점업종_이름</th>\n",
       "      <th>가맹점업종</th>\n",
       "      <th>사용자거주시도</th>\n",
       "      <th>연령대</th>\n",
       "      <th>가구생애주기</th>\n",
       "      <th>카드사용인원수(환불사용자포함)</th>\n",
       "      <th>카드사용건수(환불사용자제외)</th>\n",
       "      <th>카드사용금액</th>\n",
       "      <th>남자</th>\n",
       "      <th>여자</th>\n",
       "      <th>연도</th>\n",
       "      <th>월</th>\n",
       "    </tr>\n",
       "  </thead>\n",
       "  <tbody>\n",
       "    <tr>\n",
       "      <th>0</th>\n",
       "      <td>강원</td>\n",
       "      <td>건강보조식품 소매업</td>\n",
       "      <td>0.000115</td>\n",
       "      <td>0.7577</td>\n",
       "      <td>0.09523</td>\n",
       "      <td>0.0961</td>\n",
       "      <td>4</td>\n",
       "      <td>4</td>\n",
       "      <td>311200</td>\n",
       "      <td>1</td>\n",
       "      <td>0</td>\n",
       "      <td>2019</td>\n",
       "      <td>1</td>\n",
       "    </tr>\n",
       "  </tbody>\n",
       "</table>\n",
       "</div>"
      ],
      "text/plain": [
       "  가맹점주소    가맹점업종_이름     가맹점업종  사용자거주시도      연령대  가구생애주기  카드사용인원수(환불사용자포함)  \\\n",
       "0    강원  건강보조식품 소매업  0.000115   0.7577  0.09523  0.0961                 4   \n",
       "\n",
       "   카드사용건수(환불사용자제외)  카드사용금액  남자  여자    연도  월  \n",
       "0                4  311200   1   0  2019  1  "
      ]
     },
     "execution_count": 8,
     "metadata": {},
     "output_type": "execute_result"
    }
   ],
   "source": [
    "data.head(1)"
   ]
  },
  {
   "cell_type": "code",
   "execution_count": 9,
   "metadata": {},
   "outputs": [
    {
     "name": "stdout",
     "output_type": "stream",
     "text": [
      "['가맹점업종_이름', '가맹점업종', '사용자거주시도', '연령대', '가구생애주기', '카드사용인원수(환불사용자포함)', '카드사용건수(환불사용자제외)', '남자', '여자', '연도', '월']\n"
     ]
    }
   ],
   "source": [
    "temp_cols = data.columns.tolist()\n",
    "temp_cols.remove('가맹점주소')\n",
    "temp_cols.remove('카드사용금액')\n",
    "print(temp_cols)"
   ]
  },
  {
   "cell_type": "code",
   "execution_count": null,
   "metadata": {},
   "outputs": [
    {
     "name": "stdout",
     "output_type": "stream",
     "text": [
      "강원\n"
     ]
    },
    {
     "name": "stderr",
     "output_type": "stream",
     "text": [
      "/Users/younghun/opt/anaconda3/envs/venvforpython/lib/python3.7/site-packages/ipykernel_launcher.py:13: SettingWithCopyWarning: \n",
      "A value is trying to be set on a copy of a slice from a DataFrame.\n",
      "Try using .loc[row_indexer,col_indexer] = value instead\n",
      "\n",
      "See the caveats in the documentation: https://pandas.pydata.org/pandas-docs/stable/user_guide/indexing.html#returning-a-view-versus-a-copy\n",
      "  del sys.path[0]\n"
     ]
    }
   ],
   "source": [
    "from sklearn.preprocessing import LabelEncoder\n",
    "from sklearn.neural_network import MLPRegressor\n",
    "from itertools import product\n",
    "\n",
    "def encoder_func(df):\n",
    "    encoders = {}\n",
    "    cols = ['가맹점주소', '가맹점업종_이름']\n",
    "    for col in cols:\n",
    "        encoder = LabelEncoder()\n",
    "        encoders[col] = encoder\n",
    "    for column in encoders.keys():\n",
    "        encoder = encoders[column]\n",
    "        df[column] = encoder.fit_transform(df[column])\n",
    "    # 인코딩된 df이랑 칼럼별 인코더 담고있는 dict객체반환(추후에 inverse용)\n",
    "    return df, encoders\n",
    "        \n",
    "\n",
    "# 지역별 모델링 반복 돌리기\n",
    "region_model_dict = {}\n",
    "region_forecasting = pd.DataFrame(columns=['날짜','가맹점주소',\n",
    "                                          '가맹점업종_이름','카드사용금액'])\n",
    "\n",
    "city_lists = data['가맹점주소'].unique()\n",
    "\n",
    "for city in city_lists:\n",
    "    # 지역별로 모델링 되는지 체크용 출력\n",
    "    print(city)\n",
    "    # 지역별로 샘플링해서 하나의 데이터프레임으로 할당\n",
    "    sampling = data.query('가맹점주소 == @city')\n",
    "    \n",
    "    # 지역별로 주어진 기간내에 존재하지 않았던 업종별 따로 리스트로 담기\n",
    "    none_upjong = list( set(data['가맹점업종_이름'].unique()) - set(sampling['가맹점업종_이름'].unique()) )\n",
    "    \n",
    "    # 샘플링된 지역별 데이터프레임에 '가맹점주소'랑 '가맹점업종_이름' 인코딩 시키기\n",
    "    sampling, encoders = encoder_func(sampling)\n",
    "    \n",
    "    ### train data는 일부 데이터만 활용--->생각해보자..\n",
    "    train_num = sampling.sample(frac=1, random_state=42)\n",
    "    # 지역별로 모델링하니까 '가맹점주소'도 지워주기, '날짜'도 지워줘야 할까..!?\n",
    "    train_x = train_num.drop(['연도','월','가맹점주소','카드사용금액'],\n",
    "                            axis=1)\n",
    "    train_y = np.log1p(train_num['카드사용금액'])\n",
    "    \n",
    "    model = MLPRegressor()\n",
    "    model.fit(train_x, train_y)\n",
    "    # 학습된 모델 region_model_dict에다가 담기\n",
    "    region_model_dict[city+' model'] = model\n",
    "    \n",
    "    # 예측 탬플릿 생성\n",
    "    year_temp = [2020]\n",
    "    month_temp = [4,7]\n",
    "    upjong_temp = sampling['가맹점업종_이름'].unique()\n",
    "    upjong_w_temp = sampling['가맹점업종'].unique()\n",
    "    home_temp = sampling['사용자거주시도'].unique()\n",
    "    age_temp = sampling['연령대'].unique()\n",
    "    cycle_temp = sampling['가구생애주기'].unique()\n",
    "    usage_temp = sampling['카드사용인원수(환불사용자포함)'].unique()\n",
    "    usage2_temp = sampling['카드사용건수(환불사용자제외)'].unique()\n",
    "    male_temp = sampling['남자'].unique()\n",
    "    female_temp = sampling['여자'].unique()\n",
    "    \n",
    "    comb_list = [upjong_temp, upjong_w_temp, home_temp, age_temp,\n",
    "                cycle_temp, usage_temp, usage2_temp, male_temp,\n",
    "                female_temp, year_temp, month_temp]\n",
    "    \n",
    "    forecasting_temp = np.array(list(product(*comb_list)))\n",
    "    forecasting_temp = pd.DataFrame(data=forecasting_temp,\n",
    "                                   columns=temp_cols)\n",
    "    \n",
    "    pred = model.predict(forecasting_temp)\n",
    "    pred = np.expm1(pred)\n",
    "    forecasting_temp['예측금액'] = np.round(pred, 0)\n",
    "    forecasting_temp['날짜'] = forecasting_temp['연도']*100 + forecasting_temp['월']\n",
    "    forecasting_temp = forecasting_temp[['날짜', '가맹점업종_이름',\n",
    "                                        '카드사용금액']]\n",
    "    # 첫번째 column 자리에다가 '가맹점주소' 이름으로 city 값들 추가\n",
    "    forecasting_temp.insert(1, '가맹점주소', city)\n",
    "    # 날짜, 지역, 업종별로 사용금액 합계 집계하기\n",
    "    forecasting_temp = forecasting_temp.groupby(['날짜','가맹점주소',\n",
    "                                                '가맹점업종_이름']).sum().reset_index(drop=False)\n",
    "    forecasting_temp['가맹점업종_이름'] = encoders['가맹점업종_이름'].inverse_transform(forecasting_temp['가맹점업종_이름'])\n",
    "    \n",
    "    # 지역별로 존재하지 않았던 업종들 0으로 넣기\n",
    "    for none in none_upjong:\n",
    "        for i in range(2):\n",
    "            date = [202004, 202007]\n",
    "            tmp = pd.DataFrame([[date[i], city, none, 0]],\n",
    "                              columns=forecasting_temp.columns)\n",
    "            forecasting_temp = pd.concat([forecasting_temp, tmp],\n",
    "                                        axis=0)\n",
    "    \n",
    "    region_forecasting = pd.concat([region_forecasting,\n",
    "                                forecasting_temp], axis=0)\n",
    "# 지역별 모델담은 dict 출력\n",
    "print(region_model_dict)    "
   ]
  },
  {
   "cell_type": "code",
   "execution_count": null,
   "metadata": {},
   "outputs": [],
   "source": []
  }
 ],
 "metadata": {
  "hide_input": false,
  "kernelspec": {
   "display_name": "Python 3",
   "language": "python",
   "name": "python3"
  },
  "language_info": {
   "codemirror_mode": {
    "name": "ipython",
    "version": 3
   },
   "file_extension": ".py",
   "mimetype": "text/x-python",
   "name": "python",
   "nbconvert_exporter": "python",
   "pygments_lexer": "ipython3",
   "version": "3.7.7"
  },
  "toc": {
   "base_numbering": 1,
   "nav_menu": {},
   "number_sections": true,
   "sideBar": true,
   "skip_h1_title": false,
   "title_cell": "Table of Contents",
   "title_sidebar": "Contents",
   "toc_cell": false,
   "toc_position": {},
   "toc_section_display": true,
   "toc_window_display": false
  },
  "varInspector": {
   "cols": {
    "lenName": 16,
    "lenType": 16,
    "lenVar": 40
   },
   "kernels_config": {
    "python": {
     "delete_cmd_postfix": "",
     "delete_cmd_prefix": "del ",
     "library": "var_list.py",
     "varRefreshCmd": "print(var_dic_list())"
    },
    "r": {
     "delete_cmd_postfix": ") ",
     "delete_cmd_prefix": "rm(",
     "library": "var_list.r",
     "varRefreshCmd": "cat(var_dic_list()) "
    }
   },
   "types_to_exclude": [
    "module",
    "function",
    "builtin_function_or_method",
    "instance",
    "_Feature"
   ],
   "window_display": false
  }
 },
 "nbformat": 4,
 "nbformat_minor": 4
}
