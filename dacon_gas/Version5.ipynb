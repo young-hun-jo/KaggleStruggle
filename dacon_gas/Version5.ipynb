{
 "cells": [
  {
   "cell_type": "markdown",
   "id": "alleged-cooking",
   "metadata": {
    "toc": true
   },
   "source": [
    "<h1>Table of Contents<span class=\"tocSkip\"></span></h1>\n",
    "<div class=\"toc\"><ul class=\"toc-item\"><li><span><a href=\"#현재-상태\" data-toc-modified-id=\"현재-상태-1\"><span class=\"toc-item-num\">1&nbsp;&nbsp;</span>현재 상태</a></span></li><li><span><a href=\"#MLP-Regressor로-모델링-시도\" data-toc-modified-id=\"MLP-Regressor로-모델링-시도-2\"><span class=\"toc-item-num\">2&nbsp;&nbsp;</span>MLP Regressor로 모델링 시도</a></span><ul class=\"toc-item\"><li><span><a href=\"#구분-유형으로-나누어서-MLP-Regressor\" data-toc-modified-id=\"구분-유형으로-나누어서-MLP-Regressor-2.1\"><span class=\"toc-item-num\">2.1&nbsp;&nbsp;</span>구분 유형으로 나누어서 MLP Regressor</a></span></li></ul></li><li><span><a href=\"#PCA로-차원축소\" data-toc-modified-id=\"PCA로-차원축소-3\"><span class=\"toc-item-num\">3&nbsp;&nbsp;</span>PCA로 차원축소</a></span><ul class=\"toc-item\"><li><span><a href=\"#적절한-주성분-개수-설정\" data-toc-modified-id=\"적절한-주성분-개수-설정-3.1\"><span class=\"toc-item-num\">3.1&nbsp;&nbsp;</span>적절한 주성분 개수 설정</a></span></li><li><span><a href=\"#PCA-수행후-모델-성능-재점검\" data-toc-modified-id=\"PCA-수행후-모델-성능-재점검-3.2\"><span class=\"toc-item-num\">3.2&nbsp;&nbsp;</span>PCA 수행후 모델 성능 재점검</a></span></li></ul></li><li><span><a href=\"#MLP-Regressor\" data-toc-modified-id=\"MLP-Regressor-4\"><span class=\"toc-item-num\">4&nbsp;&nbsp;</span>MLP Regressor</a></span></li></ul></div>"
   ]
  },
  {
   "cell_type": "markdown",
   "id": "massive-headline",
   "metadata": {},
   "source": [
    "### 현재 상태"
   ]
  },
  {
   "cell_type": "code",
   "execution_count": 1,
   "id": "numeric-marine",
   "metadata": {},
   "outputs": [],
   "source": [
    "import pandas as pd\n",
    "import numpy as np\n",
    "import os\n",
    "from tqdm import tqdm\n",
    "import pymysql\n",
    "import warnings\n",
    "warnings.filterwarnings(action='ignore')\n",
    "\n",
    "def get_NMAE(true, pred):\n",
    "    mae = np.abs(true-pred)/true\n",
    "    nmae = round(np.mean(mae), 3)\n",
    "    return nmae\n",
    "\n",
    "def load_datasets(path) -> pd.DataFrame:\n",
    "    train = pd.read_csv(os.path.join(path, '한국가스공사_시간별 공급량_20181231.csv'),\n",
    "                        encoding='cp949')\n",
    "    test = pd.read_csv(os.path.join(path, 'test.csv'))\n",
    "    # test 데이터 전처리\n",
    "    test['연월일'] = test['일자|시간|구분'].str.split(' ', expand=True)[0]\n",
    "    test['시간'] = test['일자|시간|구분'].str.split(' ', expand=True)[1].astype(int)\n",
    "    test['구분'] = test['일자|시간|구분'].str.split(' ', expand=True)[2]\n",
    "    del test['일자|시간|구분']\n",
    "\n",
    "    data = pd.concat([train, test], axis=0)\n",
    "    data['연월일'] = pd.to_datetime(data['연월일'])\n",
    "    return data\n",
    "\n",
    "def load_weather() -> pd.DataFrame:\n",
    "    db = pymysql.connect(host='localhost', port=3306, user='younghun', password='watson1259',\n",
    "                        db='dacon_gas_weather_db', charset='utf8')\n",
    "    cursor = db.cursor()\n",
    "    sql = \"SELECT datetime, avg_temp, min_temp, max_temp,\\\n",
    "              NULLIF(sum_rain, '') as sum_rain, avg_wind, avg_humid,\\\n",
    "              sum_gsr, NULLIF(ddmefs, '') as ddmefs, avg_ts \\\n",
    "              FROM weather ORDER BY datetime\"\n",
    "    \n",
    "    weather = pd.read_sql(sql, db)\n",
    "    weather = weather.fillna(0.)\n",
    "    \n",
    "    return weather\n",
    "    \n",
    "def merge_gas_weather(path):\n",
    "    gas = load_datasets(path)\n",
    "    weather = load_weather()\n",
    "    gas_weather = gas.merge(weather, how='left', left_on='연월일', right_on='datetime')\n",
    "    del gas_weather['datetime']\n",
    "    \n",
    "    return gas_weather\n",
    "\n",
    "def make_datetime_vars(data) -> pd.DataFrame:\n",
    "    data['year'] = data['연월일'].dt.year\n",
    "    data['month'] = data['연월일'].dt.month\n",
    "    data['day'] = data['연월일'].dt.day\n",
    "    #data['week_no'] = data['연월일'].dt.strftime(\"%V\").astype(int)\n",
    "    data['dayofweek'] = data['연월일'].dt.dayofweek\n",
    "    data['weekend_yn'] = np.where(data['dayofweek'].isin(['Saturday', 'Sunday']), 1, 0)\n",
    "    #data['dayofyear'] = data['연월일'].dt.dayofyear\n",
    "\n",
    "    return data\n",
    "\n",
    "\n",
    "def change_dates(row):\n",
    "    if row['시간'] == 24:\n",
    "        row['연월일'] += pd.DateOffset(days=1)\n",
    "        row['시간'] = 0\n",
    "    return row\n",
    "\n",
    "\n",
    "def change_pandas_date_format(df):\n",
    "    \"\"\" 연월일 날짜 포맷 바꾸기\"\"\"\n",
    "    df = df.apply(change_dates, axis=1)\n",
    "    df['시간'] = df['시간'].apply(lambda x: str(x) if x >= 10 else '0' + str(x))\n",
    "    df['연월일'] = df['연월일'].astype(str)\n",
    "    df['datetime'] = df['연월일'] + ' ' + df['시간']\n",
    "    df['datetime'] = pd.to_datetime(df['datetime'], format='%Y-%m-%d %H')\n",
    "\n",
    "    df['prev_datetime'] = df['datetime'] - pd.DateOffset(years=1)\n",
    "\n",
    "    return df\n",
    "\n",
    "\n",
    "def make_autocorr_vars(df, gubun='A'):\n",
    "    sub_df = df[df['구분'] == gubun]\n",
    "    # 일년 전 그 시간대 공급량\n",
    "    sub_df['prev_year_공급량'] = sub_df.groupby([sub_df['datetime'].dt.month, sub_df['datetime'].dt.day,\n",
    "                                          sub_df['datetime'].dt.hour])['공급량'].shift()\n",
    "#     # 이년 전 공급량 파생변수 생성\n",
    "#     sub_df['prev_two_year_공급량'] = sub_df.groupby([sub_df['datetime'].dt.month, sub_df['datetime'].dt.day,\n",
    "#                                               sub_df['datetime'].dt.hour])['공급량'].shift(2)\n",
    "    #===============\n",
    "    #일년 전 평균 공급량\n",
    "    #===============\n",
    "    sub_df['prev_year'] = sub_df['prev_datetime'].dt.year\n",
    "    prev_year_mean_df = sub_df.groupby([sub_df['datetime'].dt.year])['공급량'].mean()\n",
    "    prev_year_mean_dict = dict(zip(prev_year_mean_df.index, prev_year_mean_df.values.reshape(-1, )))\n",
    "    sub_df['prev_year_avg_공급량'] = sub_df['prev_year'].map(prev_year_mean_dict)\n",
    "    #====================\n",
    "    # 일년 전 월별 평균 공급량\n",
    "    #====================\n",
    "    prev_month_mean_df = sub_df.groupby([sub_df['datetime'].dt.year, sub_df['datetime'].dt.month])['공급량'].mean()\n",
    "    prev_month_mean_dict = dict(zip(prev_month_mean_df.index, prev_month_mean_df.values.reshape(-1, )))\n",
    "    sub_df['prev_year_month'] = tuple(zip(sub_df['prev_year'].values.reshape(-1, ),\n",
    "                                        sub_df['prev_datetime'].dt.month.values.reshape(-1, )))\n",
    "    sub_df['prev_month_avg_공급량'] = sub_df['prev_year_month'].map(prev_month_mean_dict)\n",
    "    #=======================\n",
    "    # 일년 전 월-일자별 평균 공급량\n",
    "    #=======================\n",
    "    prev_month_day_mean_df = sub_df.groupby([sub_df['datetime'].dt.year,\n",
    "                                           sub_df['datetime'].dt.month,\n",
    "                                           sub_df['datetime'].dt.day])['공급량'].mean()\n",
    "    prev_month_day_mean_dict = dict(zip(prev_month_day_mean_df.index, prev_month_day_mean_df.values.reshape(-1, )))\n",
    "\n",
    "    sub_df['prev_year_month_day'] = tuple(zip(sub_df['prev_year'].values.reshape(-1, ),\n",
    "                                            sub_df['prev_datetime'].dt.month.values.reshape(-1, ),\n",
    "                                            sub_df['prev_datetime'].dt.day.values.reshape(-1, )))\n",
    "    sub_df['prev_month_day_avg_공급량'] = sub_df['prev_year_month_day'].map(prev_month_day_mean_dict)\n",
    "    #========================\n",
    "    # 일년 전 월-시간 별 평균 공급량\n",
    "    #========================\n",
    "    prev_month_hour_mean_df = sub_df.groupby([sub_df['datetime'].dt.year,\n",
    "                                            sub_df['datetime'].dt.month,\n",
    "                                            sub_df['datetime'].dt.hour])['공급량'].mean()\n",
    "    prev_month_hour_mean_dict = dict(zip(prev_month_hour_mean_df.index, prev_month_hour_mean_df.values.reshape(-1, )))\n",
    "\n",
    "    sub_df['prev_year_month_hour'] = tuple(zip(sub_df['prev_year'].values.reshape(-1, ),\n",
    "                                             sub_df['prev_datetime'].dt.month.values.reshape(-1, ),\n",
    "                                             sub_df['prev_datetime'].dt.hour.values.reshape(-1, )))\n",
    "    sub_df['prev_month_hour_avg_공급량'] = sub_df['prev_year_month_hour'].map(prev_month_hour_mean_dict)\n",
    "    #==============\n",
    "    # 증가율 변수 생성\n",
    "    #==============\n",
    "    sub_df['prev_year_ratio'] = (sub_df['prev_year_공급량']-sub_df['prev_year_avg_공급량'])/sub_df['prev_year_avg_공급량']\n",
    "    sub_df['prev_month_ratio'] = (sub_df['prev_year_공급량']-sub_df['prev_month_avg_공급량'])/sub_df['prev_month_avg_공급량']\n",
    "    sub_df['prev_month_day_ratio'] = (sub_df['prev_year_공급량']-sub_df['prev_month_day_avg_공급량'])/sub_df['prev_month_day_avg_공급량']\n",
    "    sub_df['prev_month_hour_ratio'] = (sub_df['prev_year_공급량']-sub_df['prev_month_hour_avg_공급량'])/sub_df['prev_month_hour_avg_공급량']\n",
    "    #========================\n",
    "    # 일년 전 그 날의 기상 변수 FE\n",
    "    #========================\n",
    "    weather_cols = ['avg_temp','min_temp','max_temp','sum_rain','avg_wind','avg_humid','sum_gsr','ddmefs','avg_ts']\n",
    "    for col in weather_cols:\n",
    "        sub_df[f'prev_year_{col}'] = sub_df.groupby([sub_df['datetime'].dt.month, sub_df['datetime'].dt.day,\n",
    "                                                  sub_df['datetime'].dt.hour])[col].shift()\n",
    "        sub_df[f'prev_year_{col}'] = pd.to_numeric(sub_df[f'prev_year_{col}'], downcast=\"float\")\n",
    "    #================\n",
    "    # 필요한 칼럼들만 추출\n",
    "    #================\n",
    "    used_cols = ['연월일', '시간', '구분', 'datetime',\n",
    "#                  'year', 'month', 'day', 'week_no','dayofweek','weekend_yn',\n",
    "                 'prev_year_공급량', 'prev_year_avg_공급량','prev_month_avg_공급량', 'prev_month_day_avg_공급량', 'prev_month_hour_avg_공급량',\n",
    "                 'prev_year_ratio','prev_month_ratio','prev_month_day_ratio','prev_month_hour_ratio']\n",
    "    #weather_cols = [f'prev_year_{col}' for col in weather_cols]\n",
    "    #used_cols += weather_cols + ['공급량']\n",
    "    used_cols += ['공급량']\n",
    "    sub_df = sub_df[used_cols]\n",
    "    \n",
    "    return sub_df\n",
    "\n",
    "\n",
    "def fe_autocorr_vars(df):\n",
    "    final_df = pd.DataFrame()\n",
    "    gubun_cols = ['A','B','C','D','E','G','H']\n",
    "    for gubun in tqdm(gubun_cols):\n",
    "        sub_df = make_autocorr_vars(df, gubun=gubun)\n",
    "        final_df = pd.concat([final_df, sub_df], axis=0)\n",
    "    # 제거할 칼럼들\n",
    "    final_df = final_df.drop(['prev_year_avg_공급량', 'prev_month_hour_ratio'], axis=1)\n",
    "    return final_df\n",
    "\n",
    "def change_dates_adversely(row):\n",
    "    if row['datetime'].hour == 0:\n",
    "        row['연월일'] -= pd.DateOffset(days=1)\n",
    "        row['시간'] = 24\n",
    "    return row\n",
    "\n",
    "def change_date_format(df):\n",
    "    df['연월일'] = pd.to_datetime(df['연월일'])\n",
    "    df['시간'] = df['시간'].astype(int)\n",
    "    df = df.apply(change_dates_adversely, axis=1)\n",
    "    \n",
    "    del df['datetime']\n",
    "    \n",
    "    return df\n",
    "\n",
    "\n",
    "# 추가 FE 하는 함수 -> 2018년까지의 평균값을 2019년에 집어넣어야 함!\n",
    "def fe_avg_vars(final_df):\n",
    "    main_df = pd.DataFrame()\n",
    "    cols = ['A', 'B', 'C', 'D', 'E', 'G', 'H']\n",
    "    for gubun in tqdm(cols):\n",
    "        sub_df = final_df[final_df['구분'] == gubun]\n",
    "        ## 단, FE 계산 때는 2018년까지의 Train 데이터만 사용, FE 적용은 Train, Test 모두에 적용\n",
    "        #===============\n",
    "        # 1.월별 평균 공급량\n",
    "        #===============\n",
    "        fe_df = sub_df[sub_df['연월일'].dt.year < 2019]\n",
    "        group = fe_df.groupby([fe_df['연월일'].dt.month]).agg({'공급량':'mean'}) # Train만 사용\n",
    "        month_avg_dict = dict(zip(group.index, group.values.reshape(-1,)))\n",
    "        sub_df['month_avg'] = sub_df['연월일'].dt.month.map(month_avg_dict)    # Train, Test에 모두 적용\n",
    "        #==================\n",
    "        # 2. 월-일별 평균 공급량\n",
    "        #==================\n",
    "        group = fe_df.groupby([fe_df['연월일'].dt.month, fe_df['연월일'].dt.day]).agg({'공급량':'mean'})\n",
    "        group_dict1 = dict(zip(group.index, group.values.reshape(-1,)))\n",
    "        # 임시 변수 생성\n",
    "        sub_df['month-day_tuple'] = tuple(zip(sub_df['연월일'].dt.month.values.reshape(-1,),\n",
    "                                              sub_df['연월일'].dt.day.values.reshape(-1,)))\n",
    "        # 임시 변수 기반으로 group_dict 매핑\n",
    "        sub_df['month_day_avg'] = sub_df['month-day_tuple'].map(group_dict1)\n",
    "        del sub_df['month-day_tuple']\n",
    "        #======================\n",
    "        # 3. 월-일-시간별 평균 공급량\n",
    "        #======================\n",
    "        group = fe_df.groupby([fe_df['연월일'].dt.month, fe_df['연월일'].dt.day, fe_df['시간']])\\\n",
    "                     .agg({'공급량': 'mean'})\n",
    "        group_dict2 = dict(zip(group.index, group.values.reshape(-1,)))\n",
    "        # 임시 변수 생성\n",
    "        sub_df['month-day-hr_tuple'] = tuple(zip(sub_df['연월일'].dt.month.values.reshape(-1,),\n",
    "                                                  sub_df['연월일'].dt.day.values.reshape(-1,),\n",
    "                                                  sub_df['시간'].values.reshape(-1,)))\n",
    "        # 임시 변수 기반으로 group_dict 매핑\n",
    "        sub_df['month_day_hr_avg'] = sub_df['month-day-hr_tuple'].map(group_dict2)\n",
    "        del sub_df['month-day-hr_tuple']\n",
    "        #=========================================\n",
    "        # 3. 월별 평균 공급량 대비 월-일별 평균 공급량 증감률\n",
    "        #=========================================\n",
    "        sub_df['month_month-day_ratio'] = (sub_df['month_day_avg']-sub_df['month_avg'])/sub_df['month_avg']\n",
    "        #=============================================\n",
    "        # 4. 월별 평균 공급량 대비 월-일-시간별 평균 공급량 증감률\n",
    "        #=============================================\n",
    "        sub_df['month_month-day-hr_ratio'] = (sub_df['month_day_hr_avg']-sub_df['month_avg'])/sub_df['month_avg']\n",
    "        #===============================================\n",
    "        # 5. 월-일별 평균 공급량 대비 월-일-시간별 평균 공급량 증감률\n",
    "        #===============================================\n",
    "        sub_df['month-day_month-day-hr_ratio'] = (sub_df['month_day_hr_avg']-sub_df['month_day_avg'])/sub_df['month_day_avg']\n",
    "        \n",
    "        \n",
    "        # sub_df를 main_df에 결합\n",
    "        main_df = pd.concat([main_df, sub_df], axis=0)\n",
    "    \n",
    "    # 칼럼 순서 맞추기\n",
    "    cols_order = main_df.columns.tolist()\n",
    "    cols_order.remove('공급량')\n",
    "    cols_order.insert(len(cols_order), '공급량')\n",
    "    main_df = main_df[cols_order]\n",
    "        \n",
    "    return main_df"
   ]
  },
  {
   "cell_type": "code",
   "execution_count": 2,
   "id": "protecting-approach",
   "metadata": {},
   "outputs": [
    {
     "name": "stderr",
     "output_type": "stream",
     "text": [
      "100%|██████████| 7/7 [00:06<00:00,  1.08it/s]\n",
      "100%|██████████| 7/7 [00:02<00:00,  2.88it/s]"
     ]
    },
    {
     "name": "stdout",
     "output_type": "stream",
     "text": [
      "(383208, 17)\n"
     ]
    },
    {
     "name": "stderr",
     "output_type": "stream",
     "text": [
      "\n"
     ]
    }
   ],
   "source": [
    "path = '/Users/younghun/Desktop/gitrepo/KaggleStruggle/dacon_gas'\n",
    "gas_weather = merge_gas_weather(path)\n",
    "dataset = make_datetime_vars(gas_weather)\n",
    "dataset = change_pandas_date_format(dataset)\n",
    "dataset = fe_autocorr_vars(dataset)\n",
    "dataset = change_date_format(dataset)\n",
    "final_df = fe_avg_vars(dataset)\n",
    "final_df = final_df.reset_index(drop=True)\n",
    "\n",
    "print(final_df.shape)"
   ]
  },
  {
   "cell_type": "code",
   "execution_count": 46,
   "id": "hairy-personality",
   "metadata": {},
   "outputs": [],
   "source": [
    "from sklearn.preprocessing import MinMaxScaler\n",
    "from tqdm import tqdm\n",
    "import time\n",
    "\n",
    "def predict_scaling_ftr(final_df, model, submission_csv):\n",
    "    cols = ['A', 'B', 'C', 'D', 'E', 'G', 'H']\n",
    "    all_pred = np.array([])\n",
    "    for gubun in tgdqm(cols):\n",
    "        st = time.time()\n",
    "        sub_df = final_df[final_df['구분'] == gubun]\n",
    "        sub_df = sub_df.set_index(['연월일', '시간', '구분'])\n",
    "        idx_level = sub_df.index.get_level_values\n",
    "        \n",
    "        train = sub_df[(idx_level(0) < '2018-09-01')].fillna(method='ffill')\n",
    "        valid = sub_df[(idx_level(0) >= '2018-09-01')&(idx_level(0) <= '2018-12-31')].fillna(method='ffill')\n",
    "        \n",
    "        X_train, y_train = train.iloc[:, :-1].values, train['공급량']\n",
    "        X_valid, y_valid = valid.iloc[:, :-1].values, valid['공급량']\n",
    "        # Scaling feature\n",
    "        scaler = MinMaxScaler()\n",
    "        X_train = scaler.fit_transform(X_train)\n",
    "        X_valid = scaler.transform(X_valid)\n",
    "        # fit model\n",
    "        #model = model_dict[gubun]\n",
    "        model.fit(X_train, y_train)\n",
    "        # predict\n",
    "        train_pred = model.predict(X_train)\n",
    "        valid_pred = model.predict(X_valid)\n",
    "        # evaluate\n",
    "        train_NMAE = get_NMAE(y_train, train_pred)\n",
    "        valid_NMAE = get_NMAE(y_valid, valid_pred)\n",
    "        print(f'# 유형({gubun}) - Train NMAE: {train_NMAE: .4f}')\n",
    "        print(f'# 유형({gubun}) - Valid NMAE: {valid_NMAE: .4f}')\n",
    "        print(f'# 학습 시간: {time.time() - st: .2f}초')\n",
    "        print()\n",
    "        \n",
    "        # 다시 Train, Test로 분할\n",
    "        train = sub_df[(idx_level(0) < '2019-01-01')].fillna(method='ffill')\n",
    "        test = sub_df[(idx_level(0) >= '2019-01-01')].fillna(method='ffill')\n",
    "        \n",
    "        X_train, y_train = train.iloc[:, :-1].values, train['공급량']\n",
    "        X_test = test.iloc[:, :-1].values\n",
    "        # Scaling\n",
    "        scaler = MinMaxScaler()\n",
    "        X_train = scaler.fit_transform(X_train)\n",
    "        X_test = scaler.transform(X_test)\n",
    "        # fit model\n",
    "        #model = model_dict[gubun]\n",
    "        model.fit(X_train, y_train)\n",
    "        # predict\n",
    "        test_pred = model.predict(X_test)\n",
    "        all_pred = np.append(all_pred, test_pred)\n",
    "    submission_csv['공급량'] = all_pred\n",
    "    return submission_csv"
   ]
  },
  {
   "cell_type": "code",
   "execution_count": 115,
   "id": "certified-regulation",
   "metadata": {},
   "outputs": [
    {
     "name": "stdout",
     "output_type": "stream",
     "text": [
      "[14:44:10] WARNING: src/objective/regression_obj.cu:152: reg:linear is now deprecated in favor of reg:squarederror.\n",
      "# 유형(A) - Train NMAE:  0.1000\n",
      "# 유형(A) - Valid NMAE:  0.1400\n",
      "\n",
      "[14:44:15] WARNING: src/objective/regression_obj.cu:152: reg:linear is now deprecated in favor of reg:squarederror.\n",
      "[14:44:20] WARNING: src/objective/regression_obj.cu:152: reg:linear is now deprecated in favor of reg:squarederror.\n",
      "# 유형(B) - Train NMAE:  0.1050\n",
      "# 유형(B) - Valid NMAE:  0.1410\n",
      "\n",
      "[14:44:25] WARNING: src/objective/regression_obj.cu:152: reg:linear is now deprecated in favor of reg:squarederror.\n",
      "[14:44:30] WARNING: src/objective/regression_obj.cu:152: reg:linear is now deprecated in favor of reg:squarederror.\n",
      "# 유형(C) - Train NMAE:  0.9540\n",
      "# 유형(C) - Valid NMAE:  0.2610\n",
      "\n",
      "[14:44:35] WARNING: src/objective/regression_obj.cu:152: reg:linear is now deprecated in favor of reg:squarederror.\n",
      "[14:44:39] WARNING: src/objective/regression_obj.cu:152: reg:linear is now deprecated in favor of reg:squarederror.\n",
      "# 유형(D) - Train NMAE:  0.0990\n",
      "# 유형(D) - Valid NMAE:  0.1500\n",
      "\n",
      "[14:44:44] WARNING: src/objective/regression_obj.cu:152: reg:linear is now deprecated in favor of reg:squarederror.\n",
      "[14:44:50] WARNING: src/objective/regression_obj.cu:152: reg:linear is now deprecated in favor of reg:squarederror.\n",
      "# 유형(E) - Train NMAE:  0.0890\n",
      "# 유형(E) - Valid NMAE:  0.1440\n",
      "\n",
      "[14:44:55] WARNING: src/objective/regression_obj.cu:152: reg:linear is now deprecated in favor of reg:squarederror.\n",
      "[14:45:00] WARNING: src/objective/regression_obj.cu:152: reg:linear is now deprecated in favor of reg:squarederror.\n",
      "# 유형(G) - Train NMAE:  0.1030\n",
      "# 유형(G) - Valid NMAE:  0.1470\n",
      "\n",
      "[14:45:06] WARNING: src/objective/regression_obj.cu:152: reg:linear is now deprecated in favor of reg:squarederror.\n",
      "[14:45:11] WARNING: src/objective/regression_obj.cu:152: reg:linear is now deprecated in favor of reg:squarederror.\n",
      "# 유형(H) - Train NMAE:  0.1000\n",
      "# 유형(H) - Valid NMAE:  0.1290\n",
      "\n",
      "[14:45:16] WARNING: src/objective/regression_obj.cu:152: reg:linear is now deprecated in favor of reg:squarederror.\n"
     ]
    }
   ],
   "source": [
    "import os\n",
    "from lightgbm import LGBMRegressor\n",
    "from xgboost import XGBRegressor\n",
    "from sklearn.ensemble import VotingRegressor\n",
    "\n",
    "\n",
    "# model\n",
    "lgbm_reg = LGBMRegressor(n_estimators=100, random_state=42)\n",
    "xgb_reg = XGBRegressor(n_estimators=100, random_state=42)\n",
    "hybrid_reg = VotingRegressor([('lgbm', lgbm_reg), ('xgb', xgb_reg)])\n",
    "\n",
    "# submission csv\n",
    "dirname = '/Users/younghun/Desktop/gitrepo/KaggleStruggle/dacon_gas'\n",
    "sub_csv = pd.read_csv(os.path.join(dirname, 'sample_submission.csv'))\n",
    "\n",
    "# predict\n",
    "pred_csv = predict_scaling_ftr(final_df=final_df, model=hybrid_reg, submission_csv=sub_csv)"
   ]
  },
  {
   "cell_type": "code",
   "execution_count": 5,
   "id": "vulnerable-siemens",
   "metadata": {},
   "outputs": [],
   "source": [
    "# 일변량으로 Kats Prophet 사용\n",
    "from kats.consts import TimeSeriesData\n",
    "from kats.models.prophet import ProphetModel, ProphetParams\n",
    "\n",
    "def date_format_pandas(row):\n",
    "    if row['시간'] == 24:\n",
    "        row['연월일'] += pd.DateOffset(days=1)\n",
    "        row['시간'] = 0\n",
    "    return row\n",
    "\n",
    "def prophet(final_df, gubun):\n",
    "    gubun_df = final_df[final_df['구분'] == gubun]\n",
    "    gubun_df = gubun_df.apply(date_format_pandas, axis=1)\n",
    "    gubun_df['시간'] = gubun_df['시간'].apply(lambda x: str(x) if x >= 10 else '0'+str(x))\n",
    "    gubun_df['연월일'] = gubun_df['연월일'].astype(str)\n",
    "    gubun_df['time'] = gubun_df['연월일'] + ' ' + gubun_df['시간']\n",
    "    gubun_df['time'] = pd.to_datetime(gubun_df['time'], format='%Y-%m-%d %H')\n",
    "    \n",
    "    # Train, Valid 분할\n",
    "    train = gubun_df[gubun_df['time'] <= '2019-01-01 00:00:00']\n",
    "    test = gubun_df[(gubun_df['time'] > '2019-01-01 00:00:00')]\n",
    "    # TimeSeries 객체로 변환\n",
    "    uni_df = train[['time', '공급량']]\n",
    "    uni_ts = TimeSeriesData(uni_df)\n",
    "    # params\n",
    "    params = ProphetParams(seasonality_mode='additive')\n",
    "    # model\n",
    "    prophet = ProphetModel(uni_ts, params=params)\n",
    "    # fit\n",
    "    prophet.fit()\n",
    "    # predict\n",
    "    test_pred = prophet.predict(steps=test.shape[0], freq='H')\n",
    "    print('test_pred shape:', test_pred.shape)\n",
    "    return test_pred\n",
    "\n",
    "def merge_pred_csv_prophet_csv(final_df, pred_csv, gubun='C'):\n",
    "    \"\"\"\n",
    "    pred_csv : 일반 머신러닝 모델로 예측한 Test 데이터 결과값이 담긴 panadas.dataframe\n",
    "    test_pred : Prophet으로 특정 유형에 대해 예측한 결과값이 담긴 panadas.dataframe\n",
    "    \"\"\"\n",
    "    test_pred = prophet(final_df, gubun)\n",
    "    \n",
    "    pred_csv['일자'] = pred_csv['일자|시간|구분'].str.split(' ', expand=True)[0]\n",
    "    pred_csv['시간'] = pred_csv['일자|시간|구분'].str.split(' ', expand=True)[1]\n",
    "    pred_csv['구분'] = pred_csv['일자|시간|구분'].str.split(' ', expand=True)[2]\n",
    "    pred_csv['일자'] = pd.to_datetime(pred_csv['일자'])\n",
    "    pred_csv['시간'] = pred_csv['시간'].astype(int)\n",
    "    \n",
    "    final_csv = pred_csv[pred_csv['구분'] != gubun]\n",
    "    gubun_csv = pred_csv[pred_csv['구분'] == gubun]\n",
    "    gubun_csv['공급량'] = test_pred['fcst'].values\n",
    "    final_csv = pd.concat([final_csv, gubun_csv], axis=0)\n",
    "    columns = ['구분', '일자', '시간']\n",
    "    final_csv = final_csv.sort_values(by=columns)\n",
    "    final_csv = final_csv.drop(columns, axis=1)\n",
    "    return final_csv"
   ]
  },
  {
   "cell_type": "code",
   "execution_count": null,
   "id": "diagnostic-wealth",
   "metadata": {},
   "outputs": [],
   "source": [
    "# 특정 유형만 Prophet으로 예측하는 함수\n",
    "\n",
    "sub_csv = merge_pred_csv_prophet_csv(final_df=final_df, pred_csv=pred_csv, gubun='C')"
   ]
  },
  {
   "cell_type": "code",
   "execution_count": 123,
   "id": "secret-chase",
   "metadata": {},
   "outputs": [],
   "source": [
    "save_name = 'submission/0103False_SimulFalse_xgb+lgbm_cols-autocorr_extra_vars_MinMaxscale_exclude_datetime_C_prophet.csv'\n",
    "sub_csv.to_csv(os.path.join(dirname, save_name), index=False)"
   ]
  },
  {
   "cell_type": "markdown",
   "id": "centered-oakland",
   "metadata": {},
   "source": [
    "- 오버피팅 발생... -> 차원의 수를 줄여야 할 듯 싶다..\n",
    "- PLS, PCA 활용해서 차원 감소 후 시도\n",
    "- 딥러닝 시도\n",
    "    - MLPRegressor\n",
    "    - Tensorflow"
   ]
  },
  {
   "cell_type": "code",
   "execution_count": 7,
   "id": "improved-cylinder",
   "metadata": {},
   "outputs": [
    {
     "data": {
      "image/png": "[encoded data removed]",
      "text/plain": [
       "<Figure size 936x936 with 2 Axes>"
      ]
     },
     "metadata": {
      "needs_background": "light"
     },
     "output_type": "display_data"
    }
   ],
   "source": [
    "# 추가된 변수들 공급량과의 상관관계 살펴보기\n",
    "import matplotlib.pyplot as plt\n",
    "import seaborn as sns\n",
    "plt.rc('font', family='AppleGothic')\n",
    "\n",
    "corr_df = final_df.corr()\n",
    "mask = np.triu(corr_df)\n",
    "\n",
    "plt.figure(figsize=(13, 13))\n",
    "sns.heatmap(corr_df, annot=True, cmap='Blues', mask=mask)\n",
    "plt.show()"
   ]
  },
  {
   "cell_type": "code",
   "execution_count": 4,
   "id": "veterinary-filling",
   "metadata": {},
   "outputs": [],
   "source": [
    "# 가장 성능 좋았던(0.126)의 변수들 정의\n",
    "best_cols = ['연월일', '시간', '구분', 'prev_year_공급량', 'prev_month_avg_공급량', 'prev_month_day_avg_공급량',\n",
    "            'prev_month_hour_avg_공급량', 'prev_year_ratio', 'prev_month_ratio', 'prev_month_day_ratio',\n",
    "            '공급량']\n",
    "cond2014 = (final_df['연월일'].dt.year > 2013)\n",
    "\n",
    "final_df = final_df[cond2014]"
   ]
  },
  {
   "cell_type": "markdown",
   "id": "synthetic-certification",
   "metadata": {},
   "source": [
    "### MLP Regressor로 모델링 시도\n",
    "- 기본적으로 딥러닝은 비선형으로 이루어진 데이터에 대해 적합..\n",
    "- 기본적으로 딥러닝은 데이터가 많을수록 좋긴 해..\n",
    "- 구분 유형 1개당은 5.2만개 \n",
    "- 구분 유형 없이 전체라고 한다면 36.8만개\n",
    "- 둘 중 어떤 모델이 더 좋을까?"
   ]
  },
  {
   "cell_type": "markdown",
   "id": "extraordinary-society",
   "metadata": {},
   "source": [
    "#### 구분 유형으로 나누어서 MLP Regressor \n",
    "- 시간 너무 오래걸림데스.."
   ]
  },
  {
   "cell_type": "code",
   "execution_count": null,
   "id": "hairy-irish",
   "metadata": {
    "scrolled": false
   },
   "outputs": [
    {
     "name": "stdout",
     "output_type": "stream",
     "text": [
      "# 유형(A) - Train NMAE:  0.1500\n",
      "# 유형(A) - Valid NMAE:  0.1790\n",
      "\n"
     ]
    }
   ],
   "source": [
    "# from sklearn.neural_network import MLPRegressor\n",
    "# import os\n",
    "\n",
    "# # model\n",
    "# mlp_reg = MLPRegressor(activation='relu', alpha=0.005, learning_rate_init=0.001,\n",
    "#                       hidden_layer_sizes=(256, 64, 4), max_iter=500)\n",
    "# # submission csv\n",
    "# dirname = '/Users/younghun/Desktop/gitrepo/KaggleStruggle/dacon_gas'\n",
    "# sub_csv = pd.read_csv(os.path.join(dirname, 'sample_submission.csv'))\n",
    "\n",
    "# train = predict_scaling_ftr(final_df=final_df[best_cols], model=mlp_reg, submission_csv=sub_csv)"
   ]
  },
  {
   "cell_type": "markdown",
   "id": "numerous-banana",
   "metadata": {},
   "source": [
    "### PCA로 차원축소\n",
    "#### 적절한 주성분 개수 설정"
   ]
  },
  {
   "cell_type": "code",
   "execution_count": 48,
   "id": "flying-storm",
   "metadata": {
    "scrolled": true
   },
   "outputs": [
    {
     "name": "stdout",
     "output_type": "stream",
     "text": [
      "A 유형에 대한 PCA 결과\n"
     ]
    },
    {
     "data": {
      "text/html": [
       "<div>\n",
       "<style scoped>\n",
       "    .dataframe tbody tr th:only-of-type {\n",
       "        vertical-align: middle;\n",
       "    }\n",
       "\n",
       "    .dataframe tbody tr th {\n",
       "        vertical-align: top;\n",
       "    }\n",
       "\n",
       "    .dataframe thead th {\n",
       "        text-align: right;\n",
       "    }\n",
       "</style>\n",
       "<table border=\"1\" class=\"dataframe\">\n",
       "  <thead>\n",
       "    <tr style=\"text-align: right;\">\n",
       "      <th></th>\n",
       "      <th>고윳값</th>\n",
       "      <th>기여율</th>\n",
       "      <th>누적기여율</th>\n",
       "    </tr>\n",
       "  </thead>\n",
       "  <tbody>\n",
       "    <tr>\n",
       "      <th>pca1</th>\n",
       "      <td>4.865317</td>\n",
       "      <td>0.695030</td>\n",
       "      <td>0.695030</td>\n",
       "    </tr>\n",
       "    <tr>\n",
       "      <th>pca2</th>\n",
       "      <td>1.828235</td>\n",
       "      <td>0.261171</td>\n",
       "      <td>0.956201</td>\n",
       "    </tr>\n",
       "    <tr>\n",
       "      <th>pca3</th>\n",
       "      <td>0.237822</td>\n",
       "      <td>0.033974</td>\n",
       "      <td>0.990175</td>\n",
       "    </tr>\n",
       "    <tr>\n",
       "      <th>pca4</th>\n",
       "      <td>0.041246</td>\n",
       "      <td>0.005892</td>\n",
       "      <td>0.996067</td>\n",
       "    </tr>\n",
       "    <tr>\n",
       "      <th>pca5</th>\n",
       "      <td>0.017988</td>\n",
       "      <td>0.002570</td>\n",
       "      <td>0.998637</td>\n",
       "    </tr>\n",
       "    <tr>\n",
       "      <th>pca6</th>\n",
       "      <td>0.006130</td>\n",
       "      <td>0.000876</td>\n",
       "      <td>0.999512</td>\n",
       "    </tr>\n",
       "    <tr>\n",
       "      <th>pca7</th>\n",
       "      <td>0.003413</td>\n",
       "      <td>0.000488</td>\n",
       "      <td>1.000000</td>\n",
       "    </tr>\n",
       "  </tbody>\n",
       "</table>\n",
       "</div>"
      ],
      "text/plain": [
       "           고윳값       기여율     누적기여율\n",
       "pca1  4.865317  0.695030  0.695030\n",
       "pca2  1.828235  0.261171  0.956201\n",
       "pca3  0.237822  0.033974  0.990175\n",
       "pca4  0.041246  0.005892  0.996067\n",
       "pca5  0.017988  0.002570  0.998637\n",
       "pca6  0.006130  0.000876  0.999512\n",
       "pca7  0.003413  0.000488  1.000000"
      ]
     },
     "metadata": {},
     "output_type": "display_data"
    },
    {
     "data": {
      "image/png": "[encoded data removed]",
      "text/plain": [
       "<Figure size 720x432 with 1 Axes>"
      ]
     },
     "metadata": {
      "needs_background": "light"
     },
     "output_type": "display_data"
    },
    {
     "name": "stdout",
     "output_type": "stream",
     "text": [
      "\n",
      "\n",
      "B 유형에 대한 PCA 결과\n"
     ]
    },
    {
     "data": {
      "text/html": [
       "<div>\n",
       "<style scoped>\n",
       "    .dataframe tbody tr th:only-of-type {\n",
       "        vertical-align: middle;\n",
       "    }\n",
       "\n",
       "    .dataframe tbody tr th {\n",
       "        vertical-align: top;\n",
       "    }\n",
       "\n",
       "    .dataframe thead th {\n",
       "        text-align: right;\n",
       "    }\n",
       "</style>\n",
       "<table border=\"1\" class=\"dataframe\">\n",
       "  <thead>\n",
       "    <tr style=\"text-align: right;\">\n",
       "      <th></th>\n",
       "      <th>고윳값</th>\n",
       "      <th>기여율</th>\n",
       "      <th>누적기여율</th>\n",
       "    </tr>\n",
       "  </thead>\n",
       "  <tbody>\n",
       "    <tr>\n",
       "      <th>pca1</th>\n",
       "      <td>4.865427</td>\n",
       "      <td>0.695046</td>\n",
       "      <td>0.695046</td>\n",
       "    </tr>\n",
       "    <tr>\n",
       "      <th>pca2</th>\n",
       "      <td>1.853172</td>\n",
       "      <td>0.264733</td>\n",
       "      <td>0.959779</td>\n",
       "    </tr>\n",
       "    <tr>\n",
       "      <th>pca3</th>\n",
       "      <td>0.203694</td>\n",
       "      <td>0.029098</td>\n",
       "      <td>0.988877</td>\n",
       "    </tr>\n",
       "    <tr>\n",
       "      <th>pca4</th>\n",
       "      <td>0.050565</td>\n",
       "      <td>0.007223</td>\n",
       "      <td>0.996101</td>\n",
       "    </tr>\n",
       "    <tr>\n",
       "      <th>pca5</th>\n",
       "      <td>0.018222</td>\n",
       "      <td>0.002603</td>\n",
       "      <td>0.998704</td>\n",
       "    </tr>\n",
       "    <tr>\n",
       "      <th>pca6</th>\n",
       "      <td>0.005976</td>\n",
       "      <td>0.000854</td>\n",
       "      <td>0.999558</td>\n",
       "    </tr>\n",
       "    <tr>\n",
       "      <th>pca7</th>\n",
       "      <td>0.003096</td>\n",
       "      <td>0.000442</td>\n",
       "      <td>1.000000</td>\n",
       "    </tr>\n",
       "  </tbody>\n",
       "</table>\n",
       "</div>"
      ],
      "text/plain": [
       "           고윳값       기여율     누적기여율\n",
       "pca1  4.865427  0.695046  0.695046\n",
       "pca2  1.853172  0.264733  0.959779\n",
       "pca3  0.203694  0.029098  0.988877\n",
       "pca4  0.050565  0.007223  0.996101\n",
       "pca5  0.018222  0.002603  0.998704\n",
       "pca6  0.005976  0.000854  0.999558\n",
       "pca7  0.003096  0.000442  1.000000"
      ]
     },
     "metadata": {},
     "output_type": "display_data"
    },
    {
     "data": {
      "image/png": "[encoded data removed]",
      "text/plain": [
       "<Figure size 720x432 with 1 Axes>"
      ]
     },
     "metadata": {
      "needs_background": "light"
     },
     "output_type": "display_data"
    },
    {
     "name": "stdout",
     "output_type": "stream",
     "text": [
      "\n",
      "\n",
      "C 유형에 대한 PCA 결과\n"
     ]
    },
    {
     "data": {
      "text/html": [
       "<div>\n",
       "<style scoped>\n",
       "    .dataframe tbody tr th:only-of-type {\n",
       "        vertical-align: middle;\n",
       "    }\n",
       "\n",
       "    .dataframe tbody tr th {\n",
       "        vertical-align: top;\n",
       "    }\n",
       "\n",
       "    .dataframe thead th {\n",
       "        text-align: right;\n",
       "    }\n",
       "</style>\n",
       "<table border=\"1\" class=\"dataframe\">\n",
       "  <thead>\n",
       "    <tr style=\"text-align: right;\">\n",
       "      <th></th>\n",
       "      <th>고윳값</th>\n",
       "      <th>기여율</th>\n",
       "      <th>누적기여율</th>\n",
       "    </tr>\n",
       "  </thead>\n",
       "  <tbody>\n",
       "    <tr>\n",
       "      <th>pca1</th>\n",
       "      <td>4.784279</td>\n",
       "      <td>0.683453</td>\n",
       "      <td>0.683453</td>\n",
       "    </tr>\n",
       "    <tr>\n",
       "      <th>pca2</th>\n",
       "      <td>1.424320</td>\n",
       "      <td>0.203470</td>\n",
       "      <td>0.886923</td>\n",
       "    </tr>\n",
       "    <tr>\n",
       "      <th>pca3</th>\n",
       "      <td>0.672414</td>\n",
       "      <td>0.096057</td>\n",
       "      <td>0.982980</td>\n",
       "    </tr>\n",
       "    <tr>\n",
       "      <th>pca4</th>\n",
       "      <td>0.065122</td>\n",
       "      <td>0.009303</td>\n",
       "      <td>0.992283</td>\n",
       "    </tr>\n",
       "    <tr>\n",
       "      <th>pca5</th>\n",
       "      <td>0.035022</td>\n",
       "      <td>0.005003</td>\n",
       "      <td>0.997286</td>\n",
       "    </tr>\n",
       "    <tr>\n",
       "      <th>pca6</th>\n",
       "      <td>0.016011</td>\n",
       "      <td>0.002287</td>\n",
       "      <td>0.999574</td>\n",
       "    </tr>\n",
       "    <tr>\n",
       "      <th>pca7</th>\n",
       "      <td>0.002985</td>\n",
       "      <td>0.000426</td>\n",
       "      <td>1.000000</td>\n",
       "    </tr>\n",
       "  </tbody>\n",
       "</table>\n",
       "</div>"
      ],
      "text/plain": [
       "           고윳값       기여율     누적기여율\n",
       "pca1  4.784279  0.683453  0.683453\n",
       "pca2  1.424320  0.203470  0.886923\n",
       "pca3  0.672414  0.096057  0.982980\n",
       "pca4  0.065122  0.009303  0.992283\n",
       "pca5  0.035022  0.005003  0.997286\n",
       "pca6  0.016011  0.002287  0.999574\n",
       "pca7  0.002985  0.000426  1.000000"
      ]
     },
     "metadata": {},
     "output_type": "display_data"
    },
    {
     "data": {
      "image/png": "[encoded data removed]",
      "text/plain": [
       "<Figure size 720x432 with 1 Axes>"
      ]
     },
     "metadata": {
      "needs_background": "light"
     },
     "output_type": "display_data"
    },
    {
     "name": "stdout",
     "output_type": "stream",
     "text": [
      "\n",
      "\n",
      "D 유형에 대한 PCA 결과\n"
     ]
    },
    {
     "data": {
      "text/html": [
       "<div>\n",
       "<style scoped>\n",
       "    .dataframe tbody tr th:only-of-type {\n",
       "        vertical-align: middle;\n",
       "    }\n",
       "\n",
       "    .dataframe tbody tr th {\n",
       "        vertical-align: top;\n",
       "    }\n",
       "\n",
       "    .dataframe thead th {\n",
       "        text-align: right;\n",
       "    }\n",
       "</style>\n",
       "<table border=\"1\" class=\"dataframe\">\n",
       "  <thead>\n",
       "    <tr style=\"text-align: right;\">\n",
       "      <th></th>\n",
       "      <th>고윳값</th>\n",
       "      <th>기여율</th>\n",
       "      <th>누적기여율</th>\n",
       "    </tr>\n",
       "  </thead>\n",
       "  <tbody>\n",
       "    <tr>\n",
       "      <th>pca1</th>\n",
       "      <td>4.879276</td>\n",
       "      <td>0.697024</td>\n",
       "      <td>0.697024</td>\n",
       "    </tr>\n",
       "    <tr>\n",
       "      <th>pca2</th>\n",
       "      <td>1.842286</td>\n",
       "      <td>0.263178</td>\n",
       "      <td>0.960202</td>\n",
       "    </tr>\n",
       "    <tr>\n",
       "      <th>pca3</th>\n",
       "      <td>0.206619</td>\n",
       "      <td>0.029516</td>\n",
       "      <td>0.989719</td>\n",
       "    </tr>\n",
       "    <tr>\n",
       "      <th>pca4</th>\n",
       "      <td>0.047551</td>\n",
       "      <td>0.006793</td>\n",
       "      <td>0.996511</td>\n",
       "    </tr>\n",
       "    <tr>\n",
       "      <th>pca5</th>\n",
       "      <td>0.016926</td>\n",
       "      <td>0.002418</td>\n",
       "      <td>0.998929</td>\n",
       "    </tr>\n",
       "    <tr>\n",
       "      <th>pca6</th>\n",
       "      <td>0.004991</td>\n",
       "      <td>0.000713</td>\n",
       "      <td>0.999642</td>\n",
       "    </tr>\n",
       "    <tr>\n",
       "      <th>pca7</th>\n",
       "      <td>0.002504</td>\n",
       "      <td>0.000358</td>\n",
       "      <td>1.000000</td>\n",
       "    </tr>\n",
       "  </tbody>\n",
       "</table>\n",
       "</div>"
      ],
      "text/plain": [
       "           고윳값       기여율     누적기여율\n",
       "pca1  4.879276  0.697024  0.697024\n",
       "pca2  1.842286  0.263178  0.960202\n",
       "pca3  0.206619  0.029516  0.989719\n",
       "pca4  0.047551  0.006793  0.996511\n",
       "pca5  0.016926  0.002418  0.998929\n",
       "pca6  0.004991  0.000713  0.999642\n",
       "pca7  0.002504  0.000358  1.000000"
      ]
     },
     "metadata": {},
     "output_type": "display_data"
    },
    {
     "data": {
      "image/png": "[encoded data removed]",
      "text/plain": [
       "<Figure size 720x432 with 1 Axes>"
      ]
     },
     "metadata": {
      "needs_background": "light"
     },
     "output_type": "display_data"
    },
    {
     "name": "stdout",
     "output_type": "stream",
     "text": [
      "\n",
      "\n",
      "E 유형에 대한 PCA 결과\n"
     ]
    },
    {
     "data": {
      "text/html": [
       "<div>\n",
       "<style scoped>\n",
       "    .dataframe tbody tr th:only-of-type {\n",
       "        vertical-align: middle;\n",
       "    }\n",
       "\n",
       "    .dataframe tbody tr th {\n",
       "        vertical-align: top;\n",
       "    }\n",
       "\n",
       "    .dataframe thead th {\n",
       "        text-align: right;\n",
       "    }\n",
       "</style>\n",
       "<table border=\"1\" class=\"dataframe\">\n",
       "  <thead>\n",
       "    <tr style=\"text-align: right;\">\n",
       "      <th></th>\n",
       "      <th>고윳값</th>\n",
       "      <th>기여율</th>\n",
       "      <th>누적기여율</th>\n",
       "    </tr>\n",
       "  </thead>\n",
       "  <tbody>\n",
       "    <tr>\n",
       "      <th>pca1</th>\n",
       "      <td>4.879141</td>\n",
       "      <td>0.697005</td>\n",
       "      <td>0.697005</td>\n",
       "    </tr>\n",
       "    <tr>\n",
       "      <th>pca2</th>\n",
       "      <td>1.839557</td>\n",
       "      <td>0.262788</td>\n",
       "      <td>0.959793</td>\n",
       "    </tr>\n",
       "    <tr>\n",
       "      <th>pca3</th>\n",
       "      <td>0.213683</td>\n",
       "      <td>0.030525</td>\n",
       "      <td>0.990319</td>\n",
       "    </tr>\n",
       "    <tr>\n",
       "      <th>pca4</th>\n",
       "      <td>0.043299</td>\n",
       "      <td>0.006185</td>\n",
       "      <td>0.996504</td>\n",
       "    </tr>\n",
       "    <tr>\n",
       "      <th>pca5</th>\n",
       "      <td>0.016234</td>\n",
       "      <td>0.002319</td>\n",
       "      <td>0.998823</td>\n",
       "    </tr>\n",
       "    <tr>\n",
       "      <th>pca6</th>\n",
       "      <td>0.005702</td>\n",
       "      <td>0.000815</td>\n",
       "      <td>0.999638</td>\n",
       "    </tr>\n",
       "    <tr>\n",
       "      <th>pca7</th>\n",
       "      <td>0.002536</td>\n",
       "      <td>0.000362</td>\n",
       "      <td>1.000000</td>\n",
       "    </tr>\n",
       "  </tbody>\n",
       "</table>\n",
       "</div>"
      ],
      "text/plain": [
       "           고윳값       기여율     누적기여율\n",
       "pca1  4.879141  0.697005  0.697005\n",
       "pca2  1.839557  0.262788  0.959793\n",
       "pca3  0.213683  0.030525  0.990319\n",
       "pca4  0.043299  0.006185  0.996504\n",
       "pca5  0.016234  0.002319  0.998823\n",
       "pca6  0.005702  0.000815  0.999638\n",
       "pca7  0.002536  0.000362  1.000000"
      ]
     },
     "metadata": {},
     "output_type": "display_data"
    },
    {
     "data": {
      "image/png": "[encoded data removed]",
      "text/plain": [
       "<Figure size 720x432 with 1 Axes>"
      ]
     },
     "metadata": {
      "needs_background": "light"
     },
     "output_type": "display_data"
    },
    {
     "name": "stdout",
     "output_type": "stream",
     "text": [
      "\n",
      "\n",
      "G 유형에 대한 PCA 결과\n"
     ]
    },
    {
     "data": {
      "text/html": [
       "<div>\n",
       "<style scoped>\n",
       "    .dataframe tbody tr th:only-of-type {\n",
       "        vertical-align: middle;\n",
       "    }\n",
       "\n",
       "    .dataframe tbody tr th {\n",
       "        vertical-align: top;\n",
       "    }\n",
       "\n",
       "    .dataframe thead th {\n",
       "        text-align: right;\n",
       "    }\n",
       "</style>\n",
       "<table border=\"1\" class=\"dataframe\">\n",
       "  <thead>\n",
       "    <tr style=\"text-align: right;\">\n",
       "      <th></th>\n",
       "      <th>고윳값</th>\n",
       "      <th>기여율</th>\n",
       "      <th>누적기여율</th>\n",
       "    </tr>\n",
       "  </thead>\n",
       "  <tbody>\n",
       "    <tr>\n",
       "      <th>pca1</th>\n",
       "      <td>4.855815</td>\n",
       "      <td>0.693673</td>\n",
       "      <td>0.693673</td>\n",
       "    </tr>\n",
       "    <tr>\n",
       "      <th>pca2</th>\n",
       "      <td>1.773552</td>\n",
       "      <td>0.253359</td>\n",
       "      <td>0.947032</td>\n",
       "    </tr>\n",
       "    <tr>\n",
       "      <th>pca3</th>\n",
       "      <td>0.306229</td>\n",
       "      <td>0.043746</td>\n",
       "      <td>0.990778</td>\n",
       "    </tr>\n",
       "    <tr>\n",
       "      <th>pca4</th>\n",
       "      <td>0.033907</td>\n",
       "      <td>0.004844</td>\n",
       "      <td>0.995622</td>\n",
       "    </tr>\n",
       "    <tr>\n",
       "      <th>pca5</th>\n",
       "      <td>0.019475</td>\n",
       "      <td>0.002782</td>\n",
       "      <td>0.998404</td>\n",
       "    </tr>\n",
       "    <tr>\n",
       "      <th>pca6</th>\n",
       "      <td>0.007246</td>\n",
       "      <td>0.001035</td>\n",
       "      <td>0.999439</td>\n",
       "    </tr>\n",
       "    <tr>\n",
       "      <th>pca7</th>\n",
       "      <td>0.003928</td>\n",
       "      <td>0.000561</td>\n",
       "      <td>1.000000</td>\n",
       "    </tr>\n",
       "  </tbody>\n",
       "</table>\n",
       "</div>"
      ],
      "text/plain": [
       "           고윳값       기여율     누적기여율\n",
       "pca1  4.855815  0.693673  0.693673\n",
       "pca2  1.773552  0.253359  0.947032\n",
       "pca3  0.306229  0.043746  0.990778\n",
       "pca4  0.033907  0.004844  0.995622\n",
       "pca5  0.019475  0.002782  0.998404\n",
       "pca6  0.007246  0.001035  0.999439\n",
       "pca7  0.003928  0.000561  1.000000"
      ]
     },
     "metadata": {},
     "output_type": "display_data"
    },
    {
     "data": {
      "image/png": "[encoded data removed]",
      "text/plain": [
       "<Figure size 720x432 with 1 Axes>"
      ]
     },
     "metadata": {
      "needs_background": "light"
     },
     "output_type": "display_data"
    },
    {
     "name": "stdout",
     "output_type": "stream",
     "text": [
      "\n",
      "\n",
      "H 유형에 대한 PCA 결과\n"
     ]
    },
    {
     "data": {
      "text/html": [
       "<div>\n",
       "<style scoped>\n",
       "    .dataframe tbody tr th:only-of-type {\n",
       "        vertical-align: middle;\n",
       "    }\n",
       "\n",
       "    .dataframe tbody tr th {\n",
       "        vertical-align: top;\n",
       "    }\n",
       "\n",
       "    .dataframe thead th {\n",
       "        text-align: right;\n",
       "    }\n",
       "</style>\n",
       "<table border=\"1\" class=\"dataframe\">\n",
       "  <thead>\n",
       "    <tr style=\"text-align: right;\">\n",
       "      <th></th>\n",
       "      <th>고윳값</th>\n",
       "      <th>기여율</th>\n",
       "      <th>누적기여율</th>\n",
       "    </tr>\n",
       "  </thead>\n",
       "  <tbody>\n",
       "    <tr>\n",
       "      <th>pca1</th>\n",
       "      <td>4.818385</td>\n",
       "      <td>0.688326</td>\n",
       "      <td>0.688326</td>\n",
       "    </tr>\n",
       "    <tr>\n",
       "      <th>pca2</th>\n",
       "      <td>1.816843</td>\n",
       "      <td>0.259543</td>\n",
       "      <td>0.947869</td>\n",
       "    </tr>\n",
       "    <tr>\n",
       "      <th>pca3</th>\n",
       "      <td>0.251920</td>\n",
       "      <td>0.035988</td>\n",
       "      <td>0.983857</td>\n",
       "    </tr>\n",
       "    <tr>\n",
       "      <th>pca4</th>\n",
       "      <td>0.061623</td>\n",
       "      <td>0.008803</td>\n",
       "      <td>0.992660</td>\n",
       "    </tr>\n",
       "    <tr>\n",
       "      <th>pca5</th>\n",
       "      <td>0.035065</td>\n",
       "      <td>0.005009</td>\n",
       "      <td>0.997669</td>\n",
       "    </tr>\n",
       "    <tr>\n",
       "      <th>pca6</th>\n",
       "      <td>0.013406</td>\n",
       "      <td>0.001915</td>\n",
       "      <td>0.999584</td>\n",
       "    </tr>\n",
       "    <tr>\n",
       "      <th>pca7</th>\n",
       "      <td>0.002910</td>\n",
       "      <td>0.000416</td>\n",
       "      <td>1.000000</td>\n",
       "    </tr>\n",
       "  </tbody>\n",
       "</table>\n",
       "</div>"
      ],
      "text/plain": [
       "           고윳값       기여율     누적기여율\n",
       "pca1  4.818385  0.688326  0.688326\n",
       "pca2  1.816843  0.259543  0.947869\n",
       "pca3  0.251920  0.035988  0.983857\n",
       "pca4  0.061623  0.008803  0.992660\n",
       "pca5  0.035065  0.005009  0.997669\n",
       "pca6  0.013406  0.001915  0.999584\n",
       "pca7  0.002910  0.000416  1.000000"
      ]
     },
     "metadata": {},
     "output_type": "display_data"
    },
    {
     "data": {
      "image/png": "[encoded data removed]",
      "text/plain": [
       "<Figure size 720x432 with 1 Axes>"
      ]
     },
     "metadata": {
      "needs_background": "light"
     },
     "output_type": "display_data"
    },
    {
     "name": "stdout",
     "output_type": "stream",
     "text": [
      "\n",
      "\n"
     ]
    }
   ],
   "source": [
    "# 구분유형 별로 PCA 적절한 개수 살펴보기\n",
    "from sklearn.preprocessing import StandardScaler\n",
    "from sklearn.decomposition import PCA\n",
    "import matplotlib.pyplot as plt\n",
    "\n",
    "def pca_gubun(final_df):\n",
    "    gubuns = final_df['구분'].unique()\n",
    "    for gubun in gubuns:\n",
    "        sub_df = final_df[final_df['구분'] == gubun]\n",
    "        pca_cols = sub_df.columns.tolist()[3:-1]\n",
    "        pca_df = sub_df[pca_cols].fillna(method='ffill')\n",
    "        # Scaling\n",
    "        scaled_df = pd.DataFrame(StandardScaler().fit_transform(pca_df), index=pca_df.index,\n",
    "                                columns=pca_df.columns)\n",
    "        # PCA\n",
    "        pca = PCA(n_components=pca_df.shape[1])\n",
    "        pca.fit_transform(scaled_df)\n",
    "        pca_result = pd.DataFrame({'고윳값': pca.explained_variance_,\n",
    "                                  '기여율': pca.explained_variance_ratio_},\n",
    "                                 index=[f'pca{i}' for i in range(1, pca_df.shape[1]+1)])\n",
    "        pca_result['누적기여율'] = pca_result['기여율'].cumsum()\n",
    "        print(f'{gubun} 유형에 대한 PCA 결과')\n",
    "        display(pca_result)\n",
    "        # Scree plot\n",
    "        plt.figure(figsize=(10, 6))\n",
    "        plt.plot(pca_result.index, pca_result['고윳값'])\n",
    "        plt.title(\"Scree plot\", fontsize=25)\n",
    "        plt.show()\n",
    "        print()\n",
    "        print()\n",
    "        \n",
    "pca_gubun(final_df=final_df[best_cols])        "
   ]
  },
  {
   "cell_type": "markdown",
   "id": "cellular-gateway",
   "metadata": {},
   "source": [
    "- 모든 유형에 대해 적절한 주성분 개수 분석해본 결과, 주성분 2개 or 3개까지만 사용!"
   ]
  },
  {
   "cell_type": "markdown",
   "id": "clinical-austin",
   "metadata": {},
   "source": [
    "#### PCA 수행후 모델 성능 재점검\n"
   ]
  },
  {
   "cell_type": "code",
   "execution_count": 63,
   "id": "dental-greene",
   "metadata": {},
   "outputs": [],
   "source": [
    "from sklearn.decomposition import PCA\n",
    "from sklearn.preprocessing import MinMaxScaler\n",
    "from tqdm import tqdm\n",
    "import time\n",
    "\n",
    "def predict_scaling_ftr(final_df, model, submission_csv):\n",
    "    cols = ['A', 'B', 'C', 'D', 'E', 'G', 'H']\n",
    "    all_pred = np.array([])\n",
    "    for gubun in tqdm(cols):\n",
    "        st = time.time()\n",
    "        sub_df = final_df[final_df['구분'] == gubun]\n",
    "        sub_df = sub_df.set_index(['연월일', '시간', '구분'])\n",
    "        idx_level = sub_df.index.get_level_values\n",
    "        #=================\n",
    "        # Train, Valid 검증\n",
    "        #=================\n",
    "        train = sub_df[(idx_level(0) < '2018-09-01')].fillna(method='ffill')\n",
    "        valid = sub_df[(idx_level(0) >= '2018-09-01')&(idx_level(0) <= '2018-12-31')].fillna(method='ffill')\n",
    "        \n",
    "        X_train, y_train = train.iloc[:, :-1].values, train['공급량']\n",
    "        X_valid, y_valid = valid.iloc[:, :-1].values, valid['공급량']\n",
    "        # Scaling feature\n",
    "        scaler = MinMaxScaler()\n",
    "        X_train = scaler.fit_transform(X_train)\n",
    "        X_valid = scaler.transform(X_valid)\n",
    "        \n",
    "        # fit model\n",
    "        #model = model_dict[gubun]\n",
    "        model.fit(X_train, y_train)\n",
    "        # predict\n",
    "        train_pred = model.predict(X_train)\n",
    "        valid_pred = model.predict(X_valid)\n",
    "        # evaluate\n",
    "        train_NMAE = get_NMAE(y_train, train_pred)\n",
    "        valid_NMAE = get_NMAE(y_valid, valid_pred)\n",
    "        print(f'# 유형({gubun}) - Train NMAE: {train_NMAE: .4f}')\n",
    "        print(f'# 유형({gubun}) - Valid NMAE: {valid_NMAE: .4f}')\n",
    "        print(f'# 학습 시간: {time.time() - st: .2f}초')\n",
    "        print()\n",
    "        #=========================\n",
    "        # Train, Test 분할해 최종 예측\n",
    "        #=========================\n",
    "        train = sub_df[(idx_level(0) < '2019-01-01')].fillna(method='ffill')\n",
    "        test = sub_df[(idx_level(0) >= '2019-01-01')].fillna(method='ffill')\n",
    "        \n",
    "        X_train, y_train = train.iloc[:, :-1].values, train['공급량']\n",
    "        X_test = test.iloc[:, :-1].values\n",
    "        # Scaling\n",
    "        scaler = MinMaxScaler()\n",
    "        X_train = scaler.fit_transform(X_train)\n",
    "        X_test = scaler.transform(X_test)\n",
    "        print('- Train csv shape:', X_train.shape, '- Test csv_shape:', X_test.shape)\n",
    "        \n",
    "        # fit model\n",
    "        #model = model_dict[gubun]\n",
    "        model.fit(X_train, y_train)\n",
    "        # predict\n",
    "        test_pred = model.predict(X_test)\n",
    "        all_pred = np.append(all_pred, test_pred)\n",
    "        \n",
    "    submission_csv['공급량'] = all_pred\n",
    "    return submission_csv"
   ]
  },
  {
   "cell_type": "code",
   "execution_count": 54,
   "id": "headed-browse",
   "metadata": {},
   "outputs": [
    {
     "name": "stderr",
     "output_type": "stream",
     "text": [
      "\r",
      "  0%|          | 0/7 [00:00<?, ?it/s]"
     ]
    },
    {
     "name": "stdout",
     "output_type": "stream",
     "text": [
      "[13:15:47] WARNING: src/objective/regression_obj.cu:152: reg:linear is now deprecated in favor of reg:squarederror.\n",
      "# 유형(A) - Train NMAE:  0.1460\n",
      "# 유형(A) - Valid NMAE:  0.1720\n",
      "# 학습 시간:  1.93초\n",
      "\n",
      "[13:15:49] WARNING: src/objective/regression_obj.cu:152: reg:linear is now deprecated in favor of reg:squarederror.\n"
     ]
    },
    {
     "name": "stderr",
     "output_type": "stream",
     "text": [
      "\r",
      " 14%|█▍        | 1/7 [00:03<00:21,  3.60s/it]"
     ]
    },
    {
     "name": "stdout",
     "output_type": "stream",
     "text": [
      "[13:15:51] WARNING: src/objective/regression_obj.cu:152: reg:linear is now deprecated in favor of reg:squarederror.\n",
      "# 유형(B) - Train NMAE:  0.1540\n",
      "# 유형(B) - Valid NMAE:  0.1760\n",
      "# 학습 시간:  1.87초\n",
      "\n",
      "[13:15:52] WARNING: src/objective/regression_obj.cu:152: reg:linear is now deprecated in favor of reg:squarederror.\n"
     ]
    },
    {
     "name": "stderr",
     "output_type": "stream",
     "text": [
      "\r",
      " 29%|██▊       | 2/7 [00:07<00:18,  3.65s/it]"
     ]
    },
    {
     "name": "stdout",
     "output_type": "stream",
     "text": [
      "[13:15:54] WARNING: src/objective/regression_obj.cu:152: reg:linear is now deprecated in favor of reg:squarederror.\n",
      "# 유형(C) - Train NMAE:  2.5730\n",
      "# 유형(C) - Valid NMAE:  0.2690\n",
      "# 학습 시간:  1.81초\n",
      "\n",
      "[13:15:56] WARNING: src/objective/regression_obj.cu:152: reg:linear is now deprecated in favor of reg:squarederror.\n"
     ]
    },
    {
     "name": "stderr",
     "output_type": "stream",
     "text": [
      "\r",
      " 43%|████▎     | 3/7 [00:10<00:14,  3.57s/it]"
     ]
    },
    {
     "name": "stdout",
     "output_type": "stream",
     "text": [
      "[13:15:58] WARNING: src/objective/regression_obj.cu:152: reg:linear is now deprecated in favor of reg:squarederror.\n",
      "# 유형(D) - Train NMAE:  0.1470\n",
      "# 유형(D) - Valid NMAE:  0.1660\n",
      "# 학습 시간:  1.81초\n",
      "\n",
      "[13:15:59] WARNING: src/objective/regression_obj.cu:152: reg:linear is now deprecated in favor of reg:squarederror.\n"
     ]
    },
    {
     "name": "stderr",
     "output_type": "stream",
     "text": [
      "\r",
      " 57%|█████▋    | 4/7 [00:14<00:10,  3.57s/it]"
     ]
    },
    {
     "name": "stdout",
     "output_type": "stream",
     "text": [
      "[13:16:01] WARNING: src/objective/regression_obj.cu:152: reg:linear is now deprecated in favor of reg:squarederror.\n",
      "# 유형(E) - Train NMAE:  0.1350\n",
      "# 유형(E) - Valid NMAE:  0.1660\n",
      "# 학습 시간:  1.83초\n",
      "\n",
      "[13:16:03] WARNING: src/objective/regression_obj.cu:152: reg:linear is now deprecated in favor of reg:squarederror.\n"
     ]
    },
    {
     "name": "stderr",
     "output_type": "stream",
     "text": [
      "\r",
      " 71%|███████▏  | 5/7 [00:17<00:07,  3.59s/it]"
     ]
    },
    {
     "name": "stdout",
     "output_type": "stream",
     "text": [
      "[13:16:05] WARNING: src/objective/regression_obj.cu:152: reg:linear is now deprecated in favor of reg:squarederror.\n",
      "# 유형(G) - Train NMAE:  0.1400\n",
      "# 유형(G) - Valid NMAE:  0.1610\n",
      "# 학습 시간:  1.81초\n",
      "\n",
      "[13:16:07] WARNING: src/objective/regression_obj.cu:152: reg:linear is now deprecated in favor of reg:squarederror.\n"
     ]
    },
    {
     "name": "stderr",
     "output_type": "stream",
     "text": [
      "\r",
      " 86%|████████▌ | 6/7 [00:21<00:03,  3.56s/it]"
     ]
    },
    {
     "name": "stdout",
     "output_type": "stream",
     "text": [
      "[13:16:08] WARNING: src/objective/regression_obj.cu:152: reg:linear is now deprecated in favor of reg:squarederror.\n",
      "# 유형(H) - Train NMAE:  0.1450\n",
      "# 유형(H) - Valid NMAE:  0.1660\n",
      "# 학습 시간:  1.82초\n",
      "\n",
      "[13:16:10] WARNING: src/objective/regression_obj.cu:152: reg:linear is now deprecated in favor of reg:squarederror.\n"
     ]
    },
    {
     "name": "stderr",
     "output_type": "stream",
     "text": [
      "100%|██████████| 7/7 [00:25<00:00,  3.58s/it]\n"
     ]
    }
   ],
   "source": [
    "# PCA 3개(2개 보다 검증 성능이 더 좋음)\n",
    "from lightgbm import LGBMRegressor\n",
    "from xgboost import XGBRegressor\n",
    "from sklearn.ensemble import VotingRegressor\n",
    "\n",
    "# model\n",
    "lgbm_reg = LGBMRegressor(n_estimators=100, random_state=42)\n",
    "xgb_reg = XGBRegressor(n_estimators=100, random_state=42)\n",
    "hybrid_reg = VotingRegressor([('lgbm', lgbm_reg), ('xgb', xgb_reg)])\n",
    "\n",
    "# submission csv\n",
    "dirname = '/Users/younghun/Desktop/gitrepo/KaggleStruggle/dacon_gas'\n",
    "sub_csv = pd.read_csv(os.path.join(dirname, 'sample_submission.csv'))\n",
    "\n",
    "pred_csv = predict_scaling_ftr(final_df=final_df[best_cols], model=hybrid_reg, submission_csv=sub_csv)"
   ]
  },
  {
   "cell_type": "code",
   "execution_count": 55,
   "id": "latin-champion",
   "metadata": {},
   "outputs": [],
   "source": [
    "filename = '0103False_SimulFalse_xgb+lgbm_autocorr(exclude_extra_vars)_PCA_Standard.csv'\n",
    "pred_csv.to_csv(os.path.join(dirname, 'submission', filename), index=False)"
   ]
  },
  {
   "cell_type": "code",
   "execution_count": 61,
   "id": "billion-quest",
   "metadata": {},
   "outputs": [
    {
     "data": {
      "text/plain": [
       "['연월일', '시간', '구분', 'month_avg', 'month_day_avg', 'month_day_hr_avg', '공급량']"
      ]
     },
     "execution_count": 61,
     "metadata": {},
     "output_type": "execute_result"
    }
   ],
   "source": [
    "# 새로 만든 칼럼만을 사용해보자\n",
    "new_cols = final_df.columns.tolist()[:3] + final_df.columns.tolist()[-7:-4] + ['공급량']\n",
    "new_cols"
   ]
  },
  {
   "cell_type": "code",
   "execution_count": 64,
   "id": "dedicated-disability",
   "metadata": {},
   "outputs": [
    {
     "name": "stderr",
     "output_type": "stream",
     "text": [
      "\r",
      "  0%|          | 0/7 [00:00<?, ?it/s]"
     ]
    },
    {
     "name": "stdout",
     "output_type": "stream",
     "text": [
      "[13:21:30] WARNING: src/objective/regression_obj.cu:152: reg:linear is now deprecated in favor of reg:squarederror.\n",
      "# 유형(A) - Train NMAE:  0.1210\n",
      "# 유형(A) - Valid NMAE:  0.1470\n",
      "# 학습 시간:  1.63초\n",
      "\n",
      "- Train csv shape: (43824, 3) - Test csv_shape: (2160, 3)\n",
      "[13:21:31] WARNING: src/objective/regression_obj.cu:152: reg:linear is now deprecated in favor of reg:squarederror.\n"
     ]
    },
    {
     "name": "stderr",
     "output_type": "stream",
     "text": [
      "\r",
      " 14%|█▍        | 1/7 [00:02<00:16,  2.83s/it]"
     ]
    },
    {
     "name": "stdout",
     "output_type": "stream",
     "text": [
      "[13:21:33] WARNING: src/objective/regression_obj.cu:152: reg:linear is now deprecated in favor of reg:squarederror.\n",
      "# 유형(B) - Train NMAE:  0.1220\n",
      "# 유형(B) - Valid NMAE:  0.1410\n",
      "# 학습 시간:  1.49초\n",
      "\n",
      "- Train csv shape: (43824, 3) - Test csv_shape: (2160, 3)\n",
      "[13:21:34] WARNING: src/objective/regression_obj.cu:152: reg:linear is now deprecated in favor of reg:squarederror.\n"
     ]
    },
    {
     "name": "stderr",
     "output_type": "stream",
     "text": [
      "\r",
      " 29%|██▊       | 2/7 [00:05<00:13,  2.74s/it]"
     ]
    },
    {
     "name": "stdout",
     "output_type": "stream",
     "text": [
      "[13:21:35] WARNING: src/objective/regression_obj.cu:152: reg:linear is now deprecated in favor of reg:squarederror.\n",
      "# 유형(C) - Train NMAE:  2.6750\n",
      "# 유형(C) - Valid NMAE:  0.2020\n",
      "# 학습 시간:  1.54초\n",
      "\n",
      "- Train csv shape: (43824, 3) - Test csv_shape: (2160, 3)\n",
      "[13:21:37] WARNING: src/objective/regression_obj.cu:152: reg:linear is now deprecated in favor of reg:squarederror.\n"
     ]
    },
    {
     "name": "stderr",
     "output_type": "stream",
     "text": [
      "\r",
      " 43%|████▎     | 3/7 [00:08<00:11,  2.79s/it]"
     ]
    },
    {
     "name": "stdout",
     "output_type": "stream",
     "text": [
      "[13:21:38] WARNING: src/objective/regression_obj.cu:152: reg:linear is now deprecated in favor of reg:squarederror.\n",
      "# 유형(D) - Train NMAE:  0.1210\n",
      "# 유형(D) - Valid NMAE:  0.1440\n",
      "# 학습 시간:  1.49초\n",
      "\n",
      "- Train csv shape: (43824, 3) - Test csv_shape: (2160, 3)\n",
      "[13:21:40] WARNING: src/objective/regression_obj.cu:152: reg:linear is now deprecated in favor of reg:squarederror.\n"
     ]
    },
    {
     "name": "stderr",
     "output_type": "stream",
     "text": [
      "\r",
      " 57%|█████▋    | 4/7 [00:11<00:08,  2.79s/it]"
     ]
    },
    {
     "name": "stdout",
     "output_type": "stream",
     "text": [
      "[13:21:41] WARNING: src/objective/regression_obj.cu:152: reg:linear is now deprecated in favor of reg:squarederror.\n",
      "# 유형(E) - Train NMAE:  0.1120\n",
      "# 유형(E) - Valid NMAE:  0.1440\n",
      "# 학습 시간:  1.56초\n",
      "\n",
      "- Train csv shape: (43824, 3) - Test csv_shape: (2160, 3)\n",
      "[13:21:43] WARNING: src/objective/regression_obj.cu:152: reg:linear is now deprecated in favor of reg:squarederror.\n"
     ]
    },
    {
     "name": "stderr",
     "output_type": "stream",
     "text": [
      "\r",
      " 71%|███████▏  | 5/7 [00:13<00:05,  2.80s/it]"
     ]
    },
    {
     "name": "stdout",
     "output_type": "stream",
     "text": [
      "[13:21:44] WARNING: src/objective/regression_obj.cu:152: reg:linear is now deprecated in favor of reg:squarederror.\n",
      "# 유형(G) - Train NMAE:  0.1300\n",
      "# 유형(G) - Valid NMAE:  0.1560\n",
      "# 학습 시간:  1.45초\n",
      "\n",
      "- Train csv shape: (43824, 3) - Test csv_shape: (2160, 3)\n",
      "[13:21:45] WARNING: src/objective/regression_obj.cu:152: reg:linear is now deprecated in favor of reg:squarederror.\n"
     ]
    },
    {
     "name": "stderr",
     "output_type": "stream",
     "text": [
      "\r",
      " 86%|████████▌ | 6/7 [00:16<00:02,  2.76s/it]"
     ]
    },
    {
     "name": "stdout",
     "output_type": "stream",
     "text": [
      "[13:21:47] WARNING: src/objective/regression_obj.cu:152: reg:linear is now deprecated in favor of reg:squarederror.\n",
      "# 유형(H) - Train NMAE:  0.1110\n",
      "# 유형(H) - Valid NMAE:  0.1290\n",
      "# 학습 시간:  1.49초\n",
      "\n",
      "- Train csv shape: (43824, 3) - Test csv_shape: (2160, 3)\n",
      "[13:21:48] WARNING: src/objective/regression_obj.cu:152: reg:linear is now deprecated in favor of reg:squarederror.\n"
     ]
    },
    {
     "name": "stderr",
     "output_type": "stream",
     "text": [
      "100%|██████████| 7/7 [00:19<00:00,  2.77s/it]\n"
     ]
    }
   ],
   "source": [
    "# PCA 3개(2개 보다 검증 성능이 더 좋음) + best_cols로\n",
    "from lightgbm import LGBMRegressor\n",
    "from xgboost import XGBRegressor\n",
    "from sklearn.ensemble import VotingRegressor\n",
    "\n",
    "# model\n",
    "lgbm_reg = LGBMRegressor(n_estimators=100, random_state=42)\n",
    "xgb_reg = XGBRegressor(n_estimators=100, random_state=42)\n",
    "hybrid_reg = VotingRegressor([('lgbm', lgbm_reg), ('xgb', xgb_reg)])\n",
    "\n",
    "# submission csv\n",
    "dirname = '/Users/younghun/Desktop/gitrepo/KaggleStruggle/dacon_gas'\n",
    "sub_csv = pd.read_csv(os.path.join(dirname, 'sample_submission.csv'))\n",
    "\n",
    "pred_csv = predict_scaling_ftr(final_df=final_df[new_cols], model=hybrid_reg, submission_csv=sub_csv)"
   ]
  },
  {
   "cell_type": "code",
   "execution_count": 65,
   "id": "radio-approach",
   "metadata": {},
   "outputs": [],
   "source": [
    "filename = '0103False_SimulFalse_xgb+lgbm_autocorr(only_new_vars)_MinMaxscale.csv'\n",
    "pred_csv.to_csv(os.path.join(dirname, 'submission', filename), index=False)"
   ]
  },
  {
   "cell_type": "markdown",
   "id": "radical-remark",
   "metadata": {},
   "source": [
    "- 옛날 변수들만 가져가자.."
   ]
  },
  {
   "cell_type": "markdown",
   "id": "preceding-lambda",
   "metadata": {},
   "source": [
    "### MLP Regressor"
   ]
  },
  {
   "cell_type": "code",
   "execution_count": 68,
   "id": "endless-designation",
   "metadata": {},
   "outputs": [
    {
     "data": {
      "text/html": [
       "<div>\n",
       "<style scoped>\n",
       "    .dataframe tbody tr th:only-of-type {\n",
       "        vertical-align: middle;\n",
       "    }\n",
       "\n",
       "    .dataframe tbody tr th {\n",
       "        vertical-align: top;\n",
       "    }\n",
       "\n",
       "    .dataframe thead th {\n",
       "        text-align: right;\n",
       "    }\n",
       "</style>\n",
       "<table border=\"1\" class=\"dataframe\">\n",
       "  <thead>\n",
       "    <tr style=\"text-align: right;\">\n",
       "      <th></th>\n",
       "      <th>연월일</th>\n",
       "      <th>시간</th>\n",
       "      <th>구분</th>\n",
       "      <th>prev_year_공급량</th>\n",
       "      <th>prev_month_avg_공급량</th>\n",
       "      <th>prev_month_day_avg_공급량</th>\n",
       "      <th>prev_month_hour_avg_공급량</th>\n",
       "      <th>prev_year_ratio</th>\n",
       "      <th>prev_month_ratio</th>\n",
       "      <th>prev_month_day_ratio</th>\n",
       "      <th>공급량</th>\n",
       "    </tr>\n",
       "  </thead>\n",
       "  <tbody>\n",
       "    <tr>\n",
       "      <th>8760</th>\n",
       "      <td>2014-01-01</td>\n",
       "      <td>1</td>\n",
       "      <td>A</td>\n",
       "      <td>2497.129</td>\n",
       "      <td>2599.321581</td>\n",
       "      <td>2505.690391</td>\n",
       "      <td>2377.634806</td>\n",
       "      <td>0.968475</td>\n",
       "      <td>-0.039315</td>\n",
       "      <td>-0.003417</td>\n",
       "      <td>1677.257</td>\n",
       "    </tr>\n",
       "    <tr>\n",
       "      <th>8761</th>\n",
       "      <td>2014-01-01</td>\n",
       "      <td>2</td>\n",
       "      <td>A</td>\n",
       "      <td>2363.265</td>\n",
       "      <td>2599.321581</td>\n",
       "      <td>2505.690391</td>\n",
       "      <td>2129.168742</td>\n",
       "      <td>0.862950</td>\n",
       "      <td>-0.090815</td>\n",
       "      <td>-0.056841</td>\n",
       "      <td>1567.057</td>\n",
       "    </tr>\n",
       "    <tr>\n",
       "      <th>8762</th>\n",
       "      <td>2014-01-01</td>\n",
       "      <td>3</td>\n",
       "      <td>A</td>\n",
       "      <td>2258.505</td>\n",
       "      <td>2599.321581</td>\n",
       "      <td>2505.690391</td>\n",
       "      <td>1994.322290</td>\n",
       "      <td>0.780369</td>\n",
       "      <td>-0.131118</td>\n",
       "      <td>-0.098650</td>\n",
       "      <td>1458.089</td>\n",
       "    </tr>\n",
       "    <tr>\n",
       "      <th>8763</th>\n",
       "      <td>2014-01-01</td>\n",
       "      <td>4</td>\n",
       "      <td>A</td>\n",
       "      <td>2243.969</td>\n",
       "      <td>2599.321581</td>\n",
       "      <td>2505.690391</td>\n",
       "      <td>2056.672484</td>\n",
       "      <td>0.768910</td>\n",
       "      <td>-0.136710</td>\n",
       "      <td>-0.104451</td>\n",
       "      <td>1458.449</td>\n",
       "    </tr>\n",
       "    <tr>\n",
       "      <th>8764</th>\n",
       "      <td>2014-01-01</td>\n",
       "      <td>5</td>\n",
       "      <td>A</td>\n",
       "      <td>2344.105</td>\n",
       "      <td>2599.321581</td>\n",
       "      <td>2505.690391</td>\n",
       "      <td>2235.652613</td>\n",
       "      <td>0.847847</td>\n",
       "      <td>-0.098186</td>\n",
       "      <td>-0.064487</td>\n",
       "      <td>1587.713</td>\n",
       "    </tr>\n",
       "  </tbody>\n",
       "</table>\n",
       "</div>"
      ],
      "text/plain": [
       "            연월일  시간 구분  prev_year_공급량  prev_month_avg_공급량  \\\n",
       "8760 2014-01-01   1  A       2497.129         2599.321581   \n",
       "8761 2014-01-01   2  A       2363.265         2599.321581   \n",
       "8762 2014-01-01   3  A       2258.505         2599.321581   \n",
       "8763 2014-01-01   4  A       2243.969         2599.321581   \n",
       "8764 2014-01-01   5  A       2344.105         2599.321581   \n",
       "\n",
       "      prev_month_day_avg_공급량  prev_month_hour_avg_공급량  prev_year_ratio  \\\n",
       "8760             2505.690391              2377.634806         0.968475   \n",
       "8761             2505.690391              2129.168742         0.862950   \n",
       "8762             2505.690391              1994.322290         0.780369   \n",
       "8763             2505.690391              2056.672484         0.768910   \n",
       "8764             2505.690391              2235.652613         0.847847   \n",
       "\n",
       "      prev_month_ratio  prev_month_day_ratio       공급량  \n",
       "8760         -0.039315             -0.003417  1677.257  \n",
       "8761         -0.090815             -0.056841  1567.057  \n",
       "8762         -0.131118             -0.098650  1458.089  \n",
       "8763         -0.136710             -0.104451  1458.449  \n",
       "8764         -0.098186             -0.064487  1587.713  "
      ]
     },
     "execution_count": 68,
     "metadata": {},
     "output_type": "execute_result"
    }
   ],
   "source": [
    "best_df = final_df[best_cols]\n",
    "best_df.head()"
   ]
  },
  {
   "cell_type": "code",
   "execution_count": null,
   "id": "incoming-military",
   "metadata": {},
   "outputs": [],
   "source": []
  }
 ],
 "metadata": {
  "hide_input": false,
  "kernelspec": {
   "display_name": "Python 3",
   "language": "python",
   "name": "python3"
  },
  "language_info": {
   "codemirror_mode": {
    "name": "ipython",
    "version": 3
   },
   "file_extension": ".py",
   "mimetype": "text/x-python",
   "name": "python",
   "nbconvert_exporter": "python",
   "pygments_lexer": "ipython3",
   "version": "3.7.7"
  },
  "toc": {
   "base_numbering": 1,
   "nav_menu": {},
   "number_sections": true,
   "sideBar": true,
   "skip_h1_title": false,
   "title_cell": "Table of Contents",
   "title_sidebar": "Contents",
   "toc_cell": true,
   "toc_position": {},
   "toc_section_display": true,
   "toc_window_display": false
  },
  "varInspector": {
   "cols": {
    "lenName": 16,
    "lenType": 16,
    "lenVar": 40
   },
   "kernels_config": {
    "python": {
     "delete_cmd_postfix": "",
     "delete_cmd_prefix": "del ",
     "library": "var_list.py",
     "varRefreshCmd": "print(var_dic_list())"
    },
    "r": {
     "delete_cmd_postfix": ") ",
     "delete_cmd_prefix": "rm(",
     "library": "var_list.r",
     "varRefreshCmd": "cat(var_dic_list()) "
    }
   },
   "types_to_exclude": [
    "module",
    "function",
    "builtin_function_or_method",
    "instance",
    "_Feature"
   ],
   "window_display": false
  }
 },
 "nbformat": 4,
 "nbformat_minor": 5
}
