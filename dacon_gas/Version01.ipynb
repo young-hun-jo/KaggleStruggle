{
 "cells": [
  {
   "cell_type": "markdown",
   "id": "presidential-official",
   "metadata": {
    "toc": true
   },
   "source": [
    "<h1>Table of Contents<span class=\"tocSkip\"></span></h1>\n",
    "<div class=\"toc\"><ul class=\"toc-item\"><li><span><a href=\"#0.-해결하는-문제\" data-toc-modified-id=\"0.-해결하는-문제-1\"><span class=\"toc-item-num\">1&nbsp;&nbsp;</span>0. 해결하는 문제</a></span><ul class=\"toc-item\"><li><span><a href=\"#샘플-코드-확인\" data-toc-modified-id=\"샘플-코드-확인-1.1\"><span class=\"toc-item-num\">1.1&nbsp;&nbsp;</span>샘플 코드 확인</a></span></li></ul></li><li><span><a href=\"#1.-데이터-로드\" data-toc-modified-id=\"1.-데이터-로드-2\"><span class=\"toc-item-num\">2&nbsp;&nbsp;</span>1. 데이터 로드</a></span></li><li><span><a href=\"#간단한-EDA\" data-toc-modified-id=\"간단한-EDA-3\"><span class=\"toc-item-num\">3&nbsp;&nbsp;</span>간단한 EDA</a></span></li><li><span><a href=\"#데이터-로드-->-날짜,자기상관-변수-Feature-Engineering-자동화-함수\" data-toc-modified-id=\"데이터-로드-->-날짜,자기상관-변수-Feature-Engineering-자동화-함수-4\"><span class=\"toc-item-num\">4&nbsp;&nbsp;</span>데이터 로드 -&gt; 날짜,자기상관 변수 Feature Engineering 자동화 함수</a></span></li><li><span><a href=\"#자기상관-변수-FE\" data-toc-modified-id=\"자기상관-변수-FE-5\"><span class=\"toc-item-num\">5&nbsp;&nbsp;</span>자기상관 변수 FE</a></span></li></ul></div>"
   ]
  },
  {
   "cell_type": "markdown",
   "id": "apart-massachusetts",
   "metadata": {},
   "source": [
    "## 0. 해결하는 문제\n",
    "- 가스공급량을 한도 90일 내에 예측하는 문제\n",
    "- 메트릭 : <a href='https://dacon.io/competitions/official/235830/overview/rules'>NMAE</a>\n",
    "- 저작권이 허용 가능한 외부 데이터 및 사전학습 모델 사용 가능"
   ]
  },
  {
   "cell_type": "markdown",
   "id": "outdoor-large",
   "metadata": {},
   "source": [
    "### 샘플 코드 확인"
   ]
  },
  {
   "cell_type": "code",
   "execution_count": 1,
   "id": "formal-yukon",
   "metadata": {},
   "outputs": [
    {
     "data": {
      "text/html": [
       "<div>\n",
       "<style scoped>\n",
       "    .dataframe tbody tr th:only-of-type {\n",
       "        vertical-align: middle;\n",
       "    }\n",
       "\n",
       "    .dataframe tbody tr th {\n",
       "        vertical-align: top;\n",
       "    }\n",
       "\n",
       "    .dataframe thead th {\n",
       "        text-align: right;\n",
       "    }\n",
       "</style>\n",
       "<table border=\"1\" class=\"dataframe\">\n",
       "  <thead>\n",
       "    <tr style=\"text-align: right;\">\n",
       "      <th></th>\n",
       "      <th>일자|시간|구분</th>\n",
       "    </tr>\n",
       "  </thead>\n",
       "  <tbody>\n",
       "    <tr>\n",
       "      <th>0</th>\n",
       "      <td>2019-01-01 01 A</td>\n",
       "    </tr>\n",
       "    <tr>\n",
       "      <th>1</th>\n",
       "      <td>2019-01-01 02 A</td>\n",
       "    </tr>\n",
       "    <tr>\n",
       "      <th>2</th>\n",
       "      <td>2019-01-01 03 A</td>\n",
       "    </tr>\n",
       "    <tr>\n",
       "      <th>3</th>\n",
       "      <td>2019-01-01 04 A</td>\n",
       "    </tr>\n",
       "    <tr>\n",
       "      <th>4</th>\n",
       "      <td>2019-01-01 05 A</td>\n",
       "    </tr>\n",
       "  </tbody>\n",
       "</table>\n",
       "</div>"
      ],
      "text/plain": [
       "          일자|시간|구분\n",
       "0  2019-01-01 01 A\n",
       "1  2019-01-01 02 A\n",
       "2  2019-01-01 03 A\n",
       "3  2019-01-01 04 A\n",
       "4  2019-01-01 05 A"
      ]
     },
     "execution_count": 1,
     "metadata": {},
     "output_type": "execute_result"
    }
   ],
   "source": [
    "import pandas as pd\n",
    "import numpy as np\n",
    "import warnings\n",
    "warnings.filterwarnings(action='ignore')\n",
    "\n",
    "# Test 데이터\n",
    "test_df = pd.read_csv('test.csv')\n",
    "test_df.head()"
   ]
  },
  {
   "cell_type": "code",
   "execution_count": 2,
   "id": "iraqi-tourist",
   "metadata": {
    "scrolled": false
   },
   "outputs": [
    {
     "data": {
      "text/html": [
       "<div>\n",
       "<style scoped>\n",
       "    .dataframe tbody tr th:only-of-type {\n",
       "        vertical-align: middle;\n",
       "    }\n",
       "\n",
       "    .dataframe tbody tr th {\n",
       "        vertical-align: top;\n",
       "    }\n",
       "\n",
       "    .dataframe thead th {\n",
       "        text-align: right;\n",
       "    }\n",
       "</style>\n",
       "<table border=\"1\" class=\"dataframe\">\n",
       "  <thead>\n",
       "    <tr style=\"text-align: right;\">\n",
       "      <th></th>\n",
       "      <th>일자|시간|구분</th>\n",
       "      <th>공급량</th>\n",
       "    </tr>\n",
       "  </thead>\n",
       "  <tbody>\n",
       "    <tr>\n",
       "      <th>0</th>\n",
       "      <td>2019-01-01 01 A</td>\n",
       "      <td>0</td>\n",
       "    </tr>\n",
       "    <tr>\n",
       "      <th>1</th>\n",
       "      <td>2019-01-01 02 A</td>\n",
       "      <td>0</td>\n",
       "    </tr>\n",
       "    <tr>\n",
       "      <th>2</th>\n",
       "      <td>2019-01-01 03 A</td>\n",
       "      <td>0</td>\n",
       "    </tr>\n",
       "    <tr>\n",
       "      <th>3</th>\n",
       "      <td>2019-01-01 04 A</td>\n",
       "      <td>0</td>\n",
       "    </tr>\n",
       "    <tr>\n",
       "      <th>4</th>\n",
       "      <td>2019-01-01 05 A</td>\n",
       "      <td>0</td>\n",
       "    </tr>\n",
       "    <tr>\n",
       "      <th>...</th>\n",
       "      <td>...</td>\n",
       "      <td>...</td>\n",
       "    </tr>\n",
       "    <tr>\n",
       "      <th>15115</th>\n",
       "      <td>2019-03-31 20 H</td>\n",
       "      <td>0</td>\n",
       "    </tr>\n",
       "    <tr>\n",
       "      <th>15116</th>\n",
       "      <td>2019-03-31 21 H</td>\n",
       "      <td>0</td>\n",
       "    </tr>\n",
       "    <tr>\n",
       "      <th>15117</th>\n",
       "      <td>2019-03-31 22 H</td>\n",
       "      <td>0</td>\n",
       "    </tr>\n",
       "    <tr>\n",
       "      <th>15118</th>\n",
       "      <td>2019-03-31 23 H</td>\n",
       "      <td>0</td>\n",
       "    </tr>\n",
       "    <tr>\n",
       "      <th>15119</th>\n",
       "      <td>2019-03-31 24 H</td>\n",
       "      <td>0</td>\n",
       "    </tr>\n",
       "  </tbody>\n",
       "</table>\n",
       "<p>15120 rows × 2 columns</p>\n",
       "</div>"
      ],
      "text/plain": [
       "              일자|시간|구분  공급량\n",
       "0      2019-01-01 01 A    0\n",
       "1      2019-01-01 02 A    0\n",
       "2      2019-01-01 03 A    0\n",
       "3      2019-01-01 04 A    0\n",
       "4      2019-01-01 05 A    0\n",
       "...                ...  ...\n",
       "15115  2019-03-31 20 H    0\n",
       "15116  2019-03-31 21 H    0\n",
       "15117  2019-03-31 22 H    0\n",
       "15118  2019-03-31 23 H    0\n",
       "15119  2019-03-31 24 H    0\n",
       "\n",
       "[15120 rows x 2 columns]"
      ]
     },
     "execution_count": 2,
     "metadata": {},
     "output_type": "execute_result"
    }
   ],
   "source": [
    "# 샘플 제출 데이터\n",
    "sample_sub = pd.read_csv('sample_submission.csv')\n",
    "sample_sub"
   ]
  },
  {
   "cell_type": "markdown",
   "id": "fatty-groove",
   "metadata": {},
   "source": [
    "## 1. 데이터 로드"
   ]
  },
  {
   "cell_type": "code",
   "execution_count": 3,
   "id": "chief-synthetic",
   "metadata": {},
   "outputs": [
    {
     "name": "stdout",
     "output_type": "stream",
     "text": [
      "(368088, 4)\n"
     ]
    }
   ],
   "source": [
    "import pandas as pd\n",
    "import numpy as np\n",
    "\n",
    "df = pd.read_csv('한국가스공사_시간별 공급량_20181231.csv', encoding='cp949')\n",
    "print(df.shape)"
   ]
  },
  {
   "cell_type": "code",
   "execution_count": 4,
   "id": "upper-occupation",
   "metadata": {},
   "outputs": [
    {
     "data": {
      "text/plain": [
       "연월일    0\n",
       "시간     0\n",
       "구분     0\n",
       "공급량    0\n",
       "dtype: int64"
      ]
     },
     "execution_count": 4,
     "metadata": {},
     "output_type": "execute_result"
    }
   ],
   "source": [
    "# 결측치 확인 -> 없음\n",
    "df.isnull().sum()"
   ]
  },
  {
   "cell_type": "code",
   "execution_count": 5,
   "id": "animated-bacteria",
   "metadata": {},
   "outputs": [
    {
     "data": {
      "text/plain": [
       "array(['2013-01-01', '2013-01-02', '2013-01-03', ..., '2018-12-29',\n",
       "       '2018-12-30', '2018-12-31'], dtype=object)"
      ]
     },
     "metadata": {},
     "output_type": "display_data"
    },
    {
     "data": {
      "text/plain": [
       "array([ 1,  2,  3,  4,  5,  6,  7,  8,  9, 10, 11, 12, 13, 14, 15, 16, 17,\n",
       "       18, 19, 20, 21, 22, 23, 24])"
      ]
     },
     "metadata": {},
     "output_type": "display_data"
    },
    {
     "data": {
      "text/plain": [
       "array(['A', 'B', 'C', 'D', 'E', 'G', 'H'], dtype=object)"
      ]
     },
     "metadata": {},
     "output_type": "display_data"
    }
   ],
   "source": [
    "# 연월일, 시간, 구분의 unique한 값들 출력\n",
    "cols = ['연월일', '시간', '구분']\n",
    "for col in cols:\n",
    "    display(df[col].unique())"
   ]
  },
  {
   "cell_type": "code",
   "execution_count": 6,
   "id": "pretty-washer",
   "metadata": {},
   "outputs": [
    {
     "name": "stdout",
     "output_type": "stream",
     "text": [
      "원래 날짜 길이: 2191 데이터프레임 속 날짜 길이: 2191\n"
     ]
    }
   ],
   "source": [
    "# 연월일에서 빈 시간이 없는지 확인 -> 모두 있음\n",
    "origin_len = len(pd.date_range(start='2013-01-01', end='2018-12-31', freq='D'))\n",
    "df_len = len(df['연월일'].unique())\n",
    "\n",
    "print('원래 날짜 길이:', origin_len, '데이터프레임 속 날짜 길이:', df_len)"
   ]
  },
  {
   "cell_type": "markdown",
   "id": "homeless-black",
   "metadata": {},
   "source": [
    "## 간단한 EDA\n",
    "- 공급량(Y) 분포 확인"
   ]
  },
  {
   "cell_type": "code",
   "execution_count": 7,
   "id": "strange-nicaragua",
   "metadata": {},
   "outputs": [],
   "source": [
    "plot_df = df.copy()"
   ]
  },
  {
   "cell_type": "code",
   "execution_count": 8,
   "id": "comprehensive-initial",
   "metadata": {},
   "outputs": [],
   "source": [
    "plot_df['연월일'] = pd.to_datetime(plot_df['연월일'])"
   ]
  },
  {
   "cell_type": "code",
   "execution_count": 14,
   "id": "anonymous-mortgage",
   "metadata": {},
   "outputs": [],
   "source": [
    "def add_datetime(row):\n",
    "    if row['시간'] == 24:\n",
    "        row['연월일'] = row['연월일'] + pd.DateOffset(days=1)\n",
    "        row['시간'] = 0\n",
    "    return row"
   ]
  },
  {
   "cell_type": "code",
   "execution_count": 15,
   "id": "compressed-chapel",
   "metadata": {},
   "outputs": [],
   "source": [
    "plot_df = plot_df.apply(add_datetime, axis=1)"
   ]
  },
  {
   "cell_type": "code",
   "execution_count": 16,
   "id": "comprehensive-virgin",
   "metadata": {},
   "outputs": [
    {
     "data": {
      "text/plain": [
       "array([ 1,  2,  3,  4,  5,  6,  7,  8,  9, 10, 11, 12, 13, 14, 15, 16, 17,\n",
       "       18, 19, 20, 21, 22, 23,  0])"
      ]
     },
     "execution_count": 16,
     "metadata": {},
     "output_type": "execute_result"
    }
   ],
   "source": [
    "plot_df['시간'].unique()"
   ]
  },
  {
   "cell_type": "code",
   "execution_count": 17,
   "id": "textile-germany",
   "metadata": {},
   "outputs": [
    {
     "data": {
      "text/html": [
       "<div>\n",
       "<style scoped>\n",
       "    .dataframe tbody tr th:only-of-type {\n",
       "        vertical-align: middle;\n",
       "    }\n",
       "\n",
       "    .dataframe tbody tr th {\n",
       "        vertical-align: top;\n",
       "    }\n",
       "\n",
       "    .dataframe thead th {\n",
       "        text-align: right;\n",
       "    }\n",
       "</style>\n",
       "<table border=\"1\" class=\"dataframe\">\n",
       "  <thead>\n",
       "    <tr style=\"text-align: right;\">\n",
       "      <th></th>\n",
       "      <th>연월일</th>\n",
       "      <th>시간</th>\n",
       "      <th>구분</th>\n",
       "      <th>공급량</th>\n",
       "    </tr>\n",
       "  </thead>\n",
       "  <tbody>\n",
       "    <tr>\n",
       "      <th>0</th>\n",
       "      <td>2013-01-01</td>\n",
       "      <td>1</td>\n",
       "      <td>A</td>\n",
       "      <td>2497.129</td>\n",
       "    </tr>\n",
       "    <tr>\n",
       "      <th>1</th>\n",
       "      <td>2013-01-01</td>\n",
       "      <td>2</td>\n",
       "      <td>A</td>\n",
       "      <td>2363.265</td>\n",
       "    </tr>\n",
       "    <tr>\n",
       "      <th>2</th>\n",
       "      <td>2013-01-01</td>\n",
       "      <td>3</td>\n",
       "      <td>A</td>\n",
       "      <td>2258.505</td>\n",
       "    </tr>\n",
       "    <tr>\n",
       "      <th>3</th>\n",
       "      <td>2013-01-01</td>\n",
       "      <td>4</td>\n",
       "      <td>A</td>\n",
       "      <td>2243.969</td>\n",
       "    </tr>\n",
       "    <tr>\n",
       "      <th>4</th>\n",
       "      <td>2013-01-01</td>\n",
       "      <td>5</td>\n",
       "      <td>A</td>\n",
       "      <td>2344.105</td>\n",
       "    </tr>\n",
       "  </tbody>\n",
       "</table>\n",
       "</div>"
      ],
      "text/plain": [
       "         연월일  시간 구분       공급량\n",
       "0 2013-01-01   1  A  2497.129\n",
       "1 2013-01-01   2  A  2363.265\n",
       "2 2013-01-01   3  A  2258.505\n",
       "3 2013-01-01   4  A  2243.969\n",
       "4 2013-01-01   5  A  2344.105"
      ]
     },
     "execution_count": 17,
     "metadata": {},
     "output_type": "execute_result"
    }
   ],
   "source": [
    "plot_df.head()"
   ]
  },
  {
   "cell_type": "code",
   "execution_count": 18,
   "id": "assisted-scratch",
   "metadata": {},
   "outputs": [],
   "source": [
    "plot_df['연월일'] = plot_df['연월일'].astype(str)\n",
    "plot_df['시간'] = plot_df['시간'].apply(lambda x: str(x) if x >= 10 else '0'+str(x))\n",
    "plot_df['datetime'] = plot_df['연월일'] + ' ' + plot_df['시간']\n",
    "plot_df['datetime'] = pd.to_datetime(plot_df['datetime'], format='%Y-%m-%d %H')"
   ]
  },
  {
   "cell_type": "code",
   "execution_count": 26,
   "id": "burning-redhead",
   "metadata": {
    "scrolled": true
   },
   "outputs": [],
   "source": [
    "def show_displot(data, x, y, hue, kind):\n",
    "    plt.figure(figsize=(22, 10))\n",
    "    sns.displot(data=data, x=x, y=y, hue=hue, kind=kind)\n",
    "    plt.xticks(rotation=90)\n",
    "    plt.show()"
   ]
  },
  {
   "cell_type": "markdown",
   "id": "finnish-album",
   "metadata": {},
   "source": [
    "## 데이터 로드 -> 날짜,자기상관 변수 Feature Engineering 자동화 함수"
   ]
  },
  {
   "cell_type": "code",
   "execution_count": 101,
   "id": "modified-apple",
   "metadata": {},
   "outputs": [
    {
     "name": "stdout",
     "output_type": "stream",
     "text": [
      "(368088, 24)\n"
     ]
    }
   ],
   "source": [
    "import pandas as pd\n",
    "import numpy as np\n",
    "import os\n",
    "import warnings\n",
    "warnings.filterwarnings(action='ignore')\n",
    "\n",
    "\n",
    "def load_data() -> pd.DataFrame:\n",
    "    path = '/Users/younghun/Desktop/gitrepo/dacon_gas'\n",
    "\n",
    "    data = pd.read_csv(os.path.join(path, '한국가스공사_시간별 공급량_20181231.csv'),\n",
    "                       encoding='cp949')\n",
    "    return data\n",
    "\n",
    "\n",
    "def make_datetime_vars(data) -> pd.DataFrame:\n",
    "    data['연월일'] = pd.to_datetime(data['연월일'])\n",
    "    data['year'] = data['연월일'].dt.year\n",
    "    data['month'] = data['연월일'].dt.month\n",
    "    data['day'] = data['연월일'].dt.day\n",
    "    data['week_no'] = data['연월일'].dt.strftime(\"%V\").astype(int)\n",
    "    data['dayofweek'] = data['연월일'].dt.day_name()\n",
    "    data['weekend_yn'] = np.where(data['dayofweek'].isin(['Saturday', 'Sunday']), 1, 0)\n",
    "    data['dayofyear'] = data['연월일'].dt.dayofyear\n",
    "\n",
    "    return data\n",
    "\n",
    "\n",
    "def make_autocorel_vars(data, gubun='A') -> pd.DataFrame:\n",
    "    sub_df = data[data['구분'] == gubun]\n",
    "    # 자기 상관 변수 생성\n",
    "    n = [x for x in range(1, 6)]\n",
    "    for i in n:\n",
    "        column_nm = f'D-{i}_y'\n",
    "        sub_df[column_nm] = sub_df['공급량'].shift(i)\n",
    "    # 이동평균 변수 생성\n",
    "    n = [5, 7, 14, 30]\n",
    "    for i in n:\n",
    "        column_nm = f'D-{i}_ma_avg'\n",
    "        sub_df[column_nm] = sub_df['공급량'].rolling(i).mean().shift(1)\n",
    "    # 증가율 변수 생성\n",
    "    sub_df['D1-D2_ratio'] = (sub_df['D-1_y'] - sub_df['D-2_y']) / sub_df['D-2_y']\n",
    "    sub_df['W1-W2_ratio'] = (sub_df['D-7_ma_avg'] - sub_df['D-14_ma_avg']) / sub_df['D-14_ma_avg']\n",
    "    sub_df['D1-W1_ratio'] = (sub_df['D-1_y'] - sub_df['D-7_ma_avg']) / sub_df['D-7_ma_avg']\n",
    "    sub_df['D1-W2_ratio'] = (sub_df['D-1_y'] - sub_df['D-14_ma_avg']) / sub_df['D-14_ma_avg']\n",
    "    \n",
    "    return sub_df\n",
    "\n",
    "\n",
    "def split_and_merge_datasets():\n",
    "    data = load_data()\n",
    "    # 날짜 관련 변수 생성\n",
    "    data = make_datetime_vars(data)\n",
    "    # 모든 구분에 대해서 분리해서 자기상관변수 생성 후 다시 합치기\n",
    "    merge_df = pd.DataFrame()\n",
    "    cols = data['구분'].unique()\n",
    "    for col in cols:\n",
    "        sub_df = make_autocorel_vars(data, gubun=col)\n",
    "        merge_df = pd.concat([merge_df, sub_df], axis=0)\n",
    "    \n",
    "    return merge_df\n",
    "\n",
    "merge_df = split_and_merge_datasets()\n",
    "print(merge_df.shape)"
   ]
  },
  {
   "cell_type": "markdown",
   "id": "seeing-phrase",
   "metadata": {},
   "source": [
    "---"
   ]
  },
  {
   "cell_type": "markdown",
   "id": "returning-france",
   "metadata": {},
   "source": [
    "## 자기상관 변수 FE"
   ]
  },
  {
   "cell_type": "code",
   "execution_count": 148,
   "id": "effective-virgin",
   "metadata": {},
   "outputs": [],
   "source": [
    "# Train, Test 병합\n",
    "test_df['연월일'] = test_df['일자|시간|구분'].str.split(' ', expand=True)[0]\n",
    "test_df['시간'] = test_df['일자|시간|구분'].str.split(' ', expand=True)[1].astype(int)\n",
    "test_df['구분'] = test_df['일자|시간|구분'].str.split(' ', expand=True)[2]\n",
    "\n",
    "del test_df['일자|시간|구분']\n",
    "\n",
    "df = pd.concat([df, test_df], axis=0)"
   ]
  },
  {
   "cell_type": "code",
   "execution_count": 149,
   "id": "centered-opening",
   "metadata": {},
   "outputs": [
    {
     "data": {
      "text/html": [
       "<div>\n",
       "<style scoped>\n",
       "    .dataframe tbody tr th:only-of-type {\n",
       "        vertical-align: middle;\n",
       "    }\n",
       "\n",
       "    .dataframe tbody tr th {\n",
       "        vertical-align: top;\n",
       "    }\n",
       "\n",
       "    .dataframe thead th {\n",
       "        text-align: right;\n",
       "    }\n",
       "</style>\n",
       "<table border=\"1\" class=\"dataframe\">\n",
       "  <thead>\n",
       "    <tr style=\"text-align: right;\">\n",
       "      <th></th>\n",
       "      <th>연월일</th>\n",
       "      <th>시간</th>\n",
       "      <th>구분</th>\n",
       "      <th>공급량</th>\n",
       "    </tr>\n",
       "  </thead>\n",
       "  <tbody>\n",
       "    <tr>\n",
       "      <th>0</th>\n",
       "      <td>2013-01-01</td>\n",
       "      <td>1</td>\n",
       "      <td>A</td>\n",
       "      <td>2497.129</td>\n",
       "    </tr>\n",
       "    <tr>\n",
       "      <th>1</th>\n",
       "      <td>2013-01-01</td>\n",
       "      <td>2</td>\n",
       "      <td>A</td>\n",
       "      <td>2363.265</td>\n",
       "    </tr>\n",
       "    <tr>\n",
       "      <th>2</th>\n",
       "      <td>2013-01-01</td>\n",
       "      <td>3</td>\n",
       "      <td>A</td>\n",
       "      <td>2258.505</td>\n",
       "    </tr>\n",
       "    <tr>\n",
       "      <th>3</th>\n",
       "      <td>2013-01-01</td>\n",
       "      <td>4</td>\n",
       "      <td>A</td>\n",
       "      <td>2243.969</td>\n",
       "    </tr>\n",
       "    <tr>\n",
       "      <th>4</th>\n",
       "      <td>2013-01-01</td>\n",
       "      <td>5</td>\n",
       "      <td>A</td>\n",
       "      <td>2344.105</td>\n",
       "    </tr>\n",
       "    <tr>\n",
       "      <th>...</th>\n",
       "      <td>...</td>\n",
       "      <td>...</td>\n",
       "      <td>...</td>\n",
       "      <td>...</td>\n",
       "    </tr>\n",
       "    <tr>\n",
       "      <th>15115</th>\n",
       "      <td>2019-03-31</td>\n",
       "      <td>20</td>\n",
       "      <td>H</td>\n",
       "      <td>NaN</td>\n",
       "    </tr>\n",
       "    <tr>\n",
       "      <th>15116</th>\n",
       "      <td>2019-03-31</td>\n",
       "      <td>21</td>\n",
       "      <td>H</td>\n",
       "      <td>NaN</td>\n",
       "    </tr>\n",
       "    <tr>\n",
       "      <th>15117</th>\n",
       "      <td>2019-03-31</td>\n",
       "      <td>22</td>\n",
       "      <td>H</td>\n",
       "      <td>NaN</td>\n",
       "    </tr>\n",
       "    <tr>\n",
       "      <th>15118</th>\n",
       "      <td>2019-03-31</td>\n",
       "      <td>23</td>\n",
       "      <td>H</td>\n",
       "      <td>NaN</td>\n",
       "    </tr>\n",
       "    <tr>\n",
       "      <th>15119</th>\n",
       "      <td>2019-03-31</td>\n",
       "      <td>24</td>\n",
       "      <td>H</td>\n",
       "      <td>NaN</td>\n",
       "    </tr>\n",
       "  </tbody>\n",
       "</table>\n",
       "<p>383208 rows × 4 columns</p>\n",
       "</div>"
      ],
      "text/plain": [
       "              연월일  시간 구분       공급량\n",
       "0      2013-01-01   1  A  2497.129\n",
       "1      2013-01-01   2  A  2363.265\n",
       "2      2013-01-01   3  A  2258.505\n",
       "3      2013-01-01   4  A  2243.969\n",
       "4      2013-01-01   5  A  2344.105\n",
       "...           ...  .. ..       ...\n",
       "15115  2019-03-31  20  H       NaN\n",
       "15116  2019-03-31  21  H       NaN\n",
       "15117  2019-03-31  22  H       NaN\n",
       "15118  2019-03-31  23  H       NaN\n",
       "15119  2019-03-31  24  H       NaN\n",
       "\n",
       "[383208 rows x 4 columns]"
      ]
     },
     "execution_count": 149,
     "metadata": {},
     "output_type": "execute_result"
    }
   ],
   "source": [
    "df"
   ]
  },
  {
   "cell_type": "code",
   "execution_count": 150,
   "id": "roman-permit",
   "metadata": {},
   "outputs": [],
   "source": [
    "df['연월일'] = pd.to_datetime(df['연월일'])"
   ]
  },
  {
   "cell_type": "code",
   "execution_count": 151,
   "id": "exotic-kinase",
   "metadata": {},
   "outputs": [],
   "source": [
    "def change_dates(row):\n",
    "    if row['시간'] == 24:\n",
    "        row['연월일'] += pd.DateOffset(days=1)\n",
    "        row['시간'] = 0\n",
    "    return row\n",
    "df = df.apply(change_dates, axis=1)"
   ]
  },
  {
   "cell_type": "code",
   "execution_count": 152,
   "id": "prostate-pharmacology",
   "metadata": {},
   "outputs": [],
   "source": [
    "df['시간'] = df['시간'].apply(lambda x: str(x) if x >= 10 else '0'+str(x))"
   ]
  },
  {
   "cell_type": "code",
   "execution_count": 153,
   "id": "better-tampa",
   "metadata": {},
   "outputs": [],
   "source": [
    "df['연월일'] = df['연월일'].astype(str)\n",
    "df['datetime'] = df['연월일'] + ' ' + df['시간']"
   ]
  },
  {
   "cell_type": "code",
   "execution_count": 154,
   "id": "quantitative-colonial",
   "metadata": {},
   "outputs": [],
   "source": [
    "df['datetime'] = pd.to_datetime(df['datetime'], format='%Y-%m-%d %H')\n",
    "\n",
    "# 매년 01-01 ~ 03-31 데이터인 것만 따로 떼네기\n",
    "date_range = (df['datetime'].dt.month >= 1) & (df['datetime'].dt.month <= 3)\n",
    "df = df[date_range]"
   ]
  },
  {
   "cell_type": "code",
   "execution_count": 155,
   "id": "social-genome",
   "metadata": {},
   "outputs": [],
   "source": [
    "df['prev_datetime'] = df['datetime'] - pd.DateOffset(years=1)"
   ]
  },
  {
   "cell_type": "markdown",
   "id": "wound-grade",
   "metadata": {},
   "source": [
    "---\n",
    "- 구분 유형 하나로 파생변수 모두 만든다음 -> 모든 구분 유형에 대해 반복 loop"
   ]
  },
  {
   "cell_type": "code",
   "execution_count": 160,
   "id": "several-motivation",
   "metadata": {},
   "outputs": [],
   "source": [
    "A_df = df[df['구분'] == 'A']"
   ]
  },
  {
   "cell_type": "markdown",
   "id": "split-gentleman",
   "metadata": {},
   "source": [
    "- 일년, 이년전 그 시간 대 공급량 파생변수"
   ]
  },
  {
   "cell_type": "code",
   "execution_count": 161,
   "id": "confused-investigator",
   "metadata": {},
   "outputs": [],
   "source": [
    "# 일년 전 공급량 파생변수 생성\n",
    "A_df['prev_year_공급량'] = A_df.groupby([A_df['datetime'].dt.month, A_df['datetime'].dt.day,\n",
    "                                 A_df['datetime'].dt.hour])['공급량'].shift()"
   ]
  },
  {
   "cell_type": "code",
   "execution_count": 162,
   "id": "superior-november",
   "metadata": {},
   "outputs": [],
   "source": [
    "# 이년 전 공급량 파생변수 생성\n",
    "A_df['prev_two_year_공급량'] = A_df.groupby([A_df['datetime'].dt.month, A_df['datetime'].dt.day,\n",
    "                                     A_df['datetime'].dt.hour])['공급량'].shift(2)"
   ]
  },
  {
   "cell_type": "markdown",
   "id": "upper-secondary",
   "metadata": {},
   "source": [
    "- 작년도 평균 공급량 파생변수"
   ]
  },
  {
   "cell_type": "code",
   "execution_count": 163,
   "id": "resistant-arbitration",
   "metadata": {},
   "outputs": [],
   "source": [
    "A_df['prev_year'] = A_df['prev_datetime'].dt.year"
   ]
  },
  {
   "cell_type": "code",
   "execution_count": 165,
   "id": "grand-nirvana",
   "metadata": {},
   "outputs": [],
   "source": [
    "prev_year_mean_df = A_df.groupby([A_df['datetime'].dt.year])['공급량'].mean()\n",
    "prev_year_mean_dict = dict(zip(prev_year_mean_df.index, prev_year_mean_df.values.reshape(-1,)))"
   ]
  },
  {
   "cell_type": "code",
   "execution_count": 169,
   "id": "ecological-clear",
   "metadata": {},
   "outputs": [],
   "source": [
    "A_df['prev_year_avg_공급량'] = A_df['prev_year'].map(prev_year_mean_dict)"
   ]
  },
  {
   "cell_type": "markdown",
   "id": "understood-stream",
   "metadata": {},
   "source": [
    "- 작년도 월별 평균 공급량 파생변수"
   ]
  },
  {
   "cell_type": "code",
   "execution_count": 172,
   "id": "temporal-salvation",
   "metadata": {},
   "outputs": [],
   "source": [
    "prev_month_mean_df = A_df.groupby([A_df['datetime'].dt.year, A_df['datetime'].dt.month])['공급량'].mean()\n",
    "prev_month_mean_dict = dict(zip(prev_month_mean_df.index, prev_month_mean_df.values.reshape(-1,)))"
   ]
  },
  {
   "cell_type": "code",
   "execution_count": 183,
   "id": "white-israeli",
   "metadata": {},
   "outputs": [],
   "source": [
    "A_df['prev_year_month'] = tuple(zip(A_df['prev_year'].values.reshape(-1,), A_df['prev_datetime'].dt.month.values.reshape(-1,)))"
   ]
  },
  {
   "cell_type": "code",
   "execution_count": 186,
   "id": "mighty-likelihood",
   "metadata": {
    "scrolled": true
   },
   "outputs": [],
   "source": [
    "A_df['prev_month_avg_공급량'] = A_df['prev_year_month'].map(prev_month_mean_dict)"
   ]
  },
  {
   "cell_type": "markdown",
   "id": "certified-opposition",
   "metadata": {},
   "source": [
    "- 작년도 월-일자별 평균 공급량 파생변수"
   ]
  },
  {
   "cell_type": "code",
   "execution_count": 189,
   "id": "linear-midnight",
   "metadata": {},
   "outputs": [],
   "source": [
    "prev_month_day_mean_df = A_df.groupby([A_df['datetime'].dt.year,\n",
    "                                       A_df['datetime'].dt.month,\n",
    "                                      A_df['datetime'].dt.day])['공급량'].mean()\n",
    "prev_month_day_mean_dict = dict(zip(prev_month_day_mean_df.index, prev_month_day_mean_df.values.reshape(-1,)))\n",
    "\n",
    "A_df['prev_year_month_day'] = tuple(zip(A_df['prev_year'].values.reshape(-1,),\n",
    "                                       A_df['prev_datetime'].dt.month.values.reshape(-1,),\n",
    "                                       A_df['prev_datetime'].dt.day.values.reshape(-1,)))"
   ]
  },
  {
   "cell_type": "code",
   "execution_count": 192,
   "id": "convertible-skiing",
   "metadata": {},
   "outputs": [],
   "source": [
    "A_df['prev_month_day_avg_공급량'] = A_df['prev_year_month_day'].map(prev_month_day_mean_dict)"
   ]
  },
  {
   "cell_type": "markdown",
   "id": "advance-reputation",
   "metadata": {},
   "source": [
    "- 작년도 월-시간별 평균 공급량 파생변수"
   ]
  },
  {
   "cell_type": "code",
   "execution_count": 195,
   "id": "specified-stock",
   "metadata": {},
   "outputs": [],
   "source": [
    "prev_month_hour_mean_df = A_df.groupby([A_df['datetime'].dt.year,\n",
    "                                       A_df['datetime'].dt.month,\n",
    "                                       A_df['datetime'].dt.hour])['공급량'].mean()\n",
    "prev_month_hour_mean_dict = dict(zip(prev_month_hour_mean_df.index, prev_month_hour_mean_df.values.reshape(-1,)))\n",
    "\n",
    "A_df['prev_year_month_hour'] = tuple(zip(A_df['prev_year'].values.reshape(-1,),\n",
    "                                       A_df['prev_datetime'].dt.month.values.reshape(-1,),\n",
    "                                       A_df['prev_datetime'].dt.hour.values.reshape(-1,)))"
   ]
  },
  {
   "cell_type": "code",
   "execution_count": 197,
   "id": "better-emperor",
   "metadata": {},
   "outputs": [],
   "source": [
    "A_df['prev_month_hour_avg_공급량'] = A_df['prev_year_month_hour'].map(prev_month_hour_mean_dict)"
   ]
  },
  {
   "cell_type": "code",
   "execution_count": 213,
   "id": "pointed-farming",
   "metadata": {},
   "outputs": [],
   "source": [
    "used_cols = ['연월일', '시간', 'datetime', '구분', '공급량', 'prev_year_공급량',\n",
    "            'prev_two_year_공급량', 'prev_year_avg_공급량', 'prev_month_avg_공급량', 'prev_month_day_avg_공급량',\n",
    "            'prev_month_hour_avg_공급량']\n",
    "A_final_df = A_df[used_cols]"
   ]
  },
  {
   "cell_type": "markdown",
   "id": "needed-butler",
   "metadata": {},
   "source": [
    "- 위 과정을 모든 구분에 대해 반복!!! -> Train/Test 병합, 날짜변수 생성, 자기상관 변수 생성하는 것까지 클래스화 시키기\n",
    "    - 2년 전 공급량하면 너무 기간이 많이 비긴 함..\n",
    "    - 1년 전만 할 것인지 2년 전까지 할 것인지 성능비교를 통해서 결정"
   ]
  },
  {
   "cell_type": "code",
   "execution_count": 10,
   "id": "magnetic-gasoline",
   "metadata": {},
   "outputs": [
    {
     "name": "stderr",
     "output_type": "stream",
     "text": [
      "100%|██████████| 7/7 [00:01<00:00,  6.67it/s]\n"
     ]
    }
   ],
   "source": [
    "import pandas as pd\n",
    "import numpy as np\n",
    "import os\n",
    "from tqdm import tqdm\n",
    "import warnings\n",
    "warnings.filterwarnings(action='ignore')\n",
    "\n",
    "\n",
    "def load_datasets(path) -> pd.DataFrame:\n",
    "    train = pd.read_csv(os.path.join(path, '한국가스공사_시간별 공급량_20181231.csv'),\n",
    "                        encoding='cp949')\n",
    "    test = pd.read_csv(os.path.join(path, 'test.csv'))\n",
    "    # test 데이터 전처리\n",
    "    test['연월일'] = test['일자|시간|구분'].str.split(' ', expand=True)[0]\n",
    "    test['시간'] = test['일자|시간|구분'].str.split(' ', expand=True)[1].astype(int)\n",
    "    test['구분'] = test['일자|시간|구분'].str.split(' ', expand=True)[2]\n",
    "    del test['일자|시간|구분']\n",
    "\n",
    "    data = pd.concat([train, test], axis=0)\n",
    "    return data\n",
    "\n",
    "\n",
    "def make_datetime_vars(data) -> pd.DataFrame:\n",
    "    data['연월일'] = pd.to_datetime(data['연월일'])\n",
    "    data['year'] = data['연월일'].dt.year\n",
    "    data['month'] = data['연월일'].dt.month\n",
    "    data['day'] = data['연월일'].dt.day\n",
    "    data['week_no'] = data['연월일'].dt.strftime(\"%V\").astype(int)\n",
    "    data['dayofweek'] = data['연월일'].dt.day_name()\n",
    "    data['weekend_yn'] = np.where(data['dayofweek'].isin(['Saturday', 'Sunday']), 1, 0)\n",
    "    data['dayofyear'] = data['연월일'].dt.dayofyear\n",
    "\n",
    "    return data\n",
    "\n",
    "\n",
    "def change_dates(row):\n",
    "    if row['시간'] == 24:\n",
    "        row['연월일'] += pd.DateOffset(days=1)\n",
    "        row['시간'] = 0\n",
    "    return row\n",
    "\n",
    "\n",
    "def extract_need_data(df):\n",
    "    \"\"\" 연월일 날짜 포맷 바꾸고 매년 01-01~03-31 기간 데이터만 추출\"\"\"\n",
    "    df = df.apply(change_dates, axis=1)\n",
    "    df['시간'] = df['시간'].apply(lambda x: str(x) if x >= 10 else '0' + str(x))\n",
    "    df['연월일'] = df['연월일'].astype(str)\n",
    "    df['datetime'] = df['연월일'] + ' ' + df['시간']\n",
    "    df['datetime'] = pd.to_datetime(df['datetime'], format='%Y-%m-%d %H')\n",
    "\n",
    "    # 매년 01-01 ~ 03-31 데이터인 것만 따로 떼네기\n",
    "    date_range = (df['datetime'].dt.month >= 1) & (df['datetime'].dt.month <= 3)\n",
    "    df = df[date_range]\n",
    "    df['prev_datetime'] = df['datetime'] - pd.DateOffset(years=1)\n",
    "\n",
    "    return df\n",
    "\n",
    "\n",
    "def make_autocorr_vars(df, gubun='A'):\n",
    "    sub_df = df[df['구분'] == gubun]\n",
    "    # 일년 전 그 시간대 공급량\n",
    "    sub_df['prev_year_공급량'] = sub_df.groupby([sub_df['datetime'].dt.month, sub_df['datetime'].dt.day,\n",
    "                                          sub_df['datetime'].dt.hour])['공급량'].shift()\n",
    "    # 이년 전 공급량 파생변수 생성\n",
    "    sub_df['prev_two_year_공급량'] = sub_df.groupby([sub_df['datetime'].dt.month, sub_df['datetime'].dt.day,\n",
    "                                              sub_df['datetime'].dt.hour])['공급량'].shift(2)\n",
    "    # 일년 전 평균 공급량\n",
    "    sub_df['prev_year'] = sub_df['prev_datetime'].dt.year\n",
    "    prev_year_mean_df = sub_df.groupby([sub_df['datetime'].dt.year])['공급량'].mean()\n",
    "    prev_year_mean_dict = dict(zip(prev_year_mean_df.index, prev_year_mean_df.values.reshape(-1, )))\n",
    "    sub_df['prev_year_avg_공급량'] = sub_df['prev_year'].map(prev_year_mean_dict)\n",
    "    # 일년 전 월별 평균 공급량\n",
    "    prev_month_mean_df = sub_df.groupby([sub_df['datetime'].dt.year, sub_df['datetime'].dt.month])['공급량'].mean()\n",
    "    prev_month_mean_dict = dict(zip(prev_month_mean_df.index, prev_month_mean_df.values.reshape(-1, )))\n",
    "    sub_df['prev_year_month'] = tuple(zip(sub_df['prev_year'].values.reshape(-1, ),\n",
    "                                        sub_df['prev_datetime'].dt.month.values.reshape(-1, )))\n",
    "    sub_df['prev_month_avg_공급량'] = sub_df['prev_year_month'].map(prev_month_mean_dict)\n",
    "    # 일년 전 월-일자별 평균 공급량\n",
    "    prev_month_day_mean_df = sub_df.groupby([sub_df['datetime'].dt.year,\n",
    "                                           sub_df['datetime'].dt.month,\n",
    "                                           sub_df['datetime'].dt.day])['공급량'].mean()\n",
    "    prev_month_day_mean_dict = dict(zip(prev_month_day_mean_df.index, prev_month_day_mean_df.values.reshape(-1, )))\n",
    "\n",
    "    sub_df['prev_year_month_day'] = tuple(zip(sub_df['prev_year'].values.reshape(-1, ),\n",
    "                                            sub_df['prev_datetime'].dt.month.values.reshape(-1, ),\n",
    "                                            sub_df['prev_datetime'].dt.day.values.reshape(-1, )))\n",
    "    sub_df['prev_month_day_avg_공급량'] = sub_df['prev_year_month_day'].map(prev_month_day_mean_dict)\n",
    "    # 일년 전 월-시간 별 평균 공급량\n",
    "    prev_month_hour_mean_df = sub_df.groupby([sub_df['datetime'].dt.year,\n",
    "                                            sub_df['datetime'].dt.month,\n",
    "                                            sub_df['datetime'].dt.hour])['공급량'].mean()\n",
    "    prev_month_hour_mean_dict = dict(zip(prev_month_hour_mean_df.index, prev_month_hour_mean_df.values.reshape(-1, )))\n",
    "\n",
    "    sub_df['prev_year_month_hour'] = tuple(zip(sub_df['prev_year'].values.reshape(-1, ),\n",
    "                                             sub_df['prev_datetime'].dt.month.values.reshape(-1, ),\n",
    "                                             sub_df['prev_datetime'].dt.hour.values.reshape(-1, )))\n",
    "    sub_df['prev_month_hour_avg_공급량'] = sub_df['prev_year_month_hour'].map(prev_month_hour_mean_dict)\n",
    "\n",
    "    # 필요한 칼럼들만 추출\n",
    "    used_cols = ['연월일', '시간', 'datetime', '구분', '공급량', 'prev_year_공급량',\n",
    "                 'prev_two_year_공급량', 'prev_year_avg_공급량', 'prev_month_avg_공급량', 'prev_month_day_avg_공급량',\n",
    "                 'prev_month_hour_avg_공급량']\n",
    "    sub_df = sub_df[used_cols]\n",
    "    return sub_df\n",
    "\n",
    "\n",
    "def fe_autocorr_vars(df):\n",
    "    final_df = pd.DataFrame()\n",
    "    gubun_cols = df['구분'].unique()\n",
    "    for gubun in tqdm(gubun_cols):\n",
    "        sub_df = make_autocorr_vars(df, gubun=gubun)\n",
    "        final_df = pd.concat([final_df, sub_df], axis=0)\n",
    "    return final_df\n",
    "\n",
    "\n",
    "\n",
    "path = '/Users/younghun/Desktop/gitrepo/dacon_gas'\n",
    "dataset = load_datasets(path)\n",
    "dataset = make_datetime_vars(dataset)\n",
    "dataset = extract_need_data(dataset)\n",
    "final_df = fe_autocorr_vars(dataset)"
   ]
  },
  {
   "cell_type": "code",
   "execution_count": 11,
   "id": "prime-ceramic",
   "metadata": {},
   "outputs": [
    {
     "data": {
      "text/html": [
       "<div>\n",
       "<style scoped>\n",
       "    .dataframe tbody tr th:only-of-type {\n",
       "        vertical-align: middle;\n",
       "    }\n",
       "\n",
       "    .dataframe tbody tr th {\n",
       "        vertical-align: top;\n",
       "    }\n",
       "\n",
       "    .dataframe thead th {\n",
       "        text-align: right;\n",
       "    }\n",
       "</style>\n",
       "<table border=\"1\" class=\"dataframe\">\n",
       "  <thead>\n",
       "    <tr style=\"text-align: right;\">\n",
       "      <th></th>\n",
       "      <th>연월일</th>\n",
       "      <th>시간</th>\n",
       "      <th>datetime</th>\n",
       "      <th>구분</th>\n",
       "      <th>공급량</th>\n",
       "      <th>prev_year_공급량</th>\n",
       "      <th>prev_two_year_공급량</th>\n",
       "      <th>prev_year_avg_공급량</th>\n",
       "      <th>prev_month_avg_공급량</th>\n",
       "      <th>prev_month_day_avg_공급량</th>\n",
       "      <th>prev_month_hour_avg_공급량</th>\n",
       "    </tr>\n",
       "  </thead>\n",
       "  <tbody>\n",
       "    <tr>\n",
       "      <th>0</th>\n",
       "      <td>2013-01-01</td>\n",
       "      <td>01</td>\n",
       "      <td>2013-01-01 01:00:00</td>\n",
       "      <td>A</td>\n",
       "      <td>2497.129</td>\n",
       "      <td>NaN</td>\n",
       "      <td>NaN</td>\n",
       "      <td>NaN</td>\n",
       "      <td>NaN</td>\n",
       "      <td>NaN</td>\n",
       "      <td>NaN</td>\n",
       "    </tr>\n",
       "    <tr>\n",
       "      <th>1</th>\n",
       "      <td>2013-01-01</td>\n",
       "      <td>02</td>\n",
       "      <td>2013-01-01 02:00:00</td>\n",
       "      <td>A</td>\n",
       "      <td>2363.265</td>\n",
       "      <td>NaN</td>\n",
       "      <td>NaN</td>\n",
       "      <td>NaN</td>\n",
       "      <td>NaN</td>\n",
       "      <td>NaN</td>\n",
       "      <td>NaN</td>\n",
       "    </tr>\n",
       "    <tr>\n",
       "      <th>2</th>\n",
       "      <td>2013-01-01</td>\n",
       "      <td>03</td>\n",
       "      <td>2013-01-01 03:00:00</td>\n",
       "      <td>A</td>\n",
       "      <td>2258.505</td>\n",
       "      <td>NaN</td>\n",
       "      <td>NaN</td>\n",
       "      <td>NaN</td>\n",
       "      <td>NaN</td>\n",
       "      <td>NaN</td>\n",
       "      <td>NaN</td>\n",
       "    </tr>\n",
       "    <tr>\n",
       "      <th>3</th>\n",
       "      <td>2013-01-01</td>\n",
       "      <td>04</td>\n",
       "      <td>2013-01-01 04:00:00</td>\n",
       "      <td>A</td>\n",
       "      <td>2243.969</td>\n",
       "      <td>NaN</td>\n",
       "      <td>NaN</td>\n",
       "      <td>NaN</td>\n",
       "      <td>NaN</td>\n",
       "      <td>NaN</td>\n",
       "      <td>NaN</td>\n",
       "    </tr>\n",
       "    <tr>\n",
       "      <th>4</th>\n",
       "      <td>2013-01-01</td>\n",
       "      <td>05</td>\n",
       "      <td>2013-01-01 05:00:00</td>\n",
       "      <td>A</td>\n",
       "      <td>2344.105</td>\n",
       "      <td>NaN</td>\n",
       "      <td>NaN</td>\n",
       "      <td>NaN</td>\n",
       "      <td>NaN</td>\n",
       "      <td>NaN</td>\n",
       "      <td>NaN</td>\n",
       "    </tr>\n",
       "    <tr>\n",
       "      <th>...</th>\n",
       "      <td>...</td>\n",
       "      <td>...</td>\n",
       "      <td>...</td>\n",
       "      <td>...</td>\n",
       "      <td>...</td>\n",
       "      <td>...</td>\n",
       "      <td>...</td>\n",
       "      <td>...</td>\n",
       "      <td>...</td>\n",
       "      <td>...</td>\n",
       "      <td>...</td>\n",
       "    </tr>\n",
       "    <tr>\n",
       "      <th>15114</th>\n",
       "      <td>2019-03-31</td>\n",
       "      <td>19</td>\n",
       "      <td>2019-03-31 19:00:00</td>\n",
       "      <td>H</td>\n",
       "      <td>NaN</td>\n",
       "      <td>219.185</td>\n",
       "      <td>355.468</td>\n",
       "      <td>462.382223</td>\n",
       "      <td>320.340968</td>\n",
       "      <td>196.931083</td>\n",
       "      <td>368.914419</td>\n",
       "    </tr>\n",
       "    <tr>\n",
       "      <th>15115</th>\n",
       "      <td>2019-03-31</td>\n",
       "      <td>20</td>\n",
       "      <td>2019-03-31 20:00:00</td>\n",
       "      <td>H</td>\n",
       "      <td>NaN</td>\n",
       "      <td>244.162</td>\n",
       "      <td>382.636</td>\n",
       "      <td>462.382223</td>\n",
       "      <td>320.340968</td>\n",
       "      <td>196.931083</td>\n",
       "      <td>402.174387</td>\n",
       "    </tr>\n",
       "    <tr>\n",
       "      <th>15116</th>\n",
       "      <td>2019-03-31</td>\n",
       "      <td>21</td>\n",
       "      <td>2019-03-31 21:00:00</td>\n",
       "      <td>H</td>\n",
       "      <td>NaN</td>\n",
       "      <td>248.059</td>\n",
       "      <td>379.556</td>\n",
       "      <td>462.382223</td>\n",
       "      <td>320.340968</td>\n",
       "      <td>196.931083</td>\n",
       "      <td>416.910097</td>\n",
       "    </tr>\n",
       "    <tr>\n",
       "      <th>15117</th>\n",
       "      <td>2019-03-31</td>\n",
       "      <td>22</td>\n",
       "      <td>2019-03-31 22:00:00</td>\n",
       "      <td>H</td>\n",
       "      <td>NaN</td>\n",
       "      <td>231.181</td>\n",
       "      <td>353.684</td>\n",
       "      <td>462.382223</td>\n",
       "      <td>320.340968</td>\n",
       "      <td>196.931083</td>\n",
       "      <td>402.301484</td>\n",
       "    </tr>\n",
       "    <tr>\n",
       "      <th>15118</th>\n",
       "      <td>2019-03-31</td>\n",
       "      <td>23</td>\n",
       "      <td>2019-03-31 23:00:00</td>\n",
       "      <td>H</td>\n",
       "      <td>NaN</td>\n",
       "      <td>199.022</td>\n",
       "      <td>318.756</td>\n",
       "      <td>462.382223</td>\n",
       "      <td>320.340968</td>\n",
       "      <td>196.931083</td>\n",
       "      <td>359.915903</td>\n",
       "    </tr>\n",
       "  </tbody>\n",
       "</table>\n",
       "<p>106001 rows × 11 columns</p>\n",
       "</div>"
      ],
      "text/plain": [
       "              연월일  시간            datetime 구분       공급량  prev_year_공급량  \\\n",
       "0      2013-01-01  01 2013-01-01 01:00:00  A  2497.129            NaN   \n",
       "1      2013-01-01  02 2013-01-01 02:00:00  A  2363.265            NaN   \n",
       "2      2013-01-01  03 2013-01-01 03:00:00  A  2258.505            NaN   \n",
       "3      2013-01-01  04 2013-01-01 04:00:00  A  2243.969            NaN   \n",
       "4      2013-01-01  05 2013-01-01 05:00:00  A  2344.105            NaN   \n",
       "...           ...  ..                 ... ..       ...            ...   \n",
       "15114  2019-03-31  19 2019-03-31 19:00:00  H       NaN        219.185   \n",
       "15115  2019-03-31  20 2019-03-31 20:00:00  H       NaN        244.162   \n",
       "15116  2019-03-31  21 2019-03-31 21:00:00  H       NaN        248.059   \n",
       "15117  2019-03-31  22 2019-03-31 22:00:00  H       NaN        231.181   \n",
       "15118  2019-03-31  23 2019-03-31 23:00:00  H       NaN        199.022   \n",
       "\n",
       "       prev_two_year_공급량  prev_year_avg_공급량  prev_month_avg_공급량  \\\n",
       "0                    NaN                NaN                 NaN   \n",
       "1                    NaN                NaN                 NaN   \n",
       "2                    NaN                NaN                 NaN   \n",
       "3                    NaN                NaN                 NaN   \n",
       "4                    NaN                NaN                 NaN   \n",
       "...                  ...                ...                 ...   \n",
       "15114            355.468         462.382223          320.340968   \n",
       "15115            382.636         462.382223          320.340968   \n",
       "15116            379.556         462.382223          320.340968   \n",
       "15117            353.684         462.382223          320.340968   \n",
       "15118            318.756         462.382223          320.340968   \n",
       "\n",
       "       prev_month_day_avg_공급량  prev_month_hour_avg_공급량  \n",
       "0                         NaN                      NaN  \n",
       "1                         NaN                      NaN  \n",
       "2                         NaN                      NaN  \n",
       "3                         NaN                      NaN  \n",
       "4                         NaN                      NaN  \n",
       "...                       ...                      ...  \n",
       "15114              196.931083               368.914419  \n",
       "15115              196.931083               402.174387  \n",
       "15116              196.931083               416.910097  \n",
       "15117              196.931083               402.301484  \n",
       "15118              196.931083               359.915903  \n",
       "\n",
       "[106001 rows x 11 columns]"
      ]
     },
     "execution_count": 11,
     "metadata": {},
     "output_type": "execute_result"
    }
   ],
   "source": [
    "final_df"
   ]
  },
  {
   "cell_type": "code",
   "execution_count": null,
   "id": "agricultural-elder",
   "metadata": {},
   "outputs": [],
   "source": []
  }
 ],
 "metadata": {
  "hide_input": false,
  "kernelspec": {
   "display_name": "Python 3",
   "language": "python",
   "name": "python3"
  },
  "language_info": {
   "codemirror_mode": {
    "name": "ipython",
    "version": 3
   },
   "file_extension": ".py",
   "mimetype": "text/x-python",
   "name": "python",
   "nbconvert_exporter": "python",
   "pygments_lexer": "ipython3",
   "version": "3.7.7"
  },
  "toc": {
   "base_numbering": 1,
   "nav_menu": {},
   "number_sections": true,
   "sideBar": true,
   "skip_h1_title": false,
   "title_cell": "Table of Contents",
   "title_sidebar": "Contents",
   "toc_cell": true,
   "toc_position": {},
   "toc_section_display": true,
   "toc_window_display": false
  },
  "varInspector": {
   "cols": {
    "lenName": 16,
    "lenType": 16,
    "lenVar": 40
   },
   "kernels_config": {
    "python": {
     "delete_cmd_postfix": "",
     "delete_cmd_prefix": "del ",
     "library": "var_list.py",
     "varRefreshCmd": "print(var_dic_list())"
    },
    "r": {
     "delete_cmd_postfix": ") ",
     "delete_cmd_prefix": "rm(",
     "library": "var_list.r",
     "varRefreshCmd": "cat(var_dic_list()) "
    }
   },
   "types_to_exclude": [
    "module",
    "function",
    "builtin_function_or_method",
    "instance",
    "_Feature"
   ],
   "window_display": false
  }
 },
 "nbformat": 4,
 "nbformat_minor": 5
}
