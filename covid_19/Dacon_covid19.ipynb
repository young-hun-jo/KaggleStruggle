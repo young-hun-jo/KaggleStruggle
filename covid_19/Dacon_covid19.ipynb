{
 "cells": [
  {
   "cell_type": "markdown",
   "metadata": {},
   "source": [
    "# Dacon주최 Covid 데이터 분석 대회 준비"
   ]
  },
  {
   "cell_type": "code",
   "execution_count": 1,
   "metadata": {},
   "outputs": [],
   "source": [
    "import pandas as pd\n",
    "import numpy as np\n",
    "import matplotlib.pyplot as plt\n",
    "plt.rc('font',family='Malgun Gothic')"
   ]
  },
  {
   "cell_type": "code",
   "execution_count": 2,
   "metadata": {},
   "outputs": [],
   "source": [
    "import warnings\n",
    "warnings.filterwarnings(action='ignore')"
   ]
  },
  {
   "cell_type": "code",
   "execution_count": 3,
   "metadata": {},
   "outputs": [],
   "source": [
    "region = pd.read_csv(\"C:/Users/joyh1/Desktop/GitRepo/data/Region.csv\")\n",
    "timeprovince = pd.read_csv(\"C:/Users/joyh1/Desktop/GitRepo/data/TimeProvince.csv\")\n",
    "timegender = pd.read_csv(\"C:/Users/joyh1/Desktop/GitRepo/data/TimeGender.csv\")\n",
    "timeage = pd.read_csv(\"C:/Users/joyh1/Desktop/GitRepo/data/TimeAge.csv\")\n",
    "time = pd.read_csv(\"C:/Users/joyh1/Desktop/GitRepo/data/Time.csv\")\n",
    "patientinfo = pd.read_csv(\"C:/Users/joyh1/Desktop/GitRepo/data/PatientInfo.csv\")\n",
    "patientroute = pd.read_csv(\"C:/Users/joyh1/Desktop/GitRepo/data/PatientRoute.csv\")\n",
    "case = pd.read_csv(\"C:/Users/joyh1/Desktop/GitRepo/data/Case.csv\")\n",
    "weather = pd.read_csv(\"C:/Users/joyh1/Desktop/GitRepo/data/Weather.csv\")"
   ]
  },
  {
   "cell_type": "code",
   "execution_count": 4,
   "metadata": {},
   "outputs": [
    {
     "data": {
      "text/html": [
       "<div>\n",
       "<style scoped>\n",
       "    .dataframe tbody tr th:only-of-type {\n",
       "        vertical-align: middle;\n",
       "    }\n",
       "\n",
       "    .dataframe tbody tr th {\n",
       "        vertical-align: top;\n",
       "    }\n",
       "\n",
       "    .dataframe thead th {\n",
       "        text-align: right;\n",
       "    }\n",
       "</style>\n",
       "<table border=\"1\" class=\"dataframe\">\n",
       "  <thead>\n",
       "    <tr style=\"text-align: right;\">\n",
       "      <th></th>\n",
       "      <th>case_id</th>\n",
       "      <th>province</th>\n",
       "      <th>city</th>\n",
       "      <th>group</th>\n",
       "      <th>infection_case</th>\n",
       "      <th>confirmed</th>\n",
       "      <th>latitude</th>\n",
       "      <th>longitude</th>\n",
       "    </tr>\n",
       "  </thead>\n",
       "  <tbody>\n",
       "    <tr>\n",
       "      <th>0</th>\n",
       "      <td>1000001</td>\n",
       "      <td>Seoul</td>\n",
       "      <td>Guro-gu</td>\n",
       "      <td>True</td>\n",
       "      <td>Guro-gu Call Center</td>\n",
       "      <td>79</td>\n",
       "      <td>37.508163</td>\n",
       "      <td>126.884387</td>\n",
       "    </tr>\n",
       "    <tr>\n",
       "      <th>1</th>\n",
       "      <td>1000002</td>\n",
       "      <td>Seoul</td>\n",
       "      <td>Dongdaemun-gu</td>\n",
       "      <td>True</td>\n",
       "      <td>Dongan Church</td>\n",
       "      <td>24</td>\n",
       "      <td>37.592888</td>\n",
       "      <td>127.056766</td>\n",
       "    </tr>\n",
       "    <tr>\n",
       "      <th>2</th>\n",
       "      <td>1000003</td>\n",
       "      <td>Seoul</td>\n",
       "      <td>Eunpyeong-gu</td>\n",
       "      <td>True</td>\n",
       "      <td>Eunpyeong St. Mary's Hospital</td>\n",
       "      <td>14</td>\n",
       "      <td>37.63369</td>\n",
       "      <td>126.9165</td>\n",
       "    </tr>\n",
       "    <tr>\n",
       "      <th>3</th>\n",
       "      <td>1000004</td>\n",
       "      <td>Seoul</td>\n",
       "      <td>Seongdong-gu</td>\n",
       "      <td>True</td>\n",
       "      <td>Seongdong-gu APT</td>\n",
       "      <td>13</td>\n",
       "      <td>37.55713</td>\n",
       "      <td>127.0403</td>\n",
       "    </tr>\n",
       "    <tr>\n",
       "      <th>4</th>\n",
       "      <td>1000005</td>\n",
       "      <td>Seoul</td>\n",
       "      <td>Jongno-gu</td>\n",
       "      <td>True</td>\n",
       "      <td>Jongno Community Center</td>\n",
       "      <td>10</td>\n",
       "      <td>37.57681</td>\n",
       "      <td>127.006</td>\n",
       "    </tr>\n",
       "  </tbody>\n",
       "</table>\n",
       "</div>"
      ],
      "text/plain": [
       "   case_id province           city  group                 infection_case  \\\n",
       "0  1000001    Seoul        Guro-gu   True            Guro-gu Call Center   \n",
       "1  1000002    Seoul  Dongdaemun-gu   True                  Dongan Church   \n",
       "2  1000003    Seoul   Eunpyeong-gu   True  Eunpyeong St. Mary's Hospital   \n",
       "3  1000004    Seoul   Seongdong-gu   True               Seongdong-gu APT   \n",
       "4  1000005    Seoul      Jongno-gu   True        Jongno Community Center   \n",
       "\n",
       "   confirmed   latitude   longitude  \n",
       "0         79  37.508163  126.884387  \n",
       "1         24  37.592888  127.056766  \n",
       "2         14   37.63369    126.9165  \n",
       "3         13   37.55713    127.0403  \n",
       "4         10   37.57681     127.006  "
      ]
     },
     "execution_count": 4,
     "metadata": {},
     "output_type": "execute_result"
    }
   ],
   "source": [
    "case.head()"
   ]
  },
  {
   "cell_type": "code",
   "execution_count": 5,
   "metadata": {},
   "outputs": [
    {
     "data": {
      "text/plain": [
       "(81, 8)"
      ]
     },
     "execution_count": 5,
     "metadata": {},
     "output_type": "execute_result"
    }
   ],
   "source": [
    "case.shape"
   ]
  },
  {
   "cell_type": "code",
   "execution_count": 6,
   "metadata": {},
   "outputs": [
    {
     "name": "stdout",
     "output_type": "stream",
     "text": [
      "<class 'pandas.core.frame.DataFrame'>\n",
      "RangeIndex: 81 entries, 0 to 80\n",
      "Data columns (total 8 columns):\n",
      " #   Column          Non-Null Count  Dtype \n",
      "---  ------          --------------  ----- \n",
      " 0   case_id         81 non-null     int64 \n",
      " 1   province        81 non-null     object\n",
      " 2   city            81 non-null     object\n",
      " 3   group           81 non-null     bool  \n",
      " 4   infection_case  81 non-null     object\n",
      " 5   confirmed       81 non-null     int64 \n",
      " 6   latitude        81 non-null     object\n",
      " 7   longitude       81 non-null     object\n",
      "dtypes: bool(1), int64(2), object(5)\n",
      "memory usage: 4.6+ KB\n"
     ]
    }
   ],
   "source": [
    "case.info()"
   ]
  },
  {
   "cell_type": "code",
   "execution_count": 7,
   "metadata": {},
   "outputs": [
    {
     "data": {
      "text/plain": [
       "case_id           0\n",
       "province          0\n",
       "city              0\n",
       "group             0\n",
       "infection_case    0\n",
       "confirmed         0\n",
       "latitude          0\n",
       "longitude         0\n",
       "dtype: int64"
      ]
     },
     "execution_count": 7,
     "metadata": {},
     "output_type": "execute_result"
    }
   ],
   "source": [
    "case.isnull().sum()"
   ]
  },
  {
   "cell_type": "code",
   "execution_count": 8,
   "metadata": {
    "scrolled": true
   },
   "outputs": [
    {
     "data": {
      "text/html": [
       "<div>\n",
       "<style scoped>\n",
       "    .dataframe tbody tr th:only-of-type {\n",
       "        vertical-align: middle;\n",
       "    }\n",
       "\n",
       "    .dataframe tbody tr th {\n",
       "        vertical-align: top;\n",
       "    }\n",
       "\n",
       "    .dataframe thead th {\n",
       "        text-align: right;\n",
       "    }\n",
       "</style>\n",
       "<table border=\"1\" class=\"dataframe\">\n",
       "  <thead>\n",
       "    <tr style=\"text-align: right;\">\n",
       "      <th></th>\n",
       "      <th>환자번호</th>\n",
       "      <th>시도</th>\n",
       "      <th>군구</th>\n",
       "      <th>집단감염여부</th>\n",
       "      <th>집단감염장소</th>\n",
       "      <th>확진자누적수</th>\n",
       "      <th>위도</th>\n",
       "      <th>경도</th>\n",
       "    </tr>\n",
       "  </thead>\n",
       "  <tbody>\n",
       "    <tr>\n",
       "      <th>0</th>\n",
       "      <td>1000001</td>\n",
       "      <td>Seoul</td>\n",
       "      <td>Guro-gu</td>\n",
       "      <td>True</td>\n",
       "      <td>Guro-gu Call Center</td>\n",
       "      <td>79</td>\n",
       "      <td>37.508163</td>\n",
       "      <td>126.884387</td>\n",
       "    </tr>\n",
       "    <tr>\n",
       "      <th>1</th>\n",
       "      <td>1000002</td>\n",
       "      <td>Seoul</td>\n",
       "      <td>Dongdaemun-gu</td>\n",
       "      <td>True</td>\n",
       "      <td>Dongan Church</td>\n",
       "      <td>24</td>\n",
       "      <td>37.592888</td>\n",
       "      <td>127.056766</td>\n",
       "    </tr>\n",
       "    <tr>\n",
       "      <th>2</th>\n",
       "      <td>1000003</td>\n",
       "      <td>Seoul</td>\n",
       "      <td>Eunpyeong-gu</td>\n",
       "      <td>True</td>\n",
       "      <td>Eunpyeong St. Mary's Hospital</td>\n",
       "      <td>14</td>\n",
       "      <td>37.63369</td>\n",
       "      <td>126.9165</td>\n",
       "    </tr>\n",
       "    <tr>\n",
       "      <th>3</th>\n",
       "      <td>1000004</td>\n",
       "      <td>Seoul</td>\n",
       "      <td>Seongdong-gu</td>\n",
       "      <td>True</td>\n",
       "      <td>Seongdong-gu APT</td>\n",
       "      <td>13</td>\n",
       "      <td>37.55713</td>\n",
       "      <td>127.0403</td>\n",
       "    </tr>\n",
       "    <tr>\n",
       "      <th>4</th>\n",
       "      <td>1000005</td>\n",
       "      <td>Seoul</td>\n",
       "      <td>Jongno-gu</td>\n",
       "      <td>True</td>\n",
       "      <td>Jongno Community Center</td>\n",
       "      <td>10</td>\n",
       "      <td>37.57681</td>\n",
       "      <td>127.006</td>\n",
       "    </tr>\n",
       "  </tbody>\n",
       "</table>\n",
       "</div>"
      ],
      "text/plain": [
       "      환자번호     시도             군구  집단감염여부                         집단감염장소  \\\n",
       "0  1000001  Seoul        Guro-gu    True            Guro-gu Call Center   \n",
       "1  1000002  Seoul  Dongdaemun-gu    True                  Dongan Church   \n",
       "2  1000003  Seoul   Eunpyeong-gu    True  Eunpyeong St. Mary's Hospital   \n",
       "3  1000004  Seoul   Seongdong-gu    True               Seongdong-gu APT   \n",
       "4  1000005  Seoul      Jongno-gu    True        Jongno Community Center   \n",
       "\n",
       "   확진자누적수         위도          경도  \n",
       "0      79  37.508163  126.884387  \n",
       "1      24  37.592888  127.056766  \n",
       "2      14   37.63369    126.9165  \n",
       "3      13   37.55713    127.0403  \n",
       "4      10   37.57681     127.006  "
      ]
     },
     "execution_count": 8,
     "metadata": {},
     "output_type": "execute_result"
    }
   ],
   "source": [
    "case.columns = ['환자번호','시도','군구','집단감염여부','집단감염장소','확진자누적수','위도','경도']\n",
    "case.head()"
   ]
  },
  {
   "cell_type": "code",
   "execution_count": 50,
   "metadata": {},
   "outputs": [],
   "source": [
    "import seaborn as sns"
   ]
  },
  {
   "cell_type": "code",
   "execution_count": 10,
   "metadata": {},
   "outputs": [
    {
     "data": {
      "text/plain": [
       "etc                                      17\n",
       "Shincheonji Church                       15\n",
       "contact with patient                      8\n",
       "overseas inflow                           5\n",
       "Guro-gu Call Center                       3\n",
       "Cheongdo Daenam Hospital                  3\n",
       "Seosan-si Laboratory                      2\n",
       "gym facility in Cheonan                   2\n",
       "Onchun Church                             2\n",
       "Gyeongsan Cham Joeun Community Center     1\n",
       "Milal Shelter                             1\n",
       "Suyeong-gu Kindergarten                   1\n",
       "Suwon Saeng Myeong Saem Church            1\n",
       "Hanmaeum Changwon Hospital                1\n",
       "Ministry of Oceans and Fisheries          1\n",
       "Geochang-gun Woongyang-myeon              1\n",
       "Jongno Community Center                   1\n",
       "River of Grace Community Church           1\n",
       "Bundang Jesaeng Hospital                  1\n",
       "Jin-gu Academy                            1\n",
       "Gyeongsan Jeil Silver Town                1\n",
       "Dongan Church                             1\n",
       "Jung-gu Fashion Company                   1\n",
       "Bonghwa Pureun Nursing Home               1\n",
       "Gyeongsan Seorin Nursing Home             1\n",
       "Pilgrimage to Israel                      1\n",
       "Haeundae-gu Catholic Church               1\n",
       "Geochang Church                           1\n",
       "Eunpyeong St. Mary's Hospital             1\n",
       "gym facility in Sejong                    1\n",
       "Goesan-gun Jangyeon-myeon                 1\n",
       "Changnyeong Coin Karaoke                  1\n",
       "Seongdong-gu APT                          1\n",
       "Name: 집단감염장소, dtype: int64"
      ]
     },
     "execution_count": 10,
     "metadata": {},
     "output_type": "execute_result"
    }
   ],
   "source": [
    "case['집단감염장소'].value_counts()"
   ]
  },
  {
   "cell_type": "code",
   "execution_count": 34,
   "metadata": {
    "scrolled": true
   },
   "outputs": [
    {
     "data": {
      "text/html": [
       "<div>\n",
       "<style scoped>\n",
       "    .dataframe tbody tr th:only-of-type {\n",
       "        vertical-align: middle;\n",
       "    }\n",
       "\n",
       "    .dataframe tbody tr th {\n",
       "        vertical-align: top;\n",
       "    }\n",
       "\n",
       "    .dataframe thead th {\n",
       "        text-align: right;\n",
       "    }\n",
       "</style>\n",
       "<table border=\"1\" class=\"dataframe\">\n",
       "  <thead>\n",
       "    <tr style=\"text-align: right;\">\n",
       "      <th></th>\n",
       "      <th>집단감염장소</th>\n",
       "      <th>확진자누적수</th>\n",
       "    </tr>\n",
       "  </thead>\n",
       "  <tbody>\n",
       "    <tr>\n",
       "      <th>0</th>\n",
       "      <td>Shincheonji Church</td>\n",
       "      <td>4359</td>\n",
       "    </tr>\n",
       "    <tr>\n",
       "      <th>1</th>\n",
       "      <td>etc</td>\n",
       "      <td>1056</td>\n",
       "    </tr>\n",
       "    <tr>\n",
       "      <th>2</th>\n",
       "      <td>contact with patient</td>\n",
       "      <td>649</td>\n",
       "    </tr>\n",
       "    <tr>\n",
       "      <th>3</th>\n",
       "      <td>Cheongdo Daenam Hospital</td>\n",
       "      <td>119</td>\n",
       "    </tr>\n",
       "    <tr>\n",
       "      <th>4</th>\n",
       "      <td>gym facility in Cheonan</td>\n",
       "      <td>104</td>\n",
       "    </tr>\n",
       "  </tbody>\n",
       "</table>\n",
       "</div>"
      ],
      "text/plain": [
       "                     집단감염장소  확진자누적수\n",
       "0        Shincheonji Church    4359\n",
       "1                       etc    1056\n",
       "2      contact with patient     649\n",
       "3  Cheongdo Daenam Hospital     119\n",
       "4   gym facility in Cheonan     104"
      ]
     },
     "execution_count": 34,
     "metadata": {},
     "output_type": "execute_result"
    }
   ],
   "source": [
    "df_location = pd.DataFrame(case.groupby(['집단감염장소'])['확진자누적수'].max())\n",
    "df_location = df_location.sort_values(by=['확진자누적수'], ascending=False).reset_index()\n",
    "df_location.head()"
   ]
  },
  {
   "cell_type": "code",
   "execution_count": 5,
   "metadata": {},
   "outputs": [],
   "source": [
    "from plotnine import *"
   ]
  },
  {
   "cell_type": "code",
   "execution_count": 41,
   "metadata": {},
   "outputs": [
    {
     "data": {
      "image/png": "[encoded data removed]",
      "text/plain": [
       "<Figure size 640x480 with 1 Axes>"
      ]
     },
     "metadata": {},
     "output_type": "display_data"
    },
    {
     "data": {
      "text/plain": [
       "<ggplot: (141719547312)>"
      ]
     },
     "execution_count": 41,
     "metadata": {},
     "output_type": "execute_result"
    }
   ],
   "source": [
    "(ggplot(df_location)\n",
    " +aes(x='집단감염장소', y='확진자누적수')\n",
    " +geom_bar(stat='identity', position='dodge')\n",
    " +coord_flip()\n",
    " +theme(text=element_text(family=\"Malgun Gothic\"))\n",
    ")"
   ]
  },
  {
   "cell_type": "code",
   "execution_count": 47,
   "metadata": {},
   "outputs": [
    {
     "data": {
      "text/html": [
       "<div>\n",
       "<style scoped>\n",
       "    .dataframe tbody tr th:only-of-type {\n",
       "        vertical-align: middle;\n",
       "    }\n",
       "\n",
       "    .dataframe tbody tr th {\n",
       "        vertical-align: top;\n",
       "    }\n",
       "\n",
       "    .dataframe thead th {\n",
       "        text-align: right;\n",
       "    }\n",
       "</style>\n",
       "<table border=\"1\" class=\"dataframe\">\n",
       "  <thead>\n",
       "    <tr style=\"text-align: right;\">\n",
       "      <th></th>\n",
       "      <th>환자번호</th>\n",
       "      <th>시도</th>\n",
       "      <th>군구</th>\n",
       "      <th>집단감염여부</th>\n",
       "      <th>집단감염장소</th>\n",
       "      <th>확진자누적수</th>\n",
       "      <th>위도</th>\n",
       "      <th>경도</th>\n",
       "    </tr>\n",
       "  </thead>\n",
       "  <tbody>\n",
       "    <tr>\n",
       "      <th>0</th>\n",
       "      <td>1000001</td>\n",
       "      <td>Seoul</td>\n",
       "      <td>Guro-gu</td>\n",
       "      <td>True</td>\n",
       "      <td>Guro-gu Call Center</td>\n",
       "      <td>79</td>\n",
       "      <td>37.508163</td>\n",
       "      <td>126.884387</td>\n",
       "    </tr>\n",
       "    <tr>\n",
       "      <th>1</th>\n",
       "      <td>1000002</td>\n",
       "      <td>Seoul</td>\n",
       "      <td>Dongdaemun-gu</td>\n",
       "      <td>True</td>\n",
       "      <td>Dongan Church</td>\n",
       "      <td>24</td>\n",
       "      <td>37.592888</td>\n",
       "      <td>127.056766</td>\n",
       "    </tr>\n",
       "    <tr>\n",
       "      <th>2</th>\n",
       "      <td>1000003</td>\n",
       "      <td>Seoul</td>\n",
       "      <td>Eunpyeong-gu</td>\n",
       "      <td>True</td>\n",
       "      <td>Eunpyeong St. Mary's Hospital</td>\n",
       "      <td>14</td>\n",
       "      <td>37.63369</td>\n",
       "      <td>126.9165</td>\n",
       "    </tr>\n",
       "    <tr>\n",
       "      <th>3</th>\n",
       "      <td>1000004</td>\n",
       "      <td>Seoul</td>\n",
       "      <td>Seongdong-gu</td>\n",
       "      <td>True</td>\n",
       "      <td>Seongdong-gu APT</td>\n",
       "      <td>13</td>\n",
       "      <td>37.55713</td>\n",
       "      <td>127.0403</td>\n",
       "    </tr>\n",
       "    <tr>\n",
       "      <th>4</th>\n",
       "      <td>1000005</td>\n",
       "      <td>Seoul</td>\n",
       "      <td>Jongno-gu</td>\n",
       "      <td>True</td>\n",
       "      <td>Jongno Community Center</td>\n",
       "      <td>10</td>\n",
       "      <td>37.57681</td>\n",
       "      <td>127.006</td>\n",
       "    </tr>\n",
       "  </tbody>\n",
       "</table>\n",
       "</div>"
      ],
      "text/plain": [
       "      환자번호     시도             군구  집단감염여부                         집단감염장소  \\\n",
       "0  1000001  Seoul        Guro-gu    True            Guro-gu Call Center   \n",
       "1  1000002  Seoul  Dongdaemun-gu    True                  Dongan Church   \n",
       "2  1000003  Seoul   Eunpyeong-gu    True  Eunpyeong St. Mary's Hospital   \n",
       "3  1000004  Seoul   Seongdong-gu    True               Seongdong-gu APT   \n",
       "4  1000005  Seoul      Jongno-gu    True        Jongno Community Center   \n",
       "\n",
       "   확진자누적수         위도          경도  \n",
       "0      79  37.508163  126.884387  \n",
       "1      24  37.592888  127.056766  \n",
       "2      14   37.63369    126.9165  \n",
       "3      13   37.55713    127.0403  \n",
       "4      10   37.57681     127.006  "
      ]
     },
     "execution_count": 47,
     "metadata": {},
     "output_type": "execute_result"
    }
   ],
   "source": [
    "case.head()"
   ]
  },
  {
   "cell_type": "code",
   "execution_count": 52,
   "metadata": {},
   "outputs": [],
   "source": [
    "case['집단감염장소'] = case['집단감염장소'].str.replace(\"\\n\",\"\")"
   ]
  },
  {
   "cell_type": "code",
   "execution_count": 64,
   "metadata": {},
   "outputs": [
    {
     "data": {
      "text/html": [
       "<div>\n",
       "<style scoped>\n",
       "    .dataframe tbody tr th:only-of-type {\n",
       "        vertical-align: middle;\n",
       "    }\n",
       "\n",
       "    .dataframe tbody tr th {\n",
       "        vertical-align: top;\n",
       "    }\n",
       "\n",
       "    .dataframe thead th {\n",
       "        text-align: right;\n",
       "    }\n",
       "</style>\n",
       "<table border=\"1\" class=\"dataframe\">\n",
       "  <thead>\n",
       "    <tr style=\"text-align: right;\">\n",
       "      <th></th>\n",
       "      <th>집단감염장소</th>\n",
       "      <th>위도</th>\n",
       "      <th>경도</th>\n",
       "    </tr>\n",
       "  </thead>\n",
       "  <tbody>\n",
       "    <tr>\n",
       "      <th>0</th>\n",
       "      <td>Guro-gu Call Center</td>\n",
       "      <td>37.508163</td>\n",
       "      <td>126.884387</td>\n",
       "    </tr>\n",
       "    <tr>\n",
       "      <th>1</th>\n",
       "      <td>Dongan Church</td>\n",
       "      <td>37.592888</td>\n",
       "      <td>127.056766</td>\n",
       "    </tr>\n",
       "    <tr>\n",
       "      <th>2</th>\n",
       "      <td>Eunpyeong St. Mary's Hospital</td>\n",
       "      <td>37.63369</td>\n",
       "      <td>126.9165</td>\n",
       "    </tr>\n",
       "    <tr>\n",
       "      <th>3</th>\n",
       "      <td>Seongdong-gu APT</td>\n",
       "      <td>37.55713</td>\n",
       "      <td>127.0403</td>\n",
       "    </tr>\n",
       "    <tr>\n",
       "      <th>4</th>\n",
       "      <td>Jongno Community Center</td>\n",
       "      <td>37.57681</td>\n",
       "      <td>127.006</td>\n",
       "    </tr>\n",
       "  </tbody>\n",
       "</table>\n",
       "</div>"
      ],
      "text/plain": [
       "                          집단감염장소         위도          경도\n",
       "0            Guro-gu Call Center  37.508163  126.884387\n",
       "1                  Dongan Church  37.592888  127.056766\n",
       "2  Eunpyeong St. Mary's Hospital   37.63369    126.9165\n",
       "3               Seongdong-gu APT   37.55713    127.0403\n",
       "4        Jongno Community Center   37.57681     127.006"
      ]
     },
     "execution_count": 64,
     "metadata": {},
     "output_type": "execute_result"
    }
   ],
   "source": [
    "group_location = case.loc[:,['집단감염장소','위도','경도']].drop_duplicates().reset_index(drop=True)\n",
    "group_location.head()"
   ]
  },
  {
   "cell_type": "code",
   "execution_count": 65,
   "metadata": {},
   "outputs": [
    {
     "name": "stdout",
     "output_type": "stream",
     "text": [
      "<class 'pandas.core.frame.DataFrame'>\n",
      "RangeIndex: 39 entries, 0 to 38\n",
      "Data columns (total 3 columns):\n",
      " #   Column  Non-Null Count  Dtype \n",
      "---  ------  --------------  ----- \n",
      " 0   집단감염장소  39 non-null     object\n",
      " 1   위도      39 non-null     object\n",
      " 2   경도      39 non-null     object\n",
      "dtypes: object(3)\n",
      "memory usage: 1.0+ KB\n"
     ]
    }
   ],
   "source": [
    "group_location.info()"
   ]
  },
  {
   "cell_type": "code",
   "execution_count": 69,
   "metadata": {},
   "outputs": [
    {
     "data": {
      "text/plain": [
       "-             10\n",
       "127.161627     1\n",
       "128.4941       1\n",
       "129.1124       1\n",
       "129.1256       1\n",
       "126.884387     1\n",
       "127.1139       1\n",
       "127.9552       1\n",
       "127.917805     1\n",
       "127.0517       1\n",
       "127.289        1\n",
       "129.0771       1\n",
       "127.056766     1\n",
       "127.1218       1\n",
       "126.984377     1\n",
       "127.9127       1\n",
       "128.5008       1\n",
       "129.0633       1\n",
       "128.5667       1\n",
       "128.801498     1\n",
       "128.7621       1\n",
       "127.006        1\n",
       "128.7373       1\n",
       "127.265172     1\n",
       "128.7368       1\n",
       "126.9165       1\n",
       "128.6866       1\n",
       "126.354443     1\n",
       "127.0403       1\n",
       "128.9099       1\n",
       "Name: 경도, dtype: int64"
      ]
     },
     "execution_count": 69,
     "metadata": {},
     "output_type": "execute_result"
    }
   ],
   "source": [
    "group_location['경도'].value_counts()"
   ]
  },
  {
   "cell_type": "code",
   "execution_count": 72,
   "metadata": {},
   "outputs": [
    {
     "data": {
      "text/html": [
       "<div>\n",
       "<style scoped>\n",
       "    .dataframe tbody tr th:only-of-type {\n",
       "        vertical-align: middle;\n",
       "    }\n",
       "\n",
       "    .dataframe tbody tr th {\n",
       "        vertical-align: top;\n",
       "    }\n",
       "\n",
       "    .dataframe thead th {\n",
       "        text-align: right;\n",
       "    }\n",
       "</style>\n",
       "<table border=\"1\" class=\"dataframe\">\n",
       "  <thead>\n",
       "    <tr style=\"text-align: right;\">\n",
       "      <th></th>\n",
       "      <th>집단감염장소</th>\n",
       "      <th>위도</th>\n",
       "      <th>경도</th>\n",
       "    </tr>\n",
       "  </thead>\n",
       "  <tbody>\n",
       "    <tr>\n",
       "      <th>0</th>\n",
       "      <td>Guro-gu Call Center</td>\n",
       "      <td>37.508163</td>\n",
       "      <td>126.884387</td>\n",
       "    </tr>\n",
       "    <tr>\n",
       "      <th>1</th>\n",
       "      <td>Dongan Church</td>\n",
       "      <td>37.592888</td>\n",
       "      <td>127.056766</td>\n",
       "    </tr>\n",
       "    <tr>\n",
       "      <th>2</th>\n",
       "      <td>Eunpyeong St. Mary's Hospital</td>\n",
       "      <td>37.63369</td>\n",
       "      <td>126.9165</td>\n",
       "    </tr>\n",
       "    <tr>\n",
       "      <th>3</th>\n",
       "      <td>Seongdong-gu APT</td>\n",
       "      <td>37.55713</td>\n",
       "      <td>127.0403</td>\n",
       "    </tr>\n",
       "    <tr>\n",
       "      <th>4</th>\n",
       "      <td>Jongno Community Center</td>\n",
       "      <td>37.57681</td>\n",
       "      <td>127.006</td>\n",
       "    </tr>\n",
       "    <tr>\n",
       "      <th>5</th>\n",
       "      <td>Jung-gu Fashion Company</td>\n",
       "      <td>37.562405</td>\n",
       "      <td>126.984377</td>\n",
       "    </tr>\n",
       "    <tr>\n",
       "      <th>8</th>\n",
       "      <td>Onchun Church</td>\n",
       "      <td>35.21628</td>\n",
       "      <td>129.0771</td>\n",
       "    </tr>\n",
       "    <tr>\n",
       "      <th>9</th>\n",
       "      <td>Suyeong-gu Kindergarten</td>\n",
       "      <td>35.16708</td>\n",
       "      <td>129.1124</td>\n",
       "    </tr>\n",
       "    <tr>\n",
       "      <th>10</th>\n",
       "      <td>Haeundae-gu Catholic Church</td>\n",
       "      <td>35.20599</td>\n",
       "      <td>129.1256</td>\n",
       "    </tr>\n",
       "    <tr>\n",
       "      <th>11</th>\n",
       "      <td>Jin-gu Academy</td>\n",
       "      <td>35.17371</td>\n",
       "      <td>129.0633</td>\n",
       "    </tr>\n",
       "    <tr>\n",
       "      <th>13</th>\n",
       "      <td>Shincheonji Church</td>\n",
       "      <td>35.84008</td>\n",
       "      <td>128.5667</td>\n",
       "    </tr>\n",
       "    <tr>\n",
       "      <th>18</th>\n",
       "      <td>Ministry of Oceans and Fisheries</td>\n",
       "      <td>36.504713</td>\n",
       "      <td>127.265172</td>\n",
       "    </tr>\n",
       "    <tr>\n",
       "      <th>19</th>\n",
       "      <td>gym facility in Sejong</td>\n",
       "      <td>36.48025</td>\n",
       "      <td>127.289</td>\n",
       "    </tr>\n",
       "    <tr>\n",
       "      <th>20</th>\n",
       "      <td>Bundang Jesaeng Hospital</td>\n",
       "      <td>37.38833</td>\n",
       "      <td>127.1218</td>\n",
       "    </tr>\n",
       "    <tr>\n",
       "      <th>21</th>\n",
       "      <td>River of Grace Community Church</td>\n",
       "      <td>37.455687</td>\n",
       "      <td>127.161627</td>\n",
       "    </tr>\n",
       "    <tr>\n",
       "      <th>22</th>\n",
       "      <td>Suwon Saeng Myeong Saem Church</td>\n",
       "      <td>37.2376</td>\n",
       "      <td>127.0517</td>\n",
       "    </tr>\n",
       "    <tr>\n",
       "      <th>24</th>\n",
       "      <td>Goesan-gun Jangyeon-myeon</td>\n",
       "      <td>36.82422</td>\n",
       "      <td>127.9552</td>\n",
       "    </tr>\n",
       "    <tr>\n",
       "      <th>25</th>\n",
       "      <td>gym facility in Cheonan</td>\n",
       "      <td>36.81503</td>\n",
       "      <td>127.1139</td>\n",
       "    </tr>\n",
       "    <tr>\n",
       "      <th>26</th>\n",
       "      <td>Seosan-si Laboratory</td>\n",
       "      <td>37.000354</td>\n",
       "      <td>126.354443</td>\n",
       "    </tr>\n",
       "    <tr>\n",
       "      <th>27</th>\n",
       "      <td>Cheongdo Daenam Hospital</td>\n",
       "      <td>35.64887</td>\n",
       "      <td>128.7368</td>\n",
       "    </tr>\n",
       "    <tr>\n",
       "      <th>28</th>\n",
       "      <td>Bonghwa Pureun Nursing Home</td>\n",
       "      <td>36.92757</td>\n",
       "      <td>128.9099</td>\n",
       "    </tr>\n",
       "    <tr>\n",
       "      <th>30</th>\n",
       "      <td>Milal Shelter</td>\n",
       "      <td>36.0581</td>\n",
       "      <td>128.4941</td>\n",
       "    </tr>\n",
       "    <tr>\n",
       "      <th>31</th>\n",
       "      <td>Gyeongsan Seorin Nursing Home</td>\n",
       "      <td>35.782149</td>\n",
       "      <td>128.801498</td>\n",
       "    </tr>\n",
       "    <tr>\n",
       "      <th>32</th>\n",
       "      <td>Gyeongsan Jeil Silver Town</td>\n",
       "      <td>35.84819</td>\n",
       "      <td>128.7621</td>\n",
       "    </tr>\n",
       "    <tr>\n",
       "      <th>33</th>\n",
       "      <td>Gyeongsan Cham Joeun Community Center</td>\n",
       "      <td>35.82558</td>\n",
       "      <td>128.7373</td>\n",
       "    </tr>\n",
       "    <tr>\n",
       "      <th>34</th>\n",
       "      <td>Geochang Church</td>\n",
       "      <td>35.68556</td>\n",
       "      <td>127.9127</td>\n",
       "    </tr>\n",
       "    <tr>\n",
       "      <th>35</th>\n",
       "      <td>Geochang-gun Woongyang-myeon</td>\n",
       "      <td>35.805681</td>\n",
       "      <td>127.917805</td>\n",
       "    </tr>\n",
       "    <tr>\n",
       "      <th>36</th>\n",
       "      <td>Hanmaeum Changwon Hospital</td>\n",
       "      <td>35.22115</td>\n",
       "      <td>128.6866</td>\n",
       "    </tr>\n",
       "    <tr>\n",
       "      <th>37</th>\n",
       "      <td>Changnyeong Coin Karaoke</td>\n",
       "      <td>35.54127</td>\n",
       "      <td>128.5008</td>\n",
       "    </tr>\n",
       "  </tbody>\n",
       "</table>\n",
       "</div>"
      ],
      "text/plain": [
       "                                   집단감염장소         위도          경도\n",
       "0                     Guro-gu Call Center  37.508163  126.884387\n",
       "1                           Dongan Church  37.592888  127.056766\n",
       "2           Eunpyeong St. Mary's Hospital   37.63369    126.9165\n",
       "3                        Seongdong-gu APT   37.55713    127.0403\n",
       "4                 Jongno Community Center   37.57681     127.006\n",
       "5                 Jung-gu Fashion Company  37.562405  126.984377\n",
       "8                           Onchun Church   35.21628    129.0771\n",
       "9                 Suyeong-gu Kindergarten   35.16708    129.1124\n",
       "10            Haeundae-gu Catholic Church   35.20599    129.1256\n",
       "11                         Jin-gu Academy   35.17371    129.0633\n",
       "13                     Shincheonji Church   35.84008    128.5667\n",
       "18       Ministry of Oceans and Fisheries  36.504713  127.265172\n",
       "19                 gym facility in Sejong   36.48025     127.289\n",
       "20               Bundang Jesaeng Hospital   37.38833    127.1218\n",
       "21        River of Grace Community Church  37.455687  127.161627\n",
       "22         Suwon Saeng Myeong Saem Church    37.2376    127.0517\n",
       "24              Goesan-gun Jangyeon-myeon   36.82422    127.9552\n",
       "25                gym facility in Cheonan   36.81503    127.1139\n",
       "26                   Seosan-si Laboratory  37.000354  126.354443\n",
       "27               Cheongdo Daenam Hospital   35.64887    128.7368\n",
       "28            Bonghwa Pureun Nursing Home   36.92757    128.9099\n",
       "30                          Milal Shelter    36.0581    128.4941\n",
       "31          Gyeongsan Seorin Nursing Home  35.782149  128.801498\n",
       "32             Gyeongsan Jeil Silver Town   35.84819    128.7621\n",
       "33  Gyeongsan Cham Joeun Community Center   35.82558    128.7373\n",
       "34                        Geochang Church   35.68556    127.9127\n",
       "35           Geochang-gun Woongyang-myeon  35.805681  127.917805\n",
       "36             Hanmaeum Changwon Hospital   35.22115    128.6866\n",
       "37               Changnyeong Coin Karaoke   35.54127    128.5008"
      ]
     },
     "execution_count": 72,
     "metadata": {},
     "output_type": "execute_result"
    }
   ],
   "source": [
    "group_location = group_location.loc[(group_location['경도'] != '-') | (group_location['위도'] != '-')]\n",
    "group_location"
   ]
  },
  {
   "cell_type": "code",
   "execution_count": 73,
   "metadata": {},
   "outputs": [
    {
     "name": "stdout",
     "output_type": "stream",
     "text": [
      "<class 'pandas.core.frame.DataFrame'>\n",
      "Int64Index: 29 entries, 0 to 37\n",
      "Data columns (total 3 columns):\n",
      " #   Column  Non-Null Count  Dtype  \n",
      "---  ------  --------------  -----  \n",
      " 0   집단감염장소  29 non-null     object \n",
      " 1   위도      29 non-null     float64\n",
      " 2   경도      29 non-null     float64\n",
      "dtypes: float64(2), object(1)\n",
      "memory usage: 928.0+ bytes\n"
     ]
    }
   ],
   "source": [
    "group_location['위도'] = group_location['위도'].astype(float)\n",
    "group_location['경도'] = group_location['경도'].astype(float)\n",
    "group_location.info()"
   ]
  },
  {
   "cell_type": "code",
   "execution_count": 74,
   "metadata": {},
   "outputs": [],
   "source": [
    "import folium\n",
    "geo_df = group_location"
   ]
  },
  {
   "cell_type": "markdown",
   "metadata": {},
   "source": [
    "## 위도 경도 이용해 지도표시 못함 ↑"
   ]
  },
  {
   "cell_type": "markdown",
   "metadata": {},
   "source": [
    "# ---------------------------------------------------------------------------------------------------------"
   ]
  },
  {
   "cell_type": "code",
   "execution_count": 6,
   "metadata": {
    "scrolled": true
   },
   "outputs": [
    {
     "data": {
      "text/html": [
       "<div>\n",
       "<style scoped>\n",
       "    .dataframe tbody tr th:only-of-type {\n",
       "        vertical-align: middle;\n",
       "    }\n",
       "\n",
       "    .dataframe tbody tr th {\n",
       "        vertical-align: top;\n",
       "    }\n",
       "\n",
       "    .dataframe thead th {\n",
       "        text-align: right;\n",
       "    }\n",
       "</style>\n",
       "<table border=\"1\" class=\"dataframe\">\n",
       "  <thead>\n",
       "    <tr style=\"text-align: right;\">\n",
       "      <th></th>\n",
       "      <th>date</th>\n",
       "      <th>time</th>\n",
       "      <th>test</th>\n",
       "      <th>negative</th>\n",
       "      <th>confirmed</th>\n",
       "      <th>released</th>\n",
       "      <th>deceased</th>\n",
       "    </tr>\n",
       "  </thead>\n",
       "  <tbody>\n",
       "    <tr>\n",
       "      <th>0</th>\n",
       "      <td>2020-01-20</td>\n",
       "      <td>16</td>\n",
       "      <td>1</td>\n",
       "      <td>0</td>\n",
       "      <td>1</td>\n",
       "      <td>0</td>\n",
       "      <td>0</td>\n",
       "    </tr>\n",
       "    <tr>\n",
       "      <th>1</th>\n",
       "      <td>2020-01-21</td>\n",
       "      <td>16</td>\n",
       "      <td>1</td>\n",
       "      <td>0</td>\n",
       "      <td>1</td>\n",
       "      <td>0</td>\n",
       "      <td>0</td>\n",
       "    </tr>\n",
       "    <tr>\n",
       "      <th>2</th>\n",
       "      <td>2020-01-22</td>\n",
       "      <td>16</td>\n",
       "      <td>4</td>\n",
       "      <td>3</td>\n",
       "      <td>1</td>\n",
       "      <td>0</td>\n",
       "      <td>0</td>\n",
       "    </tr>\n",
       "    <tr>\n",
       "      <th>3</th>\n",
       "      <td>2020-01-23</td>\n",
       "      <td>16</td>\n",
       "      <td>22</td>\n",
       "      <td>21</td>\n",
       "      <td>1</td>\n",
       "      <td>0</td>\n",
       "      <td>0</td>\n",
       "    </tr>\n",
       "    <tr>\n",
       "      <th>4</th>\n",
       "      <td>2020-01-24</td>\n",
       "      <td>16</td>\n",
       "      <td>27</td>\n",
       "      <td>25</td>\n",
       "      <td>2</td>\n",
       "      <td>0</td>\n",
       "      <td>0</td>\n",
       "    </tr>\n",
       "  </tbody>\n",
       "</table>\n",
       "</div>"
      ],
      "text/plain": [
       "         date  time  test  negative  confirmed  released  deceased\n",
       "0  2020-01-20    16     1         0          1         0         0\n",
       "1  2020-01-21    16     1         0          1         0         0\n",
       "2  2020-01-22    16     4         3          1         0         0\n",
       "3  2020-01-23    16    22        21          1         0         0\n",
       "4  2020-01-24    16    27        25          2         0         0"
      ]
     },
     "execution_count": 6,
     "metadata": {},
     "output_type": "execute_result"
    }
   ],
   "source": [
    "time.head()"
   ]
  },
  {
   "cell_type": "code",
   "execution_count": 7,
   "metadata": {},
   "outputs": [
    {
     "data": {
      "text/plain": [
       "(61, 7)"
      ]
     },
     "execution_count": 7,
     "metadata": {},
     "output_type": "execute_result"
    }
   ],
   "source": [
    "time.shape"
   ]
  },
  {
   "cell_type": "code",
   "execution_count": 8,
   "metadata": {},
   "outputs": [
    {
     "data": {
      "text/html": [
       "<div>\n",
       "<style scoped>\n",
       "    .dataframe tbody tr th:only-of-type {\n",
       "        vertical-align: middle;\n",
       "    }\n",
       "\n",
       "    .dataframe tbody tr th {\n",
       "        vertical-align: top;\n",
       "    }\n",
       "\n",
       "    .dataframe thead th {\n",
       "        text-align: right;\n",
       "    }\n",
       "</style>\n",
       "<table border=\"1\" class=\"dataframe\">\n",
       "  <thead>\n",
       "    <tr style=\"text-align: right;\">\n",
       "      <th></th>\n",
       "      <th>날짜</th>\n",
       "      <th>시간</th>\n",
       "      <th>검사자누적숫자</th>\n",
       "      <th>음성누적숫자</th>\n",
       "      <th>양성누적숫자</th>\n",
       "      <th>완치자누적숫자</th>\n",
       "      <th>사망자누적숫자</th>\n",
       "    </tr>\n",
       "  </thead>\n",
       "  <tbody>\n",
       "    <tr>\n",
       "      <th>0</th>\n",
       "      <td>2020-01-20</td>\n",
       "      <td>16</td>\n",
       "      <td>1</td>\n",
       "      <td>0</td>\n",
       "      <td>1</td>\n",
       "      <td>0</td>\n",
       "      <td>0</td>\n",
       "    </tr>\n",
       "    <tr>\n",
       "      <th>1</th>\n",
       "      <td>2020-01-21</td>\n",
       "      <td>16</td>\n",
       "      <td>1</td>\n",
       "      <td>0</td>\n",
       "      <td>1</td>\n",
       "      <td>0</td>\n",
       "      <td>0</td>\n",
       "    </tr>\n",
       "    <tr>\n",
       "      <th>2</th>\n",
       "      <td>2020-01-22</td>\n",
       "      <td>16</td>\n",
       "      <td>4</td>\n",
       "      <td>3</td>\n",
       "      <td>1</td>\n",
       "      <td>0</td>\n",
       "      <td>0</td>\n",
       "    </tr>\n",
       "    <tr>\n",
       "      <th>3</th>\n",
       "      <td>2020-01-23</td>\n",
       "      <td>16</td>\n",
       "      <td>22</td>\n",
       "      <td>21</td>\n",
       "      <td>1</td>\n",
       "      <td>0</td>\n",
       "      <td>0</td>\n",
       "    </tr>\n",
       "    <tr>\n",
       "      <th>4</th>\n",
       "      <td>2020-01-24</td>\n",
       "      <td>16</td>\n",
       "      <td>27</td>\n",
       "      <td>25</td>\n",
       "      <td>2</td>\n",
       "      <td>0</td>\n",
       "      <td>0</td>\n",
       "    </tr>\n",
       "  </tbody>\n",
       "</table>\n",
       "</div>"
      ],
      "text/plain": [
       "           날짜  시간  검사자누적숫자  음성누적숫자  양성누적숫자  완치자누적숫자  사망자누적숫자\n",
       "0  2020-01-20  16        1       0       1        0        0\n",
       "1  2020-01-21  16        1       0       1        0        0\n",
       "2  2020-01-22  16        4       3       1        0        0\n",
       "3  2020-01-23  16       22      21       1        0        0\n",
       "4  2020-01-24  16       27      25       2        0        0"
      ]
     },
     "execution_count": 8,
     "metadata": {},
     "output_type": "execute_result"
    }
   ],
   "source": [
    "time.columns = ['날짜', '시간', '검사자누적숫자','음성누적숫자','양성누적숫자','완치자누적숫자','사망자누적숫자']\n",
    "time.head()"
   ]
  },
  {
   "cell_type": "code",
   "execution_count": 12,
   "metadata": {},
   "outputs": [
    {
     "data": {
      "text/html": [
       "<div>\n",
       "<style scoped>\n",
       "    .dataframe tbody tr th:only-of-type {\n",
       "        vertical-align: middle;\n",
       "    }\n",
       "\n",
       "    .dataframe tbody tr th {\n",
       "        vertical-align: top;\n",
       "    }\n",
       "\n",
       "    .dataframe thead th {\n",
       "        text-align: right;\n",
       "    }\n",
       "</style>\n",
       "<table border=\"1\" class=\"dataframe\">\n",
       "  <thead>\n",
       "    <tr style=\"text-align: right;\">\n",
       "      <th></th>\n",
       "      <th>검사자누적숫자</th>\n",
       "    </tr>\n",
       "    <tr>\n",
       "      <th>날짜</th>\n",
       "      <th></th>\n",
       "    </tr>\n",
       "  </thead>\n",
       "  <tbody>\n",
       "    <tr>\n",
       "      <th>2020-01-20</th>\n",
       "      <td>1</td>\n",
       "    </tr>\n",
       "    <tr>\n",
       "      <th>2020-01-21</th>\n",
       "      <td>1</td>\n",
       "    </tr>\n",
       "    <tr>\n",
       "      <th>2020-01-22</th>\n",
       "      <td>4</td>\n",
       "    </tr>\n",
       "    <tr>\n",
       "      <th>2020-01-23</th>\n",
       "      <td>22</td>\n",
       "    </tr>\n",
       "    <tr>\n",
       "      <th>2020-01-24</th>\n",
       "      <td>27</td>\n",
       "    </tr>\n",
       "    <tr>\n",
       "      <th>...</th>\n",
       "      <td>...</td>\n",
       "    </tr>\n",
       "    <tr>\n",
       "      <th>2020-03-16</th>\n",
       "      <td>274504</td>\n",
       "    </tr>\n",
       "    <tr>\n",
       "      <th>2020-03-17</th>\n",
       "      <td>286716</td>\n",
       "    </tr>\n",
       "    <tr>\n",
       "      <th>2020-03-18</th>\n",
       "      <td>295647</td>\n",
       "    </tr>\n",
       "    <tr>\n",
       "      <th>2020-03-19</th>\n",
       "      <td>307024</td>\n",
       "    </tr>\n",
       "    <tr>\n",
       "      <th>2020-03-20</th>\n",
       "      <td>316664</td>\n",
       "    </tr>\n",
       "  </tbody>\n",
       "</table>\n",
       "<p>61 rows × 1 columns</p>\n",
       "</div>"
      ],
      "text/plain": [
       "            검사자누적숫자\n",
       "날짜                 \n",
       "2020-01-20        1\n",
       "2020-01-21        1\n",
       "2020-01-22        4\n",
       "2020-01-23       22\n",
       "2020-01-24       27\n",
       "...             ...\n",
       "2020-03-16   274504\n",
       "2020-03-17   286716\n",
       "2020-03-18   295647\n",
       "2020-03-19   307024\n",
       "2020-03-20   316664\n",
       "\n",
       "[61 rows x 1 columns]"
      ]
     },
     "execution_count": 12,
     "metadata": {},
     "output_type": "execute_result"
    }
   ],
   "source": [
    "pd.DataFrame(time.groupby(['날짜'])['검사자누적숫자'].max())"
   ]
  },
  {
   "cell_type": "code",
   "execution_count": 19,
   "metadata": {},
   "outputs": [
    {
     "data": {
      "text/html": [
       "<div>\n",
       "<style scoped>\n",
       "    .dataframe tbody tr th:only-of-type {\n",
       "        vertical-align: middle;\n",
       "    }\n",
       "\n",
       "    .dataframe tbody tr th {\n",
       "        vertical-align: top;\n",
       "    }\n",
       "\n",
       "    .dataframe thead th {\n",
       "        text-align: right;\n",
       "    }\n",
       "</style>\n",
       "<table border=\"1\" class=\"dataframe\">\n",
       "  <thead>\n",
       "    <tr style=\"text-align: right;\">\n",
       "      <th></th>\n",
       "      <th>날짜</th>\n",
       "      <th>검사자누적숫자</th>\n",
       "    </tr>\n",
       "  </thead>\n",
       "  <tbody>\n",
       "    <tr>\n",
       "      <th>0</th>\n",
       "      <td>2020-01-20</td>\n",
       "      <td>1</td>\n",
       "    </tr>\n",
       "    <tr>\n",
       "      <th>1</th>\n",
       "      <td>2020-01-21</td>\n",
       "      <td>1</td>\n",
       "    </tr>\n",
       "    <tr>\n",
       "      <th>2</th>\n",
       "      <td>2020-01-22</td>\n",
       "      <td>4</td>\n",
       "    </tr>\n",
       "    <tr>\n",
       "      <th>3</th>\n",
       "      <td>2020-01-23</td>\n",
       "      <td>22</td>\n",
       "    </tr>\n",
       "    <tr>\n",
       "      <th>4</th>\n",
       "      <td>2020-01-24</td>\n",
       "      <td>27</td>\n",
       "    </tr>\n",
       "  </tbody>\n",
       "</table>\n",
       "</div>"
      ],
      "text/plain": [
       "           날짜  검사자누적숫자\n",
       "0  2020-01-20        1\n",
       "1  2020-01-21        1\n",
       "2  2020-01-22        4\n",
       "3  2020-01-23       22\n",
       "4  2020-01-24       27"
      ]
     },
     "execution_count": 19,
     "metadata": {},
     "output_type": "execute_result"
    }
   ],
   "source": [
    "df_test = time.pivot_table(index='날짜', values='검사자누적숫자', aggfunc=np.sum).reset_index()\n",
    "df_test.head()"
   ]
  },
  {
   "cell_type": "code",
   "execution_count": 15,
   "metadata": {},
   "outputs": [],
   "source": [
    "import seaborn as sns"
   ]
  },
  {
   "cell_type": "code",
   "execution_count": 29,
   "metadata": {},
   "outputs": [
    {
     "data": {
      "text/plain": [
       "<matplotlib.axes._subplots.AxesSubplot at 0x24d34d47780>"
      ]
     },
     "execution_count": 29,
     "metadata": {},
     "output_type": "execute_result"
    },
    {
     "data": {
      "image/png": "[encoded data removed]",
      "text/plain": [
       "<Figure size 1440x720 with 1 Axes>"
      ]
     },
     "metadata": {
      "needs_background": "light"
     },
     "output_type": "display_data"
    }
   ],
   "source": [
    "plt.figure(figsize=(20,10))\n",
    "plt.xticks(rotation=50)\n",
    "plt.xlabel('날짜', fontsize=25)\n",
    "plt.ylabel('검사자누적숫자', fontsize=25)\n",
    "sns.lineplot(data=df_test, x='날짜', y='검사자누적숫자')"
   ]
  },
  {
   "cell_type": "code",
   "execution_count": 32,
   "metadata": {},
   "outputs": [
    {
     "data": {
      "text/html": [
       "<div>\n",
       "<style scoped>\n",
       "    .dataframe tbody tr th:only-of-type {\n",
       "        vertical-align: middle;\n",
       "    }\n",
       "\n",
       "    .dataframe tbody tr th {\n",
       "        vertical-align: top;\n",
       "    }\n",
       "\n",
       "    .dataframe thead th {\n",
       "        text-align: right;\n",
       "    }\n",
       "</style>\n",
       "<table border=\"1\" class=\"dataframe\">\n",
       "  <thead>\n",
       "    <tr style=\"text-align: right;\">\n",
       "      <th></th>\n",
       "      <th>날짜</th>\n",
       "      <th>음성누적숫자</th>\n",
       "    </tr>\n",
       "  </thead>\n",
       "  <tbody>\n",
       "    <tr>\n",
       "      <th>0</th>\n",
       "      <td>2020-01-20</td>\n",
       "      <td>0</td>\n",
       "    </tr>\n",
       "    <tr>\n",
       "      <th>1</th>\n",
       "      <td>2020-01-21</td>\n",
       "      <td>0</td>\n",
       "    </tr>\n",
       "    <tr>\n",
       "      <th>2</th>\n",
       "      <td>2020-01-22</td>\n",
       "      <td>3</td>\n",
       "    </tr>\n",
       "    <tr>\n",
       "      <th>3</th>\n",
       "      <td>2020-01-23</td>\n",
       "      <td>21</td>\n",
       "    </tr>\n",
       "    <tr>\n",
       "      <th>4</th>\n",
       "      <td>2020-01-24</td>\n",
       "      <td>25</td>\n",
       "    </tr>\n",
       "  </tbody>\n",
       "</table>\n",
       "</div>"
      ],
      "text/plain": [
       "           날짜  음성누적숫자\n",
       "0  2020-01-20       0\n",
       "1  2020-01-21       0\n",
       "2  2020-01-22       3\n",
       "3  2020-01-23      21\n",
       "4  2020-01-24      25"
      ]
     },
     "execution_count": 32,
     "metadata": {},
     "output_type": "execute_result"
    }
   ],
   "source": [
    "df_neg = time.groupby(['날짜'])['음성누적숫자'].max().reset_index()\n",
    "df_neg.head()"
   ]
  },
  {
   "cell_type": "code",
   "execution_count": 33,
   "metadata": {},
   "outputs": [
    {
     "data": {
      "text/plain": [
       "<matplotlib.axes._subplots.AxesSubplot at 0x24d34eb27f0>"
      ]
     },
     "execution_count": 33,
     "metadata": {},
     "output_type": "execute_result"
    },
    {
     "data": {
      "image/png": "[encoded data removed]",
      "text/plain": [
       "<Figure size 1440x720 with 1 Axes>"
      ]
     },
     "metadata": {
      "needs_background": "light"
     },
     "output_type": "display_data"
    }
   ],
   "source": [
    "plt.figure(figsize=(20,10))\n",
    "plt.xticks(rotation=50)\n",
    "plt.xlabel('날짜',fontsize=25)\n",
    "plt.ylabel('음성누적숫자', fontsize=25)\n",
    "sns.lineplot(data=df_neg, x='날짜', y='음성누적숫자')"
   ]
  },
  {
   "cell_type": "code",
   "execution_count": 34,
   "metadata": {},
   "outputs": [
    {
     "data": {
      "text/html": [
       "<div>\n",
       "<style scoped>\n",
       "    .dataframe tbody tr th:only-of-type {\n",
       "        vertical-align: middle;\n",
       "    }\n",
       "\n",
       "    .dataframe tbody tr th {\n",
       "        vertical-align: top;\n",
       "    }\n",
       "\n",
       "    .dataframe thead th {\n",
       "        text-align: right;\n",
       "    }\n",
       "</style>\n",
       "<table border=\"1\" class=\"dataframe\">\n",
       "  <thead>\n",
       "    <tr style=\"text-align: right;\">\n",
       "      <th></th>\n",
       "      <th>날짜</th>\n",
       "      <th>양성누적숫자</th>\n",
       "    </tr>\n",
       "  </thead>\n",
       "  <tbody>\n",
       "    <tr>\n",
       "      <th>0</th>\n",
       "      <td>2020-01-20</td>\n",
       "      <td>1</td>\n",
       "    </tr>\n",
       "    <tr>\n",
       "      <th>1</th>\n",
       "      <td>2020-01-21</td>\n",
       "      <td>1</td>\n",
       "    </tr>\n",
       "    <tr>\n",
       "      <th>2</th>\n",
       "      <td>2020-01-22</td>\n",
       "      <td>1</td>\n",
       "    </tr>\n",
       "    <tr>\n",
       "      <th>3</th>\n",
       "      <td>2020-01-23</td>\n",
       "      <td>1</td>\n",
       "    </tr>\n",
       "    <tr>\n",
       "      <th>4</th>\n",
       "      <td>2020-01-24</td>\n",
       "      <td>2</td>\n",
       "    </tr>\n",
       "  </tbody>\n",
       "</table>\n",
       "</div>"
      ],
      "text/plain": [
       "           날짜  양성누적숫자\n",
       "0  2020-01-20       1\n",
       "1  2020-01-21       1\n",
       "2  2020-01-22       1\n",
       "3  2020-01-23       1\n",
       "4  2020-01-24       2"
      ]
     },
     "execution_count": 34,
     "metadata": {},
     "output_type": "execute_result"
    }
   ],
   "source": [
    "df_pos = time.groupby(['날짜'])['양성누적숫자'].max().reset_index()\n",
    "df_pos.head()"
   ]
  },
  {
   "cell_type": "code",
   "execution_count": 36,
   "metadata": {},
   "outputs": [
    {
     "data": {
      "text/plain": [
       "<matplotlib.axes._subplots.AxesSubplot at 0x24d37178978>"
      ]
     },
     "execution_count": 36,
     "metadata": {},
     "output_type": "execute_result"
    },
    {
     "data": {
      "image/png": "[encoded data removed]",
      "text/plain": [
       "<Figure size 1440x720 with 1 Axes>"
      ]
     },
     "metadata": {
      "needs_background": "light"
     },
     "output_type": "display_data"
    }
   ],
   "source": [
    "plt.figure(figsize=(20,10))\n",
    "plt.xticks(rotation=50)\n",
    "plt.xlabel('날짜',fontsize=25)\n",
    "plt.ylabel('양성누적숫자', fontsize=25)\n",
    "sns.lineplot(data=df_pos, x='날짜', y='양성누적숫자')"
   ]
  },
  {
   "cell_type": "code",
   "execution_count": 38,
   "metadata": {},
   "outputs": [
    {
     "data": {
      "text/html": [
       "<div>\n",
       "<style scoped>\n",
       "    .dataframe tbody tr th:only-of-type {\n",
       "        vertical-align: middle;\n",
       "    }\n",
       "\n",
       "    .dataframe tbody tr th {\n",
       "        vertical-align: top;\n",
       "    }\n",
       "\n",
       "    .dataframe thead th {\n",
       "        text-align: right;\n",
       "    }\n",
       "</style>\n",
       "<table border=\"1\" class=\"dataframe\">\n",
       "  <thead>\n",
       "    <tr style=\"text-align: right;\">\n",
       "      <th></th>\n",
       "      <th>날짜</th>\n",
       "      <th>완치자누적숫자</th>\n",
       "    </tr>\n",
       "  </thead>\n",
       "  <tbody>\n",
       "    <tr>\n",
       "      <th>0</th>\n",
       "      <td>2020-01-20</td>\n",
       "      <td>0</td>\n",
       "    </tr>\n",
       "    <tr>\n",
       "      <th>1</th>\n",
       "      <td>2020-01-21</td>\n",
       "      <td>0</td>\n",
       "    </tr>\n",
       "    <tr>\n",
       "      <th>2</th>\n",
       "      <td>2020-01-22</td>\n",
       "      <td>0</td>\n",
       "    </tr>\n",
       "    <tr>\n",
       "      <th>3</th>\n",
       "      <td>2020-01-23</td>\n",
       "      <td>0</td>\n",
       "    </tr>\n",
       "    <tr>\n",
       "      <th>4</th>\n",
       "      <td>2020-01-24</td>\n",
       "      <td>0</td>\n",
       "    </tr>\n",
       "  </tbody>\n",
       "</table>\n",
       "</div>"
      ],
      "text/plain": [
       "           날짜  완치자누적숫자\n",
       "0  2020-01-20        0\n",
       "1  2020-01-21        0\n",
       "2  2020-01-22        0\n",
       "3  2020-01-23        0\n",
       "4  2020-01-24        0"
      ]
     },
     "execution_count": 38,
     "metadata": {},
     "output_type": "execute_result"
    }
   ],
   "source": [
    "df_rel = time.groupby(['날짜'])['완치자누적숫자'].max().reset_index()\n",
    "df_rel.head()"
   ]
  },
  {
   "cell_type": "code",
   "execution_count": 40,
   "metadata": {},
   "outputs": [
    {
     "data": {
      "text/plain": [
       "<matplotlib.axes._subplots.AxesSubplot at 0x24d37251710>"
      ]
     },
     "execution_count": 40,
     "metadata": {},
     "output_type": "execute_result"
    },
    {
     "data": {
      "image/png": "[encoded data removed]",
      "text/plain": [
       "<Figure size 1440x720 with 1 Axes>"
      ]
     },
     "metadata": {
      "needs_background": "light"
     },
     "output_type": "display_data"
    }
   ],
   "source": [
    "plt.figure(figsize=(20,10))\n",
    "plt.xticks(rotation=50)\n",
    "plt.xlabel('날짜',fontsize=25)\n",
    "plt.ylabel('완치자성누적숫자', fontsize=25)\n",
    "sns.lineplot(data=df_rel, x='날짜', y='완치자누적숫자')"
   ]
  },
  {
   "cell_type": "code",
   "execution_count": 39,
   "metadata": {},
   "outputs": [
    {
     "data": {
      "text/html": [
       "<div>\n",
       "<style scoped>\n",
       "    .dataframe tbody tr th:only-of-type {\n",
       "        vertical-align: middle;\n",
       "    }\n",
       "\n",
       "    .dataframe tbody tr th {\n",
       "        vertical-align: top;\n",
       "    }\n",
       "\n",
       "    .dataframe thead th {\n",
       "        text-align: right;\n",
       "    }\n",
       "</style>\n",
       "<table border=\"1\" class=\"dataframe\">\n",
       "  <thead>\n",
       "    <tr style=\"text-align: right;\">\n",
       "      <th></th>\n",
       "      <th>날짜</th>\n",
       "      <th>사망자누적숫자</th>\n",
       "    </tr>\n",
       "  </thead>\n",
       "  <tbody>\n",
       "    <tr>\n",
       "      <th>0</th>\n",
       "      <td>2020-01-20</td>\n",
       "      <td>0</td>\n",
       "    </tr>\n",
       "    <tr>\n",
       "      <th>1</th>\n",
       "      <td>2020-01-21</td>\n",
       "      <td>0</td>\n",
       "    </tr>\n",
       "    <tr>\n",
       "      <th>2</th>\n",
       "      <td>2020-01-22</td>\n",
       "      <td>0</td>\n",
       "    </tr>\n",
       "    <tr>\n",
       "      <th>3</th>\n",
       "      <td>2020-01-23</td>\n",
       "      <td>0</td>\n",
       "    </tr>\n",
       "    <tr>\n",
       "      <th>4</th>\n",
       "      <td>2020-01-24</td>\n",
       "      <td>0</td>\n",
       "    </tr>\n",
       "  </tbody>\n",
       "</table>\n",
       "</div>"
      ],
      "text/plain": [
       "           날짜  사망자누적숫자\n",
       "0  2020-01-20        0\n",
       "1  2020-01-21        0\n",
       "2  2020-01-22        0\n",
       "3  2020-01-23        0\n",
       "4  2020-01-24        0"
      ]
     },
     "execution_count": 39,
     "metadata": {},
     "output_type": "execute_result"
    }
   ],
   "source": [
    "df_dec = time.groupby(['날짜'])['사망자누적숫자'].max().reset_index()\n",
    "df_dec.head()"
   ]
  },
  {
   "cell_type": "code",
   "execution_count": 41,
   "metadata": {},
   "outputs": [
    {
     "data": {
      "text/plain": [
       "<matplotlib.axes._subplots.AxesSubplot at 0x24d3794da58>"
      ]
     },
     "execution_count": 41,
     "metadata": {},
     "output_type": "execute_result"
    },
    {
     "data": {
      "image/png": "[encoded data removed]",
      "text/plain": [
       "<Figure size 1440x720 with 1 Axes>"
      ]
     },
     "metadata": {
      "needs_background": "light"
     },
     "output_type": "display_data"
    }
   ],
   "source": [
    "plt.figure(figsize=(20,10))\n",
    "plt.xticks(rotation=50)\n",
    "plt.xlabel('날짜',fontsize=25)\n",
    "plt.ylabel('사망자성누적숫자', fontsize=25)\n",
    "sns.lineplot(data=df_dec, x='날짜', y='사망자누적숫자')"
   ]
  },
  {
   "cell_type": "code",
   "execution_count": 24,
   "metadata": {
    "scrolled": true
   },
   "outputs": [
    {
     "data": {
      "text/html": [
       "<div>\n",
       "<style scoped>\n",
       "    .dataframe tbody tr th:only-of-type {\n",
       "        vertical-align: middle;\n",
       "    }\n",
       "\n",
       "    .dataframe tbody tr th {\n",
       "        vertical-align: top;\n",
       "    }\n",
       "\n",
       "    .dataframe thead th {\n",
       "        text-align: right;\n",
       "    }\n",
       "</style>\n",
       "<table border=\"1\" class=\"dataframe\">\n",
       "  <thead>\n",
       "    <tr style=\"text-align: right;\">\n",
       "      <th></th>\n",
       "      <th>date</th>\n",
       "      <th>time</th>\n",
       "      <th>test</th>\n",
       "      <th>negative</th>\n",
       "      <th>confirmed</th>\n",
       "      <th>released</th>\n",
       "      <th>deceased</th>\n",
       "    </tr>\n",
       "  </thead>\n",
       "  <tbody>\n",
       "    <tr>\n",
       "      <th>0</th>\n",
       "      <td>2020-01-20</td>\n",
       "      <td>16</td>\n",
       "      <td>1</td>\n",
       "      <td>0</td>\n",
       "      <td>1</td>\n",
       "      <td>0</td>\n",
       "      <td>0</td>\n",
       "    </tr>\n",
       "    <tr>\n",
       "      <th>1</th>\n",
       "      <td>2020-01-21</td>\n",
       "      <td>16</td>\n",
       "      <td>1</td>\n",
       "      <td>0</td>\n",
       "      <td>1</td>\n",
       "      <td>0</td>\n",
       "      <td>0</td>\n",
       "    </tr>\n",
       "    <tr>\n",
       "      <th>2</th>\n",
       "      <td>2020-01-22</td>\n",
       "      <td>16</td>\n",
       "      <td>4</td>\n",
       "      <td>3</td>\n",
       "      <td>1</td>\n",
       "      <td>0</td>\n",
       "      <td>0</td>\n",
       "    </tr>\n",
       "    <tr>\n",
       "      <th>3</th>\n",
       "      <td>2020-01-23</td>\n",
       "      <td>16</td>\n",
       "      <td>22</td>\n",
       "      <td>21</td>\n",
       "      <td>1</td>\n",
       "      <td>0</td>\n",
       "      <td>0</td>\n",
       "    </tr>\n",
       "    <tr>\n",
       "      <th>4</th>\n",
       "      <td>2020-01-24</td>\n",
       "      <td>16</td>\n",
       "      <td>27</td>\n",
       "      <td>25</td>\n",
       "      <td>2</td>\n",
       "      <td>0</td>\n",
       "      <td>0</td>\n",
       "    </tr>\n",
       "  </tbody>\n",
       "</table>\n",
       "</div>"
      ],
      "text/plain": [
       "         date  time  test  negative  confirmed  released  deceased\n",
       "0  2020-01-20    16     1         0          1         0         0\n",
       "1  2020-01-21    16     1         0          1         0         0\n",
       "2  2020-01-22    16     4         3          1         0         0\n",
       "3  2020-01-23    16    22        21          1         0         0\n",
       "4  2020-01-24    16    27        25          2         0         0"
      ]
     },
     "execution_count": 24,
     "metadata": {},
     "output_type": "execute_result"
    }
   ],
   "source": [
    "time.head()"
   ]
  },
  {
   "cell_type": "code",
   "execution_count": 29,
   "metadata": {},
   "outputs": [
    {
     "data": {
      "text/plain": [
       "Text(0.5, 1.0, '시간지남에 따른 Covid19 진단별 누적 숫자')"
      ]
     },
     "execution_count": 29,
     "metadata": {},
     "output_type": "execute_result"
    },
    {
     "data": {
      "image/png": "[encoded data removed]",
      "text/plain": [
       "<Figure size 1080x504 with 1 Axes>"
      ]
     },
     "metadata": {
      "needs_background": "light"
     },
     "output_type": "display_data"
    }
   ],
   "source": [
    "plt.figure(figsize=(15,7))\n",
    "plt.plot(time['date'], time['confirmed'], color='red')\n",
    "plt.plot(time['date'], time['released'], color='green')\n",
    "plt.plot(time['date'], time['deceased'], color='black')\n",
    "plt.xticks(rotation=50, size=10)\n",
    "plt.yticks(size=13)\n",
    "plt.xlabel('날짜', fontsize=20)\n",
    "plt.ylabel('누적숫자', fontsize=20)\n",
    "plt.legend(['양성','완치자','사망자'], loc='best', fontsize=20)\n",
    "plt.title('시간지남에 따른 Covid19 진단별 누적 숫자', size=30)\n"
   ]
  },
  {
   "cell_type": "code",
   "execution_count": 11,
   "metadata": {
    "scrolled": true
   },
   "outputs": [
    {
     "name": "stdout",
     "output_type": "stream",
     "text": [
      "<class 'pandas.core.frame.DataFrame'>\n",
      "RangeIndex: 171 entries, 0 to 170\n",
      "Data columns (total 5 columns):\n",
      " #   Column     Non-Null Count  Dtype \n",
      "---  ------     --------------  ----- \n",
      " 0   date       171 non-null    object\n",
      " 1   time       171 non-null    int64 \n",
      " 2   age        171 non-null    object\n",
      " 3   confirmed  171 non-null    int64 \n",
      " 4   deceased   171 non-null    int64 \n",
      "dtypes: int64(3), object(2)\n",
      "memory usage: 6.8+ KB\n"
     ]
    }
   ],
   "source": [
    "timeage.info()"
   ]
  },
  {
   "cell_type": "code",
   "execution_count": 12,
   "metadata": {},
   "outputs": [
    {
     "data": {
      "text/plain": [
       "date         0\n",
       "time         0\n",
       "age          0\n",
       "confirmed    0\n",
       "deceased     0\n",
       "dtype: int64"
      ]
     },
     "execution_count": 12,
     "metadata": {},
     "output_type": "execute_result"
    }
   ],
   "source": [
    "timeage.isnull().sum()"
   ]
  },
  {
   "cell_type": "code",
   "execution_count": 13,
   "metadata": {},
   "outputs": [
    {
     "data": {
      "text/html": [
       "<div>\n",
       "<style scoped>\n",
       "    .dataframe tbody tr th:only-of-type {\n",
       "        vertical-align: middle;\n",
       "    }\n",
       "\n",
       "    .dataframe tbody tr th {\n",
       "        vertical-align: top;\n",
       "    }\n",
       "\n",
       "    .dataframe thead th {\n",
       "        text-align: right;\n",
       "    }\n",
       "</style>\n",
       "<table border=\"1\" class=\"dataframe\">\n",
       "  <thead>\n",
       "    <tr style=\"text-align: right;\">\n",
       "      <th></th>\n",
       "      <th>date</th>\n",
       "      <th>time</th>\n",
       "      <th>age</th>\n",
       "      <th>confirmed</th>\n",
       "      <th>deceased</th>\n",
       "    </tr>\n",
       "  </thead>\n",
       "  <tbody>\n",
       "    <tr>\n",
       "      <th>0</th>\n",
       "      <td>2020-03-02</td>\n",
       "      <td>0</td>\n",
       "      <td>0s</td>\n",
       "      <td>32</td>\n",
       "      <td>0</td>\n",
       "    </tr>\n",
       "    <tr>\n",
       "      <th>1</th>\n",
       "      <td>2020-03-02</td>\n",
       "      <td>0</td>\n",
       "      <td>10s</td>\n",
       "      <td>169</td>\n",
       "      <td>0</td>\n",
       "    </tr>\n",
       "    <tr>\n",
       "      <th>2</th>\n",
       "      <td>2020-03-02</td>\n",
       "      <td>0</td>\n",
       "      <td>20s</td>\n",
       "      <td>1235</td>\n",
       "      <td>0</td>\n",
       "    </tr>\n",
       "    <tr>\n",
       "      <th>3</th>\n",
       "      <td>2020-03-02</td>\n",
       "      <td>0</td>\n",
       "      <td>30s</td>\n",
       "      <td>506</td>\n",
       "      <td>1</td>\n",
       "    </tr>\n",
       "    <tr>\n",
       "      <th>4</th>\n",
       "      <td>2020-03-02</td>\n",
       "      <td>0</td>\n",
       "      <td>40s</td>\n",
       "      <td>633</td>\n",
       "      <td>1</td>\n",
       "    </tr>\n",
       "  </tbody>\n",
       "</table>\n",
       "</div>"
      ],
      "text/plain": [
       "         date  time  age  confirmed  deceased\n",
       "0  2020-03-02     0   0s         32         0\n",
       "1  2020-03-02     0  10s        169         0\n",
       "2  2020-03-02     0  20s       1235         0\n",
       "3  2020-03-02     0  30s        506         1\n",
       "4  2020-03-02     0  40s        633         1"
      ]
     },
     "execution_count": 13,
     "metadata": {},
     "output_type": "execute_result"
    }
   ],
   "source": [
    "timeage.head()"
   ]
  },
  {
   "cell_type": "code",
   "execution_count": 14,
   "metadata": {},
   "outputs": [
    {
     "data": {
      "text/plain": [
       "0    171\n",
       "Name: time, dtype: int64"
      ]
     },
     "execution_count": 14,
     "metadata": {},
     "output_type": "execute_result"
    }
   ],
   "source": [
    "timeage['time'].value_counts() # time칼럼 의미 없음"
   ]
  },
  {
   "cell_type": "code",
   "execution_count": 15,
   "metadata": {},
   "outputs": [
    {
     "data": {
      "text/html": [
       "<div>\n",
       "<style scoped>\n",
       "    .dataframe tbody tr th:only-of-type {\n",
       "        vertical-align: middle;\n",
       "    }\n",
       "\n",
       "    .dataframe tbody tr th {\n",
       "        vertical-align: top;\n",
       "    }\n",
       "\n",
       "    .dataframe thead th {\n",
       "        text-align: right;\n",
       "    }\n",
       "</style>\n",
       "<table border=\"1\" class=\"dataframe\">\n",
       "  <thead>\n",
       "    <tr style=\"text-align: right;\">\n",
       "      <th></th>\n",
       "      <th>날짜</th>\n",
       "      <th>연령대</th>\n",
       "      <th>확진자누적수</th>\n",
       "      <th>사망자누적수</th>\n",
       "    </tr>\n",
       "  </thead>\n",
       "  <tbody>\n",
       "    <tr>\n",
       "      <th>0</th>\n",
       "      <td>2020-03-02</td>\n",
       "      <td>0s</td>\n",
       "      <td>32</td>\n",
       "      <td>0</td>\n",
       "    </tr>\n",
       "    <tr>\n",
       "      <th>1</th>\n",
       "      <td>2020-03-02</td>\n",
       "      <td>10s</td>\n",
       "      <td>169</td>\n",
       "      <td>0</td>\n",
       "    </tr>\n",
       "    <tr>\n",
       "      <th>2</th>\n",
       "      <td>2020-03-02</td>\n",
       "      <td>20s</td>\n",
       "      <td>1235</td>\n",
       "      <td>0</td>\n",
       "    </tr>\n",
       "    <tr>\n",
       "      <th>3</th>\n",
       "      <td>2020-03-02</td>\n",
       "      <td>30s</td>\n",
       "      <td>506</td>\n",
       "      <td>1</td>\n",
       "    </tr>\n",
       "    <tr>\n",
       "      <th>4</th>\n",
       "      <td>2020-03-02</td>\n",
       "      <td>40s</td>\n",
       "      <td>633</td>\n",
       "      <td>1</td>\n",
       "    </tr>\n",
       "  </tbody>\n",
       "</table>\n",
       "</div>"
      ],
      "text/plain": [
       "           날짜  연령대  확진자누적수  사망자누적수\n",
       "0  2020-03-02   0s      32       0\n",
       "1  2020-03-02  10s     169       0\n",
       "2  2020-03-02  20s    1235       0\n",
       "3  2020-03-02  30s     506       1\n",
       "4  2020-03-02  40s     633       1"
      ]
     },
     "execution_count": 15,
     "metadata": {},
     "output_type": "execute_result"
    }
   ],
   "source": [
    "timeage = timeage.drop(['time'], axis=1)\n",
    "timeage.columns = ['날짜','연령대','확진자누적수','사망자누적수']\n",
    "timeage.head()"
   ]
  },
  {
   "cell_type": "code",
   "execution_count": 16,
   "metadata": {},
   "outputs": [],
   "source": [
    "# 날짜 object로되있는거 datetime형식으로 바꾸기\n",
    "timeage['날짜'] = pd.to_datetime(timeage['날짜'])"
   ]
  },
  {
   "cell_type": "code",
   "execution_count": 17,
   "metadata": {
    "scrolled": true
   },
   "outputs": [
    {
     "name": "stdout",
     "output_type": "stream",
     "text": [
      "<class 'pandas.core.frame.DataFrame'>\n",
      "RangeIndex: 171 entries, 0 to 170\n",
      "Data columns (total 4 columns):\n",
      " #   Column  Non-Null Count  Dtype         \n",
      "---  ------  --------------  -----         \n",
      " 0   날짜      171 non-null    datetime64[ns]\n",
      " 1   연령대     171 non-null    object        \n",
      " 2   확진자누적수  171 non-null    int64         \n",
      " 3   사망자누적수  171 non-null    int64         \n",
      "dtypes: datetime64[ns](1), int64(2), object(1)\n",
      "memory usage: 5.5+ KB\n"
     ]
    }
   ],
   "source": [
    "timeage.info()"
   ]
  },
  {
   "cell_type": "code",
   "execution_count": 18,
   "metadata": {},
   "outputs": [
    {
     "data": {
      "text/plain": [
       "array(['0s', '10s', '20s', '30s', '40s', '50s', '60s', '70s', '80s'],\n",
       "      dtype=object)"
      ]
     },
     "execution_count": 18,
     "metadata": {},
     "output_type": "execute_result"
    }
   ],
   "source": [
    "# 연령대 value들 종류 보기\n",
    "timeage['연령대'].unique()"
   ]
  },
  {
   "cell_type": "code",
   "execution_count": 19,
   "metadata": {},
   "outputs": [
    {
     "name": "stdout",
     "output_type": "stream",
     "text": [
      "          날짜          연령대  확진자누적수  사망자누적수\n",
      "0 2020-03-02   0세이상 10세미만      32       0\n",
      "1 2020-03-02  10세이상 20세미만     169       0\n",
      "2 2020-03-02  20세이상 30세미만    1235       0\n",
      "3 2020-03-02  30세이상 40세미만     506       1\n",
      "4 2020-03-02  40세이상 50세미만     633       1\n",
      "\n",
      "['0세이상 10세미만' '10세이상 20세미만' '20세이상 30세미만' '30세이상 40세미만' '40세이상 50세미만'\n",
      " '50세이상 60세미만' '60세이상 70세미만' '70세이상 80세미만' '80세이상']\n"
     ]
    }
   ],
   "source": [
    "timeage.loc[timeage['연령대'] == '0s', '연령대'] = '0세이상 10세미만'\n",
    "timeage.loc[timeage['연령대'] == '10s', '연령대'] = '10세이상 20세미만'\n",
    "timeage.loc[timeage['연령대'] == '20s', '연령대'] = '20세이상 30세미만'\n",
    "timeage.loc[timeage['연령대'] == '30s', '연령대'] = '30세이상 40세미만'\n",
    "timeage.loc[timeage['연령대'] == '40s', '연령대'] = '40세이상 50세미만'\n",
    "timeage.loc[timeage['연령대'] == '50s', '연령대'] = '50세이상 60세미만'\n",
    "timeage.loc[timeage['연령대'] == '60s', '연령대'] = '60세이상 70세미만'\n",
    "timeage.loc[timeage['연령대'] == '70s', '연령대'] = '70세이상 80세미만'\n",
    "timeage.loc[timeage['연령대'] == '80s', '연령대'] = '80세이상'\n",
    "print(timeage.head())\n",
    "print()\n",
    "print(timeage['연령대'].unique())"
   ]
  },
  {
   "cell_type": "code",
   "execution_count": 20,
   "metadata": {},
   "outputs": [
    {
     "data": {
      "text/html": [
       "<div>\n",
       "<style scoped>\n",
       "    .dataframe tbody tr th:only-of-type {\n",
       "        vertical-align: middle;\n",
       "    }\n",
       "\n",
       "    .dataframe tbody tr th {\n",
       "        vertical-align: top;\n",
       "    }\n",
       "\n",
       "    .dataframe thead th {\n",
       "        text-align: right;\n",
       "    }\n",
       "</style>\n",
       "<table border=\"1\" class=\"dataframe\">\n",
       "  <thead>\n",
       "    <tr style=\"text-align: right;\">\n",
       "      <th></th>\n",
       "      <th>날짜</th>\n",
       "      <th>연령대</th>\n",
       "      <th>확진자누적수</th>\n",
       "      <th>사망자누적수</th>\n",
       "    </tr>\n",
       "  </thead>\n",
       "  <tbody>\n",
       "    <tr>\n",
       "      <th>0</th>\n",
       "      <td>2020-03-02</td>\n",
       "      <td>0세이상 10세미만</td>\n",
       "      <td>32</td>\n",
       "      <td>0</td>\n",
       "    </tr>\n",
       "    <tr>\n",
       "      <th>1</th>\n",
       "      <td>2020-03-02</td>\n",
       "      <td>10세이상 20세미만</td>\n",
       "      <td>169</td>\n",
       "      <td>0</td>\n",
       "    </tr>\n",
       "    <tr>\n",
       "      <th>2</th>\n",
       "      <td>2020-03-02</td>\n",
       "      <td>20세이상 30세미만</td>\n",
       "      <td>1235</td>\n",
       "      <td>0</td>\n",
       "    </tr>\n",
       "    <tr>\n",
       "      <th>3</th>\n",
       "      <td>2020-03-02</td>\n",
       "      <td>30세이상 40세미만</td>\n",
       "      <td>506</td>\n",
       "      <td>1</td>\n",
       "    </tr>\n",
       "    <tr>\n",
       "      <th>4</th>\n",
       "      <td>2020-03-02</td>\n",
       "      <td>40세이상 50세미만</td>\n",
       "      <td>633</td>\n",
       "      <td>1</td>\n",
       "    </tr>\n",
       "  </tbody>\n",
       "</table>\n",
       "</div>"
      ],
      "text/plain": [
       "          날짜          연령대  확진자누적수  사망자누적수\n",
       "0 2020-03-02   0세이상 10세미만      32       0\n",
       "1 2020-03-02  10세이상 20세미만     169       0\n",
       "2 2020-03-02  20세이상 30세미만    1235       0\n",
       "3 2020-03-02  30세이상 40세미만     506       1\n",
       "4 2020-03-02  40세이상 50세미만     633       1"
      ]
     },
     "execution_count": 20,
     "metadata": {},
     "output_type": "execute_result"
    }
   ],
   "source": [
    "timeage.head()"
   ]
  },
  {
   "cell_type": "code",
   "execution_count": 36,
   "metadata": {},
   "outputs": [
    {
     "name": "stdout",
     "output_type": "stream",
     "text": [
      "<class 'pandas.core.frame.DataFrame'>\n",
      "RangeIndex: 171 entries, 0 to 170\n",
      "Data columns (total 4 columns):\n",
      " #   Column  Non-Null Count  Dtype \n",
      "---  ------  --------------  ----- \n",
      " 0   날짜      171 non-null    object\n",
      " 1   연령대     171 non-null    object\n",
      " 2   확진자누적수  171 non-null    int64 \n",
      " 3   사망자누적수  171 non-null    int64 \n",
      "dtypes: int64(2), object(2)\n",
      "memory usage: 5.5+ KB\n"
     ]
    }
   ],
   "source": [
    "# 가장 최근의 날짜의 행들만 갖고와서 연령대별로 확진자누적수 비교하기\n",
    "timeage['날짜'] = timeage['날짜'].astype(str)\n",
    "timeage.info()"
   ]
  },
  {
   "cell_type": "code",
   "execution_count": 40,
   "metadata": {},
   "outputs": [
    {
     "data": {
      "text/html": [
       "<div>\n",
       "<style scoped>\n",
       "    .dataframe tbody tr th:only-of-type {\n",
       "        vertical-align: middle;\n",
       "    }\n",
       "\n",
       "    .dataframe tbody tr th {\n",
       "        vertical-align: top;\n",
       "    }\n",
       "\n",
       "    .dataframe thead th {\n",
       "        text-align: right;\n",
       "    }\n",
       "</style>\n",
       "<table border=\"1\" class=\"dataframe\">\n",
       "  <thead>\n",
       "    <tr style=\"text-align: right;\">\n",
       "      <th></th>\n",
       "      <th>날짜</th>\n",
       "      <th>연령대</th>\n",
       "      <th>확진자누적수</th>\n",
       "      <th>사망자누적수</th>\n",
       "    </tr>\n",
       "  </thead>\n",
       "  <tbody>\n",
       "    <tr>\n",
       "      <th>0</th>\n",
       "      <td>2020-03-20</td>\n",
       "      <td>0세이상 10세미만</td>\n",
       "      <td>97</td>\n",
       "      <td>0</td>\n",
       "    </tr>\n",
       "    <tr>\n",
       "      <th>1</th>\n",
       "      <td>2020-03-20</td>\n",
       "      <td>10세이상 20세미만</td>\n",
       "      <td>452</td>\n",
       "      <td>0</td>\n",
       "    </tr>\n",
       "    <tr>\n",
       "      <th>2</th>\n",
       "      <td>2020-03-20</td>\n",
       "      <td>20세이상 30세미만</td>\n",
       "      <td>2365</td>\n",
       "      <td>0</td>\n",
       "    </tr>\n",
       "    <tr>\n",
       "      <th>3</th>\n",
       "      <td>2020-03-20</td>\n",
       "      <td>30세이상 40세미만</td>\n",
       "      <td>893</td>\n",
       "      <td>1</td>\n",
       "    </tr>\n",
       "    <tr>\n",
       "      <th>4</th>\n",
       "      <td>2020-03-20</td>\n",
       "      <td>40세이상 50세미만</td>\n",
       "      <td>1193</td>\n",
       "      <td>1</td>\n",
       "    </tr>\n",
       "  </tbody>\n",
       "</table>\n",
       "</div>"
      ],
      "text/plain": [
       "           날짜          연령대  확진자누적수  사망자누적수\n",
       "0  2020-03-20   0세이상 10세미만      97       0\n",
       "1  2020-03-20  10세이상 20세미만     452       0\n",
       "2  2020-03-20  20세이상 30세미만    2365       0\n",
       "3  2020-03-20  30세이상 40세미만     893       1\n",
       "4  2020-03-20  40세이상 50세미만    1193       1"
      ]
     },
     "execution_count": 40,
     "metadata": {},
     "output_type": "execute_result"
    }
   ],
   "source": [
    "age_max = timeage.loc[timeage['날짜'] == '2020-03-20'].reset_index(drop=True)\n",
    "age_max.head()"
   ]
  },
  {
   "cell_type": "code",
   "execution_count": 46,
   "metadata": {},
   "outputs": [
    {
     "data": {
      "text/plain": [
       "Text(0, 0.5, '연령대')"
      ]
     },
     "execution_count": 46,
     "metadata": {},
     "output_type": "execute_result"
    },
    {
     "data": {
      "image/png": "[encoded data removed]",
      "text/plain": [
       "<Figure size 1152x576 with 1 Axes>"
      ]
     },
     "metadata": {
      "needs_background": "light"
     },
     "output_type": "display_data"
    }
   ],
   "source": [
    "plt.figure(figsize=(16,8))\n",
    "plt.barh(age_max['연령대'], age_max['확진자누적수'])\n",
    "plt.title('2020-03-20일 기준 확진자 누적 수', fontsize=30)\n",
    "plt.xlabel('확진자 누적 수', fontsize=20)\n",
    "plt.ylabel('연령대', fontsize=20)"
   ]
  },
  {
   "cell_type": "code",
   "execution_count": 47,
   "metadata": {},
   "outputs": [
    {
     "data": {
      "text/plain": [
       "Text(0, 0.5, '연령대')"
      ]
     },
     "execution_count": 47,
     "metadata": {},
     "output_type": "execute_result"
    },
    {
     "data": {
      "image/png": "[encoded data removed]",
      "text/plain": [
       "<Figure size 1152x576 with 1 Axes>"
      ]
     },
     "metadata": {
      "needs_background": "light"
     },
     "output_type": "display_data"
    }
   ],
   "source": [
    "plt.figure(figsize=(16,8))\n",
    "plt.barh(age_max['연령대'], age_max['사망자누적수'])\n",
    "plt.title('2020-03-20일 기준 사망자 누적 수', fontsize=30)\n",
    "plt.xlabel('사망자 누적 수', fontsize=20)\n",
    "plt.ylabel('연령대', fontsize=20)"
   ]
  },
  {
   "cell_type": "code",
   "execution_count": 49,
   "metadata": {},
   "outputs": [
    {
     "data": {
      "text/plain": [
       "(1037, 6)"
      ]
     },
     "execution_count": 49,
     "metadata": {},
     "output_type": "execute_result"
    }
   ],
   "source": [
    "timeprovince.shape"
   ]
  },
  {
   "cell_type": "code",
   "execution_count": 50,
   "metadata": {},
   "outputs": [
    {
     "data": {
      "text/html": [
       "<div>\n",
       "<style scoped>\n",
       "    .dataframe tbody tr th:only-of-type {\n",
       "        vertical-align: middle;\n",
       "    }\n",
       "\n",
       "    .dataframe tbody tr th {\n",
       "        vertical-align: top;\n",
       "    }\n",
       "\n",
       "    .dataframe thead th {\n",
       "        text-align: right;\n",
       "    }\n",
       "</style>\n",
       "<table border=\"1\" class=\"dataframe\">\n",
       "  <thead>\n",
       "    <tr style=\"text-align: right;\">\n",
       "      <th></th>\n",
       "      <th>time</th>\n",
       "      <th>confirmed</th>\n",
       "      <th>released</th>\n",
       "      <th>deceased</th>\n",
       "    </tr>\n",
       "  </thead>\n",
       "  <tbody>\n",
       "    <tr>\n",
       "      <th>count</th>\n",
       "      <td>1037.000000</td>\n",
       "      <td>1037.000000</td>\n",
       "      <td>1037.000000</td>\n",
       "      <td>1037.000000</td>\n",
       "    </tr>\n",
       "    <tr>\n",
       "      <th>mean</th>\n",
       "      <td>11.016393</td>\n",
       "      <td>140.442623</td>\n",
       "      <td>11.821601</td>\n",
       "      <td>1.179364</td>\n",
       "    </tr>\n",
       "    <tr>\n",
       "      <th>std</th>\n",
       "      <td>7.413121</td>\n",
       "      <td>711.152098</td>\n",
       "      <td>86.507973</td>\n",
       "      <td>6.319566</td>\n",
       "    </tr>\n",
       "    <tr>\n",
       "      <th>min</th>\n",
       "      <td>0.000000</td>\n",
       "      <td>0.000000</td>\n",
       "      <td>0.000000</td>\n",
       "      <td>0.000000</td>\n",
       "    </tr>\n",
       "    <tr>\n",
       "      <th>25%</th>\n",
       "      <td>0.000000</td>\n",
       "      <td>0.000000</td>\n",
       "      <td>0.000000</td>\n",
       "      <td>0.000000</td>\n",
       "    </tr>\n",
       "    <tr>\n",
       "      <th>50%</th>\n",
       "      <td>16.000000</td>\n",
       "      <td>1.000000</td>\n",
       "      <td>0.000000</td>\n",
       "      <td>0.000000</td>\n",
       "    </tr>\n",
       "    <tr>\n",
       "      <th>75%</th>\n",
       "      <td>16.000000</td>\n",
       "      <td>20.000000</td>\n",
       "      <td>2.000000</td>\n",
       "      <td>0.000000</td>\n",
       "    </tr>\n",
       "    <tr>\n",
       "      <th>max</th>\n",
       "      <td>16.000000</td>\n",
       "      <td>6066.000000</td>\n",
       "      <td>1577.000000</td>\n",
       "      <td>67.000000</td>\n",
       "    </tr>\n",
       "  </tbody>\n",
       "</table>\n",
       "</div>"
      ],
      "text/plain": [
       "              time    confirmed     released     deceased\n",
       "count  1037.000000  1037.000000  1037.000000  1037.000000\n",
       "mean     11.016393   140.442623    11.821601     1.179364\n",
       "std       7.413121   711.152098    86.507973     6.319566\n",
       "min       0.000000     0.000000     0.000000     0.000000\n",
       "25%       0.000000     0.000000     0.000000     0.000000\n",
       "50%      16.000000     1.000000     0.000000     0.000000\n",
       "75%      16.000000    20.000000     2.000000     0.000000\n",
       "max      16.000000  6066.000000  1577.000000    67.000000"
      ]
     },
     "execution_count": 50,
     "metadata": {},
     "output_type": "execute_result"
    }
   ],
   "source": [
    "timeprovince.describe()"
   ]
  },
  {
   "cell_type": "code",
   "execution_count": 51,
   "metadata": {},
   "outputs": [
    {
     "name": "stdout",
     "output_type": "stream",
     "text": [
      "<class 'pandas.core.frame.DataFrame'>\n",
      "RangeIndex: 1037 entries, 0 to 1036\n",
      "Data columns (total 6 columns):\n",
      " #   Column     Non-Null Count  Dtype \n",
      "---  ------     --------------  ----- \n",
      " 0   date       1037 non-null   object\n",
      " 1   time       1037 non-null   int64 \n",
      " 2   province   1037 non-null   object\n",
      " 3   confirmed  1037 non-null   int64 \n",
      " 4   released   1037 non-null   int64 \n",
      " 5   deceased   1037 non-null   int64 \n",
      "dtypes: int64(4), object(2)\n",
      "memory usage: 48.7+ KB\n"
     ]
    }
   ],
   "source": [
    "timeprovince.info()"
   ]
  },
  {
   "cell_type": "code",
   "execution_count": 52,
   "metadata": {},
   "outputs": [
    {
     "data": {
      "text/plain": [
       "date         0\n",
       "time         0\n",
       "province     0\n",
       "confirmed    0\n",
       "released     0\n",
       "deceased     0\n",
       "dtype: int64"
      ]
     },
     "execution_count": 52,
     "metadata": {},
     "output_type": "execute_result"
    }
   ],
   "source": [
    "timeprovince.isnull().sum()"
   ]
  },
  {
   "cell_type": "code",
   "execution_count": 53,
   "metadata": {},
   "outputs": [
    {
     "data": {
      "text/html": [
       "<div>\n",
       "<style scoped>\n",
       "    .dataframe tbody tr th:only-of-type {\n",
       "        vertical-align: middle;\n",
       "    }\n",
       "\n",
       "    .dataframe tbody tr th {\n",
       "        vertical-align: top;\n",
       "    }\n",
       "\n",
       "    .dataframe thead th {\n",
       "        text-align: right;\n",
       "    }\n",
       "</style>\n",
       "<table border=\"1\" class=\"dataframe\">\n",
       "  <thead>\n",
       "    <tr style=\"text-align: right;\">\n",
       "      <th></th>\n",
       "      <th>date</th>\n",
       "      <th>time</th>\n",
       "      <th>province</th>\n",
       "      <th>confirmed</th>\n",
       "      <th>released</th>\n",
       "      <th>deceased</th>\n",
       "    </tr>\n",
       "  </thead>\n",
       "  <tbody>\n",
       "    <tr>\n",
       "      <th>0</th>\n",
       "      <td>2020-01-20</td>\n",
       "      <td>16</td>\n",
       "      <td>Seoul</td>\n",
       "      <td>0</td>\n",
       "      <td>0</td>\n",
       "      <td>0</td>\n",
       "    </tr>\n",
       "    <tr>\n",
       "      <th>1</th>\n",
       "      <td>2020-01-20</td>\n",
       "      <td>16</td>\n",
       "      <td>Busan</td>\n",
       "      <td>0</td>\n",
       "      <td>0</td>\n",
       "      <td>0</td>\n",
       "    </tr>\n",
       "    <tr>\n",
       "      <th>2</th>\n",
       "      <td>2020-01-20</td>\n",
       "      <td>16</td>\n",
       "      <td>Daegu</td>\n",
       "      <td>0</td>\n",
       "      <td>0</td>\n",
       "      <td>0</td>\n",
       "    </tr>\n",
       "    <tr>\n",
       "      <th>3</th>\n",
       "      <td>2020-01-20</td>\n",
       "      <td>16</td>\n",
       "      <td>Incheon</td>\n",
       "      <td>1</td>\n",
       "      <td>0</td>\n",
       "      <td>0</td>\n",
       "    </tr>\n",
       "    <tr>\n",
       "      <th>4</th>\n",
       "      <td>2020-01-20</td>\n",
       "      <td>16</td>\n",
       "      <td>Gwangju</td>\n",
       "      <td>0</td>\n",
       "      <td>0</td>\n",
       "      <td>0</td>\n",
       "    </tr>\n",
       "  </tbody>\n",
       "</table>\n",
       "</div>"
      ],
      "text/plain": [
       "         date  time province  confirmed  released  deceased\n",
       "0  2020-01-20    16    Seoul          0         0         0\n",
       "1  2020-01-20    16    Busan          0         0         0\n",
       "2  2020-01-20    16    Daegu          0         0         0\n",
       "3  2020-01-20    16  Incheon          1         0         0\n",
       "4  2020-01-20    16  Gwangju          0         0         0"
      ]
     },
     "execution_count": 53,
     "metadata": {},
     "output_type": "execute_result"
    }
   ],
   "source": [
    "timeprovince.head()"
   ]
  },
  {
   "cell_type": "code",
   "execution_count": 54,
   "metadata": {},
   "outputs": [
    {
     "data": {
      "text/html": [
       "<div>\n",
       "<style scoped>\n",
       "    .dataframe tbody tr th:only-of-type {\n",
       "        vertical-align: middle;\n",
       "    }\n",
       "\n",
       "    .dataframe tbody tr th {\n",
       "        vertical-align: top;\n",
       "    }\n",
       "\n",
       "    .dataframe thead th {\n",
       "        text-align: right;\n",
       "    }\n",
       "</style>\n",
       "<table border=\"1\" class=\"dataframe\">\n",
       "  <thead>\n",
       "    <tr style=\"text-align: right;\">\n",
       "      <th></th>\n",
       "      <th>date</th>\n",
       "      <th>time</th>\n",
       "      <th>province</th>\n",
       "      <th>confirmed</th>\n",
       "      <th>released</th>\n",
       "      <th>deceased</th>\n",
       "    </tr>\n",
       "  </thead>\n",
       "  <tbody>\n",
       "    <tr>\n",
       "      <th>1032</th>\n",
       "      <td>2020-03-20</td>\n",
       "      <td>0</td>\n",
       "      <td>Jeollabuk-do</td>\n",
       "      <td>3</td>\n",
       "      <td>7</td>\n",
       "      <td>0</td>\n",
       "    </tr>\n",
       "    <tr>\n",
       "      <th>1033</th>\n",
       "      <td>2020-03-20</td>\n",
       "      <td>0</td>\n",
       "      <td>Jeollanam-do</td>\n",
       "      <td>2</td>\n",
       "      <td>3</td>\n",
       "      <td>0</td>\n",
       "    </tr>\n",
       "    <tr>\n",
       "      <th>1034</th>\n",
       "      <td>2020-03-20</td>\n",
       "      <td>0</td>\n",
       "      <td>Gyeongsangbuk-do</td>\n",
       "      <td>841</td>\n",
       "      <td>340</td>\n",
       "      <td>22</td>\n",
       "    </tr>\n",
       "    <tr>\n",
       "      <th>1035</th>\n",
       "      <td>2020-03-20</td>\n",
       "      <td>0</td>\n",
       "      <td>Gyeongsangnam-do</td>\n",
       "      <td>54</td>\n",
       "      <td>33</td>\n",
       "      <td>0</td>\n",
       "    </tr>\n",
       "    <tr>\n",
       "      <th>1036</th>\n",
       "      <td>2020-03-20</td>\n",
       "      <td>0</td>\n",
       "      <td>Jeju-do</td>\n",
       "      <td>2</td>\n",
       "      <td>2</td>\n",
       "      <td>0</td>\n",
       "    </tr>\n",
       "  </tbody>\n",
       "</table>\n",
       "</div>"
      ],
      "text/plain": [
       "            date  time          province  confirmed  released  deceased\n",
       "1032  2020-03-20     0      Jeollabuk-do          3         7         0\n",
       "1033  2020-03-20     0      Jeollanam-do          2         3         0\n",
       "1034  2020-03-20     0  Gyeongsangbuk-do        841       340        22\n",
       "1035  2020-03-20     0  Gyeongsangnam-do         54        33         0\n",
       "1036  2020-03-20     0           Jeju-do          2         2         0"
      ]
     },
     "execution_count": 54,
     "metadata": {},
     "output_type": "execute_result"
    }
   ],
   "source": [
    "timeprovince.tail()"
   ]
  },
  {
   "cell_type": "code",
   "execution_count": 56,
   "metadata": {},
   "outputs": [
    {
     "data": {
      "text/html": [
       "<div>\n",
       "<style scoped>\n",
       "    .dataframe tbody tr th:only-of-type {\n",
       "        vertical-align: middle;\n",
       "    }\n",
       "\n",
       "    .dataframe tbody tr th {\n",
       "        vertical-align: top;\n",
       "    }\n",
       "\n",
       "    .dataframe thead th {\n",
       "        text-align: right;\n",
       "    }\n",
       "</style>\n",
       "<table border=\"1\" class=\"dataframe\">\n",
       "  <thead>\n",
       "    <tr style=\"text-align: right;\">\n",
       "      <th></th>\n",
       "      <th>날짜</th>\n",
       "      <th>시간</th>\n",
       "      <th>시도</th>\n",
       "      <th>확진자누적수</th>\n",
       "      <th>완치자누적수</th>\n",
       "      <th>사망자누적수</th>\n",
       "    </tr>\n",
       "  </thead>\n",
       "  <tbody>\n",
       "    <tr>\n",
       "      <th>0</th>\n",
       "      <td>2020-01-20</td>\n",
       "      <td>16</td>\n",
       "      <td>Seoul</td>\n",
       "      <td>0</td>\n",
       "      <td>0</td>\n",
       "      <td>0</td>\n",
       "    </tr>\n",
       "    <tr>\n",
       "      <th>1</th>\n",
       "      <td>2020-01-20</td>\n",
       "      <td>16</td>\n",
       "      <td>Busan</td>\n",
       "      <td>0</td>\n",
       "      <td>0</td>\n",
       "      <td>0</td>\n",
       "    </tr>\n",
       "    <tr>\n",
       "      <th>2</th>\n",
       "      <td>2020-01-20</td>\n",
       "      <td>16</td>\n",
       "      <td>Daegu</td>\n",
       "      <td>0</td>\n",
       "      <td>0</td>\n",
       "      <td>0</td>\n",
       "    </tr>\n",
       "    <tr>\n",
       "      <th>3</th>\n",
       "      <td>2020-01-20</td>\n",
       "      <td>16</td>\n",
       "      <td>Incheon</td>\n",
       "      <td>1</td>\n",
       "      <td>0</td>\n",
       "      <td>0</td>\n",
       "    </tr>\n",
       "    <tr>\n",
       "      <th>4</th>\n",
       "      <td>2020-01-20</td>\n",
       "      <td>16</td>\n",
       "      <td>Gwangju</td>\n",
       "      <td>0</td>\n",
       "      <td>0</td>\n",
       "      <td>0</td>\n",
       "    </tr>\n",
       "  </tbody>\n",
       "</table>\n",
       "</div>"
      ],
      "text/plain": [
       "           날짜  시간       시도  확진자누적수  완치자누적수  사망자누적수\n",
       "0  2020-01-20  16    Seoul       0       0       0\n",
       "1  2020-01-20  16    Busan       0       0       0\n",
       "2  2020-01-20  16    Daegu       0       0       0\n",
       "3  2020-01-20  16  Incheon       1       0       0\n",
       "4  2020-01-20  16  Gwangju       0       0       0"
      ]
     },
     "execution_count": 56,
     "metadata": {},
     "output_type": "execute_result"
    }
   ],
   "source": [
    "timeprovince.columns = ['날짜','시간','시도','확진자누적수','완치자누적수','사망자누적수']\n",
    "timeprovince.head()"
   ]
  },
  {
   "cell_type": "code",
   "execution_count": 67,
   "metadata": {
    "scrolled": true
   },
   "outputs": [
    {
     "data": {
      "text/plain": [
       "<seaborn.axisgrid.FacetGrid at 0x171c6b54c50>"
      ]
     },
     "execution_count": 67,
     "metadata": {},
     "output_type": "execute_result"
    },
    {
     "data": {
      "image/png": "[encoded data removed]",
      "text/plain": [
       "<Figure size 720x3240 with 17 Axes>"
      ]
     },
     "metadata": {
      "needs_background": "light"
     },
     "output_type": "display_data"
    }
   ],
   "source": [
    "g = sns.relplot(data=timeprovince, x='날짜', y='확진자누적수', kind='line', col='시도', col_wrap=2, sizes=(17,5))\n",
    "g.set_xticklabels(rotation=90, size=7) # figure 사이즈 어떻게 조정?"
   ]
  },
  {
   "cell_type": "code",
   "execution_count": 68,
   "metadata": {},
   "outputs": [
    {
     "name": "stdout",
     "output_type": "stream",
     "text": [
      "<class 'pandas.core.frame.DataFrame'>\n",
      "RangeIndex: 38 entries, 0 to 37\n",
      "Data columns (total 5 columns):\n",
      " #   Column     Non-Null Count  Dtype \n",
      "---  ------     --------------  ----- \n",
      " 0   date       38 non-null     object\n",
      " 1   time       38 non-null     int64 \n",
      " 2   sex        38 non-null     object\n",
      " 3   confirmed  38 non-null     int64 \n",
      " 4   deceased   38 non-null     int64 \n",
      "dtypes: int64(3), object(2)\n",
      "memory usage: 1.6+ KB\n"
     ]
    }
   ],
   "source": [
    "timegender.info()"
   ]
  },
  {
   "cell_type": "code",
   "execution_count": 69,
   "metadata": {},
   "outputs": [
    {
     "data": {
      "text/plain": [
       "(38, 5)"
      ]
     },
     "execution_count": 69,
     "metadata": {},
     "output_type": "execute_result"
    }
   ],
   "source": [
    "timegender.shape"
   ]
  },
  {
   "cell_type": "code",
   "execution_count": 70,
   "metadata": {},
   "outputs": [
    {
     "data": {
      "text/html": [
       "<div>\n",
       "<style scoped>\n",
       "    .dataframe tbody tr th:only-of-type {\n",
       "        vertical-align: middle;\n",
       "    }\n",
       "\n",
       "    .dataframe tbody tr th {\n",
       "        vertical-align: top;\n",
       "    }\n",
       "\n",
       "    .dataframe thead th {\n",
       "        text-align: right;\n",
       "    }\n",
       "</style>\n",
       "<table border=\"1\" class=\"dataframe\">\n",
       "  <thead>\n",
       "    <tr style=\"text-align: right;\">\n",
       "      <th></th>\n",
       "      <th>date</th>\n",
       "      <th>time</th>\n",
       "      <th>sex</th>\n",
       "      <th>confirmed</th>\n",
       "      <th>deceased</th>\n",
       "    </tr>\n",
       "  </thead>\n",
       "  <tbody>\n",
       "    <tr>\n",
       "      <th>0</th>\n",
       "      <td>2020-03-02</td>\n",
       "      <td>0</td>\n",
       "      <td>male</td>\n",
       "      <td>1591</td>\n",
       "      <td>13</td>\n",
       "    </tr>\n",
       "    <tr>\n",
       "      <th>1</th>\n",
       "      <td>2020-03-02</td>\n",
       "      <td>0</td>\n",
       "      <td>female</td>\n",
       "      <td>2621</td>\n",
       "      <td>9</td>\n",
       "    </tr>\n",
       "    <tr>\n",
       "      <th>2</th>\n",
       "      <td>2020-03-03</td>\n",
       "      <td>0</td>\n",
       "      <td>male</td>\n",
       "      <td>1810</td>\n",
       "      <td>16</td>\n",
       "    </tr>\n",
       "    <tr>\n",
       "      <th>3</th>\n",
       "      <td>2020-03-03</td>\n",
       "      <td>0</td>\n",
       "      <td>female</td>\n",
       "      <td>3002</td>\n",
       "      <td>12</td>\n",
       "    </tr>\n",
       "    <tr>\n",
       "      <th>4</th>\n",
       "      <td>2020-03-04</td>\n",
       "      <td>0</td>\n",
       "      <td>male</td>\n",
       "      <td>1996</td>\n",
       "      <td>20</td>\n",
       "    </tr>\n",
       "  </tbody>\n",
       "</table>\n",
       "</div>"
      ],
      "text/plain": [
       "         date  time     sex  confirmed  deceased\n",
       "0  2020-03-02     0    male       1591        13\n",
       "1  2020-03-02     0  female       2621         9\n",
       "2  2020-03-03     0    male       1810        16\n",
       "3  2020-03-03     0  female       3002        12\n",
       "4  2020-03-04     0    male       1996        20"
      ]
     },
     "execution_count": 70,
     "metadata": {},
     "output_type": "execute_result"
    }
   ],
   "source": [
    "timegender.head()"
   ]
  },
  {
   "cell_type": "code",
   "execution_count": 71,
   "metadata": {},
   "outputs": [
    {
     "data": {
      "text/html": [
       "<div>\n",
       "<style scoped>\n",
       "    .dataframe tbody tr th:only-of-type {\n",
       "        vertical-align: middle;\n",
       "    }\n",
       "\n",
       "    .dataframe tbody tr th {\n",
       "        vertical-align: top;\n",
       "    }\n",
       "\n",
       "    .dataframe thead th {\n",
       "        text-align: right;\n",
       "    }\n",
       "</style>\n",
       "<table border=\"1\" class=\"dataframe\">\n",
       "  <thead>\n",
       "    <tr style=\"text-align: right;\">\n",
       "      <th></th>\n",
       "      <th>date</th>\n",
       "      <th>time</th>\n",
       "      <th>sex</th>\n",
       "      <th>confirmed</th>\n",
       "      <th>deceased</th>\n",
       "    </tr>\n",
       "  </thead>\n",
       "  <tbody>\n",
       "    <tr>\n",
       "      <th>33</th>\n",
       "      <td>2020-03-18</td>\n",
       "      <td>0</td>\n",
       "      <td>female</td>\n",
       "      <td>5173</td>\n",
       "      <td>39</td>\n",
       "    </tr>\n",
       "    <tr>\n",
       "      <th>34</th>\n",
       "      <td>2020-03-19</td>\n",
       "      <td>0</td>\n",
       "      <td>male</td>\n",
       "      <td>3296</td>\n",
       "      <td>49</td>\n",
       "    </tr>\n",
       "    <tr>\n",
       "      <th>35</th>\n",
       "      <td>2020-03-19</td>\n",
       "      <td>0</td>\n",
       "      <td>female</td>\n",
       "      <td>5269</td>\n",
       "      <td>42</td>\n",
       "    </tr>\n",
       "    <tr>\n",
       "      <th>36</th>\n",
       "      <td>2020-03-20</td>\n",
       "      <td>0</td>\n",
       "      <td>male</td>\n",
       "      <td>3330</td>\n",
       "      <td>51</td>\n",
       "    </tr>\n",
       "    <tr>\n",
       "      <th>37</th>\n",
       "      <td>2020-03-20</td>\n",
       "      <td>0</td>\n",
       "      <td>female</td>\n",
       "      <td>5322</td>\n",
       "      <td>43</td>\n",
       "    </tr>\n",
       "  </tbody>\n",
       "</table>\n",
       "</div>"
      ],
      "text/plain": [
       "          date  time     sex  confirmed  deceased\n",
       "33  2020-03-18     0  female       5173        39\n",
       "34  2020-03-19     0    male       3296        49\n",
       "35  2020-03-19     0  female       5269        42\n",
       "36  2020-03-20     0    male       3330        51\n",
       "37  2020-03-20     0  female       5322        43"
      ]
     },
     "execution_count": 71,
     "metadata": {},
     "output_type": "execute_result"
    }
   ],
   "source": [
    "timegender.tail()"
   ]
  },
  {
   "cell_type": "code",
   "execution_count": 72,
   "metadata": {},
   "outputs": [],
   "source": [
    "timegender.columns = ['날짜','시간','성별','확진자누적수','사망자누적수']"
   ]
  },
  {
   "cell_type": "code",
   "execution_count": 85,
   "metadata": {},
   "outputs": [
    {
     "data": {
      "text/plain": [
       "<matplotlib.axes._subplots.AxesSubplot at 0x171cbdb9dd8>"
      ]
     },
     "execution_count": 85,
     "metadata": {},
     "output_type": "execute_result"
    },
    {
     "data": {
      "image/png": "[encoded data removed]",
      "text/plain": [
       "<Figure size 1440x720 with 1 Axes>"
      ]
     },
     "metadata": {
      "needs_background": "light"
     },
     "output_type": "display_data"
    }
   ],
   "source": [
    "plt.figure(figsize=(20,10))\n",
    "plt.xticks(rotation=30)\n",
    "plt.xlabel('날짜',fontsize=20)\n",
    "plt.ylabel('확진자누적수',fontsize=20)\n",
    "sns.lineplot(data=timegender, x='날짜', y='확진자누적수', hue='성별')"
   ]
  },
  {
   "cell_type": "code",
   "execution_count": 86,
   "metadata": {},
   "outputs": [
    {
     "data": {
      "text/plain": [
       "<matplotlib.axes._subplots.AxesSubplot at 0x171cbdc3898>"
      ]
     },
     "execution_count": 86,
     "metadata": {},
     "output_type": "execute_result"
    },
    {
     "data": {
      "image/png": "[encoded data removed]",
      "text/plain": [
       "<Figure size 1440x720 with 1 Axes>"
      ]
     },
     "metadata": {
      "needs_background": "light"
     },
     "output_type": "display_data"
    }
   ],
   "source": [
    "plt.figure(figsize=(20,10))\n",
    "plt.xticks(rotation=30)\n",
    "plt.xlabel('날짜',fontsize=20)\n",
    "plt.ylabel('사망자누적수',fontsize=20)\n",
    "sns.lineplot(data=timegender, x='날짜', y='사망자누적수', hue='성별')"
   ]
  },
  {
   "cell_type": "code",
   "execution_count": 87,
   "metadata": {},
   "outputs": [
    {
     "data": {
      "text/plain": [
       "(2218, 18)"
      ]
     },
     "execution_count": 87,
     "metadata": {},
     "output_type": "execute_result"
    }
   ],
   "source": [
    "# patientinfo, patientroute, region, weather\n",
    "\n",
    "patientinfo.shape"
   ]
  },
  {
   "cell_type": "code",
   "execution_count": 88,
   "metadata": {},
   "outputs": [
    {
     "name": "stdout",
     "output_type": "stream",
     "text": [
      "<class 'pandas.core.frame.DataFrame'>\n",
      "RangeIndex: 2218 entries, 0 to 2217\n",
      "Data columns (total 18 columns):\n",
      " #   Column              Non-Null Count  Dtype  \n",
      "---  ------              --------------  -----  \n",
      " 0   patient_id          2218 non-null   int64  \n",
      " 1   global_num          1314 non-null   float64\n",
      " 2   sex                 2073 non-null   object \n",
      " 3   birth_year          1764 non-null   float64\n",
      " 4   age                 1957 non-null   object \n",
      " 5   country             2218 non-null   object \n",
      " 6   province            2218 non-null   object \n",
      " 7   city                2153 non-null   object \n",
      " 8   disease             19 non-null     object \n",
      " 9   infection_case      1163 non-null   object \n",
      " 10  infection_order     42 non-null     float64\n",
      " 11  infected_by         469 non-null    float64\n",
      " 12  contact_number      411 non-null    float64\n",
      " 13  symptom_onset_date  193 non-null    object \n",
      " 14  confirmed_date      2077 non-null   object \n",
      " 15  released_date       223 non-null    object \n",
      " 16  deceased_date       32 non-null     object \n",
      " 17  state               2130 non-null   object \n",
      "dtypes: float64(5), int64(1), object(12)\n",
      "memory usage: 312.0+ KB\n"
     ]
    }
   ],
   "source": [
    "patientinfo.info()"
   ]
  },
  {
   "cell_type": "code",
   "execution_count": 90,
   "metadata": {},
   "outputs": [
    {
     "data": {
      "text/plain": [
       "patient_id               0\n",
       "global_num             904\n",
       "sex                    145\n",
       "birth_year             454\n",
       "age                    261\n",
       "country                  0\n",
       "province                 0\n",
       "city                    65\n",
       "disease               2199\n",
       "infection_case        1055\n",
       "infection_order       2176\n",
       "infected_by           1749\n",
       "contact_number        1807\n",
       "symptom_onset_date    2025\n",
       "confirmed_date         141\n",
       "released_date         1995\n",
       "deceased_date         2186\n",
       "state                   88\n",
       "dtype: int64"
      ]
     },
     "execution_count": 90,
     "metadata": {},
     "output_type": "execute_result"
    }
   ],
   "source": [
    "patientinfo.isnull().sum()"
   ]
  },
  {
   "cell_type": "code",
   "execution_count": 91,
   "metadata": {},
   "outputs": [
    {
     "data": {
      "text/html": [
       "<div>\n",
       "<style scoped>\n",
       "    .dataframe tbody tr th:only-of-type {\n",
       "        vertical-align: middle;\n",
       "    }\n",
       "\n",
       "    .dataframe tbody tr th {\n",
       "        vertical-align: top;\n",
       "    }\n",
       "\n",
       "    .dataframe thead th {\n",
       "        text-align: right;\n",
       "    }\n",
       "</style>\n",
       "<table border=\"1\" class=\"dataframe\">\n",
       "  <thead>\n",
       "    <tr style=\"text-align: right;\">\n",
       "      <th></th>\n",
       "      <th>patient_id</th>\n",
       "      <th>global_num</th>\n",
       "      <th>sex</th>\n",
       "      <th>birth_year</th>\n",
       "      <th>age</th>\n",
       "      <th>country</th>\n",
       "      <th>province</th>\n",
       "      <th>city</th>\n",
       "      <th>disease</th>\n",
       "      <th>infection_case</th>\n",
       "      <th>infection_order</th>\n",
       "      <th>infected_by</th>\n",
       "      <th>contact_number</th>\n",
       "      <th>symptom_onset_date</th>\n",
       "      <th>confirmed_date</th>\n",
       "      <th>released_date</th>\n",
       "      <th>deceased_date</th>\n",
       "      <th>state</th>\n",
       "    </tr>\n",
       "  </thead>\n",
       "  <tbody>\n",
       "    <tr>\n",
       "      <th>0</th>\n",
       "      <td>1000000001</td>\n",
       "      <td>2.0</td>\n",
       "      <td>male</td>\n",
       "      <td>1964.0</td>\n",
       "      <td>50s</td>\n",
       "      <td>Korea</td>\n",
       "      <td>Seoul</td>\n",
       "      <td>Gangseo-gu</td>\n",
       "      <td>NaN</td>\n",
       "      <td>overseas inflow</td>\n",
       "      <td>1.0</td>\n",
       "      <td>NaN</td>\n",
       "      <td>75.0</td>\n",
       "      <td>2020-01-22</td>\n",
       "      <td>2020-01-23</td>\n",
       "      <td>2020-02-05</td>\n",
       "      <td>NaN</td>\n",
       "      <td>released</td>\n",
       "    </tr>\n",
       "    <tr>\n",
       "      <th>1</th>\n",
       "      <td>1000000002</td>\n",
       "      <td>5.0</td>\n",
       "      <td>male</td>\n",
       "      <td>1987.0</td>\n",
       "      <td>30s</td>\n",
       "      <td>Korea</td>\n",
       "      <td>Seoul</td>\n",
       "      <td>Jungnang-gu</td>\n",
       "      <td>NaN</td>\n",
       "      <td>overseas inflow</td>\n",
       "      <td>1.0</td>\n",
       "      <td>NaN</td>\n",
       "      <td>31.0</td>\n",
       "      <td>NaN</td>\n",
       "      <td>2020-01-30</td>\n",
       "      <td>2020-03-02</td>\n",
       "      <td>NaN</td>\n",
       "      <td>released</td>\n",
       "    </tr>\n",
       "    <tr>\n",
       "      <th>2</th>\n",
       "      <td>1000000003</td>\n",
       "      <td>6.0</td>\n",
       "      <td>male</td>\n",
       "      <td>1964.0</td>\n",
       "      <td>50s</td>\n",
       "      <td>Korea</td>\n",
       "      <td>Seoul</td>\n",
       "      <td>Jongno-gu</td>\n",
       "      <td>NaN</td>\n",
       "      <td>contact with patient</td>\n",
       "      <td>2.0</td>\n",
       "      <td>2.002000e+09</td>\n",
       "      <td>17.0</td>\n",
       "      <td>NaN</td>\n",
       "      <td>2020-01-30</td>\n",
       "      <td>2020-02-19</td>\n",
       "      <td>NaN</td>\n",
       "      <td>released</td>\n",
       "    </tr>\n",
       "    <tr>\n",
       "      <th>3</th>\n",
       "      <td>1000000004</td>\n",
       "      <td>7.0</td>\n",
       "      <td>male</td>\n",
       "      <td>1991.0</td>\n",
       "      <td>20s</td>\n",
       "      <td>Korea</td>\n",
       "      <td>Seoul</td>\n",
       "      <td>Mapo-gu</td>\n",
       "      <td>NaN</td>\n",
       "      <td>overseas inflow</td>\n",
       "      <td>1.0</td>\n",
       "      <td>NaN</td>\n",
       "      <td>9.0</td>\n",
       "      <td>2020-01-26</td>\n",
       "      <td>2020-01-30</td>\n",
       "      <td>2020-02-15</td>\n",
       "      <td>NaN</td>\n",
       "      <td>released</td>\n",
       "    </tr>\n",
       "    <tr>\n",
       "      <th>4</th>\n",
       "      <td>1000000005</td>\n",
       "      <td>9.0</td>\n",
       "      <td>female</td>\n",
       "      <td>1992.0</td>\n",
       "      <td>20s</td>\n",
       "      <td>Korea</td>\n",
       "      <td>Seoul</td>\n",
       "      <td>Seongbuk-gu</td>\n",
       "      <td>NaN</td>\n",
       "      <td>contact with patient</td>\n",
       "      <td>2.0</td>\n",
       "      <td>1.000000e+09</td>\n",
       "      <td>2.0</td>\n",
       "      <td>NaN</td>\n",
       "      <td>2020-01-31</td>\n",
       "      <td>2020-02-24</td>\n",
       "      <td>NaN</td>\n",
       "      <td>released</td>\n",
       "    </tr>\n",
       "  </tbody>\n",
       "</table>\n",
       "</div>"
      ],
      "text/plain": [
       "   patient_id  global_num     sex  birth_year  age country province  \\\n",
       "0  1000000001         2.0    male      1964.0  50s   Korea    Seoul   \n",
       "1  1000000002         5.0    male      1987.0  30s   Korea    Seoul   \n",
       "2  1000000003         6.0    male      1964.0  50s   Korea    Seoul   \n",
       "3  1000000004         7.0    male      1991.0  20s   Korea    Seoul   \n",
       "4  1000000005         9.0  female      1992.0  20s   Korea    Seoul   \n",
       "\n",
       "          city disease        infection_case  infection_order   infected_by  \\\n",
       "0   Gangseo-gu     NaN       overseas inflow              1.0           NaN   \n",
       "1  Jungnang-gu     NaN       overseas inflow              1.0           NaN   \n",
       "2    Jongno-gu     NaN  contact with patient              2.0  2.002000e+09   \n",
       "3      Mapo-gu     NaN       overseas inflow              1.0           NaN   \n",
       "4  Seongbuk-gu     NaN  contact with patient              2.0  1.000000e+09   \n",
       "\n",
       "   contact_number symptom_onset_date confirmed_date released_date  \\\n",
       "0            75.0         2020-01-22     2020-01-23    2020-02-05   \n",
       "1            31.0                NaN     2020-01-30    2020-03-02   \n",
       "2            17.0                NaN     2020-01-30    2020-02-19   \n",
       "3             9.0         2020-01-26     2020-01-30    2020-02-15   \n",
       "4             2.0                NaN     2020-01-31    2020-02-24   \n",
       "\n",
       "  deceased_date     state  \n",
       "0           NaN  released  \n",
       "1           NaN  released  \n",
       "2           NaN  released  \n",
       "3           NaN  released  \n",
       "4           NaN  released  "
      ]
     },
     "execution_count": 91,
     "metadata": {},
     "output_type": "execute_result"
    }
   ],
   "source": [
    "patientinfo.head()"
   ]
  },
  {
   "cell_type": "code",
   "execution_count": 32,
   "metadata": {},
   "outputs": [],
   "source": [
    "data = patientinfo.copy()"
   ]
  },
  {
   "cell_type": "code",
   "execution_count": 33,
   "metadata": {},
   "outputs": [
    {
     "data": {
      "text/plain": [
       "count     411.000000\n",
       "mean       24.128954\n",
       "std        91.087792\n",
       "min         0.000000\n",
       "25%         2.000000\n",
       "50%         5.000000\n",
       "75%        16.000000\n",
       "max      1160.000000\n",
       "Name: contact_number, dtype: float64"
      ]
     },
     "execution_count": 33,
     "metadata": {},
     "output_type": "execute_result"
    }
   ],
   "source": [
    "data['contact_number'].describe()"
   ]
  },
  {
   "cell_type": "code",
   "execution_count": 34,
   "metadata": {},
   "outputs": [
    {
     "data": {
      "text/plain": [
       "0"
      ]
     },
     "execution_count": 34,
     "metadata": {},
     "output_type": "execute_result"
    }
   ],
   "source": [
    "data['contact_number'] = data['contact_number'].fillna(0)\n",
    "data['contact_number'].isnull().sum()"
   ]
  },
  {
   "cell_type": "code",
   "execution_count": 35,
   "metadata": {},
   "outputs": [
    {
     "data": {
      "text/html": [
       "<div>\n",
       "<style scoped>\n",
       "    .dataframe tbody tr th:only-of-type {\n",
       "        vertical-align: middle;\n",
       "    }\n",
       "\n",
       "    .dataframe tbody tr th {\n",
       "        vertical-align: top;\n",
       "    }\n",
       "\n",
       "    .dataframe thead th {\n",
       "        text-align: right;\n",
       "    }\n",
       "</style>\n",
       "<table border=\"1\" class=\"dataframe\">\n",
       "  <thead>\n",
       "    <tr style=\"text-align: right;\">\n",
       "      <th></th>\n",
       "      <th>patient_id</th>\n",
       "      <th>global_num</th>\n",
       "      <th>sex</th>\n",
       "      <th>birth_year</th>\n",
       "      <th>age</th>\n",
       "      <th>country</th>\n",
       "      <th>province</th>\n",
       "      <th>city</th>\n",
       "      <th>disease</th>\n",
       "      <th>infection_case</th>\n",
       "      <th>infection_order</th>\n",
       "      <th>infected_by</th>\n",
       "      <th>contact_number</th>\n",
       "      <th>symptom_onset_date</th>\n",
       "      <th>confirmed_date</th>\n",
       "      <th>released_date</th>\n",
       "      <th>deceased_date</th>\n",
       "      <th>state</th>\n",
       "    </tr>\n",
       "  </thead>\n",
       "  <tbody>\n",
       "    <tr>\n",
       "      <th>0</th>\n",
       "      <td>1000000001</td>\n",
       "      <td>2.0</td>\n",
       "      <td>male</td>\n",
       "      <td>1964.0</td>\n",
       "      <td>50s</td>\n",
       "      <td>Korea</td>\n",
       "      <td>Seoul</td>\n",
       "      <td>Gangseo-gu</td>\n",
       "      <td>NaN</td>\n",
       "      <td>overseas inflow</td>\n",
       "      <td>1.0</td>\n",
       "      <td>NaN</td>\n",
       "      <td>75.0</td>\n",
       "      <td>2020-01-22</td>\n",
       "      <td>2020-01-23</td>\n",
       "      <td>2020-02-05</td>\n",
       "      <td>NaN</td>\n",
       "      <td>released</td>\n",
       "    </tr>\n",
       "    <tr>\n",
       "      <th>1</th>\n",
       "      <td>1000000002</td>\n",
       "      <td>5.0</td>\n",
       "      <td>male</td>\n",
       "      <td>1987.0</td>\n",
       "      <td>30s</td>\n",
       "      <td>Korea</td>\n",
       "      <td>Seoul</td>\n",
       "      <td>Jungnang-gu</td>\n",
       "      <td>NaN</td>\n",
       "      <td>overseas inflow</td>\n",
       "      <td>1.0</td>\n",
       "      <td>NaN</td>\n",
       "      <td>31.0</td>\n",
       "      <td>NaN</td>\n",
       "      <td>2020-01-30</td>\n",
       "      <td>2020-03-02</td>\n",
       "      <td>NaN</td>\n",
       "      <td>released</td>\n",
       "    </tr>\n",
       "    <tr>\n",
       "      <th>2</th>\n",
       "      <td>1000000003</td>\n",
       "      <td>6.0</td>\n",
       "      <td>male</td>\n",
       "      <td>1964.0</td>\n",
       "      <td>50s</td>\n",
       "      <td>Korea</td>\n",
       "      <td>Seoul</td>\n",
       "      <td>Jongno-gu</td>\n",
       "      <td>NaN</td>\n",
       "      <td>contact with patient</td>\n",
       "      <td>2.0</td>\n",
       "      <td>2.002000e+09</td>\n",
       "      <td>17.0</td>\n",
       "      <td>NaN</td>\n",
       "      <td>2020-01-30</td>\n",
       "      <td>2020-02-19</td>\n",
       "      <td>NaN</td>\n",
       "      <td>released</td>\n",
       "    </tr>\n",
       "    <tr>\n",
       "      <th>3</th>\n",
       "      <td>1000000006</td>\n",
       "      <td>10.0</td>\n",
       "      <td>female</td>\n",
       "      <td>1966.0</td>\n",
       "      <td>50s</td>\n",
       "      <td>Korea</td>\n",
       "      <td>Seoul</td>\n",
       "      <td>Jongno-gu</td>\n",
       "      <td>NaN</td>\n",
       "      <td>contact with patient</td>\n",
       "      <td>3.0</td>\n",
       "      <td>1.000000e+09</td>\n",
       "      <td>43.0</td>\n",
       "      <td>NaN</td>\n",
       "      <td>2020-01-31</td>\n",
       "      <td>2020-02-19</td>\n",
       "      <td>NaN</td>\n",
       "      <td>released</td>\n",
       "    </tr>\n",
       "    <tr>\n",
       "      <th>4</th>\n",
       "      <td>1000000009</td>\n",
       "      <td>19.0</td>\n",
       "      <td>male</td>\n",
       "      <td>1983.0</td>\n",
       "      <td>30s</td>\n",
       "      <td>Korea</td>\n",
       "      <td>Seoul</td>\n",
       "      <td>Songpa-gu</td>\n",
       "      <td>NaN</td>\n",
       "      <td>overseas inflow</td>\n",
       "      <td>2.0</td>\n",
       "      <td>NaN</td>\n",
       "      <td>68.0</td>\n",
       "      <td>NaN</td>\n",
       "      <td>2020-02-05</td>\n",
       "      <td>2020-02-21</td>\n",
       "      <td>NaN</td>\n",
       "      <td>released</td>\n",
       "    </tr>\n",
       "  </tbody>\n",
       "</table>\n",
       "</div>"
      ],
      "text/plain": [
       "   patient_id  global_num     sex  birth_year  age country province  \\\n",
       "0  1000000001         2.0    male      1964.0  50s   Korea    Seoul   \n",
       "1  1000000002         5.0    male      1987.0  30s   Korea    Seoul   \n",
       "2  1000000003         6.0    male      1964.0  50s   Korea    Seoul   \n",
       "3  1000000006        10.0  female      1966.0  50s   Korea    Seoul   \n",
       "4  1000000009        19.0    male      1983.0  30s   Korea    Seoul   \n",
       "\n",
       "          city disease        infection_case  infection_order   infected_by  \\\n",
       "0   Gangseo-gu     NaN       overseas inflow              1.0           NaN   \n",
       "1  Jungnang-gu     NaN       overseas inflow              1.0           NaN   \n",
       "2    Jongno-gu     NaN  contact with patient              2.0  2.002000e+09   \n",
       "3    Jongno-gu     NaN  contact with patient              3.0  1.000000e+09   \n",
       "4    Songpa-gu     NaN       overseas inflow              2.0           NaN   \n",
       "\n",
       "   contact_number symptom_onset_date confirmed_date released_date  \\\n",
       "0            75.0         2020-01-22     2020-01-23    2020-02-05   \n",
       "1            31.0                NaN     2020-01-30    2020-03-02   \n",
       "2            17.0                NaN     2020-01-30    2020-02-19   \n",
       "3            43.0                NaN     2020-01-31    2020-02-19   \n",
       "4            68.0                NaN     2020-02-05    2020-02-21   \n",
       "\n",
       "  deceased_date     state  \n",
       "0           NaN  released  \n",
       "1           NaN  released  \n",
       "2           NaN  released  \n",
       "3           NaN  released  \n",
       "4           NaN  released  "
      ]
     },
     "execution_count": 35,
     "metadata": {},
     "output_type": "execute_result"
    }
   ],
   "source": [
    "df_infection = data.loc[data['contact_number'] >= 16].reset_index(drop=True)\n",
    "df_infection.head()"
   ]
  },
  {
   "cell_type": "code",
   "execution_count": 36,
   "metadata": {},
   "outputs": [
    {
     "data": {
      "text/plain": [
       "Index(['patient_id', 'global_num', 'sex', 'birth_year', 'age', 'country',\n",
       "       'province', 'city', 'disease', 'infection_case', 'infection_order',\n",
       "       'infected_by', 'contact_number', 'symptom_onset_date', 'confirmed_date',\n",
       "       'released_date', 'deceased_date', 'state'],\n",
       "      dtype='object')"
      ]
     },
     "execution_count": 36,
     "metadata": {},
     "output_type": "execute_result"
    }
   ],
   "source": [
    "df_infection.columns"
   ]
  },
  {
   "cell_type": "code",
   "execution_count": 37,
   "metadata": {},
   "outputs": [
    {
     "data": {
      "text/html": [
       "<div>\n",
       "<style scoped>\n",
       "    .dataframe tbody tr th:only-of-type {\n",
       "        vertical-align: middle;\n",
       "    }\n",
       "\n",
       "    .dataframe tbody tr th {\n",
       "        vertical-align: top;\n",
       "    }\n",
       "\n",
       "    .dataframe thead th {\n",
       "        text-align: right;\n",
       "    }\n",
       "</style>\n",
       "<table border=\"1\" class=\"dataframe\">\n",
       "  <thead>\n",
       "    <tr style=\"text-align: right;\">\n",
       "      <th></th>\n",
       "      <th>성별</th>\n",
       "      <th>연령</th>\n",
       "      <th>국적</th>\n",
       "      <th>시도</th>\n",
       "      <th>구군</th>\n",
       "      <th>감염장소</th>\n",
       "      <th>접촉자수</th>\n",
       "      <th>확진날짜</th>\n",
       "      <th>퇴원날짜</th>\n",
       "    </tr>\n",
       "  </thead>\n",
       "  <tbody>\n",
       "    <tr>\n",
       "      <th>0</th>\n",
       "      <td>male</td>\n",
       "      <td>50s</td>\n",
       "      <td>Korea</td>\n",
       "      <td>Seoul</td>\n",
       "      <td>Gangseo-gu</td>\n",
       "      <td>overseas inflow</td>\n",
       "      <td>75.0</td>\n",
       "      <td>2020-01-23</td>\n",
       "      <td>2020-02-05</td>\n",
       "    </tr>\n",
       "    <tr>\n",
       "      <th>1</th>\n",
       "      <td>male</td>\n",
       "      <td>30s</td>\n",
       "      <td>Korea</td>\n",
       "      <td>Seoul</td>\n",
       "      <td>Jungnang-gu</td>\n",
       "      <td>overseas inflow</td>\n",
       "      <td>31.0</td>\n",
       "      <td>2020-01-30</td>\n",
       "      <td>2020-03-02</td>\n",
       "    </tr>\n",
       "    <tr>\n",
       "      <th>2</th>\n",
       "      <td>male</td>\n",
       "      <td>50s</td>\n",
       "      <td>Korea</td>\n",
       "      <td>Seoul</td>\n",
       "      <td>Jongno-gu</td>\n",
       "      <td>contact with patient</td>\n",
       "      <td>17.0</td>\n",
       "      <td>2020-01-30</td>\n",
       "      <td>2020-02-19</td>\n",
       "    </tr>\n",
       "    <tr>\n",
       "      <th>3</th>\n",
       "      <td>female</td>\n",
       "      <td>50s</td>\n",
       "      <td>Korea</td>\n",
       "      <td>Seoul</td>\n",
       "      <td>Jongno-gu</td>\n",
       "      <td>contact with patient</td>\n",
       "      <td>43.0</td>\n",
       "      <td>2020-01-31</td>\n",
       "      <td>2020-02-19</td>\n",
       "    </tr>\n",
       "    <tr>\n",
       "      <th>4</th>\n",
       "      <td>male</td>\n",
       "      <td>30s</td>\n",
       "      <td>Korea</td>\n",
       "      <td>Seoul</td>\n",
       "      <td>Songpa-gu</td>\n",
       "      <td>overseas inflow</td>\n",
       "      <td>68.0</td>\n",
       "      <td>2020-02-05</td>\n",
       "      <td>2020-02-21</td>\n",
       "    </tr>\n",
       "  </tbody>\n",
       "</table>\n",
       "</div>"
      ],
      "text/plain": [
       "       성별   연령     국적     시도           구군                  감염장소  접촉자수  \\\n",
       "0    male  50s  Korea  Seoul   Gangseo-gu       overseas inflow  75.0   \n",
       "1    male  30s  Korea  Seoul  Jungnang-gu       overseas inflow  31.0   \n",
       "2    male  50s  Korea  Seoul    Jongno-gu  contact with patient  17.0   \n",
       "3  female  50s  Korea  Seoul    Jongno-gu  contact with patient  43.0   \n",
       "4    male  30s  Korea  Seoul    Songpa-gu       overseas inflow  68.0   \n",
       "\n",
       "         확진날짜        퇴원날짜  \n",
       "0  2020-01-23  2020-02-05  \n",
       "1  2020-01-30  2020-03-02  \n",
       "2  2020-01-30  2020-02-19  \n",
       "3  2020-01-31  2020-02-19  \n",
       "4  2020-02-05  2020-02-21  "
      ]
     },
     "execution_count": 37,
     "metadata": {},
     "output_type": "execute_result"
    }
   ],
   "source": [
    "columns = ['sex','age','country','province','city','infection_case','contact_number','confirmed_date','released_date']\n",
    "df_infection = df_infection.loc[:,columns]\n",
    "df_infection.columns = ['성별','연령','국적','시도','구군','감염장소','접촉자수','확진날짜','퇴원날짜']\n",
    "df_infection.head()"
   ]
  },
  {
   "cell_type": "code",
   "execution_count": 38,
   "metadata": {
    "scrolled": true
   },
   "outputs": [
    {
     "data": {
      "text/plain": [
       "array(['50s', '30s', '80s', '60s', '10s', '20s', '40s', '70s', 'unknown'],\n",
       "      dtype=object)"
      ]
     },
     "execution_count": 38,
     "metadata": {},
     "output_type": "execute_result"
    }
   ],
   "source": [
    "df_infection['연령'].unique()"
   ]
  },
  {
   "cell_type": "code",
   "execution_count": 39,
   "metadata": {},
   "outputs": [
    {
     "data": {
      "text/html": [
       "<div>\n",
       "<style scoped>\n",
       "    .dataframe tbody tr th:only-of-type {\n",
       "        vertical-align: middle;\n",
       "    }\n",
       "\n",
       "    .dataframe tbody tr th {\n",
       "        vertical-align: top;\n",
       "    }\n",
       "\n",
       "    .dataframe thead th {\n",
       "        text-align: right;\n",
       "    }\n",
       "</style>\n",
       "<table border=\"1\" class=\"dataframe\">\n",
       "  <thead>\n",
       "    <tr style=\"text-align: right;\">\n",
       "      <th></th>\n",
       "      <th>성별</th>\n",
       "      <th>연령</th>\n",
       "      <th>국적</th>\n",
       "      <th>시도</th>\n",
       "      <th>구군</th>\n",
       "      <th>감염장소</th>\n",
       "      <th>접촉자수</th>\n",
       "      <th>확진날짜</th>\n",
       "      <th>퇴원날짜</th>\n",
       "    </tr>\n",
       "  </thead>\n",
       "  <tbody>\n",
       "    <tr>\n",
       "      <th>100</th>\n",
       "      <td>male</td>\n",
       "      <td>unknown</td>\n",
       "      <td>Korea</td>\n",
       "      <td>Gyeongsangbuk-do</td>\n",
       "      <td>Gunwi-gun</td>\n",
       "      <td>Shincheonji Church</td>\n",
       "      <td>16.0</td>\n",
       "      <td>2020-02-22</td>\n",
       "      <td>NaN</td>\n",
       "    </tr>\n",
       "    <tr>\n",
       "      <th>101</th>\n",
       "      <td>female</td>\n",
       "      <td>unknown</td>\n",
       "      <td>Korea</td>\n",
       "      <td>Gyeongsangbuk-do</td>\n",
       "      <td>Gunwi-gun</td>\n",
       "      <td>Shincheonji Church</td>\n",
       "      <td>31.0</td>\n",
       "      <td>2020-02-24</td>\n",
       "      <td>NaN</td>\n",
       "    </tr>\n",
       "  </tbody>\n",
       "</table>\n",
       "</div>"
      ],
      "text/plain": [
       "         성별       연령     국적                시도         구군                감염장소  \\\n",
       "100    male  unknown  Korea  Gyeongsangbuk-do  Gunwi-gun  Shincheonji Church   \n",
       "101  female  unknown  Korea  Gyeongsangbuk-do  Gunwi-gun  Shincheonji Church   \n",
       "\n",
       "     접촉자수        확진날짜 퇴원날짜  \n",
       "100  16.0  2020-02-22  NaN  \n",
       "101  31.0  2020-02-24  NaN  "
      ]
     },
     "execution_count": 39,
     "metadata": {},
     "output_type": "execute_result"
    }
   ],
   "source": [
    "df_infection['연령'] = df_infection['연령'].fillna('unknown')\n",
    "df_infection.loc[df_infection['연령'] == 'unknown']"
   ]
  },
  {
   "cell_type": "code",
   "execution_count": 43,
   "metadata": {},
   "outputs": [
    {
     "data": {
      "text/plain": [
       "array(['50s', '30s', '60s', '10s', '20s', '40s', '70s'], dtype=object)"
      ]
     },
     "execution_count": 43,
     "metadata": {},
     "output_type": "execute_result"
    }
   ],
   "source": [
    "df_infection = df_infection.loc[df_infection['연령'].str.contains('10s|20s|30s|40s|50s|60s|70s')]\n",
    "df_infection['연령'].unique()"
   ]
  },
  {
   "cell_type": "code",
   "execution_count": 47,
   "metadata": {},
   "outputs": [],
   "source": [
    "df_infection.loc[df_infection['연령'] == '10s', '연령'] = '10세이상 20세미만'\n",
    "df_infection.loc[df_infection['연령'] == '20s', '연령'] = '20세이상 30세미만'\n",
    "df_infection.loc[df_infection['연령'] == '30s', '연령'] = '30세이상 40세미만'\n",
    "df_infection.loc[df_infection['연령'] == '40s', '연령'] = '40세이상 50세미만'\n",
    "df_infection.loc[df_infection['연령'] == '50s', '연령'] = '50세이상 60세미만'\n",
    "df_infection.loc[df_infection['연령'] == '60s', '연령'] = '60세이상 70세미만'\n",
    "df_infection.loc[df_infection['연령'] == '70s', '연령'] = '70세이상 80세미만'\n",
    "df_infection.loc[df_infection['연령'] == '80s', '연령'] = '80세이상'\n"
   ]
  },
  {
   "cell_type": "code",
   "execution_count": 48,
   "metadata": {},
   "outputs": [
    {
     "data": {
      "text/plain": [
       "array(['50세이상 60세미만', '30세이상 40세미만', '60세이상 70세미만', '10세이상 20세미만',\n",
       "       '20세이상 30세미만', '40세이상 50세미만', '70세이상 80세미만'], dtype=object)"
      ]
     },
     "execution_count": 48,
     "metadata": {},
     "output_type": "execute_result"
    }
   ],
   "source": [
    "df_infection['연령'].unique()"
   ]
  },
  {
   "cell_type": "code",
   "execution_count": 49,
   "metadata": {},
   "outputs": [
    {
     "data": {
      "text/html": [
       "<div>\n",
       "<style scoped>\n",
       "    .dataframe tbody tr th:only-of-type {\n",
       "        vertical-align: middle;\n",
       "    }\n",
       "\n",
       "    .dataframe tbody tr th {\n",
       "        vertical-align: top;\n",
       "    }\n",
       "\n",
       "    .dataframe thead th {\n",
       "        text-align: right;\n",
       "    }\n",
       "</style>\n",
       "<table border=\"1\" class=\"dataframe\">\n",
       "  <thead>\n",
       "    <tr style=\"text-align: right;\">\n",
       "      <th></th>\n",
       "      <th>성별</th>\n",
       "      <th>연령</th>\n",
       "      <th>국적</th>\n",
       "      <th>시도</th>\n",
       "      <th>구군</th>\n",
       "      <th>감염장소</th>\n",
       "      <th>접촉자수</th>\n",
       "      <th>확진날짜</th>\n",
       "      <th>퇴원날짜</th>\n",
       "    </tr>\n",
       "  </thead>\n",
       "  <tbody>\n",
       "    <tr>\n",
       "      <th>0</th>\n",
       "      <td>male</td>\n",
       "      <td>50세이상 60세미만</td>\n",
       "      <td>Korea</td>\n",
       "      <td>Seoul</td>\n",
       "      <td>Gangseo-gu</td>\n",
       "      <td>overseas inflow</td>\n",
       "      <td>75.0</td>\n",
       "      <td>2020-01-23</td>\n",
       "      <td>2020-02-05</td>\n",
       "    </tr>\n",
       "    <tr>\n",
       "      <th>1</th>\n",
       "      <td>male</td>\n",
       "      <td>30세이상 40세미만</td>\n",
       "      <td>Korea</td>\n",
       "      <td>Seoul</td>\n",
       "      <td>Jungnang-gu</td>\n",
       "      <td>overseas inflow</td>\n",
       "      <td>31.0</td>\n",
       "      <td>2020-01-30</td>\n",
       "      <td>2020-03-02</td>\n",
       "    </tr>\n",
       "    <tr>\n",
       "      <th>2</th>\n",
       "      <td>male</td>\n",
       "      <td>50세이상 60세미만</td>\n",
       "      <td>Korea</td>\n",
       "      <td>Seoul</td>\n",
       "      <td>Jongno-gu</td>\n",
       "      <td>contact with patient</td>\n",
       "      <td>17.0</td>\n",
       "      <td>2020-01-30</td>\n",
       "      <td>2020-02-19</td>\n",
       "    </tr>\n",
       "    <tr>\n",
       "      <th>3</th>\n",
       "      <td>female</td>\n",
       "      <td>50세이상 60세미만</td>\n",
       "      <td>Korea</td>\n",
       "      <td>Seoul</td>\n",
       "      <td>Jongno-gu</td>\n",
       "      <td>contact with patient</td>\n",
       "      <td>43.0</td>\n",
       "      <td>2020-01-31</td>\n",
       "      <td>2020-02-19</td>\n",
       "    </tr>\n",
       "    <tr>\n",
       "      <th>4</th>\n",
       "      <td>male</td>\n",
       "      <td>30세이상 40세미만</td>\n",
       "      <td>Korea</td>\n",
       "      <td>Seoul</td>\n",
       "      <td>Songpa-gu</td>\n",
       "      <td>overseas inflow</td>\n",
       "      <td>68.0</td>\n",
       "      <td>2020-02-05</td>\n",
       "      <td>2020-02-21</td>\n",
       "    </tr>\n",
       "  </tbody>\n",
       "</table>\n",
       "</div>"
      ],
      "text/plain": [
       "       성별           연령     국적     시도           구군                  감염장소  접촉자수  \\\n",
       "0    male  50세이상 60세미만  Korea  Seoul   Gangseo-gu       overseas inflow  75.0   \n",
       "1    male  30세이상 40세미만  Korea  Seoul  Jungnang-gu       overseas inflow  31.0   \n",
       "2    male  50세이상 60세미만  Korea  Seoul    Jongno-gu  contact with patient  17.0   \n",
       "3  female  50세이상 60세미만  Korea  Seoul    Jongno-gu  contact with patient  43.0   \n",
       "4    male  30세이상 40세미만  Korea  Seoul    Songpa-gu       overseas inflow  68.0   \n",
       "\n",
       "         확진날짜        퇴원날짜  \n",
       "0  2020-01-23  2020-02-05  \n",
       "1  2020-01-30  2020-03-02  \n",
       "2  2020-01-30  2020-02-19  \n",
       "3  2020-01-31  2020-02-19  \n",
       "4  2020-02-05  2020-02-21  "
      ]
     },
     "execution_count": 49,
     "metadata": {},
     "output_type": "execute_result"
    }
   ],
   "source": [
    "df_infection.head()"
   ]
  },
  {
   "cell_type": "code",
   "execution_count": 53,
   "metadata": {},
   "outputs": [
    {
     "data": {
      "text/plain": [
       "<matplotlib.axes._subplots.AxesSubplot at 0x15f10fae518>"
      ]
     },
     "execution_count": 53,
     "metadata": {},
     "output_type": "execute_result"
    },
    {
     "data": {
      "image/png": "[encoded data removed]",
      "text/plain": [
       "<Figure size 1440x720 with 1 Axes>"
      ]
     },
     "metadata": {
      "needs_background": "light"
     },
     "output_type": "display_data"
    }
   ],
   "source": [
    "plt.figure(figsize=(20,10))\n",
    "plt.xlabel('연령', fontsize=20)\n",
    "plt.ylabel('접촉자수', fontsize=20)\n",
    "sns.barplot(data=df_infection, x='연령', y='접촉자수')"
   ]
  },
  {
   "cell_type": "code",
   "execution_count": 5,
   "metadata": {},
   "outputs": [
    {
     "data": {
      "text/html": [
       "<div>\n",
       "<style scoped>\n",
       "    .dataframe tbody tr th:only-of-type {\n",
       "        vertical-align: middle;\n",
       "    }\n",
       "\n",
       "    .dataframe tbody tr th {\n",
       "        vertical-align: top;\n",
       "    }\n",
       "\n",
       "    .dataframe thead th {\n",
       "        text-align: right;\n",
       "    }\n",
       "</style>\n",
       "<table border=\"1\" class=\"dataframe\">\n",
       "  <thead>\n",
       "    <tr style=\"text-align: right;\">\n",
       "      <th></th>\n",
       "      <th>patient_id</th>\n",
       "      <th>global_num</th>\n",
       "      <th>date</th>\n",
       "      <th>province</th>\n",
       "      <th>city</th>\n",
       "      <th>latitude</th>\n",
       "      <th>longitude</th>\n",
       "    </tr>\n",
       "  </thead>\n",
       "  <tbody>\n",
       "    <tr>\n",
       "      <th>0</th>\n",
       "      <td>1400000001</td>\n",
       "      <td>1</td>\n",
       "      <td>2020-01-19</td>\n",
       "      <td>Incheon</td>\n",
       "      <td>Jung-gu</td>\n",
       "      <td>37.460459</td>\n",
       "      <td>126.440680</td>\n",
       "    </tr>\n",
       "    <tr>\n",
       "      <th>1</th>\n",
       "      <td>1400000001</td>\n",
       "      <td>1</td>\n",
       "      <td>2020-01-20</td>\n",
       "      <td>Incheon</td>\n",
       "      <td>Seo-gu</td>\n",
       "      <td>37.478832</td>\n",
       "      <td>126.668558</td>\n",
       "    </tr>\n",
       "    <tr>\n",
       "      <th>2</th>\n",
       "      <td>1000000001</td>\n",
       "      <td>2</td>\n",
       "      <td>2020-01-22</td>\n",
       "      <td>Gyeonggi-do</td>\n",
       "      <td>Gimpo-si</td>\n",
       "      <td>37.562143</td>\n",
       "      <td>126.801884</td>\n",
       "    </tr>\n",
       "    <tr>\n",
       "      <th>3</th>\n",
       "      <td>1000000001</td>\n",
       "      <td>2</td>\n",
       "      <td>2020-01-23</td>\n",
       "      <td>Seoul</td>\n",
       "      <td>Jung-gu</td>\n",
       "      <td>37.567454</td>\n",
       "      <td>127.005627</td>\n",
       "    </tr>\n",
       "    <tr>\n",
       "      <th>4</th>\n",
       "      <td>2000000001</td>\n",
       "      <td>3</td>\n",
       "      <td>2020-01-20</td>\n",
       "      <td>Incheon</td>\n",
       "      <td>Jung-gu</td>\n",
       "      <td>37.460459</td>\n",
       "      <td>126.440680</td>\n",
       "    </tr>\n",
       "  </tbody>\n",
       "</table>\n",
       "</div>"
      ],
      "text/plain": [
       "   patient_id  global_num        date     province      city   latitude  \\\n",
       "0  1400000001           1  2020-01-19      Incheon   Jung-gu  37.460459   \n",
       "1  1400000001           1  2020-01-20      Incheon    Seo-gu  37.478832   \n",
       "2  1000000001           2  2020-01-22  Gyeonggi-do  Gimpo-si  37.562143   \n",
       "3  1000000001           2  2020-01-23        Seoul   Jung-gu  37.567454   \n",
       "4  2000000001           3  2020-01-20      Incheon   Jung-gu  37.460459   \n",
       "\n",
       "    longitude  \n",
       "0  126.440680  \n",
       "1  126.668558  \n",
       "2  126.801884  \n",
       "3  127.005627  \n",
       "4  126.440680  "
      ]
     },
     "execution_count": 5,
     "metadata": {},
     "output_type": "execute_result"
    }
   ],
   "source": [
    "df_route = patientroute.copy()\n",
    "df_route.head()"
   ]
  },
  {
   "cell_type": "code",
   "execution_count": 6,
   "metadata": {},
   "outputs": [
    {
     "name": "stdout",
     "output_type": "stream",
     "text": [
      "<class 'pandas.core.frame.DataFrame'>\n",
      "RangeIndex: 175 entries, 0 to 174\n",
      "Data columns (total 7 columns):\n",
      " #   Column      Non-Null Count  Dtype  \n",
      "---  ------      --------------  -----  \n",
      " 0   patient_id  175 non-null    int64  \n",
      " 1   global_num  175 non-null    int64  \n",
      " 2   date        175 non-null    object \n",
      " 3   province    175 non-null    object \n",
      " 4   city        175 non-null    object \n",
      " 5   latitude    175 non-null    float64\n",
      " 6   longitude   175 non-null    float64\n",
      "dtypes: float64(2), int64(2), object(3)\n",
      "memory usage: 9.7+ KB\n"
     ]
    }
   ],
   "source": [
    "df_route.info()"
   ]
  },
  {
   "cell_type": "code",
   "execution_count": 7,
   "metadata": {},
   "outputs": [
    {
     "data": {
      "text/plain": [
       "(175, 7)"
      ]
     },
     "execution_count": 7,
     "metadata": {},
     "output_type": "execute_result"
    }
   ],
   "source": [
    "df_route.shape"
   ]
  },
  {
   "cell_type": "code",
   "execution_count": 8,
   "metadata": {},
   "outputs": [
    {
     "data": {
      "text/plain": [
       "patient_id    0\n",
       "global_num    0\n",
       "date          0\n",
       "province      0\n",
       "city          0\n",
       "latitude      0\n",
       "longitude     0\n",
       "dtype: int64"
      ]
     },
     "execution_count": 8,
     "metadata": {},
     "output_type": "execute_result"
    }
   ],
   "source": [
    "df_route.isnull().sum()"
   ]
  },
  {
   "cell_type": "code",
   "execution_count": 9,
   "metadata": {},
   "outputs": [
    {
     "data": {
      "text/html": [
       "<div>\n",
       "<style scoped>\n",
       "    .dataframe tbody tr th:only-of-type {\n",
       "        vertical-align: middle;\n",
       "    }\n",
       "\n",
       "    .dataframe tbody tr th {\n",
       "        vertical-align: top;\n",
       "    }\n",
       "\n",
       "    .dataframe thead th {\n",
       "        text-align: right;\n",
       "    }\n",
       "</style>\n",
       "<table border=\"1\" class=\"dataframe\">\n",
       "  <thead>\n",
       "    <tr style=\"text-align: right;\">\n",
       "      <th></th>\n",
       "      <th>환자번호</th>\n",
       "      <th>global_num</th>\n",
       "      <th>날짜</th>\n",
       "      <th>시도</th>\n",
       "      <th>구군</th>\n",
       "      <th>위도</th>\n",
       "      <th>경도</th>\n",
       "    </tr>\n",
       "  </thead>\n",
       "  <tbody>\n",
       "    <tr>\n",
       "      <th>0</th>\n",
       "      <td>1400000001</td>\n",
       "      <td>1</td>\n",
       "      <td>2020-01-19</td>\n",
       "      <td>Incheon</td>\n",
       "      <td>Jung-gu</td>\n",
       "      <td>37.460459</td>\n",
       "      <td>126.440680</td>\n",
       "    </tr>\n",
       "    <tr>\n",
       "      <th>1</th>\n",
       "      <td>1400000001</td>\n",
       "      <td>1</td>\n",
       "      <td>2020-01-20</td>\n",
       "      <td>Incheon</td>\n",
       "      <td>Seo-gu</td>\n",
       "      <td>37.478832</td>\n",
       "      <td>126.668558</td>\n",
       "    </tr>\n",
       "    <tr>\n",
       "      <th>2</th>\n",
       "      <td>1000000001</td>\n",
       "      <td>2</td>\n",
       "      <td>2020-01-22</td>\n",
       "      <td>Gyeonggi-do</td>\n",
       "      <td>Gimpo-si</td>\n",
       "      <td>37.562143</td>\n",
       "      <td>126.801884</td>\n",
       "    </tr>\n",
       "    <tr>\n",
       "      <th>3</th>\n",
       "      <td>1000000001</td>\n",
       "      <td>2</td>\n",
       "      <td>2020-01-23</td>\n",
       "      <td>Seoul</td>\n",
       "      <td>Jung-gu</td>\n",
       "      <td>37.567454</td>\n",
       "      <td>127.005627</td>\n",
       "    </tr>\n",
       "    <tr>\n",
       "      <th>4</th>\n",
       "      <td>2000000001</td>\n",
       "      <td>3</td>\n",
       "      <td>2020-01-20</td>\n",
       "      <td>Incheon</td>\n",
       "      <td>Jung-gu</td>\n",
       "      <td>37.460459</td>\n",
       "      <td>126.440680</td>\n",
       "    </tr>\n",
       "  </tbody>\n",
       "</table>\n",
       "</div>"
      ],
      "text/plain": [
       "         환자번호  global_num          날짜           시도        구군         위도  \\\n",
       "0  1400000001           1  2020-01-19      Incheon   Jung-gu  37.460459   \n",
       "1  1400000001           1  2020-01-20      Incheon    Seo-gu  37.478832   \n",
       "2  1000000001           2  2020-01-22  Gyeonggi-do  Gimpo-si  37.562143   \n",
       "3  1000000001           2  2020-01-23        Seoul   Jung-gu  37.567454   \n",
       "4  2000000001           3  2020-01-20      Incheon   Jung-gu  37.460459   \n",
       "\n",
       "           경도  \n",
       "0  126.440680  \n",
       "1  126.668558  \n",
       "2  126.801884  \n",
       "3  127.005627  \n",
       "4  126.440680  "
      ]
     },
     "execution_count": 9,
     "metadata": {},
     "output_type": "execute_result"
    }
   ],
   "source": [
    "df_route.columns = ['환자번호','global_num','날짜','시도','구군','위도','경도']\n",
    "df_route.head()"
   ]
  },
  {
   "cell_type": "code",
   "execution_count": 10,
   "metadata": {
    "scrolled": true
   },
   "outputs": [
    {
     "data": {
      "text/plain": [
       "1000000013    29\n",
       "2000000003    18\n",
       "2000000006    15\n",
       "1000000014    11\n",
       "1000000009    10\n",
       "1000000002     9\n",
       "2000000001     9\n",
       "1200000031     8\n",
       "5000000001     6\n",
       "1000000011     5\n",
       "2000000008     5\n",
       "2000000004     4\n",
       "2000000002     4\n",
       "2000000007     4\n",
       "2000000010     4\n",
       "2000000005     3\n",
       "1300000001     3\n",
       "1000000003     3\n",
       "2000000009     3\n",
       "1000000010     3\n",
       "1000000001     2\n",
       "1000000004     2\n",
       "1000000007     2\n",
       "1000000006     2\n",
       "1400000001     2\n",
       "1000000012     2\n",
       "5100000001     2\n",
       "1300000002     2\n",
       "1000000008     1\n",
       "1000000005     1\n",
       "2000000011     1\n",
       "Name: 환자번호, dtype: int64"
      ]
     },
     "execution_count": 10,
     "metadata": {},
     "output_type": "execute_result"
    }
   ],
   "source": [
    "df_route['환자번호'].value_counts()"
   ]
  },
  {
   "cell_type": "code",
   "execution_count": 11,
   "metadata": {},
   "outputs": [
    {
     "name": "stdout",
     "output_type": "stream",
     "text": [
      "<class 'pandas.core.frame.DataFrame'>\n",
      "RangeIndex: 175 entries, 0 to 174\n",
      "Data columns (total 7 columns):\n",
      " #   Column      Non-Null Count  Dtype  \n",
      "---  ------      --------------  -----  \n",
      " 0   환자번호        175 non-null    object \n",
      " 1   global_num  175 non-null    int64  \n",
      " 2   날짜          175 non-null    object \n",
      " 3   시도          175 non-null    object \n",
      " 4   구군          175 non-null    object \n",
      " 5   위도          175 non-null    float64\n",
      " 6   경도          175 non-null    float64\n",
      "dtypes: float64(2), int64(1), object(4)\n",
      "memory usage: 9.7+ KB\n"
     ]
    }
   ],
   "source": [
    "df_route['환자번호'] = df_route['환자번호'].astype(str)\n",
    "df_route.info()"
   ]
  },
  {
   "cell_type": "code",
   "execution_count": null,
   "metadata": {},
   "outputs": [],
   "source": [
    "# 여러 군데 돌아다닌 확진자 수 리스트(5군데 이상) 내림차순으로 정렬\n",
    "\n",
    "'''\n",
    "1000000013    29\n",
    "2000000003    18\n",
    "2000000006    15\n",
    "1000000014    11\n",
    "1000000009    10\n",
    "1000000002     9\n",
    "2000000001     9\n",
    "1200000031     8\n",
    "5000000001     6\n",
    "1000000011     5\n",
    "2000000008     5\n",
    "'''"
   ]
  },
  {
   "cell_type": "code",
   "execution_count": 12,
   "metadata": {},
   "outputs": [
    {
     "data": {
      "text/plain": [
       "array(['2000000003', '2000000006', '1000000009', '1000000013',\n",
       "       '1000000014'], dtype=object)"
      ]
     },
     "execution_count": 12,
     "metadata": {},
     "output_type": "execute_result"
    }
   ],
   "source": [
    "df_route_many = df_route.loc[df_route['환자번호'].str.contains('1000000013|2000000003|2000000006|1000000014|1000000009')]\n",
    "df_route_many['환자번호'].unique()"
   ]
  },
  {
   "cell_type": "code",
   "execution_count": 13,
   "metadata": {},
   "outputs": [
    {
     "data": {
      "text/html": [
       "<div>\n",
       "<style scoped>\n",
       "    .dataframe tbody tr th:only-of-type {\n",
       "        vertical-align: middle;\n",
       "    }\n",
       "\n",
       "    .dataframe tbody tr th {\n",
       "        vertical-align: top;\n",
       "    }\n",
       "\n",
       "    .dataframe thead th {\n",
       "        text-align: right;\n",
       "    }\n",
       "</style>\n",
       "<table border=\"1\" class=\"dataframe\">\n",
       "  <thead>\n",
       "    <tr style=\"text-align: right;\">\n",
       "      <th></th>\n",
       "      <th>환자번호</th>\n",
       "      <th>global_num</th>\n",
       "      <th>날짜</th>\n",
       "      <th>시도</th>\n",
       "      <th>구군</th>\n",
       "      <th>위도</th>\n",
       "      <th>경도</th>\n",
       "    </tr>\n",
       "  </thead>\n",
       "  <tbody>\n",
       "    <tr>\n",
       "      <th>0</th>\n",
       "      <td>1000000013</td>\n",
       "      <td>29</td>\n",
       "      <td>2020-02-04</td>\n",
       "      <td>Seoul</td>\n",
       "      <td>Jung-gu</td>\n",
       "      <td>37.573067</td>\n",
       "      <td>127.015951</td>\n",
       "    </tr>\n",
       "    <tr>\n",
       "      <th>1</th>\n",
       "      <td>1000000013</td>\n",
       "      <td>29</td>\n",
       "      <td>2020-02-04</td>\n",
       "      <td>Seoul</td>\n",
       "      <td>Dongdaemun-gu</td>\n",
       "      <td>37.575981</td>\n",
       "      <td>127.024678</td>\n",
       "    </tr>\n",
       "    <tr>\n",
       "      <th>2</th>\n",
       "      <td>1000000013</td>\n",
       "      <td>29</td>\n",
       "      <td>2020-02-04</td>\n",
       "      <td>Seoul</td>\n",
       "      <td>Dongdaemun-gu</td>\n",
       "      <td>37.575981</td>\n",
       "      <td>127.024678</td>\n",
       "    </tr>\n",
       "    <tr>\n",
       "      <th>3</th>\n",
       "      <td>1000000013</td>\n",
       "      <td>29</td>\n",
       "      <td>2020-02-04</td>\n",
       "      <td>Seoul</td>\n",
       "      <td>Jongno-gu</td>\n",
       "      <td>37.573067</td>\n",
       "      <td>127.015951</td>\n",
       "    </tr>\n",
       "    <tr>\n",
       "      <th>4</th>\n",
       "      <td>1000000013</td>\n",
       "      <td>29</td>\n",
       "      <td>2020-02-05</td>\n",
       "      <td>Seoul</td>\n",
       "      <td>Jongno-gu</td>\n",
       "      <td>37.571721</td>\n",
       "      <td>127.010896</td>\n",
       "    </tr>\n",
       "  </tbody>\n",
       "</table>\n",
       "</div>"
      ],
      "text/plain": [
       "         환자번호  global_num          날짜     시도             구군         위도  \\\n",
       "0  1000000013          29  2020-02-04  Seoul        Jung-gu  37.573067   \n",
       "1  1000000013          29  2020-02-04  Seoul  Dongdaemun-gu  37.575981   \n",
       "2  1000000013          29  2020-02-04  Seoul  Dongdaemun-gu  37.575981   \n",
       "3  1000000013          29  2020-02-04  Seoul      Jongno-gu  37.573067   \n",
       "4  1000000013          29  2020-02-05  Seoul      Jongno-gu  37.571721   \n",
       "\n",
       "           경도  \n",
       "0  127.015951  \n",
       "1  127.024678  \n",
       "2  127.024678  \n",
       "3  127.015951  \n",
       "4  127.010896  "
      ]
     },
     "execution_count": 13,
     "metadata": {},
     "output_type": "execute_result"
    }
   ],
   "source": [
    "df_route_max = df_route_many.loc[df_route_many['환자번호'] == '1000000013']\n",
    "df_route_max = df_route_max.reset_index(drop=True)\n",
    "df_route_max.head()"
   ]
  },
  {
   "cell_type": "code",
   "execution_count": 14,
   "metadata": {},
   "outputs": [],
   "source": [
    "import folium\n",
    "geo_df = df_route_max"
   ]
  },
  {
   "cell_type": "code",
   "execution_count": 15,
   "metadata": {},
   "outputs": [
    {
     "name": "stdout",
     "output_type": "stream",
     "text": [
      "[(37.573067, 127.015951), (37.575981, 127.02467800000001), (37.575981, 127.02467800000001), (37.573067, 127.015951), (37.571721000000004, 127.010896), (37.759448, 127.04216699999999), (37.759448, 127.04216699999999), (37.571721000000004, 127.010896), (37.575739, 127.015399), (37.572390000000006, 127.013899), (37.572596000000004, 127.01527), (37.575739, 127.015399), (37.948023, 127.061052), (37.572596000000004, 127.01527), (37.573326, 127.01531100000001), (37.572596000000004, 127.01527), (37.572390000000006, 127.013899), (37.575879, 127.024495), (37.843309000000005, 127.061543), (37.843309000000005, 127.061543), (37.572925, 127.015772), (37.572596000000004, 127.01527), (37.572596000000004, 127.01527), (37.573326, 127.01531100000001), (37.579471000000005, 127.015224), (37.617076000000004, 127.091603), (37.572596000000004, 127.01527), (37.587055, 127.02683), (37.579678, 126.99894499999999)]\n"
     ]
    }
   ],
   "source": [
    "lists = []\n",
    "for n in geo_df.index:\n",
    "    \n",
    "    points = (geo_df.loc[n, '위도'], geo_df.loc[n, '경도'])\n",
    "    lists.append(points)\n",
    "print(lists)"
   ]
  },
  {
   "cell_type": "code",
   "execution_count": 16,
   "metadata": {},
   "outputs": [
    {
     "data": {
      "text/html": [
       "<div style=\"width:100%;\"><div style=\"position:relative;width:100%;height:0;padding-bottom:60%;\"><iframe src=\"about:blank\" style=\"position:absolute;width:100%;height:100%;left:0;top:0;border:none !important;\" data-html=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 onload=\"this.contentDocument.open();this.contentDocument.write(atob(this.getAttribute('data-html')));this.contentDocument.close();\" allowfullscreen webkitallowfullscreen mozallowfullscreen></iframe></div></div>"
      ],
      "text/plain": [
       "<folium.folium.Map at 0x29607cbdfd0>"
      ]
     },
     "execution_count": 16,
     "metadata": {},
     "output_type": "execute_result"
    }
   ],
   "source": [
    "map = folium.Map(location=[geo_df['위도'].mean(), geo_df['경도'].mean()], zoom_start=11)\n",
    "\n",
    "for n in geo_df.index:\n",
    "    \n",
    "    #pop_name = geo_df[n, '시도']+\",\"+geo_df[n, '구군']  -> key error 뜸\n",
    "    \n",
    "                                                                        #popup인자에 한번에 넣으니까 key error 디버깅\n",
    "    folium.Marker(location=[geo_df.loc[n, '위도'], geo_df.loc[n, '경도']],popup=geo_df.loc[n, '날짜']+\" : \"+\n",
    "                 geo_df.loc[n, '시도']+\",\"+geo_df.loc[n, '구군']).add_to(map)\n",
    "    \n",
    "lists = []\n",
    "for n in geo_df.index:\n",
    "    points = (geo_df.loc[n, '위도'], geo_df.loc[n, '경도'])\n",
    "    lists.append(points)\n",
    "    # points 자료구조형태는 a list of tuples : [ (1,2), (2,3) ... ]\n",
    "folium.PolyLine(lists).add_to(map)\n",
    "    \n",
    "    \n",
    "\n",
    "map"
   ]
  },
  {
   "cell_type": "code",
   "execution_count": 17,
   "metadata": {},
   "outputs": [
    {
     "data": {
      "text/html": [
       "<div>\n",
       "<style scoped>\n",
       "    .dataframe tbody tr th:only-of-type {\n",
       "        vertical-align: middle;\n",
       "    }\n",
       "\n",
       "    .dataframe tbody tr th {\n",
       "        vertical-align: top;\n",
       "    }\n",
       "\n",
       "    .dataframe thead th {\n",
       "        text-align: right;\n",
       "    }\n",
       "</style>\n",
       "<table border=\"1\" class=\"dataframe\">\n",
       "  <thead>\n",
       "    <tr style=\"text-align: right;\">\n",
       "      <th></th>\n",
       "      <th>환자번호</th>\n",
       "      <th>global_num</th>\n",
       "      <th>날짜</th>\n",
       "      <th>시도</th>\n",
       "      <th>구군</th>\n",
       "      <th>위도</th>\n",
       "      <th>경도</th>\n",
       "    </tr>\n",
       "  </thead>\n",
       "  <tbody>\n",
       "    <tr>\n",
       "      <th>42</th>\n",
       "      <td>2000000003</td>\n",
       "      <td>12</td>\n",
       "      <td>2020-01-19</td>\n",
       "      <td>Gyeonggi-do</td>\n",
       "      <td>Gimpo-si</td>\n",
       "      <td>37.563581</td>\n",
       "      <td>126.802056</td>\n",
       "    </tr>\n",
       "    <tr>\n",
       "      <th>43</th>\n",
       "      <td>2000000003</td>\n",
       "      <td>12</td>\n",
       "      <td>2020-01-20</td>\n",
       "      <td>Gyeonggi-do</td>\n",
       "      <td>Bucheon-si</td>\n",
       "      <td>37.486112</td>\n",
       "      <td>126.781023</td>\n",
       "    </tr>\n",
       "    <tr>\n",
       "      <th>44</th>\n",
       "      <td>2000000003</td>\n",
       "      <td>12</td>\n",
       "      <td>2020-01-21</td>\n",
       "      <td>Incheon</td>\n",
       "      <td>Jung-gu</td>\n",
       "      <td>37.463100</td>\n",
       "      <td>126.631371</td>\n",
       "    </tr>\n",
       "    <tr>\n",
       "      <th>45</th>\n",
       "      <td>2000000003</td>\n",
       "      <td>12</td>\n",
       "      <td>2020-01-22</td>\n",
       "      <td>Seoul</td>\n",
       "      <td>Jung-gu</td>\n",
       "      <td>37.555062</td>\n",
       "      <td>126.970618</td>\n",
       "    </tr>\n",
       "    <tr>\n",
       "      <th>46</th>\n",
       "      <td>2000000003</td>\n",
       "      <td>12</td>\n",
       "      <td>2020-01-22</td>\n",
       "      <td>Gangwon-do</td>\n",
       "      <td>Gangneung-si</td>\n",
       "      <td>37.764239</td>\n",
       "      <td>128.899265</td>\n",
       "    </tr>\n",
       "  </tbody>\n",
       "</table>\n",
       "</div>"
      ],
      "text/plain": [
       "          환자번호  global_num          날짜           시도            구군         위도  \\\n",
       "42  2000000003          12  2020-01-19  Gyeonggi-do      Gimpo-si  37.563581   \n",
       "43  2000000003          12  2020-01-20  Gyeonggi-do    Bucheon-si  37.486112   \n",
       "44  2000000003          12  2020-01-21      Incheon       Jung-gu  37.463100   \n",
       "45  2000000003          12  2020-01-22        Seoul       Jung-gu  37.555062   \n",
       "46  2000000003          12  2020-01-22   Gangwon-do  Gangneung-si  37.764239   \n",
       "\n",
       "            경도  \n",
       "42  126.802056  \n",
       "43  126.781023  \n",
       "44  126.631371  \n",
       "45  126.970618  \n",
       "46  128.899265  "
      ]
     },
     "execution_count": 17,
     "metadata": {},
     "output_type": "execute_result"
    }
   ],
   "source": [
    "df_route_many.head()"
   ]
  },
  {
   "cell_type": "code",
   "execution_count": 19,
   "metadata": {},
   "outputs": [
    {
     "data": {
      "text/html": [
       "<div>\n",
       "<style scoped>\n",
       "    .dataframe tbody tr th:only-of-type {\n",
       "        vertical-align: middle;\n",
       "    }\n",
       "\n",
       "    .dataframe tbody tr th {\n",
       "        vertical-align: top;\n",
       "    }\n",
       "\n",
       "    .dataframe thead th {\n",
       "        text-align: right;\n",
       "    }\n",
       "</style>\n",
       "<table border=\"1\" class=\"dataframe\">\n",
       "  <thead>\n",
       "    <tr style=\"text-align: right;\">\n",
       "      <th></th>\n",
       "      <th>환자번호</th>\n",
       "      <th>global_num</th>\n",
       "      <th>날짜</th>\n",
       "      <th>시도</th>\n",
       "      <th>구군</th>\n",
       "      <th>위도</th>\n",
       "      <th>경도</th>\n",
       "    </tr>\n",
       "  </thead>\n",
       "  <tbody>\n",
       "    <tr>\n",
       "      <th>0</th>\n",
       "      <td>2000000003</td>\n",
       "      <td>12</td>\n",
       "      <td>2020-01-19</td>\n",
       "      <td>Gyeonggi-do</td>\n",
       "      <td>Gimpo-si</td>\n",
       "      <td>37.563581</td>\n",
       "      <td>126.802056</td>\n",
       "    </tr>\n",
       "    <tr>\n",
       "      <th>1</th>\n",
       "      <td>2000000003</td>\n",
       "      <td>12</td>\n",
       "      <td>2020-01-20</td>\n",
       "      <td>Gyeonggi-do</td>\n",
       "      <td>Bucheon-si</td>\n",
       "      <td>37.486112</td>\n",
       "      <td>126.781023</td>\n",
       "    </tr>\n",
       "    <tr>\n",
       "      <th>2</th>\n",
       "      <td>2000000003</td>\n",
       "      <td>12</td>\n",
       "      <td>2020-01-21</td>\n",
       "      <td>Incheon</td>\n",
       "      <td>Jung-gu</td>\n",
       "      <td>37.463100</td>\n",
       "      <td>126.631371</td>\n",
       "    </tr>\n",
       "    <tr>\n",
       "      <th>3</th>\n",
       "      <td>2000000003</td>\n",
       "      <td>12</td>\n",
       "      <td>2020-01-22</td>\n",
       "      <td>Seoul</td>\n",
       "      <td>Jung-gu</td>\n",
       "      <td>37.555062</td>\n",
       "      <td>126.970618</td>\n",
       "    </tr>\n",
       "    <tr>\n",
       "      <th>4</th>\n",
       "      <td>2000000003</td>\n",
       "      <td>12</td>\n",
       "      <td>2020-01-22</td>\n",
       "      <td>Gangwon-do</td>\n",
       "      <td>Gangneung-si</td>\n",
       "      <td>37.764239</td>\n",
       "      <td>128.899265</td>\n",
       "    </tr>\n",
       "  </tbody>\n",
       "</table>\n",
       "</div>"
      ],
      "text/plain": [
       "         환자번호  global_num          날짜           시도            구군         위도  \\\n",
       "0  2000000003          12  2020-01-19  Gyeonggi-do      Gimpo-si  37.563581   \n",
       "1  2000000003          12  2020-01-20  Gyeonggi-do    Bucheon-si  37.486112   \n",
       "2  2000000003          12  2020-01-21      Incheon       Jung-gu  37.463100   \n",
       "3  2000000003          12  2020-01-22        Seoul       Jung-gu  37.555062   \n",
       "4  2000000003          12  2020-01-22   Gangwon-do  Gangneung-si  37.764239   \n",
       "\n",
       "           경도  \n",
       "0  126.802056  \n",
       "1  126.781023  \n",
       "2  126.631371  \n",
       "3  126.970618  \n",
       "4  128.899265  "
      ]
     },
     "execution_count": 19,
     "metadata": {},
     "output_type": "execute_result"
    }
   ],
   "source": [
    "df_route_2nd = df_route_many.loc[df_route_many['환자번호'] == '2000000003']\n",
    "df_route_2nd = df_route_2nd.reset_index(drop=True)\n",
    "df_route_2nd.head()"
   ]
  },
  {
   "cell_type": "code",
   "execution_count": 21,
   "metadata": {},
   "outputs": [
    {
     "data": {
      "text/html": [
       "<div style=\"width:100%;\"><div style=\"position:relative;width:100%;height:0;padding-bottom:60%;\"><iframe src=\"about:blank\" style=\"position:absolute;width:100%;height:100%;left:0;top:0;border:none !important;\" data-html=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 onload=\"this.contentDocument.open();this.contentDocument.write(atob(this.getAttribute('data-html')));this.contentDocument.close();\" allowfullscreen webkitallowfullscreen mozallowfullscreen></iframe></div></div>"
      ],
      "text/plain": [
       "<folium.folium.Map at 0x29607dc9cf8>"
      ]
     },
     "execution_count": 21,
     "metadata": {},
     "output_type": "execute_result"
    }
   ],
   "source": [
    "geo_df = df_route_2nd\n",
    "\n",
    "map = folium.Map(location=[geo_df['위도'].mean(), geo_df['경도'].mean()], zoom_start=9)\n",
    "\n",
    "for n in geo_df.index:\n",
    "    \n",
    "    #pop_name = geo_df[n, '시도']+\",\"+geo_df[n, '구군']  -> key error 뜸\n",
    "    \n",
    "                                                                        #popup인자에 한번에 넣으니까 key error 디버깅\n",
    "    folium.Marker(location=[geo_df.loc[n, '위도'], geo_df.loc[n, '경도']],popup=geo_df.loc[n, '날짜']+\" : \"+\n",
    "                 geo_df.loc[n, '시도']+\",\"+geo_df.loc[n, '구군']).add_to(map)\n",
    "    \n",
    "lists = []\n",
    "for n in geo_df.index:\n",
    "    points = (geo_df.loc[n, '위도'], geo_df.loc[n, '경도'])\n",
    "    lists.append(points)\n",
    "    # points 자료구조형태는 a list of tuples : [ (1,2), (2,3) ... ]\n",
    "folium.PolyLine(lists, color='red').add_to(map)\n",
    "    \n",
    "    \n",
    "\n",
    "map"
   ]
  },
  {
   "cell_type": "code",
   "execution_count": 23,
   "metadata": {},
   "outputs": [
    {
     "data": {
      "text/html": [
       "<div>\n",
       "<style scoped>\n",
       "    .dataframe tbody tr th:only-of-type {\n",
       "        vertical-align: middle;\n",
       "    }\n",
       "\n",
       "    .dataframe tbody tr th {\n",
       "        vertical-align: top;\n",
       "    }\n",
       "\n",
       "    .dataframe thead th {\n",
       "        text-align: right;\n",
       "    }\n",
       "</style>\n",
       "<table border=\"1\" class=\"dataframe\">\n",
       "  <thead>\n",
       "    <tr style=\"text-align: right;\">\n",
       "      <th></th>\n",
       "      <th>환자번호</th>\n",
       "      <th>global_num</th>\n",
       "      <th>날짜</th>\n",
       "      <th>시도</th>\n",
       "      <th>구군</th>\n",
       "      <th>위도</th>\n",
       "      <th>경도</th>\n",
       "    </tr>\n",
       "  </thead>\n",
       "  <tbody>\n",
       "    <tr>\n",
       "      <th>0</th>\n",
       "      <td>2000000006</td>\n",
       "      <td>17</td>\n",
       "      <td>2020-01-24</td>\n",
       "      <td>Incheon</td>\n",
       "      <td>Jung-gu</td>\n",
       "      <td>37.460459</td>\n",
       "      <td>126.440680</td>\n",
       "    </tr>\n",
       "    <tr>\n",
       "      <th>1</th>\n",
       "      <td>2000000006</td>\n",
       "      <td>17</td>\n",
       "      <td>2020-01-24</td>\n",
       "      <td>Seoul</td>\n",
       "      <td>Jung-gu</td>\n",
       "      <td>37.555877</td>\n",
       "      <td>126.969728</td>\n",
       "    </tr>\n",
       "    <tr>\n",
       "      <th>2</th>\n",
       "      <td>2000000006</td>\n",
       "      <td>17</td>\n",
       "      <td>2020-01-24</td>\n",
       "      <td>Daegu</td>\n",
       "      <td>Dong-gu</td>\n",
       "      <td>35.879893</td>\n",
       "      <td>128.628476</td>\n",
       "    </tr>\n",
       "    <tr>\n",
       "      <th>3</th>\n",
       "      <td>2000000006</td>\n",
       "      <td>17</td>\n",
       "      <td>2020-01-24</td>\n",
       "      <td>Daegu</td>\n",
       "      <td>Suseong-gu</td>\n",
       "      <td>35.858160</td>\n",
       "      <td>128.630540</td>\n",
       "    </tr>\n",
       "    <tr>\n",
       "      <th>4</th>\n",
       "      <td>2000000006</td>\n",
       "      <td>17</td>\n",
       "      <td>2020-01-25</td>\n",
       "      <td>Daegu</td>\n",
       "      <td>Buk-gu</td>\n",
       "      <td>35.885552</td>\n",
       "      <td>128.582882</td>\n",
       "    </tr>\n",
       "  </tbody>\n",
       "</table>\n",
       "</div>"
      ],
      "text/plain": [
       "         환자번호  global_num          날짜       시도          구군         위도  \\\n",
       "0  2000000006          17  2020-01-24  Incheon     Jung-gu  37.460459   \n",
       "1  2000000006          17  2020-01-24    Seoul     Jung-gu  37.555877   \n",
       "2  2000000006          17  2020-01-24    Daegu     Dong-gu  35.879893   \n",
       "3  2000000006          17  2020-01-24    Daegu  Suseong-gu  35.858160   \n",
       "4  2000000006          17  2020-01-25    Daegu      Buk-gu  35.885552   \n",
       "\n",
       "           경도  \n",
       "0  126.440680  \n",
       "1  126.969728  \n",
       "2  128.628476  \n",
       "3  128.630540  \n",
       "4  128.582882  "
      ]
     },
     "execution_count": 23,
     "metadata": {},
     "output_type": "execute_result"
    }
   ],
   "source": [
    "df_route_3rd = df_route_many.loc[df_route_many['환자번호'] == '2000000006'].reset_index(drop=True)\n",
    "df_route_3rd.head()"
   ]
  },
  {
   "cell_type": "code",
   "execution_count": 25,
   "metadata": {},
   "outputs": [
    {
     "data": {
      "text/html": [
       "<div style=\"width:100%;\"><div style=\"position:relative;width:100%;height:0;padding-bottom:60%;\"><iframe src=\"about:blank\" style=\"position:absolute;width:100%;height:100%;left:0;top:0;border:none !important;\" data-html=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 onload=\"this.contentDocument.open();this.contentDocument.write(atob(this.getAttribute('data-html')));this.contentDocument.close();\" allowfullscreen webkitallowfullscreen mozallowfullscreen></iframe></div></div>"
      ],
      "text/plain": [
       "<folium.folium.Map at 0x29607ecb518>"
      ]
     },
     "execution_count": 25,
     "metadata": {},
     "output_type": "execute_result"
    }
   ],
   "source": [
    "geo_df = df_route_3rd \n",
    "\n",
    "map = folium.Map(location=[geo_df['위도'].mean(), geo_df['경도'].mean()], zoom_start=8)\n",
    "\n",
    "for n in geo_df.index:\n",
    "    \n",
    "    #pop_name = geo_df[n, '시도']+\",\"+geo_df[n, '구군']  -> key error 뜸\n",
    "    \n",
    "                                                                        #popup인자에 한번에 넣으니까 key error 디버깅\n",
    "    folium.Marker(location=[geo_df.loc[n, '위도'], geo_df.loc[n, '경도']],popup=geo_df.loc[n, '날짜']+\" : \"+\n",
    "                 geo_df.loc[n, '시도']+\",\"+geo_df.loc[n, '구군']).add_to(map)\n",
    "    \n",
    "lists = []\n",
    "for n in geo_df.index:\n",
    "    points = (geo_df.loc[n, '위도'], geo_df.loc[n, '경도'])\n",
    "    lists.append(points)\n",
    "    # points 자료구조형태는 a list of tuples : [ (1,2), (2,3) ... ]\n",
    "folium.PolyLine(lists, color='green').add_to(map)\n",
    "    \n",
    "    \n",
    "\n",
    "map"
   ]
  },
  {
   "cell_type": "code",
   "execution_count": 26,
   "metadata": {},
   "outputs": [
    {
     "data": {
      "text/html": [
       "<div>\n",
       "<style scoped>\n",
       "    .dataframe tbody tr th:only-of-type {\n",
       "        vertical-align: middle;\n",
       "    }\n",
       "\n",
       "    .dataframe tbody tr th {\n",
       "        vertical-align: top;\n",
       "    }\n",
       "\n",
       "    .dataframe thead th {\n",
       "        text-align: right;\n",
       "    }\n",
       "</style>\n",
       "<table border=\"1\" class=\"dataframe\">\n",
       "  <thead>\n",
       "    <tr style=\"text-align: right;\">\n",
       "      <th></th>\n",
       "      <th>환자번호</th>\n",
       "      <th>global_num</th>\n",
       "      <th>날짜</th>\n",
       "      <th>시도</th>\n",
       "      <th>구군</th>\n",
       "      <th>위도</th>\n",
       "      <th>경도</th>\n",
       "    </tr>\n",
       "  </thead>\n",
       "  <tbody>\n",
       "    <tr>\n",
       "      <th>0</th>\n",
       "      <td>1000000014</td>\n",
       "      <td>30</td>\n",
       "      <td>2020-02-08</td>\n",
       "      <td>Seoul</td>\n",
       "      <td>Jongno-gu</td>\n",
       "      <td>37.579541</td>\n",
       "      <td>126.999305</td>\n",
       "    </tr>\n",
       "    <tr>\n",
       "      <th>1</th>\n",
       "      <td>1000000014</td>\n",
       "      <td>30</td>\n",
       "      <td>2020-02-10</td>\n",
       "      <td>Seoul</td>\n",
       "      <td>Jongno-gu</td>\n",
       "      <td>37.572596</td>\n",
       "      <td>127.015270</td>\n",
       "    </tr>\n",
       "    <tr>\n",
       "      <th>2</th>\n",
       "      <td>1000000014</td>\n",
       "      <td>30</td>\n",
       "      <td>2020-02-10</td>\n",
       "      <td>Incheon</td>\n",
       "      <td>Jung-gu</td>\n",
       "      <td>37.423537</td>\n",
       "      <td>126.421426</td>\n",
       "    </tr>\n",
       "    <tr>\n",
       "      <th>3</th>\n",
       "      <td>1000000014</td>\n",
       "      <td>30</td>\n",
       "      <td>2020-02-10</td>\n",
       "      <td>Incheon</td>\n",
       "      <td>Seo-gu</td>\n",
       "      <td>37.570719</td>\n",
       "      <td>126.675649</td>\n",
       "    </tr>\n",
       "    <tr>\n",
       "      <th>4</th>\n",
       "      <td>1000000014</td>\n",
       "      <td>30</td>\n",
       "      <td>2020-02-10</td>\n",
       "      <td>Seoul</td>\n",
       "      <td>Jongno-gu</td>\n",
       "      <td>37.574541</td>\n",
       "      <td>127.015927</td>\n",
       "    </tr>\n",
       "  </tbody>\n",
       "</table>\n",
       "</div>"
      ],
      "text/plain": [
       "         환자번호  global_num          날짜       시도         구군         위도  \\\n",
       "0  1000000014          30  2020-02-08    Seoul  Jongno-gu  37.579541   \n",
       "1  1000000014          30  2020-02-10    Seoul  Jongno-gu  37.572596   \n",
       "2  1000000014          30  2020-02-10  Incheon    Jung-gu  37.423537   \n",
       "3  1000000014          30  2020-02-10  Incheon     Seo-gu  37.570719   \n",
       "4  1000000014          30  2020-02-10    Seoul  Jongno-gu  37.574541   \n",
       "\n",
       "           경도  \n",
       "0  126.999305  \n",
       "1  127.015270  \n",
       "2  126.421426  \n",
       "3  126.675649  \n",
       "4  127.015927  "
      ]
     },
     "execution_count": 26,
     "metadata": {},
     "output_type": "execute_result"
    }
   ],
   "source": [
    "df_route_4th = df_route_many.loc[df_route_many['환자번호'] == '1000000014'].reset_index(drop=True)\n",
    "df_route_4th.head()"
   ]
  },
  {
   "cell_type": "code",
   "execution_count": 29,
   "metadata": {},
   "outputs": [
    {
     "data": {
      "text/html": [
       "<div style=\"width:100%;\"><div style=\"position:relative;width:100%;height:0;padding-bottom:60%;\"><iframe src=\"about:blank\" style=\"position:absolute;width:100%;height:100%;left:0;top:0;border:none !important;\" data-html=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 onload=\"this.contentDocument.open();this.contentDocument.write(atob(this.getAttribute('data-html')));this.contentDocument.close();\" allowfullscreen webkitallowfullscreen mozallowfullscreen></iframe></div></div>"
      ],
      "text/plain": [
       "<folium.folium.Map at 0x29607f91c50>"
      ]
     },
     "execution_count": 29,
     "metadata": {},
     "output_type": "execute_result"
    }
   ],
   "source": [
    "geo_df = df_route_4th\n",
    "\n",
    "map = folium.Map(location=[geo_df['위도'].mean(), geo_df['경도'].mean()], zoom_start=10)\n",
    "\n",
    "for n in geo_df.index:\n",
    "    \n",
    "    #pop_name = geo_df[n, '시도']+\",\"+geo_df[n, '구군']  -> key error 뜸\n",
    "    \n",
    "                                                                        #popup인자에 한번에 넣으니까 key error 디버깅\n",
    "    folium.Marker(location=[geo_df.loc[n, '위도'], geo_df.loc[n, '경도']],popup=geo_df.loc[n, '날짜']+\" : \"+\n",
    "                 geo_df.loc[n, '시도']+\",\"+geo_df.loc[n, '구군']).add_to(map)\n",
    "    \n",
    "lists = []\n",
    "for n in geo_df.index:\n",
    "    points = (geo_df.loc[n, '위도'], geo_df.loc[n, '경도'])\n",
    "    lists.append(points)\n",
    "    # points 자료구조형태는 a list of tuples : [ (1,2), (2,3) ... ]\n",
    "folium.PolyLine(lists, color='orange').add_to(map)\n",
    "\n",
    "map"
   ]
  },
  {
   "cell_type": "code",
   "execution_count": null,
   "metadata": {},
   "outputs": [],
   "source": []
  },
  {
   "cell_type": "code",
   "execution_count": null,
   "metadata": {},
   "outputs": [],
   "source": []
  },
  {
   "cell_type": "code",
   "execution_count": null,
   "metadata": {},
   "outputs": [],
   "source": []
  },
  {
   "cell_type": "code",
   "execution_count": null,
   "metadata": {},
   "outputs": [],
   "source": []
  },
  {
   "cell_type": "code",
   "execution_count": null,
   "metadata": {},
   "outputs": [],
   "source": []
  },
  {
   "cell_type": "code",
   "execution_count": null,
   "metadata": {},
   "outputs": [],
   "source": []
  },
  {
   "cell_type": "code",
   "execution_count": null,
   "metadata": {},
   "outputs": [],
   "source": []
  },
  {
   "cell_type": "code",
   "execution_count": null,
   "metadata": {},
   "outputs": [],
   "source": []
  },
  {
   "cell_type": "code",
   "execution_count": null,
   "metadata": {},
   "outputs": [],
   "source": []
  },
  {
   "cell_type": "code",
   "execution_count": null,
   "metadata": {},
   "outputs": [],
   "source": []
  },
  {
   "cell_type": "code",
   "execution_count": null,
   "metadata": {},
   "outputs": [],
   "source": []
  },
  {
   "cell_type": "code",
   "execution_count": null,
   "metadata": {},
   "outputs": [],
   "source": []
  },
  {
   "cell_type": "code",
   "execution_count": null,
   "metadata": {},
   "outputs": [],
   "source": []
  },
  {
   "cell_type": "code",
   "execution_count": null,
   "metadata": {},
   "outputs": [],
   "source": []
  },
  {
   "cell_type": "code",
   "execution_count": null,
   "metadata": {},
   "outputs": [],
   "source": []
  },
  {
   "cell_type": "code",
   "execution_count": null,
   "metadata": {},
   "outputs": [],
   "source": []
  }
 ],
 "metadata": {
  "kernelspec": {
   "display_name": "Python 3",
   "language": "python",
   "name": "python3"
  },
  "language_info": {
   "codemirror_mode": {
    "name": "ipython",
    "version": 3
   },
   "file_extension": ".py",
   "mimetype": "text/x-python",
   "name": "python",
   "nbconvert_exporter": "python",
   "pygments_lexer": "ipython3",
   "version": "3.7.3"
  }
 },
 "nbformat": 4,
 "nbformat_minor": 4
}
