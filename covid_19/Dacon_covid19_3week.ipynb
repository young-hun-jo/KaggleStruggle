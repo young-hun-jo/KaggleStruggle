{
 "cells": [
  {
   "cell_type": "markdown",
   "metadata": {},
   "source": [
    "# Dacon Covid 데이터 분석 3주차\n",
    "\n",
    "## kaggle에 존재하는 외부 데이터 사용해 분석\n",
    "\n",
    "- 한국뿐만 아니라 세계국가 데이터 존재\n",
    "- 필요시 한국 데이터만 추출해 사용\n",
    "- 한국과 다른 나라들간의 상황 비교분석"
   ]
  },
  {
   "cell_type": "code",
   "execution_count": 2,
   "metadata": {},
   "outputs": [],
   "source": [
    "import pandas as pd\n",
    "import numpy as np"
   ]
  },
  {
   "cell_type": "code",
   "execution_count": 3,
   "metadata": {},
   "outputs": [],
   "source": [
    "data = pd.read_csv(\"C:/Users/joyh1/Desktop/GitRepo/data/covid-19-all.csv\")"
   ]
  },
  {
   "cell_type": "code",
   "execution_count": 5,
   "metadata": {},
   "outputs": [
    {
     "data": {
      "text/plain": [
       "(74352, 8)"
      ]
     },
     "execution_count": 5,
     "metadata": {},
     "output_type": "execute_result"
    }
   ],
   "source": [
    "# 데이터 행,열 개수 확인\n",
    "data.shape"
   ]
  },
  {
   "cell_type": "code",
   "execution_count": 7,
   "metadata": {},
   "outputs": [
    {
     "name": "stdout",
     "output_type": "stream",
     "text": [
      "<class 'pandas.core.frame.DataFrame'>\n",
      "RangeIndex: 74352 entries, 0 to 74351\n",
      "Data columns (total 8 columns):\n",
      " #   Column          Non-Null Count  Dtype  \n",
      "---  ------          --------------  -----  \n",
      " 0   Country/Region  74352 non-null  object \n",
      " 1   Province/State  67247 non-null  object \n",
      " 2   Latitude        74351 non-null  float64\n",
      " 3   Longitude       74351 non-null  float64\n",
      " 4   Confirmed       74333 non-null  float64\n",
      " 5   Recovered       73964 non-null  float64\n",
      " 6   Deaths          73911 non-null  float64\n",
      " 7   Date            74352 non-null  object \n",
      "dtypes: float64(5), object(3)\n",
      "memory usage: 4.5+ MB\n"
     ]
    }
   ],
   "source": [
    "# 데이터 타입 구성 확인\n",
    "data.info()"
   ]
  },
  {
   "cell_type": "code",
   "execution_count": 8,
   "metadata": {},
   "outputs": [
    {
     "data": {
      "text/plain": [
       "Country/Region       0\n",
       "Province/State    7105\n",
       "Latitude             1\n",
       "Longitude            1\n",
       "Confirmed           19\n",
       "Recovered          388\n",
       "Deaths             441\n",
       "Date                 0\n",
       "dtype: int64"
      ]
     },
     "execution_count": 8,
     "metadata": {},
     "output_type": "execute_result"
    }
   ],
   "source": [
    "# 데이터 결측치 확인\n",
    "data.isnull().sum()"
   ]
  },
  {
   "cell_type": "code",
   "execution_count": 14,
   "metadata": {},
   "outputs": [
    {
     "data": {
      "text/html": [
       "<div>\n",
       "<style scoped>\n",
       "    .dataframe tbody tr th:only-of-type {\n",
       "        vertical-align: middle;\n",
       "    }\n",
       "\n",
       "    .dataframe tbody tr th {\n",
       "        vertical-align: top;\n",
       "    }\n",
       "\n",
       "    .dataframe thead th {\n",
       "        text-align: right;\n",
       "    }\n",
       "</style>\n",
       "<table border=\"1\" class=\"dataframe\">\n",
       "  <thead>\n",
       "    <tr style=\"text-align: right;\">\n",
       "      <th></th>\n",
       "      <th>Confirmed</th>\n",
       "      <th>Recovered</th>\n",
       "      <th>Deaths</th>\n",
       "    </tr>\n",
       "  </thead>\n",
       "  <tbody>\n",
       "    <tr>\n",
       "      <th>count</th>\n",
       "      <td>74333.000000</td>\n",
       "      <td>73964.000000</td>\n",
       "      <td>73911.000000</td>\n",
       "    </tr>\n",
       "    <tr>\n",
       "      <th>mean</th>\n",
       "      <td>367.382508</td>\n",
       "      <td>90.369126</td>\n",
       "      <td>18.834720</td>\n",
       "    </tr>\n",
       "    <tr>\n",
       "      <th>std</th>\n",
       "      <td>4334.365424</td>\n",
       "      <td>1725.061550</td>\n",
       "      <td>365.755142</td>\n",
       "    </tr>\n",
       "    <tr>\n",
       "      <th>min</th>\n",
       "      <td>0.000000</td>\n",
       "      <td>0.000000</td>\n",
       "      <td>0.000000</td>\n",
       "    </tr>\n",
       "    <tr>\n",
       "      <th>25%</th>\n",
       "      <td>1.000000</td>\n",
       "      <td>0.000000</td>\n",
       "      <td>0.000000</td>\n",
       "    </tr>\n",
       "    <tr>\n",
       "      <th>50%</th>\n",
       "      <td>4.000000</td>\n",
       "      <td>0.000000</td>\n",
       "      <td>0.000000</td>\n",
       "    </tr>\n",
       "    <tr>\n",
       "      <th>75%</th>\n",
       "      <td>28.000000</td>\n",
       "      <td>0.000000</td>\n",
       "      <td>1.000000</td>\n",
       "    </tr>\n",
       "    <tr>\n",
       "      <th>max</th>\n",
       "      <td>166831.000000</td>\n",
       "      <td>64281.000000</td>\n",
       "      <td>19899.000000</td>\n",
       "    </tr>\n",
       "  </tbody>\n",
       "</table>\n",
       "</div>"
      ],
      "text/plain": [
       "           Confirmed     Recovered        Deaths\n",
       "count   74333.000000  73964.000000  73911.000000\n",
       "mean      367.382508     90.369126     18.834720\n",
       "std      4334.365424   1725.061550    365.755142\n",
       "min         0.000000      0.000000      0.000000\n",
       "25%         1.000000      0.000000      0.000000\n",
       "50%         4.000000      0.000000      0.000000\n",
       "75%        28.000000      0.000000      1.000000\n",
       "max    166831.000000  64281.000000  19899.000000"
      ]
     },
     "execution_count": 14,
     "metadata": {},
     "output_type": "execute_result"
    }
   ],
   "source": [
    "# 데이터 기술통계량 보기(위도, 경도 제외)\n",
    "data[['Confirmed','Recovered','Deaths']].describe()\n",
    "\n",
    "# 3분위수와 최댓값 격차가 매우 큰걸 보면 코로나 확산이 급작스럽게 증가했지 않을까 추론해본다."
   ]
  },
  {
   "cell_type": "code",
   "execution_count": 12,
   "metadata": {},
   "outputs": [
    {
     "data": {
      "text/html": [
       "<div>\n",
       "<style scoped>\n",
       "    .dataframe tbody tr th:only-of-type {\n",
       "        vertical-align: middle;\n",
       "    }\n",
       "\n",
       "    .dataframe tbody tr th {\n",
       "        vertical-align: top;\n",
       "    }\n",
       "\n",
       "    .dataframe thead th {\n",
       "        text-align: right;\n",
       "    }\n",
       "</style>\n",
       "<table border=\"1\" class=\"dataframe\">\n",
       "  <thead>\n",
       "    <tr style=\"text-align: right;\">\n",
       "      <th></th>\n",
       "      <th>Country/Region</th>\n",
       "      <th>Province/State</th>\n",
       "      <th>Date</th>\n",
       "    </tr>\n",
       "  </thead>\n",
       "  <tbody>\n",
       "    <tr>\n",
       "      <th>count</th>\n",
       "      <td>74352</td>\n",
       "      <td>67247</td>\n",
       "      <td>74352</td>\n",
       "    </tr>\n",
       "    <tr>\n",
       "      <th>unique</th>\n",
       "      <td>212</td>\n",
       "      <td>298</td>\n",
       "      <td>82</td>\n",
       "    </tr>\n",
       "    <tr>\n",
       "      <th>top</th>\n",
       "      <td>US</td>\n",
       "      <td>Texas</td>\n",
       "      <td>2020-03-30</td>\n",
       "    </tr>\n",
       "    <tr>\n",
       "      <th>freq</th>\n",
       "      <td>62707</td>\n",
       "      <td>4381</td>\n",
       "      <td>3439</td>\n",
       "    </tr>\n",
       "  </tbody>\n",
       "</table>\n",
       "</div>"
      ],
      "text/plain": [
       "       Country/Region Province/State        Date\n",
       "count           74352          67247       74352\n",
       "unique            212            298          82\n",
       "top                US          Texas  2020-03-30\n",
       "freq            62707           4381        3439"
      ]
     },
     "execution_count": 12,
     "metadata": {},
     "output_type": "execute_result"
    }
   ],
   "source": [
    "# 객체 타입의 기술통계량 보기\n",
    "data.describe(include=object)"
   ]
  },
  {
   "cell_type": "code",
   "execution_count": 16,
   "metadata": {},
   "outputs": [
    {
     "data": {
      "text/plain": [
       "US                     62707\n",
       "China                   2606\n",
       "Canada                   562\n",
       "Australia                492\n",
       "France                   345\n",
       "                       ...  \n",
       "Saint Martin               1\n",
       "North Ireland              1\n",
       "Cape Verde                 1\n",
       "St. Martin                 1\n",
       "Taipei and environs        1\n",
       "Name: Country/Region, Length: 212, dtype: int64"
      ]
     },
     "execution_count": 16,
     "metadata": {},
     "output_type": "execute_result"
    }
   ],
   "source": [
    "# 국가별로 얼마나 데이터가 존재하는지 관찰\n",
    "data['Country/Region'].value_counts()"
   ]
  },
  {
   "cell_type": "code",
   "execution_count": 17,
   "metadata": {},
   "outputs": [
    {
     "data": {
      "text/plain": [
       "array(['China', 'Hong Kong', 'Macau', 'Taiwan', 'US', 'Japan', 'Thailand',\n",
       "       'South Korea', 'Singapore', 'Philippines', 'Malaysia', 'Vietnam',\n",
       "       'Australia', 'Mexico', 'Brazil', 'Colombia', 'France', 'Nepal',\n",
       "       'Canada', 'Cambodia', 'Sri Lanka', 'Ivory Coast', 'Germany',\n",
       "       'Finland', 'United Arab Emirates', 'India', 'Italy',\n",
       "       'United Kingdom', 'Russia', 'Sweden', 'Spain', 'Belgium', 'Others',\n",
       "       'Egypt', 'Iran', 'Israel', 'Lebanon', 'Iraq', 'Oman',\n",
       "       'Afghanistan', 'Bahrain', 'Kuwait', 'Austria', 'Algeria',\n",
       "       'Croatia', 'Switzerland', 'Pakistan', 'Georgia', 'Greece',\n",
       "       'North Macedonia', 'Norway', 'Romania', 'Denmark', 'Estonia',\n",
       "       'Netherlands', 'San Marino', 'Azerbaijan', 'Belarus', 'Iceland',\n",
       "       'Lithuania', 'New Zealand', 'Nigeria', 'North Ireland', 'Ireland',\n",
       "       'Luxembourg', 'Monaco', 'Qatar', 'Ecuador', 'Czech Republic',\n",
       "       'Armenia', 'Dominican Republic', 'Indonesia', 'Portugal',\n",
       "       'Andorra', 'Latvia', 'Morocco', 'Saudi Arabia', 'Senegal',\n",
       "       'Argentina', 'Chile', 'Jordan', 'Ukraine', 'Saint Barthelemy',\n",
       "       'Hungary', 'Faroe Islands', 'Gibraltar', 'Liechtenstein', 'Poland',\n",
       "       'Tunisia', 'West Bank and Gaza', 'Bosnia and Herzegovina',\n",
       "       'Slovenia', 'South Africa', 'Bhutan', 'Cameroon', 'Costa Rica',\n",
       "       'Peru', 'Serbia', 'Slovakia', 'Togo', 'Vatican City',\n",
       "       'French Guiana', 'Malta', 'Martinique', 'Bulgaria', 'Maldives',\n",
       "       'Bangladesh', 'Moldova', 'Paraguay', 'Albania', 'Cyprus',\n",
       "       'St. Martin', 'Brunei', 'Taipei and environs', 'Saint Martin',\n",
       "       'Burkina Faso', 'Channel Islands', 'Mongolia', 'Panama',\n",
       "       'Cruise Ship', 'Bolivia', 'Honduras', 'Congo (Kinshasa)',\n",
       "       'Jamaica', 'Reunion', 'Turkey', 'Cuba', 'Guyana', 'Kazakhstan',\n",
       "       'Cayman Islands', 'Guadeloupe', 'Ethiopia', 'Sudan', 'Guinea',\n",
       "       'Antigua and Barbuda', 'Aruba', 'Kenya', 'Uruguay', 'Ghana',\n",
       "       'Jersey', 'Namibia', 'Seychelles', 'Trinidad and Tobago',\n",
       "       'Venezuela', 'Curacao', 'Eswatini', 'Gabon', 'Guatemala',\n",
       "       'Guernsey', 'Mauritania', 'Rwanda', 'Saint Lucia',\n",
       "       'Saint Vincent and the Grenadines', 'Suriname', 'Kosovo',\n",
       "       'Central African Republic', 'Congo (Brazzaville)',\n",
       "       'Equatorial Guinea', 'Uzbekistan', 'Guam', 'Puerto Rico', 'Benin',\n",
       "       'Greenland', 'Liberia', 'Mayotte', 'Somalia', 'Tanzania',\n",
       "       'The Bahamas', 'Barbados', 'Montenegro', 'Gambia', 'Kyrgyzstan',\n",
       "       'Mauritius', 'Zambia', 'Djibouti', 'Bahamas, The', 'Chad',\n",
       "       'El Salvador', 'Fiji', 'Nicaragua', 'Madagascar', 'Haiti',\n",
       "       'Angola', 'Cabo Verde', 'Papua New Guinea', 'Zimbabwe',\n",
       "       'Cape Verde', 'East Timor', 'Eritrea', 'Uganda', 'Bahamas',\n",
       "       'Grenada', 'Mozambique', 'Syria', 'Timor-Leste', 'Belize', 'Laos',\n",
       "       'Libya', 'Diamond Princess', 'Guinea-Bissau', 'Mali',\n",
       "       'Saint Kitts and Nevis', 'Burma', 'MS Zaandam', 'Botswana',\n",
       "       'Burundi', 'Sierra Leone', 'Malawi', 'South Sudan',\n",
       "       'Western Sahara', 'Sao Tome and Principe', 'Yemen'], dtype=object)"
      ]
     },
     "execution_count": 17,
     "metadata": {},
     "output_type": "execute_result"
    }
   ],
   "source": [
    "# 한국이 있는지 조회해 보기\n",
    "data['Country/Region'].unique()\n",
    "\n",
    "# 두번째 줄에 'South Korea' 존재"
   ]
  },
  {
   "cell_type": "code",
   "execution_count": 19,
   "metadata": {},
   "outputs": [
    {
     "data": {
      "text/html": [
       "<div>\n",
       "<style scoped>\n",
       "    .dataframe tbody tr th:only-of-type {\n",
       "        vertical-align: middle;\n",
       "    }\n",
       "\n",
       "    .dataframe tbody tr th {\n",
       "        vertical-align: top;\n",
       "    }\n",
       "\n",
       "    .dataframe thead th {\n",
       "        text-align: right;\n",
       "    }\n",
       "</style>\n",
       "<table border=\"1\" class=\"dataframe\">\n",
       "  <thead>\n",
       "    <tr style=\"text-align: right;\">\n",
       "      <th></th>\n",
       "      <th>Country/Region</th>\n",
       "      <th>Province/State</th>\n",
       "      <th>Latitude</th>\n",
       "      <th>Longitude</th>\n",
       "      <th>Confirmed</th>\n",
       "      <th>Recovered</th>\n",
       "      <th>Deaths</th>\n",
       "      <th>Date</th>\n",
       "    </tr>\n",
       "  </thead>\n",
       "  <tbody>\n",
       "    <tr>\n",
       "      <th>37</th>\n",
       "      <td>South Korea</td>\n",
       "      <td>NaN</td>\n",
       "      <td>36.000000</td>\n",
       "      <td>128.000000</td>\n",
       "      <td>1.0</td>\n",
       "      <td>NaN</td>\n",
       "      <td>NaN</td>\n",
       "      <td>2020-01-22</td>\n",
       "    </tr>\n",
       "    <tr>\n",
       "      <th>75</th>\n",
       "      <td>South Korea</td>\n",
       "      <td>NaN</td>\n",
       "      <td>36.000000</td>\n",
       "      <td>128.000000</td>\n",
       "      <td>1.0</td>\n",
       "      <td>NaN</td>\n",
       "      <td>NaN</td>\n",
       "      <td>2020-01-23</td>\n",
       "    </tr>\n",
       "    <tr>\n",
       "      <th>121</th>\n",
       "      <td>South Korea</td>\n",
       "      <td>NaN</td>\n",
       "      <td>36.000000</td>\n",
       "      <td>128.000000</td>\n",
       "      <td>2.0</td>\n",
       "      <td>NaN</td>\n",
       "      <td>NaN</td>\n",
       "      <td>2020-01-24</td>\n",
       "    </tr>\n",
       "    <tr>\n",
       "      <th>162</th>\n",
       "      <td>South Korea</td>\n",
       "      <td>NaN</td>\n",
       "      <td>36.000000</td>\n",
       "      <td>128.000000</td>\n",
       "      <td>2.0</td>\n",
       "      <td>NaN</td>\n",
       "      <td>NaN</td>\n",
       "      <td>2020-01-25</td>\n",
       "    </tr>\n",
       "    <tr>\n",
       "      <th>208</th>\n",
       "      <td>South Korea</td>\n",
       "      <td>NaN</td>\n",
       "      <td>36.000000</td>\n",
       "      <td>128.000000</td>\n",
       "      <td>3.0</td>\n",
       "      <td>NaN</td>\n",
       "      <td>NaN</td>\n",
       "      <td>2020-01-26</td>\n",
       "    </tr>\n",
       "    <tr>\n",
       "      <th>...</th>\n",
       "      <td>...</td>\n",
       "      <td>...</td>\n",
       "      <td>...</td>\n",
       "      <td>...</td>\n",
       "      <td>...</td>\n",
       "      <td>...</td>\n",
       "      <td>...</td>\n",
       "      <td>...</td>\n",
       "    </tr>\n",
       "    <tr>\n",
       "      <th>62451</th>\n",
       "      <td>South Korea</td>\n",
       "      <td>NaN</td>\n",
       "      <td>35.907757</td>\n",
       "      <td>127.766922</td>\n",
       "      <td>10384.0</td>\n",
       "      <td>6776.0</td>\n",
       "      <td>200.0</td>\n",
       "      <td>2020-04-08</td>\n",
       "    </tr>\n",
       "    <tr>\n",
       "      <th>65362</th>\n",
       "      <td>South Korea</td>\n",
       "      <td>NaN</td>\n",
       "      <td>35.907757</td>\n",
       "      <td>127.766922</td>\n",
       "      <td>10423.0</td>\n",
       "      <td>6973.0</td>\n",
       "      <td>204.0</td>\n",
       "      <td>2020-04-09</td>\n",
       "    </tr>\n",
       "    <tr>\n",
       "      <th>68302</th>\n",
       "      <td>South Korea</td>\n",
       "      <td>NaN</td>\n",
       "      <td>35.907757</td>\n",
       "      <td>127.766922</td>\n",
       "      <td>10450.0</td>\n",
       "      <td>7117.0</td>\n",
       "      <td>208.0</td>\n",
       "      <td>2020-04-10</td>\n",
       "    </tr>\n",
       "    <tr>\n",
       "      <th>71268</th>\n",
       "      <td>South Korea</td>\n",
       "      <td>NaN</td>\n",
       "      <td>35.907757</td>\n",
       "      <td>127.766922</td>\n",
       "      <td>10480.0</td>\n",
       "      <td>7243.0</td>\n",
       "      <td>211.0</td>\n",
       "      <td>2020-04-11</td>\n",
       "    </tr>\n",
       "    <tr>\n",
       "      <th>74257</th>\n",
       "      <td>South Korea</td>\n",
       "      <td>NaN</td>\n",
       "      <td>35.907757</td>\n",
       "      <td>127.766922</td>\n",
       "      <td>10512.0</td>\n",
       "      <td>7368.0</td>\n",
       "      <td>214.0</td>\n",
       "      <td>2020-04-12</td>\n",
       "    </tr>\n",
       "  </tbody>\n",
       "</table>\n",
       "<p>82 rows × 8 columns</p>\n",
       "</div>"
      ],
      "text/plain": [
       "      Country/Region Province/State   Latitude   Longitude  Confirmed  \\\n",
       "37       South Korea            NaN  36.000000  128.000000        1.0   \n",
       "75       South Korea            NaN  36.000000  128.000000        1.0   \n",
       "121      South Korea            NaN  36.000000  128.000000        2.0   \n",
       "162      South Korea            NaN  36.000000  128.000000        2.0   \n",
       "208      South Korea            NaN  36.000000  128.000000        3.0   \n",
       "...              ...            ...        ...         ...        ...   \n",
       "62451    South Korea            NaN  35.907757  127.766922    10384.0   \n",
       "65362    South Korea            NaN  35.907757  127.766922    10423.0   \n",
       "68302    South Korea            NaN  35.907757  127.766922    10450.0   \n",
       "71268    South Korea            NaN  35.907757  127.766922    10480.0   \n",
       "74257    South Korea            NaN  35.907757  127.766922    10512.0   \n",
       "\n",
       "       Recovered  Deaths        Date  \n",
       "37           NaN     NaN  2020-01-22  \n",
       "75           NaN     NaN  2020-01-23  \n",
       "121          NaN     NaN  2020-01-24  \n",
       "162          NaN     NaN  2020-01-25  \n",
       "208          NaN     NaN  2020-01-26  \n",
       "...          ...     ...         ...  \n",
       "62451     6776.0   200.0  2020-04-08  \n",
       "65362     6973.0   204.0  2020-04-09  \n",
       "68302     7117.0   208.0  2020-04-10  \n",
       "71268     7243.0   211.0  2020-04-11  \n",
       "74257     7368.0   214.0  2020-04-12  \n",
       "\n",
       "[82 rows x 8 columns]"
      ]
     },
     "execution_count": 19,
     "metadata": {},
     "output_type": "execute_result"
    }
   ],
   "source": [
    "# South Korea에 대한 데이터 얼마나 존재하는지 보기\n",
    "data[data['Country/Region'] == 'South Korea']\n",
    "\n",
    "# 82개만 존재"
   ]
  },
  {
   "cell_type": "code",
   "execution_count": null,
   "metadata": {},
   "outputs": [],
   "source": [
    "# 분석 주제는 세계적인 비교로 가자!"
   ]
  }
 ],
 "metadata": {
  "kernelspec": {
   "display_name": "Python 3",
   "language": "python",
   "name": "python3"
  },
  "language_info": {
   "codemirror_mode": {
    "name": "ipython",
    "version": 3
   },
   "file_extension": ".py",
   "mimetype": "text/x-python",
   "name": "python",
   "nbconvert_exporter": "python",
   "pygments_lexer": "ipython3",
   "version": "3.7.3"
  },
  "toc": {
   "base_numbering": 1,
   "nav_menu": {},
   "number_sections": true,
   "sideBar": true,
   "skip_h1_title": false,
   "title_cell": "Table of Contents",
   "title_sidebar": "Contents",
   "toc_cell": false,
   "toc_position": {},
   "toc_section_display": true,
   "toc_window_display": false
  },
  "varInspector": {
   "cols": {
    "lenName": 16,
    "lenType": 16,
    "lenVar": 40
   },
   "kernels_config": {
    "python": {
     "delete_cmd_postfix": "",
     "delete_cmd_prefix": "del ",
     "library": "var_list.py",
     "varRefreshCmd": "print(var_dic_list())"
    },
    "r": {
     "delete_cmd_postfix": ") ",
     "delete_cmd_prefix": "rm(",
     "library": "var_list.r",
     "varRefreshCmd": "cat(var_dic_list()) "
    }
   },
   "types_to_exclude": [
    "module",
    "function",
    "builtin_function_or_method",
    "instance",
    "_Feature"
   ],
   "window_display": false
  }
 },
 "nbformat": 4,
 "nbformat_minor": 4
}
