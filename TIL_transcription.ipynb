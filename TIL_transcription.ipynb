{
 "cells": [
  {
   "cell_type": "markdown",
   "metadata": {},
   "source": [
    "# collections의 deque(데크) 자료구조\n",
    "\n",
    "- 양방향에서 데이터를 처리할 수 있음\n",
    "- list와 비슷한데 ``deque(데이터)``로 데크 자료구조로 만듦\n",
    "- list처럼 append(), pop() 등 사용 가능!"
   ]
  },
  {
   "cell_type": "code",
   "execution_count": 1,
   "metadata": {},
   "outputs": [],
   "source": [
    "from collections import deque"
   ]
  },
  {
   "cell_type": "markdown",
   "metadata": {},
   "source": [
    "## append & appendleft"
   ]
  },
  {
   "cell_type": "code",
   "execution_count": 2,
   "metadata": {},
   "outputs": [
    {
     "name": "stdout",
     "output_type": "stream",
     "text": [
      "[1, 2, 3, 4]\n",
      "\n",
      "deque([1, 2, 3, 4])\n"
     ]
    }
   ],
   "source": [
    "# append ( list, deque 둘다 가능)\n",
    "lst = [1,2,3]\n",
    "lst.append(4)\n",
    "print(lst)\n",
    "print()\n",
    "\n",
    "deq = deque([1,2,3])\n",
    "deq.append(4)\n",
    "print(deq)"
   ]
  },
  {
   "cell_type": "code",
   "execution_count": 3,
   "metadata": {},
   "outputs": [
    {
     "name": "stdout",
     "output_type": "stream",
     "text": [
      "deque([0, 1, 2, 3, 4])\n"
     ]
    }
   ],
   "source": [
    "# appendleft -> 앞쪽에서 요소를 추가 삽입해줌!(deque만 가능)\n",
    "\n",
    "deq = deque([1,2,3,4])\n",
    "deq.appendleft(0)\n",
    "print(deq)"
   ]
  },
  {
   "cell_type": "markdown",
   "metadata": {},
   "source": [
    "## extend & extendleft "
   ]
  },
  {
   "cell_type": "code",
   "execution_count": 5,
   "metadata": {},
   "outputs": [
    {
     "name": "stdout",
     "output_type": "stream",
     "text": [
      "[1, 2, 3, 4, 'abc']\n",
      "\n",
      "[1, 2, 3, 4, 'abc', 'a', 'b', 'c']\n"
     ]
    }
   ],
   "source": [
    "# extend(iterable) -> 요소들을 마지막에 추가로 삽입해줌(문자열이어야 함!)\n",
    "# list, deque 둘 다 가능\n",
    "\n",
    "# 우선 list의 append vs extend 비교\n",
    "lst = [1,2,3,4]\n",
    "lst.append('abc')\n",
    "print(lst)\n",
    "print()\n",
    "lst.extend('abc')\n",
    "print(lst)"
   ]
  },
  {
   "cell_type": "code",
   "execution_count": 8,
   "metadata": {},
   "outputs": [
    {
     "name": "stdout",
     "output_type": "stream",
     "text": [
      "deque([1, 2, 3, 4, 'a', 'b', 'c'])\n"
     ]
    }
   ],
   "source": [
    "# deque의 extend(문자열) , int형 에러발생\n",
    "lst = [1,2,3,4]\n",
    "deq = deque(lst)\n",
    "deq.extend('abc')\n",
    "print(deq)"
   ]
  },
  {
   "cell_type": "code",
   "execution_count": 9,
   "metadata": {},
   "outputs": [
    {
     "name": "stdout",
     "output_type": "stream",
     "text": [
      "deque(['c', 'b', 'a', 1, 2, 3, 4])\n"
     ]
    }
   ],
   "source": [
    "# extendleft(iterable) -> 앞쪽에서 데이터를 반복적으로 추가 \n",
    "# deque만 가능\n",
    "lst = [1,2,3,4]\n",
    "deq = deque(lst)\n",
    "deq.extendleft('abc') # 앞에 추가할때 문자열의 역순으로 첨가됨\n",
    "print(deq)"
   ]
  },
  {
   "cell_type": "markdown",
   "metadata": {},
   "source": [
    "## pop & popleft"
   ]
  },
  {
   "cell_type": "code",
   "execution_count": 10,
   "metadata": {},
   "outputs": [
    {
     "name": "stdout",
     "output_type": "stream",
     "text": [
      "[1, 2]\n",
      "deque([1, 2])\n"
     ]
    }
   ],
   "source": [
    "# pop() -> 리스트의 마지막 원소를 뺌(inplace됨!)\n",
    "# pop(index) -> 해당 인덱스의 원소를 뺌(inplace됨!)\n",
    "# pop은 list, deque 모두 가능\n",
    "\n",
    "lst = [1,2,3]\n",
    "lst.pop()\n",
    "print(lst)\n",
    "\n",
    "lst = [1,2,3]\n",
    "deq = deque(lst)\n",
    "deq.pop()\n",
    "print(deq)"
   ]
  },
  {
   "cell_type": "code",
   "execution_count": 11,
   "metadata": {},
   "outputs": [
    {
     "name": "stdout",
     "output_type": "stream",
     "text": [
      "deque([2, 3])\n"
     ]
    }
   ],
   "source": [
    "# popleft : 리스트의 첫번째 원소부터 차례대로 제거\n",
    "lst = [1,2,3]\n",
    "deq = deque(lst)\n",
    "deq.popleft()\n",
    "print(deq)"
   ]
  },
  {
   "cell_type": "markdown",
   "metadata": {},
   "source": [
    "## rotate(n) \n",
    "- 요소들을 n값만큼 회전해주는 메소드, inplace됨!\n",
    "- ``음수``면 ``왼쪽``  회전\n",
    "- ``양수``면 ``오른쪽`` 회전"
   ]
  },
  {
   "cell_type": "code",
   "execution_count": 14,
   "metadata": {},
   "outputs": [
    {
     "name": "stdout",
     "output_type": "stream",
     "text": [
      "원본: deque([1, 2, 3, 4, 5, 6, 7])\n",
      "deque([7, 1, 2, 3, 4, 5, 6])\n",
      "deque([6, 7, 1, 2, 3, 4, 5])\n",
      "deque([2, 3, 4, 5, 6, 7, 1])\n",
      "deque([3, 4, 5, 6, 7, 1, 2])\n"
     ]
    }
   ],
   "source": [
    "deq = deque([1,2,3,4,5,6,7])\n",
    "print(\"원본:\", deq)\n",
    "deq.rotate(1) # 한개 만큼 오른쪽으로 회전!\n",
    "print(deq)\n",
    "\n",
    "deq = deque([1,2,3,4,5,6,7])\n",
    "deq.rotate(2) # 두개 만큼 오른쪽으로 회전!\n",
    "print(deq)\n",
    "\n",
    "deq = deque([1,2,3,4,5,6,7])\n",
    "deq.rotate(-1) # 한개만큼 왼쪽으로 회전!\n",
    "print(deq)\n",
    "\n",
    "deq = deque([1,2,3,4,5,6,7])\n",
    "deq.rotate(-2) # 두개만큼 왼쪽으로 회전!\n",
    "print(deq)"
   ]
  },
  {
   "cell_type": "code",
   "execution_count": null,
   "metadata": {},
   "outputs": [],
   "source": []
  }
 ],
 "metadata": {
  "hide_input": false,
  "kernelspec": {
   "display_name": "Python 3",
   "language": "python",
   "name": "python3"
  },
  "language_info": {
   "codemirror_mode": {
    "name": "ipython",
    "version": 3
   },
   "file_extension": ".py",
   "mimetype": "text/x-python",
   "name": "python",
   "nbconvert_exporter": "python",
   "pygments_lexer": "ipython3",
   "version": "3.7.7"
  },
  "toc": {
   "base_numbering": 1,
   "nav_menu": {},
   "number_sections": true,
   "sideBar": true,
   "skip_h1_title": false,
   "title_cell": "Table of Contents",
   "title_sidebar": "Contents",
   "toc_cell": false,
   "toc_position": {},
   "toc_section_display": true,
   "toc_window_display": false
  },
  "varInspector": {
   "cols": {
    "lenName": 16,
    "lenType": 16,
    "lenVar": 40
   },
   "kernels_config": {
    "python": {
     "delete_cmd_postfix": "",
     "delete_cmd_prefix": "del ",
     "library": "var_list.py",
     "varRefreshCmd": "print(var_dic_list())"
    },
    "r": {
     "delete_cmd_postfix": ") ",
     "delete_cmd_prefix": "rm(",
     "library": "var_list.r",
     "varRefreshCmd": "cat(var_dic_list()) "
    }
   },
   "types_to_exclude": [
    "module",
    "function",
    "builtin_function_or_method",
    "instance",
    "_Feature"
   ],
   "window_display": false
  }
 },
 "nbformat": 4,
 "nbformat_minor": 4
}
