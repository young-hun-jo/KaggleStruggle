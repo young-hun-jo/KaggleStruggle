{
 "cells": [
  {
   "cell_type": "markdown",
   "metadata": {},
   "source": [
    "원본: <a href='https://www.kaggle.com/morrisb/how-to-recommend-anything-deep-recommender'>캐글 노트북</a>"
   ]
  },
  {
   "cell_type": "code",
   "execution_count": 12,
   "metadata": {},
   "outputs": [
    {
     "data": {
      "text/html": [
       "        <script type=\"text/javascript\">\n",
       "        window.PlotlyConfig = {MathJaxConfig: 'local'};\n",
       "        if (window.MathJax) {MathJax.Hub.Config({SVG: {font: \"STIX-Web\"}});}\n",
       "        if (typeof require !== 'undefined') {\n",
       "        require.undef(\"plotly\");\n",
       "        requirejs.config({\n",
       "            paths: {\n",
       "                'plotly': ['https://cdn.plot.ly/plotly-latest.min']\n",
       "            }\n",
       "        });\n",
       "        require(['plotly'], function(Plotly) {\n",
       "            window._Plotly = Plotly;\n",
       "        });\n",
       "        }\n",
       "        </script>\n",
       "        "
      ]
     },
     "metadata": {},
     "output_type": "display_data"
    }
   ],
   "source": [
    "import pandas as pd\n",
    "import numpy as np\n",
    "import matplotlib.pyplot as plt\n",
    "from plotly.offline import init_notebook_mode, plot, iplot\n",
    "import plotly.graph_objs as go\n",
    "init_notebook_mode(connected=True)\n",
    "\n",
    "from sklearn.metrics import mean_squared_error\n",
    "from sklearn.metrics.pairwise import cosine_similarity\n",
    "from sklearn.feature_extraction.text import TfidfVectorizer\n",
    "\n",
    "import os \n",
    "os.chdir('/Users/younghun/Desktop/gitrepo/data')"
   ]
  },
  {
   "cell_type": "markdown",
   "metadata": {},
   "source": [
    "# Load datasets\n",
    "\n",
    "## Movie-data"
   ]
  },
  {
   "cell_type": "code",
   "execution_count": 22,
   "metadata": {},
   "outputs": [
    {
     "name": "stdout",
     "output_type": "stream",
     "text": [
      "Shape of Netflix movie dataset : (17770, 2)\n"
     ]
    },
    {
     "data": {
      "text/html": [
       "<div>\n",
       "<style scoped>\n",
       "    .dataframe tbody tr th:only-of-type {\n",
       "        vertical-align: middle;\n",
       "    }\n",
       "\n",
       "    .dataframe tbody tr th {\n",
       "        vertical-align: top;\n",
       "    }\n",
       "\n",
       "    .dataframe thead th {\n",
       "        text-align: right;\n",
       "    }\n",
       "</style>\n",
       "<table border=\"1\" class=\"dataframe\">\n",
       "  <thead>\n",
       "    <tr style=\"text-align: right;\">\n",
       "      <th></th>\n",
       "      <th>Year</th>\n",
       "      <th>Name</th>\n",
       "    </tr>\n",
       "    <tr>\n",
       "      <th>Id</th>\n",
       "      <th></th>\n",
       "      <th></th>\n",
       "    </tr>\n",
       "  </thead>\n",
       "  <tbody>\n",
       "    <tr>\n",
       "      <th>4443</th>\n",
       "      <td>1989.0</td>\n",
       "      <td>City Hunter: .357 Magnum</td>\n",
       "    </tr>\n",
       "    <tr>\n",
       "      <th>2193</th>\n",
       "      <td>1960.0</td>\n",
       "      <td>The Wasp Woman/Attack of the Giant Leeches</td>\n",
       "    </tr>\n",
       "    <tr>\n",
       "      <th>17733</th>\n",
       "      <td>2002.0</td>\n",
       "      <td>13th Child: Legend of the Jersey Devil</td>\n",
       "    </tr>\n",
       "    <tr>\n",
       "      <th>1201</th>\n",
       "      <td>1991.0</td>\n",
       "      <td>True Colors</td>\n",
       "    </tr>\n",
       "    <tr>\n",
       "      <th>2917</th>\n",
       "      <td>2002.0</td>\n",
       "      <td>The Ocean's 11 Story</td>\n",
       "    </tr>\n",
       "  </tbody>\n",
       "</table>\n",
       "</div>"
      ],
      "text/plain": [
       "         Year                                        Name\n",
       "Id                                                       \n",
       "4443   1989.0                    City Hunter: .357 Magnum\n",
       "2193   1960.0  The Wasp Woman/Attack of the Giant Leeches\n",
       "17733  2002.0      13th Child: Legend of the Jersey Devil\n",
       "1201   1991.0                                 True Colors\n",
       "2917   2002.0                        The Ocean's 11 Story"
      ]
     },
     "execution_count": 22,
     "metadata": {},
     "output_type": "execute_result"
    }
   ],
   "source": [
    "# 넷플릭스에 있는 영화들 데이터( 변수이름 없어서 header=None 설정해야 함)\n",
    "#names로 header 직접 설정\n",
    "movie_titles = pd.read_csv(\"./netflix/movie_titles.csv\",\n",
    "                          encoding='ISO-8859-1',\n",
    "                          header= None,\n",
    "                          names=['Id','Year','Name']).set_index('Id')\n",
    "print(\"Shape of Netflix movie dataset :\", movie_titles.shape)\n",
    "# 5개 데이터 무작위로 샘플링해보기\n",
    "movie_titles.sample(5)"
   ]
  },
  {
   "cell_type": "code",
   "execution_count": 17,
   "metadata": {},
   "outputs": [
    {
     "name": "stdout",
     "output_type": "stream",
     "text": [
      "<class 'pandas.core.frame.DataFrame'>\n",
      "Int64Index: 17770 entries, 1 to 17770\n",
      "Data columns (total 2 columns):\n",
      " #   Column  Non-Null Count  Dtype  \n",
      "---  ------  --------------  -----  \n",
      " 0   Year    17763 non-null  float64\n",
      " 1   Name    17770 non-null  object \n",
      "dtypes: float64(1), object(1)\n",
      "memory usage: 416.5+ KB\n"
     ]
    }
   ],
   "source": [
    "movie_titles.info()"
   ]
  },
  {
   "cell_type": "code",
   "execution_count": 23,
   "metadata": {},
   "outputs": [
    {
     "name": "stderr",
     "output_type": "stream",
     "text": [
      "/Users/younghun/opt/anaconda3/envs/venvforpython/lib/python3.7/site-packages/IPython/core/interactiveshell.py:3072: DtypeWarning:\n",
      "\n",
      "Columns (10) have mixed types.Specify dtype option on import or set low_memory=False.\n",
      "\n"
     ]
    }
   ],
   "source": [
    "# low_memory=True이면 더 적은 메모리를 사용하여 데이터 로드를 하지만 \n",
    "# 변수별 dtype를 추론해 mixed type을 유발할 수 있음\n",
    "movie_metadata = pd.read_csv('./movie_dataset/movies_metadata.csv',\n",
    "                            low_memory=True)"
   ]
  },
  {
   "cell_type": "code",
   "execution_count": 32,
   "metadata": {},
   "outputs": [],
   "source": [
    "# 영화 제목, 영화에 대한 개요, vote_count 변수만 추출\n",
    "movie_metadata = pd.read_csv('./movie_dataset/movies_metadata.csv',\n",
    "                            low_memory=False)[['original_title',\n",
    "                                              'overview',\n",
    "                                              'vote_count']].set_index('original_title').dropna()"
   ]
  },
  {
   "cell_type": "code",
   "execution_count": 33,
   "metadata": {},
   "outputs": [
    {
     "name": "stdout",
     "output_type": "stream",
     "text": [
      "A shape of movie-metadata : (21604, 1)\n"
     ]
    },
    {
     "data": {
      "text/html": [
       "<div>\n",
       "<style scoped>\n",
       "    .dataframe tbody tr th:only-of-type {\n",
       "        vertical-align: middle;\n",
       "    }\n",
       "\n",
       "    .dataframe tbody tr th {\n",
       "        vertical-align: top;\n",
       "    }\n",
       "\n",
       "    .dataframe thead th {\n",
       "        text-align: right;\n",
       "    }\n",
       "</style>\n",
       "<table border=\"1\" class=\"dataframe\">\n",
       "  <thead>\n",
       "    <tr style=\"text-align: right;\">\n",
       "      <th></th>\n",
       "      <th>overview</th>\n",
       "    </tr>\n",
       "    <tr>\n",
       "      <th>original_title</th>\n",
       "      <th></th>\n",
       "    </tr>\n",
       "  </thead>\n",
       "  <tbody>\n",
       "    <tr>\n",
       "      <th>Wizards</th>\n",
       "      <td>An ambiguous battle between good and evil wage...</td>\n",
       "    </tr>\n",
       "    <tr>\n",
       "      <th>Винни-Пух</th>\n",
       "      <td>With a cheeky, down-to-earth charm that appeal...</td>\n",
       "    </tr>\n",
       "    <tr>\n",
       "      <th>Spartacus</th>\n",
       "      <td>Spartacus is a 1960 American historical drama ...</td>\n",
       "    </tr>\n",
       "    <tr>\n",
       "      <th>The Incredibly Strange Creatures Who Stopped Living and Became Mixed-Up Zombies!!?</th>\n",
       "      <td>Beatnick Jerry takes his girl, Angie to the ca...</td>\n",
       "    </tr>\n",
       "    <tr>\n",
       "      <th>How to Be a Man</th>\n",
       "      <td>When former comedian Mark McCarthy is faced wi...</td>\n",
       "    </tr>\n",
       "  </tbody>\n",
       "</table>\n",
       "</div>"
      ],
      "text/plain": [
       "                                                                                             overview\n",
       "original_title                                                                                       \n",
       "Wizards                                             An ambiguous battle between good and evil wage...\n",
       "Винни-Пух                                           With a cheeky, down-to-earth charm that appeal...\n",
       "Spartacus                                           Spartacus is a 1960 American historical drama ...\n",
       "The Incredibly Strange Creatures Who Stopped Li...  Beatnick Jerry takes his girl, Angie to the ca...\n",
       "How to Be a Man                                     When former comedian Mark McCarthy is faced wi..."
      ]
     },
     "execution_count": 33,
     "metadata": {},
     "output_type": "execute_result"
    }
   ],
   "source": [
    "# 거의 평가되지 않은 vote_count가 10이하인 long tail부분을 제거하기!\n",
    "# 그리고 vote_count 변수도 삭제\n",
    "movie_metadata = movie_metadata[movie_metadata['vote_count'] > 10].drop('vote_count', axis=1)\n",
    "print(\"A shape of movie-metadata :\", movie_metadata.shape)\n",
    "movie_metadata.sample(5)"
   ]
  },
  {
   "cell_type": "markdown",
   "metadata": {},
   "source": [
    "## User-data"
   ]
  },
  {
   "cell_type": "code",
   "execution_count": 40,
   "metadata": {},
   "outputs": [
    {
     "data": {
      "text/html": [
       "<div>\n",
       "<style scoped>\n",
       "    .dataframe tbody tr th:only-of-type {\n",
       "        vertical-align: middle;\n",
       "    }\n",
       "\n",
       "    .dataframe tbody tr th {\n",
       "        vertical-align: top;\n",
       "    }\n",
       "\n",
       "    .dataframe thead th {\n",
       "        text-align: right;\n",
       "    }\n",
       "</style>\n",
       "<table border=\"1\" class=\"dataframe\">\n",
       "  <thead>\n",
       "    <tr style=\"text-align: right;\">\n",
       "      <th></th>\n",
       "      <th>Movie</th>\n",
       "      <th>Rating</th>\n",
       "      <th>Date</th>\n",
       "    </tr>\n",
       "  </thead>\n",
       "  <tbody>\n",
       "    <tr>\n",
       "      <th>0</th>\n",
       "      <td>1488844</td>\n",
       "      <td>3.0</td>\n",
       "      <td>2005-09-06</td>\n",
       "    </tr>\n",
       "    <tr>\n",
       "      <th>1</th>\n",
       "      <td>822109</td>\n",
       "      <td>5.0</td>\n",
       "      <td>2005-05-13</td>\n",
       "    </tr>\n",
       "  </tbody>\n",
       "</table>\n",
       "</div>"
      ],
      "text/plain": [
       "     Movie  Rating        Date\n",
       "0  1488844     3.0  2005-09-06\n",
       "1   822109     5.0  2005-05-13"
      ]
     },
     "execution_count": 40,
     "metadata": {},
     "output_type": "execute_result"
    }
   ],
   "source": [
    "# usecols= list : 불러올 변수(변수 인덱스 or 변수 이름써도 됨)\n",
    "df_raw = pd.read_csv('./netflix/combined_data_1.txt',\n",
    "                    header=None,\n",
    "                    names=['Movie','Rating','Date'],\n",
    "                    usecols=[0, 1, 2])\n",
    "df_raw.head(2)"
   ]
  },
  {
   "cell_type": "code",
   "execution_count": 41,
   "metadata": {},
   "outputs": [
    {
     "data": {
      "text/html": [
       "<div>\n",
       "<style scoped>\n",
       "    .dataframe tbody tr th:only-of-type {\n",
       "        vertical-align: middle;\n",
       "    }\n",
       "\n",
       "    .dataframe tbody tr th {\n",
       "        vertical-align: top;\n",
       "    }\n",
       "\n",
       "    .dataframe thead th {\n",
       "        text-align: right;\n",
       "    }\n",
       "</style>\n",
       "<table border=\"1\" class=\"dataframe\">\n",
       "  <thead>\n",
       "    <tr style=\"text-align: right;\">\n",
       "      <th></th>\n",
       "      <th>index</th>\n",
       "      <th>Movie</th>\n",
       "    </tr>\n",
       "  </thead>\n",
       "  <tbody>\n",
       "    <tr>\n",
       "      <th>0</th>\n",
       "      <td>547</td>\n",
       "      <td>2:</td>\n",
       "    </tr>\n",
       "    <tr>\n",
       "      <th>1</th>\n",
       "      <td>693</td>\n",
       "      <td>3:</td>\n",
       "    </tr>\n",
       "    <tr>\n",
       "      <th>2</th>\n",
       "      <td>2706</td>\n",
       "      <td>4:</td>\n",
       "    </tr>\n",
       "  </tbody>\n",
       "</table>\n",
       "</div>"
      ],
      "text/plain": [
       "   index Movie\n",
       "0    547    2:\n",
       "1    693    3:\n",
       "2   2706    4:"
      ]
     },
     "execution_count": 41,
     "metadata": {},
     "output_type": "execute_result"
    }
   ],
   "source": [
    "# Rating이 비어있는 영화 찾기\n",
    "tmp_movies = df_raw[df_raw['Rating'].isnull()]['Movie'].reset_index()\n",
    "tmp_movies.head(3)"
   ]
  },
  {
   "cell_type": "code",
   "execution_count": 42,
   "metadata": {},
   "outputs": [],
   "source": [
    "# 영화 indices => [인덱스, 영화]\n",
    "# movie[:-1] 하는 이유는 colon(:) 빼고 추출하기 위한 것임!\n",
    "movie_indices = [[index, int(movie[:-1])] for index, movie in tmp_movies.values]"
   ]
  },
  {
   "cell_type": "code",
   "execution_count": 44,
   "metadata": {},
   "outputs": [],
   "source": [
    "# 처음 index를 맨 뒤 index로 보내기.. 왼쪽으로 한 칸 움직이기!\n",
    "from collections import deque\n",
    "shifted_movie_indices = deque(movie_indices)\n",
    "shifted_movie_indices.rotate(-1)"
   ]
  },
  {
   "cell_type": "code",
   "execution_count": null,
   "metadata": {},
   "outputs": [],
   "source": []
  }
 ],
 "metadata": {
  "hide_input": false,
  "kernelspec": {
   "display_name": "Python 3",
   "language": "python",
   "name": "python3"
  },
  "language_info": {
   "codemirror_mode": {
    "name": "ipython",
    "version": 3
   },
   "file_extension": ".py",
   "mimetype": "text/x-python",
   "name": "python",
   "nbconvert_exporter": "python",
   "pygments_lexer": "ipython3",
   "version": "3.7.7"
  },
  "toc": {
   "base_numbering": 1,
   "nav_menu": {},
   "number_sections": true,
   "sideBar": true,
   "skip_h1_title": false,
   "title_cell": "Table of Contents",
   "title_sidebar": "Contents",
   "toc_cell": false,
   "toc_position": {},
   "toc_section_display": true,
   "toc_window_display": false
  },
  "varInspector": {
   "cols": {
    "lenName": 16,
    "lenType": 16,
    "lenVar": 40
   },
   "kernels_config": {
    "python": {
     "delete_cmd_postfix": "",
     "delete_cmd_prefix": "del ",
     "library": "var_list.py",
     "varRefreshCmd": "print(var_dic_list())"
    },
    "r": {
     "delete_cmd_postfix": ") ",
     "delete_cmd_prefix": "rm(",
     "library": "var_list.r",
     "varRefreshCmd": "cat(var_dic_list()) "
    }
   },
   "types_to_exclude": [
    "module",
    "function",
    "builtin_function_or_method",
    "instance",
    "_Feature"
   ],
   "window_display": false
  }
 },
 "nbformat": 4,
 "nbformat_minor": 4
}
