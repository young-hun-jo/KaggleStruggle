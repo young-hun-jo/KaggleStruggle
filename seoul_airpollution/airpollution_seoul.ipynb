{
 "cells": [
  {
   "cell_type": "markdown",
   "metadata": {},
   "source": [
    "# 서울 대기오염 데이터 분석"
   ]
  },
  {
   "cell_type": "markdown",
   "metadata": {},
   "source": [
    "## 데이터 도메인 파악"
   ]
  },
  {
   "cell_type": "code",
   "execution_count": 1,
   "metadata": {},
   "outputs": [],
   "source": [
    "import pandas as pd\n",
    "import numpy as np\n",
    "import matplotlib.pyplot as plt"
   ]
  },
  {
   "cell_type": "code",
   "execution_count": 2,
   "metadata": {},
   "outputs": [
    {
     "data": {
      "text/plain": [
       "(647511, 11)"
      ]
     },
     "execution_count": 2,
     "metadata": {},
     "output_type": "execute_result"
    }
   ],
   "source": [
    "# 데이터로드\n",
    "data = pd.read_csv(\"C:/Users/joyh1/Desktop/GitRepo/data/Measurement_summary.csv\")\n",
    "data.shape"
   ]
  },
  {
   "cell_type": "code",
   "execution_count": 3,
   "metadata": {},
   "outputs": [
    {
     "data": {
      "text/html": [
       "<div>\n",
       "<style scoped>\n",
       "    .dataframe tbody tr th:only-of-type {\n",
       "        vertical-align: middle;\n",
       "    }\n",
       "\n",
       "    .dataframe tbody tr th {\n",
       "        vertical-align: top;\n",
       "    }\n",
       "\n",
       "    .dataframe thead th {\n",
       "        text-align: right;\n",
       "    }\n",
       "</style>\n",
       "<table border=\"1\" class=\"dataframe\">\n",
       "  <thead>\n",
       "    <tr style=\"text-align: right;\">\n",
       "      <th></th>\n",
       "      <th>Measurement date</th>\n",
       "      <th>Station code</th>\n",
       "      <th>Address</th>\n",
       "      <th>Latitude</th>\n",
       "      <th>Longitude</th>\n",
       "      <th>SO2</th>\n",
       "      <th>NO2</th>\n",
       "      <th>O3</th>\n",
       "      <th>CO</th>\n",
       "      <th>PM10</th>\n",
       "      <th>PM2.5</th>\n",
       "    </tr>\n",
       "  </thead>\n",
       "  <tbody>\n",
       "    <tr>\n",
       "      <th>0</th>\n",
       "      <td>2017-01-01 00:00</td>\n",
       "      <td>101</td>\n",
       "      <td>19, Jong-ro 35ga-gil, Jongno-gu, Seoul, Republ...</td>\n",
       "      <td>37.572016</td>\n",
       "      <td>127.005007</td>\n",
       "      <td>0.004</td>\n",
       "      <td>0.059</td>\n",
       "      <td>0.002</td>\n",
       "      <td>1.2</td>\n",
       "      <td>73.0</td>\n",
       "      <td>57.0</td>\n",
       "    </tr>\n",
       "    <tr>\n",
       "      <th>1</th>\n",
       "      <td>2017-01-01 01:00</td>\n",
       "      <td>101</td>\n",
       "      <td>19, Jong-ro 35ga-gil, Jongno-gu, Seoul, Republ...</td>\n",
       "      <td>37.572016</td>\n",
       "      <td>127.005007</td>\n",
       "      <td>0.004</td>\n",
       "      <td>0.058</td>\n",
       "      <td>0.002</td>\n",
       "      <td>1.2</td>\n",
       "      <td>71.0</td>\n",
       "      <td>59.0</td>\n",
       "    </tr>\n",
       "    <tr>\n",
       "      <th>2</th>\n",
       "      <td>2017-01-01 02:00</td>\n",
       "      <td>101</td>\n",
       "      <td>19, Jong-ro 35ga-gil, Jongno-gu, Seoul, Republ...</td>\n",
       "      <td>37.572016</td>\n",
       "      <td>127.005007</td>\n",
       "      <td>0.004</td>\n",
       "      <td>0.056</td>\n",
       "      <td>0.002</td>\n",
       "      <td>1.2</td>\n",
       "      <td>70.0</td>\n",
       "      <td>59.0</td>\n",
       "    </tr>\n",
       "    <tr>\n",
       "      <th>3</th>\n",
       "      <td>2017-01-01 03:00</td>\n",
       "      <td>101</td>\n",
       "      <td>19, Jong-ro 35ga-gil, Jongno-gu, Seoul, Republ...</td>\n",
       "      <td>37.572016</td>\n",
       "      <td>127.005007</td>\n",
       "      <td>0.004</td>\n",
       "      <td>0.056</td>\n",
       "      <td>0.002</td>\n",
       "      <td>1.2</td>\n",
       "      <td>70.0</td>\n",
       "      <td>58.0</td>\n",
       "    </tr>\n",
       "    <tr>\n",
       "      <th>4</th>\n",
       "      <td>2017-01-01 04:00</td>\n",
       "      <td>101</td>\n",
       "      <td>19, Jong-ro 35ga-gil, Jongno-gu, Seoul, Republ...</td>\n",
       "      <td>37.572016</td>\n",
       "      <td>127.005007</td>\n",
       "      <td>0.003</td>\n",
       "      <td>0.051</td>\n",
       "      <td>0.002</td>\n",
       "      <td>1.2</td>\n",
       "      <td>69.0</td>\n",
       "      <td>61.0</td>\n",
       "    </tr>\n",
       "  </tbody>\n",
       "</table>\n",
       "</div>"
      ],
      "text/plain": [
       "   Measurement date  Station code  \\\n",
       "0  2017-01-01 00:00           101   \n",
       "1  2017-01-01 01:00           101   \n",
       "2  2017-01-01 02:00           101   \n",
       "3  2017-01-01 03:00           101   \n",
       "4  2017-01-01 04:00           101   \n",
       "\n",
       "                                             Address   Latitude   Longitude  \\\n",
       "0  19, Jong-ro 35ga-gil, Jongno-gu, Seoul, Republ...  37.572016  127.005007   \n",
       "1  19, Jong-ro 35ga-gil, Jongno-gu, Seoul, Republ...  37.572016  127.005007   \n",
       "2  19, Jong-ro 35ga-gil, Jongno-gu, Seoul, Republ...  37.572016  127.005007   \n",
       "3  19, Jong-ro 35ga-gil, Jongno-gu, Seoul, Republ...  37.572016  127.005007   \n",
       "4  19, Jong-ro 35ga-gil, Jongno-gu, Seoul, Republ...  37.572016  127.005007   \n",
       "\n",
       "     SO2    NO2     O3   CO  PM10  PM2.5  \n",
       "0  0.004  0.059  0.002  1.2  73.0   57.0  \n",
       "1  0.004  0.058  0.002  1.2  71.0   59.0  \n",
       "2  0.004  0.056  0.002  1.2  70.0   59.0  \n",
       "3  0.004  0.056  0.002  1.2  70.0   58.0  \n",
       "4  0.003  0.051  0.002  1.2  69.0   61.0  "
      ]
     },
     "execution_count": 3,
     "metadata": {},
     "output_type": "execute_result"
    }
   ],
   "source": [
    "data.head()"
   ]
  },
  {
   "cell_type": "markdown",
   "metadata": {},
   "source": [
    "### 데이터 칼럼에 대한 도메인 지식 확보\n",
    "\n",
    "- SO2 : 이산화 황은 화학식 SO₂인 무기 화합물이며, 아황산 가스, 무수 아황산이라고도 부른다. 산소 원자 2개와 황 원자 1개가 결합되어 있다. **색깔이 없으며 자극적인 냄새가 나는 유독성 기체**이다. 화산 활동이나 유기 물질이 분해될 때 자연적으로 생긴다.\n",
    "    * <기준>\n",
    "        - 좋음 : 0~0.03\n",
    "        - 보통 : 0.031~0.06\n",
    "        - 나쁨 : 0.061~0.2\n",
    "        - 매우나쁨 : 0.201이상\n",
    "\n",
    "- NO2 : 이산화 질소는 질소와 산소로 이루어진 화합물이다. 분자식은 NO₂이다. 산화 질소(IV), 과산화 질소라고도 하는데, 사산화 이질소 역시 이 명칭으로 불릴 수 있다. **독성이 있는 적갈색의 기체이다.** \n",
    "    * <기준>\n",
    "        - 좋음 : 0~0.02\n",
    "        - 보통 : 0.021~0.05\n",
    "        - 나쁨 : 0.051~0.15\n",
    "        - 매우나쁨 : 0.151이상\n",
    "\n",
    "- O3 : 오존은 일반 산소보다 산화력이 훨씬 강해 살균, 악취 제거에 이용된다. 흔하지는 않지만 부산이나 대구 상수도의 소독에도 쓰인다. **0.1%이상의 고농도 오존은 매우 위험**한데, 오존발생기를 통과하여 일부가 오존으로 변한 산소 플로우에 라텍스나 네오프렌으로 된 실험용 장갑을 갖다대면 몇 초만에 삭아 걸레짝이 될 정도로 높다.\n",
    "    * <기준>\n",
    "        - 좋음 : 0~0.030\n",
    "        - 보통 : 0.031~0.090\n",
    "        - 나쁨 : 0.091~0.150\n",
    "        - 매우나쁨 : 0.151이상\n",
    "        \n",
    "- CO : 일산화탄소. 가연성이며 독성이 있어서 취급에 주의가 필요하다. 산소보다 헤모글로빈과의 친화력이 200배 정도 더 좋기 때문에 소량 흡입시에도 호흡 대사를 방해하여 생명 유지가 어려울 수 있으므로 주의해야 한다.\n",
    "    * <기준>\n",
    "        - 좋음 : 0~2\n",
    "        - 보통 : 2.01~9\n",
    "        - 나쁨 : 9.01~15\n",
    "        - 매우나쁨 : 15.01이상\n",
    "        \n",
    "- PM10 : 지름이 10마이크로센치인 부유먼지 => 상기도까지 감염\n",
    "    - 토양성분이 주를 이루는 황사같은 것\n",
    "- PM2.5 : 지름이 2.5마이크로센치인 미세먼지 => 폐의 폐포까지 감염(더 깊게 감염됨)\n",
    "    - 발전소나 공장, 자동차와 같은 오염원\n",
    "    * <기준>\n",
    "        - 좋음 : 0~30\n",
    "        - 보통 : 31~80\n",
    "        - 나쁨 : 81~150\n",
    "        - 매우나쁨 : 151이상\n",
    "* 참고로 미세먼지는 PM1.0 또는 PM0.5로 나타냄         \n"
   ]
  },
  {
   "cell_type": "code",
   "execution_count": 4,
   "metadata": {},
   "outputs": [
    {
     "name": "stdout",
     "output_type": "stream",
     "text": [
      "<class 'pandas.core.frame.DataFrame'>\n",
      "RangeIndex: 647511 entries, 0 to 647510\n",
      "Data columns (total 11 columns):\n",
      " #   Column            Non-Null Count   Dtype  \n",
      "---  ------            --------------   -----  \n",
      " 0   Measurement date  647511 non-null  object \n",
      " 1   Station code      647511 non-null  int64  \n",
      " 2   Address           647511 non-null  object \n",
      " 3   Latitude          647511 non-null  float64\n",
      " 4   Longitude         647511 non-null  float64\n",
      " 5   SO2               647511 non-null  float64\n",
      " 6   NO2               647511 non-null  float64\n",
      " 7   O3                647511 non-null  float64\n",
      " 8   CO                647511 non-null  float64\n",
      " 9   PM10              647511 non-null  float64\n",
      " 10  PM2.5             647511 non-null  float64\n",
      "dtypes: float64(8), int64(1), object(2)\n",
      "memory usage: 54.3+ MB\n"
     ]
    }
   ],
   "source": [
    "data.info()"
   ]
  },
  {
   "cell_type": "code",
   "execution_count": 5,
   "metadata": {},
   "outputs": [],
   "source": [
    "# 칼럼명 한국어로 바꾸기\n",
    "data.columns = ['측정일자','station_code','주소','위도','경도','아황산가스','이산화질소',\n",
    "               '오존','일산화탄소','부유먼지','미세먼지']"
   ]
  },
  {
   "cell_type": "code",
   "execution_count": 6,
   "metadata": {},
   "outputs": [
    {
     "data": {
      "text/html": [
       "<div>\n",
       "<style scoped>\n",
       "    .dataframe tbody tr th:only-of-type {\n",
       "        vertical-align: middle;\n",
       "    }\n",
       "\n",
       "    .dataframe tbody tr th {\n",
       "        vertical-align: top;\n",
       "    }\n",
       "\n",
       "    .dataframe thead th {\n",
       "        text-align: right;\n",
       "    }\n",
       "</style>\n",
       "<table border=\"1\" class=\"dataframe\">\n",
       "  <thead>\n",
       "    <tr style=\"text-align: right;\">\n",
       "      <th></th>\n",
       "      <th>측정일자</th>\n",
       "      <th>station_code</th>\n",
       "      <th>주소</th>\n",
       "      <th>위도</th>\n",
       "      <th>경도</th>\n",
       "      <th>아황산가스</th>\n",
       "      <th>이산화질소</th>\n",
       "      <th>오존</th>\n",
       "      <th>일산화탄소</th>\n",
       "      <th>부유먼지</th>\n",
       "      <th>미세먼지</th>\n",
       "    </tr>\n",
       "  </thead>\n",
       "  <tbody>\n",
       "    <tr>\n",
       "      <th>0</th>\n",
       "      <td>2017-01-01 00:00</td>\n",
       "      <td>101</td>\n",
       "      <td>19, Jong-ro 35ga-gil, Jongno-gu, Seoul, Republ...</td>\n",
       "      <td>37.572016</td>\n",
       "      <td>127.005007</td>\n",
       "      <td>0.004</td>\n",
       "      <td>0.059</td>\n",
       "      <td>0.002</td>\n",
       "      <td>1.2</td>\n",
       "      <td>73.0</td>\n",
       "      <td>57.0</td>\n",
       "    </tr>\n",
       "  </tbody>\n",
       "</table>\n",
       "</div>"
      ],
      "text/plain": [
       "               측정일자  station_code  \\\n",
       "0  2017-01-01 00:00           101   \n",
       "\n",
       "                                                  주소         위도          경도  \\\n",
       "0  19, Jong-ro 35ga-gil, Jongno-gu, Seoul, Republ...  37.572016  127.005007   \n",
       "\n",
       "   아황산가스  이산화질소     오존  일산화탄소  부유먼지  미세먼지  \n",
       "0  0.004  0.059  0.002    1.2  73.0  57.0  "
      ]
     },
     "execution_count": 6,
     "metadata": {},
     "output_type": "execute_result"
    }
   ],
   "source": [
    "data.head(1)"
   ]
  },
  {
   "cell_type": "code",
   "execution_count": 7,
   "metadata": {},
   "outputs": [
    {
     "data": {
      "text/plain": [
       "array([101, 102, 103, 104, 105, 106, 107, 108, 109, 110, 111, 112, 113,\n",
       "       114, 115, 116, 117, 118, 119, 120, 121, 122, 123, 124, 125],\n",
       "      dtype=int64)"
      ]
     },
     "execution_count": 7,
     "metadata": {},
     "output_type": "execute_result"
    }
   ],
   "source": [
    "# station_code 칼럼 종류보고 필요있는 칼럼인지 판단 => 서울 내부 세부적인 지역에 따라 구분\n",
    "data['station_code'].unique()"
   ]
  },
  {
   "cell_type": "code",
   "execution_count": 8,
   "metadata": {},
   "outputs": [
    {
     "data": {
      "text/html": [
       "<div>\n",
       "<style scoped>\n",
       "    .dataframe tbody tr th:only-of-type {\n",
       "        vertical-align: middle;\n",
       "    }\n",
       "\n",
       "    .dataframe tbody tr th {\n",
       "        vertical-align: top;\n",
       "    }\n",
       "\n",
       "    .dataframe thead th {\n",
       "        text-align: right;\n",
       "    }\n",
       "</style>\n",
       "<table border=\"1\" class=\"dataframe\">\n",
       "  <thead>\n",
       "    <tr style=\"text-align: right;\">\n",
       "      <th></th>\n",
       "      <th>측정일자</th>\n",
       "      <th>주소</th>\n",
       "      <th>위도</th>\n",
       "      <th>경도</th>\n",
       "      <th>아황산가스</th>\n",
       "      <th>이산화질소</th>\n",
       "      <th>오존</th>\n",
       "      <th>일산화탄소</th>\n",
       "      <th>부유먼지</th>\n",
       "      <th>미세먼지</th>\n",
       "    </tr>\n",
       "  </thead>\n",
       "  <tbody>\n",
       "    <tr>\n",
       "      <th>0</th>\n",
       "      <td>2017-01-01 00:00</td>\n",
       "      <td>19, Jong-ro 35ga-gil, Jongno-gu, Seoul, Republ...</td>\n",
       "      <td>37.572016</td>\n",
       "      <td>127.005007</td>\n",
       "      <td>0.004</td>\n",
       "      <td>0.059</td>\n",
       "      <td>0.002</td>\n",
       "      <td>1.2</td>\n",
       "      <td>73.0</td>\n",
       "      <td>57.0</td>\n",
       "    </tr>\n",
       "  </tbody>\n",
       "</table>\n",
       "</div>"
      ],
      "text/plain": [
       "               측정일자                                                 주소  \\\n",
       "0  2017-01-01 00:00  19, Jong-ro 35ga-gil, Jongno-gu, Seoul, Republ...   \n",
       "\n",
       "          위도          경도  아황산가스  이산화질소     오존  일산화탄소  부유먼지  미세먼지  \n",
       "0  37.572016  127.005007  0.004  0.059  0.002    1.2  73.0  57.0  "
      ]
     },
     "execution_count": 8,
     "metadata": {},
     "output_type": "execute_result"
    }
   ],
   "source": [
    "# station_code 칼럼 삭제\n",
    "data = data.drop('station_code', axis=1)\n",
    "data.head(1)"
   ]
  },
  {
   "cell_type": "code",
   "execution_count": 9,
   "metadata": {},
   "outputs": [
    {
     "data": {
      "text/plain": [
       "측정일자     datetime64[ns]\n",
       "주소               object\n",
       "위도              float64\n",
       "경도              float64\n",
       "아황산가스           float64\n",
       "이산화질소           float64\n",
       "오존              float64\n",
       "일산화탄소           float64\n",
       "부유먼지            float64\n",
       "미세먼지            float64\n",
       "dtype: object"
      ]
     },
     "execution_count": 9,
     "metadata": {},
     "output_type": "execute_result"
    }
   ],
   "source": [
    "# 측정일자 Datetime으로 변환\n",
    "# 00:00 이것 때문에 바로 datatime 변화불가라 split으로 나누고 날짜에 해당하는 부분만 출력\n",
    "# 그리고 datetime으로 변환\n",
    "data['측정일자'] =data['측정일자'].str.split(\" \", expand=True)[0]\n",
    "data['측정일자'] = pd.to_datetime(data['측정일자'])\n",
    "data.dtypes"
   ]
  },
  {
   "cell_type": "code",
   "execution_count": 10,
   "metadata": {},
   "outputs": [
    {
     "data": {
      "text/html": [
       "<div>\n",
       "<style scoped>\n",
       "    .dataframe tbody tr th:only-of-type {\n",
       "        vertical-align: middle;\n",
       "    }\n",
       "\n",
       "    .dataframe tbody tr th {\n",
       "        vertical-align: top;\n",
       "    }\n",
       "\n",
       "    .dataframe thead th {\n",
       "        text-align: right;\n",
       "    }\n",
       "</style>\n",
       "<table border=\"1\" class=\"dataframe\">\n",
       "  <thead>\n",
       "    <tr style=\"text-align: right;\">\n",
       "      <th></th>\n",
       "      <th>측정일자</th>\n",
       "      <th>주소</th>\n",
       "      <th>위도</th>\n",
       "      <th>경도</th>\n",
       "      <th>아황산가스</th>\n",
       "      <th>이산화질소</th>\n",
       "      <th>오존</th>\n",
       "      <th>일산화탄소</th>\n",
       "      <th>부유먼지</th>\n",
       "      <th>미세먼지</th>\n",
       "      <th>구군</th>\n",
       "    </tr>\n",
       "  </thead>\n",
       "  <tbody>\n",
       "    <tr>\n",
       "      <th>0</th>\n",
       "      <td>2017-01-01</td>\n",
       "      <td>19, Jong-ro 35ga-gil, Jongno-gu, Seoul, Republ...</td>\n",
       "      <td>37.572016</td>\n",
       "      <td>127.005007</td>\n",
       "      <td>0.004</td>\n",
       "      <td>0.059</td>\n",
       "      <td>0.002</td>\n",
       "      <td>1.2</td>\n",
       "      <td>73.0</td>\n",
       "      <td>57.0</td>\n",
       "      <td>Jongno-gu</td>\n",
       "    </tr>\n",
       "  </tbody>\n",
       "</table>\n",
       "</div>"
      ],
      "text/plain": [
       "        측정일자                                                 주소         위도  \\\n",
       "0 2017-01-01  19, Jong-ro 35ga-gil, Jongno-gu, Seoul, Republ...  37.572016   \n",
       "\n",
       "           경도  아황산가스  이산화질소     오존  일산화탄소  부유먼지  미세먼지          구군  \n",
       "0  127.005007  0.004  0.059  0.002    1.2  73.0  57.0   Jongno-gu  "
      ]
     },
     "execution_count": 10,
     "metadata": {},
     "output_type": "execute_result"
    }
   ],
   "source": [
    "# '주소' 칼럼에서 구군 칼럼 추가\n",
    "data['구군'] = data['주소'].str.split(\",\", expand=True)[2]\n",
    "data.head(1)"
   ]
  },
  {
   "cell_type": "code",
   "execution_count": 11,
   "metadata": {},
   "outputs": [
    {
     "data": {
      "text/html": [
       "<div>\n",
       "<style scoped>\n",
       "    .dataframe tbody tr th:only-of-type {\n",
       "        vertical-align: middle;\n",
       "    }\n",
       "\n",
       "    .dataframe tbody tr th {\n",
       "        vertical-align: top;\n",
       "    }\n",
       "\n",
       "    .dataframe thead th {\n",
       "        text-align: right;\n",
       "    }\n",
       "</style>\n",
       "<table border=\"1\" class=\"dataframe\">\n",
       "  <thead>\n",
       "    <tr style=\"text-align: right;\">\n",
       "      <th></th>\n",
       "      <th>측정일자</th>\n",
       "      <th>주소</th>\n",
       "      <th>위도</th>\n",
       "      <th>경도</th>\n",
       "      <th>아황산가스</th>\n",
       "      <th>이산화질소</th>\n",
       "      <th>오존</th>\n",
       "      <th>일산화탄소</th>\n",
       "      <th>부유먼지</th>\n",
       "      <th>미세먼지</th>\n",
       "      <th>구군</th>\n",
       "      <th>시도</th>\n",
       "    </tr>\n",
       "  </thead>\n",
       "  <tbody>\n",
       "    <tr>\n",
       "      <th>0</th>\n",
       "      <td>2017-01-01</td>\n",
       "      <td>19, Jong-ro 35ga-gil, Jongno-gu, Seoul, Republ...</td>\n",
       "      <td>37.572016</td>\n",
       "      <td>127.005007</td>\n",
       "      <td>0.004</td>\n",
       "      <td>0.059</td>\n",
       "      <td>0.002</td>\n",
       "      <td>1.2</td>\n",
       "      <td>73.0</td>\n",
       "      <td>57.0</td>\n",
       "      <td>Jongno-gu</td>\n",
       "      <td>Seoul</td>\n",
       "    </tr>\n",
       "  </tbody>\n",
       "</table>\n",
       "</div>"
      ],
      "text/plain": [
       "        측정일자                                                 주소         위도  \\\n",
       "0 2017-01-01  19, Jong-ro 35ga-gil, Jongno-gu, Seoul, Republ...  37.572016   \n",
       "\n",
       "           경도  아황산가스  이산화질소     오존  일산화탄소  부유먼지  미세먼지          구군      시도  \n",
       "0  127.005007  0.004  0.059  0.002    1.2  73.0  57.0   Jongno-gu   Seoul  "
      ]
     },
     "execution_count": 11,
     "metadata": {},
     "output_type": "execute_result"
    }
   ],
   "source": [
    "# '주소' 칼럼에서 시도인 'Seoul'만 빼서 새로운 칼럼 '시도'에 넣기\n",
    "data['시도'] = data['주소'].str.split(\",\",expand=True)[3]\n",
    "data.head(1)"
   ]
  },
  {
   "cell_type": "code",
   "execution_count": 12,
   "metadata": {},
   "outputs": [
    {
     "data": {
      "text/plain": [
       "측정일자     0\n",
       "주소       0\n",
       "위도       0\n",
       "경도       0\n",
       "아황산가스    0\n",
       "이산화질소    0\n",
       "오존       0\n",
       "일산화탄소    0\n",
       "부유먼지     0\n",
       "미세먼지     0\n",
       "구군       0\n",
       "시도       0\n",
       "dtype: int64"
      ]
     },
     "execution_count": 12,
     "metadata": {},
     "output_type": "execute_result"
    }
   ],
   "source": [
    "# 데이터 결측치 확인\n",
    "data.isnull().sum()\n",
    "\n",
    "# 결측치 없음"
   ]
  },
  {
   "cell_type": "code",
   "execution_count": 13,
   "metadata": {},
   "outputs": [
    {
     "data": {
      "text/html": [
       "<div>\n",
       "<style scoped>\n",
       "    .dataframe tbody tr th:only-of-type {\n",
       "        vertical-align: middle;\n",
       "    }\n",
       "\n",
       "    .dataframe tbody tr th {\n",
       "        vertical-align: top;\n",
       "    }\n",
       "\n",
       "    .dataframe thead th {\n",
       "        text-align: right;\n",
       "    }\n",
       "</style>\n",
       "<table border=\"1\" class=\"dataframe\">\n",
       "  <thead>\n",
       "    <tr style=\"text-align: right;\">\n",
       "      <th></th>\n",
       "      <th>측정일자</th>\n",
       "      <th>주소</th>\n",
       "      <th>위도</th>\n",
       "      <th>경도</th>\n",
       "      <th>아황산가스</th>\n",
       "      <th>이산화질소</th>\n",
       "      <th>오존</th>\n",
       "      <th>일산화탄소</th>\n",
       "      <th>부유먼지</th>\n",
       "      <th>미세먼지</th>\n",
       "      <th>구군</th>\n",
       "      <th>시도</th>\n",
       "      <th>연도</th>\n",
       "      <th>월</th>\n",
       "    </tr>\n",
       "  </thead>\n",
       "  <tbody>\n",
       "    <tr>\n",
       "      <th>0</th>\n",
       "      <td>2017-01-01</td>\n",
       "      <td>19, Jong-ro 35ga-gil, Jongno-gu, Seoul, Republ...</td>\n",
       "      <td>37.572016</td>\n",
       "      <td>127.005007</td>\n",
       "      <td>0.004</td>\n",
       "      <td>0.059</td>\n",
       "      <td>0.002</td>\n",
       "      <td>1.2</td>\n",
       "      <td>73.0</td>\n",
       "      <td>57.0</td>\n",
       "      <td>Jongno-gu</td>\n",
       "      <td>Seoul</td>\n",
       "      <td>2017</td>\n",
       "      <td>1</td>\n",
       "    </tr>\n",
       "  </tbody>\n",
       "</table>\n",
       "</div>"
      ],
      "text/plain": [
       "        측정일자                                                 주소         위도  \\\n",
       "0 2017-01-01  19, Jong-ro 35ga-gil, Jongno-gu, Seoul, Republ...  37.572016   \n",
       "\n",
       "           경도  아황산가스  이산화질소     오존  일산화탄소  부유먼지  미세먼지          구군      시도  \\\n",
       "0  127.005007  0.004  0.059  0.002    1.2  73.0  57.0   Jongno-gu   Seoul   \n",
       "\n",
       "     연도  월  \n",
       "0  2017  1  "
      ]
     },
     "execution_count": 13,
     "metadata": {},
     "output_type": "execute_result"
    }
   ],
   "source": [
    "# 측정일자에서 년도/월 새로운 칼럼 2개 만들기\n",
    "data['연도'] = data['측정일자'].dt.year\n",
    "data['월'] = data['측정일자'].dt.month\n",
    "data.head(1)"
   ]
  },
  {
   "cell_type": "code",
   "execution_count": 14,
   "metadata": {},
   "outputs": [
    {
     "name": "stdout",
     "output_type": "stream",
     "text": [
      "[2017 2018 2019]\n"
     ]
    }
   ],
   "source": [
    "# 몇년도부터 몇년치의 데이터가 있는지 보기\n",
    "print(data['연도'].unique())"
   ]
  },
  {
   "cell_type": "code",
   "execution_count": 15,
   "metadata": {},
   "outputs": [
    {
     "name": "stdout",
     "output_type": "stream",
     "text": [
      "[' Jongno-gu' ' Jung-gu' ' Yongsan-gu' ' Eunpyeong-gu' ' Seodaemun-gu'\n",
      " ' Mapo-gu' ' Seongdong-gu' ' Gwangjin-gu' ' Dongdaemun-gu' ' Jungnang-gu'\n",
      " ' Seongbuk-gu' ' Gangbuk-gu' ' Dobong-gu' ' Nowon-gu' ' Yangcheon-gu'\n",
      " ' Gangseo-gu' ' Guro-gu' ' Geumcheon-gu' ' Yeongdeungpo-gu' ' Dongjak-gu'\n",
      " ' Gwanak-gu' ' Seocho-gu' ' Gangnam-gu' ' Songpa-gu' ' Gangdong-gu']\n"
     ]
    }
   ],
   "source": [
    "# 서울시 내 몇 개의 구군이 있는지 확인\n",
    "print(data['구군'].unique())"
   ]
  },
  {
   "cell_type": "code",
   "execution_count": 16,
   "metadata": {},
   "outputs": [
    {
     "data": {
      "text/plain": [
       "array(['Jongno-gu', 'Jung-gu', 'Yongsan-gu', 'Eunpyeong-gu',\n",
       "       'Seodaemun-gu', 'Mapo-gu', 'Seongdong-gu', 'Gwangjin-gu',\n",
       "       'Dongdaemun-gu', 'Jungnang-gu', 'Seongbuk-gu', 'Gangbuk-gu',\n",
       "       'Dobong-gu', 'Nowon-gu', 'Yangcheon-gu', 'Gangseo-gu', 'Guro-gu',\n",
       "       'Geumcheon-gu', 'Yeongdeungpo-gu', 'Dongjak-gu', 'Gwanak-gu',\n",
       "       'Seocho-gu', 'Gangnam-gu', 'Songpa-gu', 'Gangdong-gu'],\n",
       "      dtype=object)"
      ]
     },
     "execution_count": 16,
     "metadata": {},
     "output_type": "execute_result"
    }
   ],
   "source": [
    "# 구군 값(문자열)에 공백이 있는 거 같으 strip함수로 한 번 없애주고 확인\n",
    "data['구군'] = data['구군'].str.strip()\n",
    "data['구군'].unique()"
   ]
  },
  {
   "cell_type": "markdown",
   "metadata": {},
   "source": [
    "### 서울시 내 구군별로 어떤 대기오염이 심한지 나타내보자"
   ]
  },
  {
   "cell_type": "code",
   "execution_count": 17,
   "metadata": {
    "scrolled": true
   },
   "outputs": [
    {
     "data": {
      "text/plain": [
       "Index(['측정일자', '주소', '위도', '경도', '아황산가스', '이산화질소', '오존', '일산화탄소', '부유먼지',\n",
       "       '미세먼지', '구군', '시도', '연도', '월'],\n",
       "      dtype='object')"
      ]
     },
     "execution_count": 17,
     "metadata": {},
     "output_type": "execute_result"
    }
   ],
   "source": [
    "data.columns"
   ]
  },
  {
   "cell_type": "code",
   "execution_count": 18,
   "metadata": {},
   "outputs": [],
   "source": [
    "# 경고메세지 무시\n",
    "import warnings\n",
    "warnings.filterwarnings(action='ignore')"
   ]
  },
  {
   "cell_type": "code",
   "execution_count": 19,
   "metadata": {},
   "outputs": [
    {
     "data": {
      "text/html": [
       "<div>\n",
       "<style scoped>\n",
       "    .dataframe tbody tr th:only-of-type {\n",
       "        vertical-align: middle;\n",
       "    }\n",
       "\n",
       "    .dataframe tbody tr th {\n",
       "        vertical-align: top;\n",
       "    }\n",
       "\n",
       "    .dataframe thead th {\n",
       "        text-align: right;\n",
       "    }\n",
       "</style>\n",
       "<table border=\"1\" class=\"dataframe\">\n",
       "  <thead>\n",
       "    <tr style=\"text-align: right;\">\n",
       "      <th></th>\n",
       "      <th>아황산가스</th>\n",
       "      <th>이산화질소</th>\n",
       "      <th>오존</th>\n",
       "      <th>일산화탄소</th>\n",
       "      <th>부유먼지</th>\n",
       "      <th>미세먼지</th>\n",
       "    </tr>\n",
       "    <tr>\n",
       "      <th>구군</th>\n",
       "      <th></th>\n",
       "      <th></th>\n",
       "      <th></th>\n",
       "      <th></th>\n",
       "      <th></th>\n",
       "      <th></th>\n",
       "    </tr>\n",
       "  </thead>\n",
       "  <tbody>\n",
       "    <tr>\n",
       "      <th>Dobong-gu</th>\n",
       "      <td>0.000913</td>\n",
       "      <td>0.018949</td>\n",
       "      <td>0.023604</td>\n",
       "      <td>0.572814</td>\n",
       "      <td>43.294415</td>\n",
       "      <td>25.733277</td>\n",
       "    </tr>\n",
       "    <tr>\n",
       "      <th>Dongdaemun-gu</th>\n",
       "      <td>-0.014647</td>\n",
       "      <td>0.009495</td>\n",
       "      <td>0.002446</td>\n",
       "      <td>0.490542</td>\n",
       "      <td>38.269958</td>\n",
       "      <td>22.692596</td>\n",
       "    </tr>\n",
       "    <tr>\n",
       "      <th>Dongjak-gu</th>\n",
       "      <td>-0.000509</td>\n",
       "      <td>0.027914</td>\n",
       "      <td>0.022945</td>\n",
       "      <td>0.470626</td>\n",
       "      <td>41.655441</td>\n",
       "      <td>24.373021</td>\n",
       "    </tr>\n",
       "    <tr>\n",
       "      <th>Eunpyeong-gu</th>\n",
       "      <td>-0.010560</td>\n",
       "      <td>0.009730</td>\n",
       "      <td>0.012924</td>\n",
       "      <td>0.526560</td>\n",
       "      <td>42.328468</td>\n",
       "      <td>24.890639</td>\n",
       "    </tr>\n",
       "    <tr>\n",
       "      <th>Gangbuk-gu</th>\n",
       "      <td>0.002712</td>\n",
       "      <td>0.021196</td>\n",
       "      <td>0.027543</td>\n",
       "      <td>0.462328</td>\n",
       "      <td>38.830643</td>\n",
       "      <td>21.726093</td>\n",
       "    </tr>\n",
       "  </tbody>\n",
       "</table>\n",
       "</div>"
      ],
      "text/plain": [
       "                  아황산가스     이산화질소        오존     일산화탄소       부유먼지       미세먼지\n",
       "구군                                                                         \n",
       "Dobong-gu      0.000913  0.018949  0.023604  0.572814  43.294415  25.733277\n",
       "Dongdaemun-gu -0.014647  0.009495  0.002446  0.490542  38.269958  22.692596\n",
       "Dongjak-gu    -0.000509  0.027914  0.022945  0.470626  41.655441  24.373021\n",
       "Eunpyeong-gu  -0.010560  0.009730  0.012924  0.526560  42.328468  24.890639\n",
       "Gangbuk-gu     0.002712  0.021196  0.027543  0.462328  38.830643  21.726093"
      ]
     },
     "execution_count": 19,
     "metadata": {},
     "output_type": "execute_result"
    }
   ],
   "source": [
    "# 대기(air)성분, 구군별로 그룹핑해 대기성분의 평균값으로 집계한 데이터프레임 만들기 - stack버젼 -> plot에 적합\n",
    "df_gu = data.groupby(['구군'])['아황산가스', '이산화질소', '오존', '일산화탄소', '부유먼지',\n",
    "       '미세먼지'].mean()\n",
    "df_gu.head()"
   ]
  },
  {
   "cell_type": "code",
   "execution_count": 20,
   "metadata": {},
   "outputs": [],
   "source": [
    "# 그래프 폰트 설정\n",
    "plt.rc(\"font\", family='Malgun Gothic')"
   ]
  },
  {
   "cell_type": "code",
   "execution_count": 21,
   "metadata": {},
   "outputs": [
    {
     "data": {
      "text/plain": [
       "<matplotlib.axes._subplots.AxesSubplot at 0x23dd8a6e2b0>"
      ]
     },
     "execution_count": 21,
     "metadata": {},
     "output_type": "execute_result"
    },
    {
     "data": {
      "image/png": "[encoded data removed]",
      "text/plain": [
       "<Figure size 432x288 with 1 Axes>"
      ]
     },
     "metadata": {
      "needs_background": "light"
     },
     "output_type": "display_data"
    }
   ],
   "source": [
    "df_gu.plot()"
   ]
  },
  {
   "cell_type": "code",
   "execution_count": 37,
   "metadata": {},
   "outputs": [
    {
     "data": {
      "text/html": [
       "<div>\n",
       "<style scoped>\n",
       "    .dataframe tbody tr th:only-of-type {\n",
       "        vertical-align: middle;\n",
       "    }\n",
       "\n",
       "    .dataframe tbody tr th {\n",
       "        vertical-align: top;\n",
       "    }\n",
       "\n",
       "    .dataframe thead th {\n",
       "        text-align: right;\n",
       "    }\n",
       "</style>\n",
       "<table border=\"1\" class=\"dataframe\">\n",
       "  <thead>\n",
       "    <tr style=\"text-align: right;\">\n",
       "      <th></th>\n",
       "      <th>level_0</th>\n",
       "      <th>구군</th>\n",
       "      <th>0</th>\n",
       "    </tr>\n",
       "  </thead>\n",
       "  <tbody>\n",
       "    <tr>\n",
       "      <th>0</th>\n",
       "      <td>아황산가스</td>\n",
       "      <td>Dobong-gu</td>\n",
       "      <td>0.000913</td>\n",
       "    </tr>\n",
       "    <tr>\n",
       "      <th>1</th>\n",
       "      <td>아황산가스</td>\n",
       "      <td>Dongdaemun-gu</td>\n",
       "      <td>-0.014647</td>\n",
       "    </tr>\n",
       "    <tr>\n",
       "      <th>2</th>\n",
       "      <td>아황산가스</td>\n",
       "      <td>Dongjak-gu</td>\n",
       "      <td>-0.000509</td>\n",
       "    </tr>\n",
       "    <tr>\n",
       "      <th>3</th>\n",
       "      <td>아황산가스</td>\n",
       "      <td>Eunpyeong-gu</td>\n",
       "      <td>-0.010560</td>\n",
       "    </tr>\n",
       "    <tr>\n",
       "      <th>4</th>\n",
       "      <td>아황산가스</td>\n",
       "      <td>Gangbuk-gu</td>\n",
       "      <td>0.002712</td>\n",
       "    </tr>\n",
       "  </tbody>\n",
       "</table>\n",
       "</div>"
      ],
      "text/plain": [
       "  level_0             구군         0\n",
       "0   아황산가스      Dobong-gu  0.000913\n",
       "1   아황산가스  Dongdaemun-gu -0.014647\n",
       "2   아황산가스     Dongjak-gu -0.000509\n",
       "3   아황산가스   Eunpyeong-gu -0.010560\n",
       "4   아황산가스     Gangbuk-gu  0.002712"
      ]
     },
     "execution_count": 37,
     "metadata": {},
     "output_type": "execute_result"
    }
   ],
   "source": [
    "# 대기(air)성분, 구군별로 그룹핑해 대기성분의 평균값으로 집계한 데이터프레임 만들기 - unstack버전 -> seaborn에 적합\n",
    "df_gu = data.groupby(['구군'])['아황산가스', '이산화질소', '오존', '일산화탄소', '부유먼지',\n",
    "       '미세먼지'].mean().unstack()\n",
    "df_air_gu = pd.DataFrame(df_gu).reset_index()\n",
    "df_air_gu.head()"
   ]
  },
  {
   "cell_type": "code",
   "execution_count": 38,
   "metadata": {},
   "outputs": [
    {
     "data": {
      "text/html": [
       "<div>\n",
       "<style scoped>\n",
       "    .dataframe tbody tr th:only-of-type {\n",
       "        vertical-align: middle;\n",
       "    }\n",
       "\n",
       "    .dataframe tbody tr th {\n",
       "        vertical-align: top;\n",
       "    }\n",
       "\n",
       "    .dataframe thead th {\n",
       "        text-align: right;\n",
       "    }\n",
       "</style>\n",
       "<table border=\"1\" class=\"dataframe\">\n",
       "  <thead>\n",
       "    <tr style=\"text-align: right;\">\n",
       "      <th></th>\n",
       "      <th>대기성분</th>\n",
       "      <th>구군</th>\n",
       "      <th>평균</th>\n",
       "    </tr>\n",
       "  </thead>\n",
       "  <tbody>\n",
       "    <tr>\n",
       "      <th>0</th>\n",
       "      <td>아황산가스</td>\n",
       "      <td>Dobong-gu</td>\n",
       "      <td>0.000913</td>\n",
       "    </tr>\n",
       "    <tr>\n",
       "      <th>1</th>\n",
       "      <td>아황산가스</td>\n",
       "      <td>Dongdaemun-gu</td>\n",
       "      <td>-0.014647</td>\n",
       "    </tr>\n",
       "    <tr>\n",
       "      <th>2</th>\n",
       "      <td>아황산가스</td>\n",
       "      <td>Dongjak-gu</td>\n",
       "      <td>-0.000509</td>\n",
       "    </tr>\n",
       "    <tr>\n",
       "      <th>3</th>\n",
       "      <td>아황산가스</td>\n",
       "      <td>Eunpyeong-gu</td>\n",
       "      <td>-0.010560</td>\n",
       "    </tr>\n",
       "    <tr>\n",
       "      <th>4</th>\n",
       "      <td>아황산가스</td>\n",
       "      <td>Gangbuk-gu</td>\n",
       "      <td>0.002712</td>\n",
       "    </tr>\n",
       "  </tbody>\n",
       "</table>\n",
       "</div>"
      ],
      "text/plain": [
       "    대기성분             구군        평균\n",
       "0  아황산가스      Dobong-gu  0.000913\n",
       "1  아황산가스  Dongdaemun-gu -0.014647\n",
       "2  아황산가스     Dongjak-gu -0.000509\n",
       "3  아황산가스   Eunpyeong-gu -0.010560\n",
       "4  아황산가스     Gangbuk-gu  0.002712"
      ]
     },
     "execution_count": 38,
     "metadata": {},
     "output_type": "execute_result"
    }
   ],
   "source": [
    "# 칼럼명 수정\n",
    "df_air_gu.columns = ['대기성분','구군','평균']\n",
    "df_air_gu.head()"
   ]
  },
  {
   "cell_type": "code",
   "execution_count": 24,
   "metadata": {},
   "outputs": [
    {
     "data": {
      "text/html": [
       "<div>\n",
       "<style scoped>\n",
       "    .dataframe tbody tr th:only-of-type {\n",
       "        vertical-align: middle;\n",
       "    }\n",
       "\n",
       "    .dataframe tbody tr th {\n",
       "        vertical-align: top;\n",
       "    }\n",
       "\n",
       "    .dataframe thead th {\n",
       "        text-align: right;\n",
       "    }\n",
       "</style>\n",
       "<table border=\"1\" class=\"dataframe\">\n",
       "  <thead>\n",
       "    <tr style=\"text-align: right;\">\n",
       "      <th></th>\n",
       "      <th>대기성분</th>\n",
       "      <th>구군</th>\n",
       "      <th>평균</th>\n",
       "    </tr>\n",
       "  </thead>\n",
       "  <tbody>\n",
       "    <tr>\n",
       "      <th>0</th>\n",
       "      <td>아황산가스</td>\n",
       "      <td>Dobong-gu</td>\n",
       "      <td>0.001</td>\n",
       "    </tr>\n",
       "    <tr>\n",
       "      <th>1</th>\n",
       "      <td>아황산가스</td>\n",
       "      <td>Dongdaemun-gu</td>\n",
       "      <td>-0.015</td>\n",
       "    </tr>\n",
       "    <tr>\n",
       "      <th>2</th>\n",
       "      <td>아황산가스</td>\n",
       "      <td>Dongjak-gu</td>\n",
       "      <td>-0.001</td>\n",
       "    </tr>\n",
       "    <tr>\n",
       "      <th>3</th>\n",
       "      <td>아황산가스</td>\n",
       "      <td>Eunpyeong-gu</td>\n",
       "      <td>-0.011</td>\n",
       "    </tr>\n",
       "    <tr>\n",
       "      <th>4</th>\n",
       "      <td>아황산가스</td>\n",
       "      <td>Gangbuk-gu</td>\n",
       "      <td>0.003</td>\n",
       "    </tr>\n",
       "  </tbody>\n",
       "</table>\n",
       "</div>"
      ],
      "text/plain": [
       "    대기성분             구군     평균\n",
       "0  아황산가스      Dobong-gu  0.001\n",
       "1  아황산가스  Dongdaemun-gu -0.015\n",
       "2  아황산가스     Dongjak-gu -0.001\n",
       "3  아황산가스   Eunpyeong-gu -0.011\n",
       "4  아황산가스     Gangbuk-gu  0.003"
      ]
     },
     "execution_count": 24,
     "metadata": {},
     "output_type": "execute_result"
    }
   ],
   "source": [
    "# 평균값 연산이 너무 오래걸릴 것 같으므로 소수 3번째짜리까지만 짜르자\n",
    "df_air_gu['평균'] = df_air_gu['평균'].round(decimals=3)\n",
    "df_air_gu.head()"
   ]
  },
  {
   "cell_type": "code",
   "execution_count": 27,
   "metadata": {},
   "outputs": [],
   "source": [
    "# seaborn 임포트\n",
    "import seaborn as sns"
   ]
  },
  {
   "cell_type": "code",
   "execution_count": 56,
   "metadata": {
    "scrolled": true
   },
   "outputs": [
    {
     "data": {
      "text/plain": [
       "<seaborn.axisgrid.FacetGrid at 0x1d31fe415f8>"
      ]
     },
     "execution_count": 56,
     "metadata": {},
     "output_type": "execute_result"
    },
    {
     "data": {
      "image/png": "[encoded data removed]",
      "text/plain": [
       "<Figure size 720x1080 with 6 Axes>"
      ]
     },
     "metadata": {
      "needs_background": "light"
     },
     "output_type": "display_data"
    }
   ],
   "source": [
    "# catplot으로 시도 -> 대기성분별로 수치가 평균값의 수치가 너무 달라서 그래프 시각화가 안좋아보임\n",
    "sns.catplot(data=df_air_gu, x='구군', y='평균',col='대기성분', col_wrap=2, ci=None, kind='bar')"
   ]
  },
  {
   "cell_type": "markdown",
   "metadata": {},
   "source": [
    "#### 아황산가스 "
   ]
  },
  {
   "cell_type": "code",
   "execution_count": 25,
   "metadata": {},
   "outputs": [
    {
     "data": {
      "text/html": [
       "<div>\n",
       "<style scoped>\n",
       "    .dataframe tbody tr th:only-of-type {\n",
       "        vertical-align: middle;\n",
       "    }\n",
       "\n",
       "    .dataframe tbody tr th {\n",
       "        vertical-align: top;\n",
       "    }\n",
       "\n",
       "    .dataframe thead th {\n",
       "        text-align: right;\n",
       "    }\n",
       "</style>\n",
       "<table border=\"1\" class=\"dataframe\">\n",
       "  <thead>\n",
       "    <tr style=\"text-align: right;\">\n",
       "      <th></th>\n",
       "      <th>대기성분</th>\n",
       "      <th>구군</th>\n",
       "      <th>평균</th>\n",
       "    </tr>\n",
       "  </thead>\n",
       "  <tbody>\n",
       "    <tr>\n",
       "      <th>0</th>\n",
       "      <td>아황산가스</td>\n",
       "      <td>Dobong-gu</td>\n",
       "      <td>0.001</td>\n",
       "    </tr>\n",
       "    <tr>\n",
       "      <th>1</th>\n",
       "      <td>아황산가스</td>\n",
       "      <td>Dongdaemun-gu</td>\n",
       "      <td>-0.015</td>\n",
       "    </tr>\n",
       "    <tr>\n",
       "      <th>2</th>\n",
       "      <td>아황산가스</td>\n",
       "      <td>Dongjak-gu</td>\n",
       "      <td>-0.001</td>\n",
       "    </tr>\n",
       "    <tr>\n",
       "      <th>3</th>\n",
       "      <td>아황산가스</td>\n",
       "      <td>Eunpyeong-gu</td>\n",
       "      <td>-0.011</td>\n",
       "    </tr>\n",
       "    <tr>\n",
       "      <th>4</th>\n",
       "      <td>아황산가스</td>\n",
       "      <td>Gangbuk-gu</td>\n",
       "      <td>0.003</td>\n",
       "    </tr>\n",
       "  </tbody>\n",
       "</table>\n",
       "</div>"
      ],
      "text/plain": [
       "    대기성분             구군     평균\n",
       "0  아황산가스      Dobong-gu  0.001\n",
       "1  아황산가스  Dongdaemun-gu -0.015\n",
       "2  아황산가스     Dongjak-gu -0.001\n",
       "3  아황산가스   Eunpyeong-gu -0.011\n",
       "4  아황산가스     Gangbuk-gu  0.003"
      ]
     },
     "execution_count": 25,
     "metadata": {},
     "output_type": "execute_result"
    }
   ],
   "source": [
    "# 대기성분별로 나누어서 시각화하기\n",
    "# 1. 아황산가스\n",
    "df_SO2 = df_air_gu[df_air_gu['대기성분'] == '아황산가스']\n",
    "df_SO2.head()"
   ]
  },
  {
   "cell_type": "code",
   "execution_count": 28,
   "metadata": {},
   "outputs": [],
   "source": [
    "# seaborn의 set를 이용해서 폰트, 그래프 배경스타일, unicode_minus 설정\n",
    "sns.set(style='whitegrid',\n",
    "       font='Malgun Gothic',\n",
    "       rc={'axes.unicode_minus':False})"
   ]
  },
  {
   "cell_type": "code",
   "execution_count": 29,
   "metadata": {},
   "outputs": [
    {
     "data": {
      "text/plain": [
       "<matplotlib.axes._subplots.AxesSubplot at 0x23dce1fb4e0>"
      ]
     },
     "execution_count": 29,
     "metadata": {},
     "output_type": "execute_result"
    },
    {
     "data": {
      "image/png": "[encoded data removed]",
      "text/plain": [
       "<Figure size 1080x576 with 1 Axes>"
      ]
     },
     "metadata": {},
     "output_type": "display_data"
    }
   ],
   "source": [
    "df_SO2.sort_values(by=['평균']).plot.barh(x='구군', y='평균', figsize=(15,8), color='red')"
   ]
  },
  {
   "cell_type": "markdown",
   "metadata": {},
   "source": [
    "##### 평균값이 아닌 중앙값(median)으로 집계해보기"
   ]
  },
  {
   "cell_type": "code",
   "execution_count": 30,
   "metadata": {},
   "outputs": [
    {
     "data": {
      "text/html": [
       "<div>\n",
       "<style scoped>\n",
       "    .dataframe tbody tr th:only-of-type {\n",
       "        vertical-align: middle;\n",
       "    }\n",
       "\n",
       "    .dataframe tbody tr th {\n",
       "        vertical-align: top;\n",
       "    }\n",
       "\n",
       "    .dataframe thead th {\n",
       "        text-align: right;\n",
       "    }\n",
       "</style>\n",
       "<table border=\"1\" class=\"dataframe\">\n",
       "  <thead>\n",
       "    <tr style=\"text-align: right;\">\n",
       "      <th></th>\n",
       "      <th>level_0</th>\n",
       "      <th>구군</th>\n",
       "      <th>0</th>\n",
       "    </tr>\n",
       "  </thead>\n",
       "  <tbody>\n",
       "    <tr>\n",
       "      <th>0</th>\n",
       "      <td>아황산가스</td>\n",
       "      <td>Dobong-gu</td>\n",
       "      <td>0.004</td>\n",
       "    </tr>\n",
       "    <tr>\n",
       "      <th>1</th>\n",
       "      <td>아황산가스</td>\n",
       "      <td>Dongdaemun-gu</td>\n",
       "      <td>0.005</td>\n",
       "    </tr>\n",
       "    <tr>\n",
       "      <th>2</th>\n",
       "      <td>아황산가스</td>\n",
       "      <td>Dongjak-gu</td>\n",
       "      <td>0.003</td>\n",
       "    </tr>\n",
       "    <tr>\n",
       "      <th>3</th>\n",
       "      <td>아황산가스</td>\n",
       "      <td>Eunpyeong-gu</td>\n",
       "      <td>0.004</td>\n",
       "    </tr>\n",
       "    <tr>\n",
       "      <th>4</th>\n",
       "      <td>아황산가스</td>\n",
       "      <td>Gangbuk-gu</td>\n",
       "      <td>0.003</td>\n",
       "    </tr>\n",
       "  </tbody>\n",
       "</table>\n",
       "</div>"
      ],
      "text/plain": [
       "  level_0             구군      0\n",
       "0   아황산가스      Dobong-gu  0.004\n",
       "1   아황산가스  Dongdaemun-gu  0.005\n",
       "2   아황산가스     Dongjak-gu  0.003\n",
       "3   아황산가스   Eunpyeong-gu  0.004\n",
       "4   아황산가스     Gangbuk-gu  0.003"
      ]
     },
     "execution_count": 30,
     "metadata": {},
     "output_type": "execute_result"
    }
   ],
   "source": [
    "df_gu = data.groupby(['구군'])['아황산가스', '이산화질소', '오존', '일산화탄소', '부유먼지',\n",
    "       '미세먼지'].median().unstack()\n",
    "df_air_gu = pd.DataFrame(df_gu).reset_index()\n",
    "df_air_gu.head()"
   ]
  },
  {
   "cell_type": "code",
   "execution_count": 31,
   "metadata": {},
   "outputs": [
    {
     "data": {
      "text/html": [
       "<div>\n",
       "<style scoped>\n",
       "    .dataframe tbody tr th:only-of-type {\n",
       "        vertical-align: middle;\n",
       "    }\n",
       "\n",
       "    .dataframe tbody tr th {\n",
       "        vertical-align: top;\n",
       "    }\n",
       "\n",
       "    .dataframe thead th {\n",
       "        text-align: right;\n",
       "    }\n",
       "</style>\n",
       "<table border=\"1\" class=\"dataframe\">\n",
       "  <thead>\n",
       "    <tr style=\"text-align: right;\">\n",
       "      <th></th>\n",
       "      <th>대기성분</th>\n",
       "      <th>구군</th>\n",
       "      <th>중앙값</th>\n",
       "    </tr>\n",
       "  </thead>\n",
       "  <tbody>\n",
       "    <tr>\n",
       "      <th>0</th>\n",
       "      <td>아황산가스</td>\n",
       "      <td>Dobong-gu</td>\n",
       "      <td>0.004</td>\n",
       "    </tr>\n",
       "    <tr>\n",
       "      <th>1</th>\n",
       "      <td>아황산가스</td>\n",
       "      <td>Dongdaemun-gu</td>\n",
       "      <td>0.005</td>\n",
       "    </tr>\n",
       "    <tr>\n",
       "      <th>2</th>\n",
       "      <td>아황산가스</td>\n",
       "      <td>Dongjak-gu</td>\n",
       "      <td>0.003</td>\n",
       "    </tr>\n",
       "    <tr>\n",
       "      <th>3</th>\n",
       "      <td>아황산가스</td>\n",
       "      <td>Eunpyeong-gu</td>\n",
       "      <td>0.004</td>\n",
       "    </tr>\n",
       "    <tr>\n",
       "      <th>4</th>\n",
       "      <td>아황산가스</td>\n",
       "      <td>Gangbuk-gu</td>\n",
       "      <td>0.003</td>\n",
       "    </tr>\n",
       "    <tr>\n",
       "      <th>...</th>\n",
       "      <td>...</td>\n",
       "      <td>...</td>\n",
       "      <td>...</td>\n",
       "    </tr>\n",
       "    <tr>\n",
       "      <th>145</th>\n",
       "      <td>미세먼지</td>\n",
       "      <td>Seongdong-gu</td>\n",
       "      <td>20.000</td>\n",
       "    </tr>\n",
       "    <tr>\n",
       "      <th>146</th>\n",
       "      <td>미세먼지</td>\n",
       "      <td>Songpa-gu</td>\n",
       "      <td>18.000</td>\n",
       "    </tr>\n",
       "    <tr>\n",
       "      <th>147</th>\n",
       "      <td>미세먼지</td>\n",
       "      <td>Yangcheon-gu</td>\n",
       "      <td>21.000</td>\n",
       "    </tr>\n",
       "    <tr>\n",
       "      <th>148</th>\n",
       "      <td>미세먼지</td>\n",
       "      <td>Yeongdeungpo-gu</td>\n",
       "      <td>22.000</td>\n",
       "    </tr>\n",
       "    <tr>\n",
       "      <th>149</th>\n",
       "      <td>미세먼지</td>\n",
       "      <td>Yongsan-gu</td>\n",
       "      <td>19.000</td>\n",
       "    </tr>\n",
       "  </tbody>\n",
       "</table>\n",
       "<p>150 rows × 3 columns</p>\n",
       "</div>"
      ],
      "text/plain": [
       "      대기성분               구군     중앙값\n",
       "0    아황산가스        Dobong-gu   0.004\n",
       "1    아황산가스    Dongdaemun-gu   0.005\n",
       "2    아황산가스       Dongjak-gu   0.003\n",
       "3    아황산가스     Eunpyeong-gu   0.004\n",
       "4    아황산가스       Gangbuk-gu   0.003\n",
       "..     ...              ...     ...\n",
       "145   미세먼지     Seongdong-gu  20.000\n",
       "146   미세먼지        Songpa-gu  18.000\n",
       "147   미세먼지     Yangcheon-gu  21.000\n",
       "148   미세먼지  Yeongdeungpo-gu  22.000\n",
       "149   미세먼지       Yongsan-gu  19.000\n",
       "\n",
       "[150 rows x 3 columns]"
      ]
     },
     "execution_count": 31,
     "metadata": {},
     "output_type": "execute_result"
    }
   ],
   "source": [
    "df_air_gu.columns = ['대기성분','구군','중앙값']\n",
    "df_air_gu"
   ]
  },
  {
   "cell_type": "code",
   "execution_count": 34,
   "metadata": {},
   "outputs": [
    {
     "data": {
      "text/html": [
       "<div>\n",
       "<style scoped>\n",
       "    .dataframe tbody tr th:only-of-type {\n",
       "        vertical-align: middle;\n",
       "    }\n",
       "\n",
       "    .dataframe tbody tr th {\n",
       "        vertical-align: top;\n",
       "    }\n",
       "\n",
       "    .dataframe thead th {\n",
       "        text-align: right;\n",
       "    }\n",
       "</style>\n",
       "<table border=\"1\" class=\"dataframe\">\n",
       "  <thead>\n",
       "    <tr style=\"text-align: right;\">\n",
       "      <th></th>\n",
       "      <th>대기성분</th>\n",
       "      <th>구군</th>\n",
       "      <th>중앙값</th>\n",
       "    </tr>\n",
       "  </thead>\n",
       "  <tbody>\n",
       "    <tr>\n",
       "      <th>0</th>\n",
       "      <td>아황산가스</td>\n",
       "      <td>Dobong-gu</td>\n",
       "      <td>0.004</td>\n",
       "    </tr>\n",
       "    <tr>\n",
       "      <th>1</th>\n",
       "      <td>아황산가스</td>\n",
       "      <td>Dongdaemun-gu</td>\n",
       "      <td>0.005</td>\n",
       "    </tr>\n",
       "    <tr>\n",
       "      <th>2</th>\n",
       "      <td>아황산가스</td>\n",
       "      <td>Dongjak-gu</td>\n",
       "      <td>0.003</td>\n",
       "    </tr>\n",
       "    <tr>\n",
       "      <th>3</th>\n",
       "      <td>아황산가스</td>\n",
       "      <td>Eunpyeong-gu</td>\n",
       "      <td>0.004</td>\n",
       "    </tr>\n",
       "    <tr>\n",
       "      <th>4</th>\n",
       "      <td>아황산가스</td>\n",
       "      <td>Gangbuk-gu</td>\n",
       "      <td>0.003</td>\n",
       "    </tr>\n",
       "  </tbody>\n",
       "</table>\n",
       "</div>"
      ],
      "text/plain": [
       "    대기성분             구군    중앙값\n",
       "0  아황산가스      Dobong-gu  0.004\n",
       "1  아황산가스  Dongdaemun-gu  0.005\n",
       "2  아황산가스     Dongjak-gu  0.003\n",
       "3  아황산가스   Eunpyeong-gu  0.004\n",
       "4  아황산가스     Gangbuk-gu  0.003"
      ]
     },
     "execution_count": 34,
     "metadata": {},
     "output_type": "execute_result"
    }
   ],
   "source": [
    "df_SO2 = df_air_gu[df_air_gu['대기성분'] == '아황산가스']\n",
    "df_SO2.head()"
   ]
  },
  {
   "cell_type": "code",
   "execution_count": 35,
   "metadata": {},
   "outputs": [
    {
     "data": {
      "text/plain": [
       "<matplotlib.axes._subplots.AxesSubplot at 0x23dce2ff940>"
      ]
     },
     "execution_count": 35,
     "metadata": {},
     "output_type": "execute_result"
    },
    {
     "data": {
      "image/png": "[encoded data removed]",
      "text/plain": [
       "<Figure size 1080x576 with 1 Axes>"
      ]
     },
     "metadata": {},
     "output_type": "display_data"
    }
   ],
   "source": [
    "df_SO2.sort_values(by=['중앙값']).plot.barh(x='구군', y='중앙값', figsize=(15,8), color='green')"
   ]
  },
  {
   "cell_type": "markdown",
   "metadata": {},
   "source": [
    "#### 이산화질소"
   ]
  },
  {
   "cell_type": "code",
   "execution_count": 36,
   "metadata": {},
   "outputs": [
    {
     "data": {
      "text/plain": [
       "array(['아황산가스', '이산화질소', '오존', '일산화탄소', '부유먼지', '미세먼지'], dtype=object)"
      ]
     },
     "execution_count": 36,
     "metadata": {},
     "output_type": "execute_result"
    }
   ],
   "source": [
    "df_air_gu['대기성분'].unique()"
   ]
  },
  {
   "cell_type": "code",
   "execution_count": 40,
   "metadata": {},
   "outputs": [
    {
     "data": {
      "text/html": [
       "<div>\n",
       "<style scoped>\n",
       "    .dataframe tbody tr th:only-of-type {\n",
       "        vertical-align: middle;\n",
       "    }\n",
       "\n",
       "    .dataframe tbody tr th {\n",
       "        vertical-align: top;\n",
       "    }\n",
       "\n",
       "    .dataframe thead th {\n",
       "        text-align: right;\n",
       "    }\n",
       "</style>\n",
       "<table border=\"1\" class=\"dataframe\">\n",
       "  <thead>\n",
       "    <tr style=\"text-align: right;\">\n",
       "      <th></th>\n",
       "      <th>대기성분</th>\n",
       "      <th>구군</th>\n",
       "      <th>평균</th>\n",
       "    </tr>\n",
       "  </thead>\n",
       "  <tbody>\n",
       "    <tr>\n",
       "      <th>43</th>\n",
       "      <td>이산화질소</td>\n",
       "      <td>Seodaemun-gu</td>\n",
       "      <td>0.001064</td>\n",
       "    </tr>\n",
       "    <tr>\n",
       "      <th>40</th>\n",
       "      <td>이산화질소</td>\n",
       "      <td>Mapo-gu</td>\n",
       "      <td>0.005114</td>\n",
       "    </tr>\n",
       "    <tr>\n",
       "      <th>26</th>\n",
       "      <td>이산화질소</td>\n",
       "      <td>Dongdaemun-gu</td>\n",
       "      <td>0.009495</td>\n",
       "    </tr>\n",
       "    <tr>\n",
       "      <th>28</th>\n",
       "      <td>이산화질소</td>\n",
       "      <td>Eunpyeong-gu</td>\n",
       "      <td>0.009730</td>\n",
       "    </tr>\n",
       "    <tr>\n",
       "      <th>35</th>\n",
       "      <td>이산화질소</td>\n",
       "      <td>Gwanak-gu</td>\n",
       "      <td>0.012568</td>\n",
       "    </tr>\n",
       "  </tbody>\n",
       "</table>\n",
       "</div>"
      ],
      "text/plain": [
       "     대기성분             구군        평균\n",
       "43  이산화질소   Seodaemun-gu  0.001064\n",
       "40  이산화질소        Mapo-gu  0.005114\n",
       "26  이산화질소  Dongdaemun-gu  0.009495\n",
       "28  이산화질소   Eunpyeong-gu  0.009730\n",
       "35  이산화질소      Gwanak-gu  0.012568"
      ]
     },
     "execution_count": 40,
     "metadata": {},
     "output_type": "execute_result"
    }
   ],
   "source": [
    "df_NO2 = df_air_gu[df_air_gu['대기성분'] == '이산화질소']\n",
    "df_NO2 = df_NO2.sort_values(by=['평균'])\n",
    "df_NO2.head()"
   ]
  },
  {
   "cell_type": "code",
   "execution_count": 43,
   "metadata": {},
   "outputs": [
    {
     "data": {
      "text/plain": [
       "<matplotlib.axes._subplots.AxesSubplot at 0x23dce73b080>"
      ]
     },
     "execution_count": 43,
     "metadata": {},
     "output_type": "execute_result"
    },
    {
     "data": {
      "image/png": "[encoded data removed]",
      "text/plain": [
       "<Figure size 1440x720 with 1 Axes>"
      ]
     },
     "metadata": {},
     "output_type": "display_data"
    }
   ],
   "source": [
    "df_NO2.plot.barh(x='구군', y='평균',figsize=(20,10))"
   ]
  },
  {
   "cell_type": "markdown",
   "metadata": {},
   "source": [
    "#### 오존"
   ]
  },
  {
   "cell_type": "code",
   "execution_count": 46,
   "metadata": {},
   "outputs": [
    {
     "data": {
      "text/plain": [
       "<matplotlib.axes._subplots.AxesSubplot at 0x23dceb20208>"
      ]
     },
     "execution_count": 46,
     "metadata": {},
     "output_type": "execute_result"
    },
    {
     "data": {
      "image/png": "[encoded data removed]",
      "text/plain": [
       "<Figure size 1440x720 with 1 Axes>"
      ]
     },
     "metadata": {},
     "output_type": "display_data"
    }
   ],
   "source": [
    "df_O3 = df_air_gu[df_air_gu['대기성분'] == '오존']\n",
    "df_O3 = df_O3.sort_values(by=['평균'])\n",
    "df_O3.plot.barh(x='구군', y='평균',figsize=(20,10), color='orange')"
   ]
  },
  {
   "cell_type": "markdown",
   "metadata": {},
   "source": [
    "#### 일산화탄소"
   ]
  },
  {
   "cell_type": "code",
   "execution_count": 47,
   "metadata": {},
   "outputs": [
    {
     "data": {
      "text/plain": [
       "<matplotlib.axes._subplots.AxesSubplot at 0x23dcec52550>"
      ]
     },
     "execution_count": 47,
     "metadata": {},
     "output_type": "execute_result"
    },
    {
     "data": {
      "image/png": "[encoded data removed]",
      "text/plain": [
       "<Figure size 1440x720 with 1 Axes>"
      ]
     },
     "metadata": {},
     "output_type": "display_data"
    }
   ],
   "source": [
    "df_CO = df_air_gu[df_air_gu['대기성분'] == '일산화탄소']\n",
    "df_CO = df_CO.sort_values(by=['평균'])\n",
    "df_CO.plot.barh(x='구군', y='평균',figsize=(20,10), color='yellow')"
   ]
  },
  {
   "cell_type": "markdown",
   "metadata": {},
   "source": [
    "#### PM10(부유먼지)"
   ]
  },
  {
   "cell_type": "code",
   "execution_count": 48,
   "metadata": {},
   "outputs": [
    {
     "data": {
      "text/plain": [
       "<matplotlib.axes._subplots.AxesSubplot at 0x23dcec436a0>"
      ]
     },
     "execution_count": 48,
     "metadata": {},
     "output_type": "execute_result"
    },
    {
     "data": {
      "image/png": "[encoded data removed]",
      "text/plain": [
       "<Figure size 1440x720 with 1 Axes>"
      ]
     },
     "metadata": {},
     "output_type": "display_data"
    }
   ],
   "source": [
    "df_pm10 = df_air_gu[df_air_gu['대기성분'] == '부유먼지']\n",
    "df_pm10 = df_pm10.sort_values(by=['평균'])\n",
    "df_pm10.plot.barh(x='구군', y='평균',figsize=(20,10), color='gray')"
   ]
  },
  {
   "cell_type": "markdown",
   "metadata": {},
   "source": [
    "#### PM2.5(미세먼지)"
   ]
  },
  {
   "cell_type": "code",
   "execution_count": 50,
   "metadata": {},
   "outputs": [
    {
     "data": {
      "text/plain": [
       "<matplotlib.axes._subplots.AxesSubplot at 0x23dceed3940>"
      ]
     },
     "execution_count": 50,
     "metadata": {},
     "output_type": "execute_result"
    },
    {
     "data": {
      "image/png": "[encoded data removed]",
      "text/plain": [
       "<Figure size 1440x720 with 1 Axes>"
      ]
     },
     "metadata": {},
     "output_type": "display_data"
    }
   ],
   "source": [
    "df_pm2_5 = df_air_gu[df_air_gu['대기성분'] == '미세먼지']\n",
    "df_pm2_5 = df_pm2_5.sort_values(by=['평균'])\n",
    "df_pm2_5.plot.barh(x='구군', y='평균',figsize=(20,10), color='violet')"
   ]
  },
  {
   "cell_type": "code",
   "execution_count": 54,
   "metadata": {},
   "outputs": [
    {
     "data": {
      "text/html": [
       "<div>\n",
       "<style scoped>\n",
       "    .dataframe tbody tr th:only-of-type {\n",
       "        vertical-align: middle;\n",
       "    }\n",
       "\n",
       "    .dataframe tbody tr th {\n",
       "        vertical-align: top;\n",
       "    }\n",
       "\n",
       "    .dataframe thead th {\n",
       "        text-align: right;\n",
       "    }\n",
       "</style>\n",
       "<table border=\"1\" class=\"dataframe\">\n",
       "  <thead>\n",
       "    <tr style=\"text-align: right;\">\n",
       "      <th></th>\n",
       "      <th>대기성분</th>\n",
       "      <th>구군</th>\n",
       "      <th>평균</th>\n",
       "    </tr>\n",
       "  </thead>\n",
       "  <tbody>\n",
       "    <tr>\n",
       "      <th>0</th>\n",
       "      <td>아황산가스</td>\n",
       "      <td>Dobong-gu</td>\n",
       "      <td>0.000913</td>\n",
       "    </tr>\n",
       "    <tr>\n",
       "      <th>1</th>\n",
       "      <td>아황산가스</td>\n",
       "      <td>Dongdaemun-gu</td>\n",
       "      <td>-0.014647</td>\n",
       "    </tr>\n",
       "    <tr>\n",
       "      <th>2</th>\n",
       "      <td>아황산가스</td>\n",
       "      <td>Dongjak-gu</td>\n",
       "      <td>-0.000509</td>\n",
       "    </tr>\n",
       "    <tr>\n",
       "      <th>3</th>\n",
       "      <td>아황산가스</td>\n",
       "      <td>Eunpyeong-gu</td>\n",
       "      <td>-0.010560</td>\n",
       "    </tr>\n",
       "    <tr>\n",
       "      <th>4</th>\n",
       "      <td>아황산가스</td>\n",
       "      <td>Gangbuk-gu</td>\n",
       "      <td>0.002712</td>\n",
       "    </tr>\n",
       "  </tbody>\n",
       "</table>\n",
       "</div>"
      ],
      "text/plain": [
       "    대기성분             구군        평균\n",
       "0  아황산가스      Dobong-gu  0.000913\n",
       "1  아황산가스  Dongdaemun-gu -0.014647\n",
       "2  아황산가스     Dongjak-gu -0.000509\n",
       "3  아황산가스   Eunpyeong-gu -0.010560\n",
       "4  아황산가스     Gangbuk-gu  0.002712"
      ]
     },
     "execution_count": 54,
     "metadata": {},
     "output_type": "execute_result"
    }
   ],
   "source": [
    "df_air_gu.head()"
   ]
  },
  {
   "cell_type": "code",
   "execution_count": 57,
   "metadata": {},
   "outputs": [
    {
     "data": {
      "text/html": [
       "<div>\n",
       "<style scoped>\n",
       "    .dataframe tbody tr th:only-of-type {\n",
       "        vertical-align: middle;\n",
       "    }\n",
       "\n",
       "    .dataframe tbody tr th {\n",
       "        vertical-align: top;\n",
       "    }\n",
       "\n",
       "    .dataframe thead th {\n",
       "        text-align: right;\n",
       "    }\n",
       "</style>\n",
       "<table border=\"1\" class=\"dataframe\">\n",
       "  <thead>\n",
       "    <tr style=\"text-align: right;\">\n",
       "      <th>대기성분</th>\n",
       "      <th>미세먼지</th>\n",
       "      <th>부유먼지</th>\n",
       "      <th>아황산가스</th>\n",
       "      <th>오존</th>\n",
       "      <th>이산화질소</th>\n",
       "      <th>일산화탄소</th>\n",
       "    </tr>\n",
       "    <tr>\n",
       "      <th>구군</th>\n",
       "      <th></th>\n",
       "      <th></th>\n",
       "      <th></th>\n",
       "      <th></th>\n",
       "      <th></th>\n",
       "      <th></th>\n",
       "    </tr>\n",
       "  </thead>\n",
       "  <tbody>\n",
       "    <tr>\n",
       "      <th>Dobong-gu</th>\n",
       "      <td>25.733277</td>\n",
       "      <td>43.294415</td>\n",
       "      <td>0.000913</td>\n",
       "      <td>0.023604</td>\n",
       "      <td>0.018949</td>\n",
       "      <td>0.572814</td>\n",
       "    </tr>\n",
       "    <tr>\n",
       "      <th>Dongdaemun-gu</th>\n",
       "      <td>22.692596</td>\n",
       "      <td>38.269958</td>\n",
       "      <td>-0.014647</td>\n",
       "      <td>0.002446</td>\n",
       "      <td>0.009495</td>\n",
       "      <td>0.490542</td>\n",
       "    </tr>\n",
       "    <tr>\n",
       "      <th>Dongjak-gu</th>\n",
       "      <td>24.373021</td>\n",
       "      <td>41.655441</td>\n",
       "      <td>-0.000509</td>\n",
       "      <td>0.022945</td>\n",
       "      <td>0.027914</td>\n",
       "      <td>0.470626</td>\n",
       "    </tr>\n",
       "    <tr>\n",
       "      <th>Eunpyeong-gu</th>\n",
       "      <td>24.890639</td>\n",
       "      <td>42.328468</td>\n",
       "      <td>-0.010560</td>\n",
       "      <td>0.012924</td>\n",
       "      <td>0.009730</td>\n",
       "      <td>0.526560</td>\n",
       "    </tr>\n",
       "    <tr>\n",
       "      <th>Gangbuk-gu</th>\n",
       "      <td>21.726093</td>\n",
       "      <td>38.830643</td>\n",
       "      <td>0.002712</td>\n",
       "      <td>0.027543</td>\n",
       "      <td>0.021196</td>\n",
       "      <td>0.462328</td>\n",
       "    </tr>\n",
       "  </tbody>\n",
       "</table>\n",
       "</div>"
      ],
      "text/plain": [
       "대기성분                미세먼지       부유먼지     아황산가스        오존     이산화질소     일산화탄소\n",
       "구군                                                                         \n",
       "Dobong-gu      25.733277  43.294415  0.000913  0.023604  0.018949  0.572814\n",
       "Dongdaemun-gu  22.692596  38.269958 -0.014647  0.002446  0.009495  0.490542\n",
       "Dongjak-gu     24.373021  41.655441 -0.000509  0.022945  0.027914  0.470626\n",
       "Eunpyeong-gu   24.890639  42.328468 -0.010560  0.012924  0.009730  0.526560\n",
       "Gangbuk-gu     21.726093  38.830643  0.002712  0.027543  0.021196  0.462328"
      ]
     },
     "execution_count": 57,
     "metadata": {},
     "output_type": "execute_result"
    }
   ],
   "source": [
    "df_air_pivot = df_air_gu.pivot(index='구군', columns='대기성분', values='평균')\n",
    "df_air_pivot.head()"
   ]
  },
  {
   "cell_type": "code",
   "execution_count": null,
   "metadata": {},
   "outputs": [],
   "source": []
  }
 ],
 "metadata": {
  "kernelspec": {
   "display_name": "Python 3",
   "language": "python",
   "name": "python3"
  },
  "language_info": {
   "codemirror_mode": {
    "name": "ipython",
    "version": 3
   },
   "file_extension": ".py",
   "mimetype": "text/x-python",
   "name": "python",
   "nbconvert_exporter": "python",
   "pygments_lexer": "ipython3",
   "version": "3.7.3"
  },
  "toc": {
   "base_numbering": 1,
   "nav_menu": {},
   "number_sections": true,
   "sideBar": true,
   "skip_h1_title": false,
   "title_cell": "Table of Contents",
   "title_sidebar": "Contents",
   "toc_cell": false,
   "toc_position": {},
   "toc_section_display": true,
   "toc_window_display": false
  },
  "varInspector": {
   "cols": {
    "lenName": 16,
    "lenType": 16,
    "lenVar": 40
   },
   "kernels_config": {
    "python": {
     "delete_cmd_postfix": "",
     "delete_cmd_prefix": "del ",
     "library": "var_list.py",
     "varRefreshCmd": "print(var_dic_list())"
    },
    "r": {
     "delete_cmd_postfix": ") ",
     "delete_cmd_prefix": "rm(",
     "library": "var_list.r",
     "varRefreshCmd": "cat(var_dic_list()) "
    }
   },
   "types_to_exclude": [
    "module",
    "function",
    "builtin_function_or_method",
    "instance",
    "_Feature"
   ],
   "window_display": false
  }
 },
 "nbformat": 4,
 "nbformat_minor": 4
}
