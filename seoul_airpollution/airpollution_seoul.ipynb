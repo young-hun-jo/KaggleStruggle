{
 "cells": [
  {
   "cell_type": "markdown",
   "metadata": {},
   "source": [
    "# 서울 대기오염 데이터 분석"
   ]
  },
  {
   "cell_type": "markdown",
   "metadata": {},
   "source": [
    "## 데이터 도메인 파악"
   ]
  },
  {
   "cell_type": "code",
   "execution_count": 2,
   "metadata": {},
   "outputs": [],
   "source": [
    "import pandas as pd\n",
    "import numpy as np\n",
    "import matplotlib.pyplot as plt"
   ]
  },
  {
   "cell_type": "code",
   "execution_count": 3,
   "metadata": {},
   "outputs": [
    {
     "data": {
      "text/plain": [
       "(647511, 11)"
      ]
     },
     "execution_count": 3,
     "metadata": {},
     "output_type": "execute_result"
    }
   ],
   "source": [
    "# 데이터로드\n",
    "data = pd.read_csv(\"C:/Users/joyh1/Desktop/GitRepo/data/Measurement_summary.csv\")\n",
    "data.shape"
   ]
  },
  {
   "cell_type": "code",
   "execution_count": 4,
   "metadata": {},
   "outputs": [
    {
     "data": {
      "text/html": [
       "<div>\n",
       "<style scoped>\n",
       "    .dataframe tbody tr th:only-of-type {\n",
       "        vertical-align: middle;\n",
       "    }\n",
       "\n",
       "    .dataframe tbody tr th {\n",
       "        vertical-align: top;\n",
       "    }\n",
       "\n",
       "    .dataframe thead th {\n",
       "        text-align: right;\n",
       "    }\n",
       "</style>\n",
       "<table border=\"1\" class=\"dataframe\">\n",
       "  <thead>\n",
       "    <tr style=\"text-align: right;\">\n",
       "      <th></th>\n",
       "      <th>Measurement date</th>\n",
       "      <th>Station code</th>\n",
       "      <th>Address</th>\n",
       "      <th>Latitude</th>\n",
       "      <th>Longitude</th>\n",
       "      <th>SO2</th>\n",
       "      <th>NO2</th>\n",
       "      <th>O3</th>\n",
       "      <th>CO</th>\n",
       "      <th>PM10</th>\n",
       "      <th>PM2.5</th>\n",
       "    </tr>\n",
       "  </thead>\n",
       "  <tbody>\n",
       "    <tr>\n",
       "      <th>0</th>\n",
       "      <td>2017-01-01 00:00</td>\n",
       "      <td>101</td>\n",
       "      <td>19, Jong-ro 35ga-gil, Jongno-gu, Seoul, Republ...</td>\n",
       "      <td>37.572016</td>\n",
       "      <td>127.005007</td>\n",
       "      <td>0.004</td>\n",
       "      <td>0.059</td>\n",
       "      <td>0.002</td>\n",
       "      <td>1.2</td>\n",
       "      <td>73.0</td>\n",
       "      <td>57.0</td>\n",
       "    </tr>\n",
       "    <tr>\n",
       "      <th>1</th>\n",
       "      <td>2017-01-01 01:00</td>\n",
       "      <td>101</td>\n",
       "      <td>19, Jong-ro 35ga-gil, Jongno-gu, Seoul, Republ...</td>\n",
       "      <td>37.572016</td>\n",
       "      <td>127.005007</td>\n",
       "      <td>0.004</td>\n",
       "      <td>0.058</td>\n",
       "      <td>0.002</td>\n",
       "      <td>1.2</td>\n",
       "      <td>71.0</td>\n",
       "      <td>59.0</td>\n",
       "    </tr>\n",
       "    <tr>\n",
       "      <th>2</th>\n",
       "      <td>2017-01-01 02:00</td>\n",
       "      <td>101</td>\n",
       "      <td>19, Jong-ro 35ga-gil, Jongno-gu, Seoul, Republ...</td>\n",
       "      <td>37.572016</td>\n",
       "      <td>127.005007</td>\n",
       "      <td>0.004</td>\n",
       "      <td>0.056</td>\n",
       "      <td>0.002</td>\n",
       "      <td>1.2</td>\n",
       "      <td>70.0</td>\n",
       "      <td>59.0</td>\n",
       "    </tr>\n",
       "    <tr>\n",
       "      <th>3</th>\n",
       "      <td>2017-01-01 03:00</td>\n",
       "      <td>101</td>\n",
       "      <td>19, Jong-ro 35ga-gil, Jongno-gu, Seoul, Republ...</td>\n",
       "      <td>37.572016</td>\n",
       "      <td>127.005007</td>\n",
       "      <td>0.004</td>\n",
       "      <td>0.056</td>\n",
       "      <td>0.002</td>\n",
       "      <td>1.2</td>\n",
       "      <td>70.0</td>\n",
       "      <td>58.0</td>\n",
       "    </tr>\n",
       "    <tr>\n",
       "      <th>4</th>\n",
       "      <td>2017-01-01 04:00</td>\n",
       "      <td>101</td>\n",
       "      <td>19, Jong-ro 35ga-gil, Jongno-gu, Seoul, Republ...</td>\n",
       "      <td>37.572016</td>\n",
       "      <td>127.005007</td>\n",
       "      <td>0.003</td>\n",
       "      <td>0.051</td>\n",
       "      <td>0.002</td>\n",
       "      <td>1.2</td>\n",
       "      <td>69.0</td>\n",
       "      <td>61.0</td>\n",
       "    </tr>\n",
       "  </tbody>\n",
       "</table>\n",
       "</div>"
      ],
      "text/plain": [
       "   Measurement date  Station code  \\\n",
       "0  2017-01-01 00:00           101   \n",
       "1  2017-01-01 01:00           101   \n",
       "2  2017-01-01 02:00           101   \n",
       "3  2017-01-01 03:00           101   \n",
       "4  2017-01-01 04:00           101   \n",
       "\n",
       "                                             Address   Latitude   Longitude  \\\n",
       "0  19, Jong-ro 35ga-gil, Jongno-gu, Seoul, Republ...  37.572016  127.005007   \n",
       "1  19, Jong-ro 35ga-gil, Jongno-gu, Seoul, Republ...  37.572016  127.005007   \n",
       "2  19, Jong-ro 35ga-gil, Jongno-gu, Seoul, Republ...  37.572016  127.005007   \n",
       "3  19, Jong-ro 35ga-gil, Jongno-gu, Seoul, Republ...  37.572016  127.005007   \n",
       "4  19, Jong-ro 35ga-gil, Jongno-gu, Seoul, Republ...  37.572016  127.005007   \n",
       "\n",
       "     SO2    NO2     O3   CO  PM10  PM2.5  \n",
       "0  0.004  0.059  0.002  1.2  73.0   57.0  \n",
       "1  0.004  0.058  0.002  1.2  71.0   59.0  \n",
       "2  0.004  0.056  0.002  1.2  70.0   59.0  \n",
       "3  0.004  0.056  0.002  1.2  70.0   58.0  \n",
       "4  0.003  0.051  0.002  1.2  69.0   61.0  "
      ]
     },
     "execution_count": 4,
     "metadata": {},
     "output_type": "execute_result"
    }
   ],
   "source": [
    "data.head()"
   ]
  },
  {
   "cell_type": "markdown",
   "metadata": {},
   "source": [
    "### 데이터 칼럼에 대한 도메인 지식 확보\n",
    "\n",
    "- SO2 : 이산화 황은 화학식 SO₂인 무기 화합물이며, 아황산 가스, 무수 아황산이라고도 부른다. 산소 원자 2개와 황 원자 1개가 결합되어 있다. **색깔이 없으며 자극적인 냄새가 나는 유독성 기체**이다. 화산 활동이나 유기 물질이 분해될 때 자연적으로 생긴다.\n",
    "    * <기준>\n",
    "        - 좋음 : 0~0.03\n",
    "        - 보통 : 0.031~0.06\n",
    "        - 나쁨 : 0.061~0.2\n",
    "        - 매우나쁨 : 0.201이상\n",
    "\n",
    "- NO2 : 이산화 질소는 질소와 산소로 이루어진 화합물이다. 분자식은 NO₂이다. 산화 질소(IV), 과산화 질소라고도 하는데, 사산화 이질소 역시 이 명칭으로 불릴 수 있다. **독성이 있는 적갈색의 기체이다.** \n",
    "    * <기준>\n",
    "        - 좋음 : 0~0.02\n",
    "        - 보통 : 0.021~0.05\n",
    "        - 나쁨 : 0.051~0.15\n",
    "        - 매우나쁨 : 0.151이상\n",
    "\n",
    "- O3 : 오존은 일반 산소보다 산화력이 훨씬 강해 살균, 악취 제거에 이용된다. 흔하지는 않지만 부산이나 대구 상수도의 소독에도 쓰인다. **0.1%이상의 고농도 오존은 매우 위험**한데, 오존발생기를 통과하여 일부가 오존으로 변한 산소 플로우에 라텍스나 네오프렌으로 된 실험용 장갑을 갖다대면 몇 초만에 삭아 걸레짝이 될 정도로 높다.\n",
    "    * <기준>\n",
    "        - 좋음 : 0~0.030\n",
    "        - 보통 : 0.031~0.090\n",
    "        - 나쁨 : 0.091~0.150\n",
    "        - 매우나쁨 : 0.151이상\n",
    "        \n",
    "- CO : 일산화탄소. 가연성이며 독성이 있어서 취급에 주의가 필요하다. 산소보다 헤모글로빈과의 친화력이 200배 정도 더 좋기 때문에 소량 흡입시에도 호흡 대사를 방해하여 생명 유지가 어려울 수 있으므로 주의해야 한다.\n",
    "    * <기준>\n",
    "        - 좋음 : 0~2\n",
    "        - 보통 : 2.01~9\n",
    "        - 나쁨 : 9.01~15\n",
    "        - 매우나쁨 : 15.01이상\n",
    "        \n",
    "- PM10 : 지름이 10마이크로센치인 부유먼지 => 상기도까지 감염\n",
    "    - 토양성분이 주를 이루는 황사같은 것\n",
    "- PM2.5 : 지름이 2.5마이크로센치인 미세먼지 => 폐의 폐포까지 감염(더 깊게 감염됨)\n",
    "    - 발전소나 공장, 자동차와 같은 오염원\n",
    "    * <기준>\n",
    "        - 좋음 : 0~30\n",
    "        - 보통 : 31~80\n",
    "        - 나쁨 : 81~150\n",
    "        - 매우나쁨 : 151이상\n",
    "* 참고로 미세먼지는 PM1.0 또는 PM0.5로 나타냄         \n"
   ]
  },
  {
   "cell_type": "code",
   "execution_count": 5,
   "metadata": {},
   "outputs": [
    {
     "name": "stdout",
     "output_type": "stream",
     "text": [
      "<class 'pandas.core.frame.DataFrame'>\n",
      "RangeIndex: 647511 entries, 0 to 647510\n",
      "Data columns (total 11 columns):\n",
      " #   Column            Non-Null Count   Dtype  \n",
      "---  ------            --------------   -----  \n",
      " 0   Measurement date  647511 non-null  object \n",
      " 1   Station code      647511 non-null  int64  \n",
      " 2   Address           647511 non-null  object \n",
      " 3   Latitude          647511 non-null  float64\n",
      " 4   Longitude         647511 non-null  float64\n",
      " 5   SO2               647511 non-null  float64\n",
      " 6   NO2               647511 non-null  float64\n",
      " 7   O3                647511 non-null  float64\n",
      " 8   CO                647511 non-null  float64\n",
      " 9   PM10              647511 non-null  float64\n",
      " 10  PM2.5             647511 non-null  float64\n",
      "dtypes: float64(8), int64(1), object(2)\n",
      "memory usage: 54.3+ MB\n"
     ]
    }
   ],
   "source": [
    "data.info()"
   ]
  },
  {
   "cell_type": "code",
   "execution_count": 6,
   "metadata": {},
   "outputs": [],
   "source": [
    "# 칼럼명 한국어로 바꾸기\n",
    "data.columns = ['측정일자','station_code','주소','위도','경도','아황산가스','이산화질소',\n",
    "               '오존','일산화탄소','부유먼지','미세먼지']"
   ]
  },
  {
   "cell_type": "code",
   "execution_count": 7,
   "metadata": {},
   "outputs": [
    {
     "data": {
      "text/html": [
       "<div>\n",
       "<style scoped>\n",
       "    .dataframe tbody tr th:only-of-type {\n",
       "        vertical-align: middle;\n",
       "    }\n",
       "\n",
       "    .dataframe tbody tr th {\n",
       "        vertical-align: top;\n",
       "    }\n",
       "\n",
       "    .dataframe thead th {\n",
       "        text-align: right;\n",
       "    }\n",
       "</style>\n",
       "<table border=\"1\" class=\"dataframe\">\n",
       "  <thead>\n",
       "    <tr style=\"text-align: right;\">\n",
       "      <th></th>\n",
       "      <th>측정일자</th>\n",
       "      <th>station_code</th>\n",
       "      <th>주소</th>\n",
       "      <th>위도</th>\n",
       "      <th>경도</th>\n",
       "      <th>아황산가스</th>\n",
       "      <th>이산화질소</th>\n",
       "      <th>오존</th>\n",
       "      <th>일산화탄소</th>\n",
       "      <th>부유먼지</th>\n",
       "      <th>미세먼지</th>\n",
       "    </tr>\n",
       "  </thead>\n",
       "  <tbody>\n",
       "    <tr>\n",
       "      <th>0</th>\n",
       "      <td>2017-01-01 00:00</td>\n",
       "      <td>101</td>\n",
       "      <td>19, Jong-ro 35ga-gil, Jongno-gu, Seoul, Republ...</td>\n",
       "      <td>37.572016</td>\n",
       "      <td>127.005007</td>\n",
       "      <td>0.004</td>\n",
       "      <td>0.059</td>\n",
       "      <td>0.002</td>\n",
       "      <td>1.2</td>\n",
       "      <td>73.0</td>\n",
       "      <td>57.0</td>\n",
       "    </tr>\n",
       "  </tbody>\n",
       "</table>\n",
       "</div>"
      ],
      "text/plain": [
       "               측정일자  station_code  \\\n",
       "0  2017-01-01 00:00           101   \n",
       "\n",
       "                                                  주소         위도          경도  \\\n",
       "0  19, Jong-ro 35ga-gil, Jongno-gu, Seoul, Republ...  37.572016  127.005007   \n",
       "\n",
       "   아황산가스  이산화질소     오존  일산화탄소  부유먼지  미세먼지  \n",
       "0  0.004  0.059  0.002    1.2  73.0  57.0  "
      ]
     },
     "execution_count": 7,
     "metadata": {},
     "output_type": "execute_result"
    }
   ],
   "source": [
    "data.head(1)"
   ]
  },
  {
   "cell_type": "code",
   "execution_count": 8,
   "metadata": {},
   "outputs": [
    {
     "data": {
      "text/plain": [
       "array([101, 102, 103, 104, 105, 106, 107, 108, 109, 110, 111, 112, 113,\n",
       "       114, 115, 116, 117, 118, 119, 120, 121, 122, 123, 124, 125],\n",
       "      dtype=int64)"
      ]
     },
     "execution_count": 8,
     "metadata": {},
     "output_type": "execute_result"
    }
   ],
   "source": [
    "# station_code 칼럼 종류보고 필요있는 칼럼인지 판단 => 서울 내부 세부적인 지역에 따라 구분\n",
    "data['station_code'].unique()"
   ]
  },
  {
   "cell_type": "code",
   "execution_count": 11,
   "metadata": {},
   "outputs": [
    {
     "data": {
      "text/html": [
       "<div>\n",
       "<style scoped>\n",
       "    .dataframe tbody tr th:only-of-type {\n",
       "        vertical-align: middle;\n",
       "    }\n",
       "\n",
       "    .dataframe tbody tr th {\n",
       "        vertical-align: top;\n",
       "    }\n",
       "\n",
       "    .dataframe thead th {\n",
       "        text-align: right;\n",
       "    }\n",
       "</style>\n",
       "<table border=\"1\" class=\"dataframe\">\n",
       "  <thead>\n",
       "    <tr style=\"text-align: right;\">\n",
       "      <th></th>\n",
       "      <th>측정일자</th>\n",
       "      <th>주소</th>\n",
       "      <th>위도</th>\n",
       "      <th>경도</th>\n",
       "      <th>아황산가스</th>\n",
       "      <th>이산화질소</th>\n",
       "      <th>오존</th>\n",
       "      <th>일산화탄소</th>\n",
       "      <th>부유먼지</th>\n",
       "      <th>미세먼지</th>\n",
       "    </tr>\n",
       "  </thead>\n",
       "  <tbody>\n",
       "    <tr>\n",
       "      <th>0</th>\n",
       "      <td>2017-01-01 00:00</td>\n",
       "      <td>19, Jong-ro 35ga-gil, Jongno-gu, Seoul, Republ...</td>\n",
       "      <td>37.572016</td>\n",
       "      <td>127.005007</td>\n",
       "      <td>0.004</td>\n",
       "      <td>0.059</td>\n",
       "      <td>0.002</td>\n",
       "      <td>1.2</td>\n",
       "      <td>73.0</td>\n",
       "      <td>57.0</td>\n",
       "    </tr>\n",
       "  </tbody>\n",
       "</table>\n",
       "</div>"
      ],
      "text/plain": [
       "               측정일자                                                 주소  \\\n",
       "0  2017-01-01 00:00  19, Jong-ro 35ga-gil, Jongno-gu, Seoul, Republ...   \n",
       "\n",
       "          위도          경도  아황산가스  이산화질소     오존  일산화탄소  부유먼지  미세먼지  \n",
       "0  37.572016  127.005007  0.004  0.059  0.002    1.2  73.0  57.0  "
      ]
     },
     "execution_count": 11,
     "metadata": {},
     "output_type": "execute_result"
    }
   ],
   "source": [
    "# station_code 칼럼 삭제\n",
    "data = data.drop('station_code', axis=1)\n",
    "data.head(1)"
   ]
  },
  {
   "cell_type": "code",
   "execution_count": 17,
   "metadata": {},
   "outputs": [
    {
     "data": {
      "text/plain": [
       "측정일자     datetime64[ns]\n",
       "주소               object\n",
       "위도              float64\n",
       "경도              float64\n",
       "아황산가스           float64\n",
       "이산화질소           float64\n",
       "오존              float64\n",
       "일산화탄소           float64\n",
       "부유먼지            float64\n",
       "미세먼지            float64\n",
       "dtype: object"
      ]
     },
     "execution_count": 17,
     "metadata": {},
     "output_type": "execute_result"
    }
   ],
   "source": [
    "# 측정일자 Datetime으로 변환\n",
    "# 00:00 이것 때문에 바로 datatime 변화불가라 split으로 나누고 날짜에 해당하는 부분만 출력\n",
    "# 그리고 datetime으로 변환\n",
    "data['측정일자'] =data['측정일자'].str.split(\" \", expand=True)[0]\n",
    "data['측정일자'] = pd.to_datetime(data['측정일자'])\n",
    "data.dtypes"
   ]
  },
  {
   "cell_type": "code",
   "execution_count": 23,
   "metadata": {},
   "outputs": [
    {
     "data": {
      "text/html": [
       "<div>\n",
       "<style scoped>\n",
       "    .dataframe tbody tr th:only-of-type {\n",
       "        vertical-align: middle;\n",
       "    }\n",
       "\n",
       "    .dataframe tbody tr th {\n",
       "        vertical-align: top;\n",
       "    }\n",
       "\n",
       "    .dataframe thead th {\n",
       "        text-align: right;\n",
       "    }\n",
       "</style>\n",
       "<table border=\"1\" class=\"dataframe\">\n",
       "  <thead>\n",
       "    <tr style=\"text-align: right;\">\n",
       "      <th></th>\n",
       "      <th>측정일자</th>\n",
       "      <th>주소</th>\n",
       "      <th>위도</th>\n",
       "      <th>경도</th>\n",
       "      <th>아황산가스</th>\n",
       "      <th>이산화질소</th>\n",
       "      <th>오존</th>\n",
       "      <th>일산화탄소</th>\n",
       "      <th>부유먼지</th>\n",
       "      <th>미세먼지</th>\n",
       "      <th>시도</th>\n",
       "      <th>구군</th>\n",
       "    </tr>\n",
       "  </thead>\n",
       "  <tbody>\n",
       "    <tr>\n",
       "      <th>0</th>\n",
       "      <td>2017-01-01</td>\n",
       "      <td>19, Jong-ro 35ga-gil, Jongno-gu, Seoul, Republ...</td>\n",
       "      <td>37.572016</td>\n",
       "      <td>127.005007</td>\n",
       "      <td>0.004</td>\n",
       "      <td>0.059</td>\n",
       "      <td>0.002</td>\n",
       "      <td>1.2</td>\n",
       "      <td>73.0</td>\n",
       "      <td>57.0</td>\n",
       "      <td>Seoul</td>\n",
       "      <td>Jongno-gu</td>\n",
       "    </tr>\n",
       "  </tbody>\n",
       "</table>\n",
       "</div>"
      ],
      "text/plain": [
       "        측정일자                                                 주소         위도  \\\n",
       "0 2017-01-01  19, Jong-ro 35ga-gil, Jongno-gu, Seoul, Republ...  37.572016   \n",
       "\n",
       "           경도  아황산가스  이산화질소     오존  일산화탄소  부유먼지  미세먼지      시도          구군  \n",
       "0  127.005007  0.004  0.059  0.002    1.2  73.0  57.0   Seoul   Jongno-gu  "
      ]
     },
     "execution_count": 23,
     "metadata": {},
     "output_type": "execute_result"
    }
   ],
   "source": [
    "# '주소' 칼럼에서 구군 칼럼 추가\n",
    "data['구군'] = data['주소'].str.split(\",\", expand=True)[2]\n",
    "data.head(1)"
   ]
  },
  {
   "cell_type": "code",
   "execution_count": 24,
   "metadata": {},
   "outputs": [
    {
     "data": {
      "text/html": [
       "<div>\n",
       "<style scoped>\n",
       "    .dataframe tbody tr th:only-of-type {\n",
       "        vertical-align: middle;\n",
       "    }\n",
       "\n",
       "    .dataframe tbody tr th {\n",
       "        vertical-align: top;\n",
       "    }\n",
       "\n",
       "    .dataframe thead th {\n",
       "        text-align: right;\n",
       "    }\n",
       "</style>\n",
       "<table border=\"1\" class=\"dataframe\">\n",
       "  <thead>\n",
       "    <tr style=\"text-align: right;\">\n",
       "      <th></th>\n",
       "      <th>측정일자</th>\n",
       "      <th>주소</th>\n",
       "      <th>위도</th>\n",
       "      <th>경도</th>\n",
       "      <th>아황산가스</th>\n",
       "      <th>이산화질소</th>\n",
       "      <th>오존</th>\n",
       "      <th>일산화탄소</th>\n",
       "      <th>부유먼지</th>\n",
       "      <th>미세먼지</th>\n",
       "      <th>시도</th>\n",
       "      <th>구군</th>\n",
       "    </tr>\n",
       "  </thead>\n",
       "  <tbody>\n",
       "    <tr>\n",
       "      <th>0</th>\n",
       "      <td>2017-01-01</td>\n",
       "      <td>19, Jong-ro 35ga-gil, Jongno-gu, Seoul, Republ...</td>\n",
       "      <td>37.572016</td>\n",
       "      <td>127.005007</td>\n",
       "      <td>0.004</td>\n",
       "      <td>0.059</td>\n",
       "      <td>0.002</td>\n",
       "      <td>1.2</td>\n",
       "      <td>73.0</td>\n",
       "      <td>57.0</td>\n",
       "      <td>Seoul</td>\n",
       "      <td>Jongno-gu</td>\n",
       "    </tr>\n",
       "  </tbody>\n",
       "</table>\n",
       "</div>"
      ],
      "text/plain": [
       "        측정일자                                                 주소         위도  \\\n",
       "0 2017-01-01  19, Jong-ro 35ga-gil, Jongno-gu, Seoul, Republ...  37.572016   \n",
       "\n",
       "           경도  아황산가스  이산화질소     오존  일산화탄소  부유먼지  미세먼지      시도          구군  \n",
       "0  127.005007  0.004  0.059  0.002    1.2  73.0  57.0   Seoul   Jongno-gu  "
      ]
     },
     "execution_count": 24,
     "metadata": {},
     "output_type": "execute_result"
    }
   ],
   "source": [
    "# '주소' 칼럼에서 시도인 'Seoul'만 빼서 새로운 칼럼 '시도'에 넣기\n",
    "data['시도'] = data['주소'].str.split(\",\",expand=True)[3]\n",
    "data.head(1)"
   ]
  },
  {
   "cell_type": "code",
   "execution_count": null,
   "metadata": {},
   "outputs": [],
   "source": []
  }
 ],
 "metadata": {
  "kernelspec": {
   "display_name": "Python 3",
   "language": "python",
   "name": "python3"
  },
  "language_info": {
   "codemirror_mode": {
    "name": "ipython",
    "version": 3
   },
   "file_extension": ".py",
   "mimetype": "text/x-python",
   "name": "python",
   "nbconvert_exporter": "python",
   "pygments_lexer": "ipython3",
   "version": "3.7.3"
  },
  "toc": {
   "base_numbering": 1,
   "nav_menu": {},
   "number_sections": true,
   "sideBar": true,
   "skip_h1_title": false,
   "title_cell": "Table of Contents",
   "title_sidebar": "Contents",
   "toc_cell": false,
   "toc_position": {},
   "toc_section_display": true,
   "toc_window_display": false
  },
  "varInspector": {
   "cols": {
    "lenName": 16,
    "lenType": 16,
    "lenVar": 40
   },
   "kernels_config": {
    "python": {
     "delete_cmd_postfix": "",
     "delete_cmd_prefix": "del ",
     "library": "var_list.py",
     "varRefreshCmd": "print(var_dic_list())"
    },
    "r": {
     "delete_cmd_postfix": ") ",
     "delete_cmd_prefix": "rm(",
     "library": "var_list.r",
     "varRefreshCmd": "cat(var_dic_list()) "
    }
   },
   "types_to_exclude": [
    "module",
    "function",
    "builtin_function_or_method",
    "instance",
    "_Feature"
   ],
   "window_display": false
  }
 },
 "nbformat": 4,
 "nbformat_minor": 4
}
